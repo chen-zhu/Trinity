{
 "cells": [
  {
   "cell_type": "code",
   "execution_count": 1,
   "metadata": {},
   "outputs": [
    {
     "name": "stderr",
     "output_type": "stream",
     "text": [
      "R[write to console]: \n",
      "Attaching package: ‘compare’\n",
      "\n",
      "\n",
      "R[write to console]: The following object is masked from ‘package:base’:\n",
      "\n",
      "    isTRUE\n",
      "\n",
      "\n",
      "R[write to console]: \n",
      "Attaching package: ‘dplyr’\n",
      "\n",
      "\n",
      "R[write to console]: The following objects are masked from ‘package:stats’:\n",
      "\n",
      "    filter, lag\n",
      "\n",
      "\n",
      "R[write to console]: The following objects are masked from ‘package:base’:\n",
      "\n",
      "    intersect, setdiff, setequal, union\n",
      "\n",
      "\n"
     ]
    }
   ],
   "source": [
    "from utils_morpheus import *\n",
    "from ProgramSpace import *"
   ]
  },
  {
   "cell_type": "code",
   "execution_count": 2,
   "metadata": {},
   "outputs": [],
   "source": [
    "m_interpreter = MorpheusInterpreter()\n",
    "m_spec = S.parse_file('./example/camb2.tyrell')\n",
    "m_eq = eq_r\n",
    "m_generator = MorpheusGenerator(\n",
    "    spec=m_spec,\n",
    "    interpreter=m_interpreter,\n",
    "    sfn=m_interpreter.sanity_check,\n",
    ")"
   ]
  },
  {
   "cell_type": "code",
   "execution_count": 5,
   "metadata": {},
   "outputs": [
    {
     "data": {
      "text/plain": [
       "'RET_DF3'"
      ]
     },
     "execution_count": 5,
     "metadata": {},
     "output_type": "execute_result"
    }
   ],
   "source": [
    "b = m_interpreter.random_table()\n",
    "b"
   ]
  },
  {
   "cell_type": "code",
   "execution_count": 6,
   "metadata": {},
   "outputs": [
    {
     "name": "stdout",
     "output_type": "stream",
     "text": [
      "   OCOL1  OCOL2 OCOL3 OCOL4  OCOL5     OCOL6\n",
      "1 -17.35 -17.60    99   -19   1.20 ignomious\n",
      "2 -13.42  40.30    61   -78 -21.49  wagoners\n",
      "3  18.27  19.00    61   -66  88.04 treadmill\n",
      "4  17.24 -97.70   -26   -96 -45.58  wagoners\n",
      "5 -76.71 -49.69    -5    71  56.56 ignomious\n",
      "\n"
     ]
    }
   ],
   "source": [
    "print(robjects.r(b))"
   ]
  },
  {
   "cell_type": "code",
   "execution_count": 7,
   "metadata": {},
   "outputs": [
    {
     "name": "stdout",
     "output_type": "stream",
     "text": [
      "  X1 X2 X3 X4 X5 X6\n",
      "1  0  0  0  0  0  0\n",
      "2  0  0  0  0  0  0\n",
      "3  0  0  0  0  0  0\n",
      "4  0  0  0  0  0  0\n",
      "5  0  0  0  0  0  0\n",
      "\n"
     ]
    }
   ],
   "source": [
    "print(robjects.r(get_shadow_name(b)))"
   ]
  },
  {
   "cell_type": "code",
   "execution_count": 15,
   "metadata": {},
   "outputs": [
    {
     "name": "stdout",
     "output_type": "stream",
     "text": [
      "SHADOW_SPREAD: SHADOW8 <- as.data.frame(cbind(as.matrix(select(SHADOW7,c(-1,-2))),c(2.0),c(2.0),c(2.0),c(2.0),c(2.0)))\n"
     ]
    }
   ],
   "source": [
    "while True:\n",
    "    p_prog, p_example = m_generator.generate(\n",
    "                        fixed_depth=3,\n",
    "                        example=Example(input=[b], output=None),\n",
    "    )\n",
    "    if p_prog is not None:\n",
    "        break"
   ]
  },
  {
   "cell_type": "code",
   "execution_count": 16,
   "metadata": {},
   "outputs": [
    {
     "data": {
      "text/plain": [
       "ApplyNode(spread, [ApplyNode(select, [ParamNode(0), AtomNode(['2', '3'])]), AtomNode(1), AtomNode(2)])"
      ]
     },
     "execution_count": 16,
     "metadata": {},
     "output_type": "execute_result"
    }
   ],
   "source": [
    "p_prog"
   ]
  },
  {
   "cell_type": "code",
   "execution_count": 9,
   "metadata": {},
   "outputs": [
    {
     "data": {
      "text/plain": [
       "2"
      ]
     },
     "execution_count": 9,
     "metadata": {},
     "output_type": "execute_result"
    }
   ],
   "source": [
    "p_prog.__repr__().count(\"ApplyNode\")"
   ]
  },
  {
   "cell_type": "code",
   "execution_count": 10,
   "metadata": {},
   "outputs": [
    {
     "data": {
      "text/plain": [
       "Example(input=['RET_DF3'], output='RET_DF6')"
      ]
     },
     "execution_count": 10,
     "metadata": {},
     "output_type": "execute_result"
    }
   ],
   "source": [
    "p_example"
   ]
  },
  {
   "cell_type": "code",
   "execution_count": 17,
   "metadata": {},
   "outputs": [
    {
     "name": "stdout",
     "output_type": "stream",
     "text": [
      "  V1 V2 V3 V4 V5\n",
      "1  2  2  2  2  2\n",
      "2  2  2  2  2  2\n",
      "3  2  2  2  2  2\n",
      "4  2  2  2  2  2\n",
      "5  2  2  2  2  2\n",
      "\n"
     ]
    }
   ],
   "source": [
    "print(robjects.r(get_shadow_name(p_example.output)))"
   ]
  },
  {
   "cell_type": "code",
   "execution_count": 18,
   "metadata": {},
   "outputs": [
    {
     "name": "stdout",
     "output_type": "stream",
     "text": [
      "  -97.7 -49.69 -17.6 19 40.3\n",
      "1   -26     -5    99 61   61\n",
      "\n"
     ]
    }
   ],
   "source": [
    "print(robjects.r(p_example.output))"
   ]
  },
  {
   "cell_type": "code",
   "execution_count": 13,
   "metadata": {},
   "outputs": [
    {
     "name": "stdout",
     "output_type": "stream",
     "text": [
      "    OCOL1 OCOL3 OCOL4     OCOL6   KEY  VALUE\n",
      "1  -17.35    99   -19 ignomious OCOL2 -17.60\n",
      "2  -13.42    61   -78  wagoners OCOL2  40.30\n",
      "3   18.27    61   -66 treadmill OCOL2  19.00\n",
      "4   17.24   -26   -96  wagoners OCOL2 -97.70\n",
      "5  -76.71    -5    71 ignomious OCOL2 -49.69\n",
      "6  -17.35    99   -19 ignomious OCOL5   1.20\n",
      "7  -13.42    61   -78  wagoners OCOL5 -21.49\n",
      "8   18.27    61   -66 treadmill OCOL5  88.04\n",
      "9   17.24   -26   -96  wagoners OCOL5 -45.58\n",
      "10 -76.71    -5    71 ignomious OCOL5  56.56\n",
      "\n"
     ]
    }
   ],
   "source": [
    "print(robjects.r('RET_DF5'))"
   ]
  },
  {
   "cell_type": "code",
   "execution_count": 14,
   "metadata": {},
   "outputs": [
    {
     "name": "stdout",
     "output_type": "stream",
     "text": [
      "  X1 X3 X4 X6 V5 V6\n",
      "1  0  0  0  0  1  1\n",
      "2  0  0  0  0  1  1\n",
      "3  0  0  0  0  1  1\n",
      "4  0  0  0  0  1  1\n",
      "5  0  0  0  0  1  1\n",
      "\n"
     ]
    }
   ],
   "source": [
    "print(robjects.r('SHADOW5'))"
   ]
  }
 ],
 "metadata": {
  "kernelspec": {
   "display_name": "Python 3",
   "language": "python",
   "name": "python3"
  },
  "language_info": {
   "codemirror_mode": {
    "name": "ipython",
    "version": 3
   },
   "file_extension": ".py",
   "mimetype": "text/x-python",
   "name": "python",
   "nbconvert_exporter": "python",
   "pygments_lexer": "ipython3",
   "version": "3.6.8"
  }
 },
 "nbformat": 4,
 "nbformat_minor": 2
}
