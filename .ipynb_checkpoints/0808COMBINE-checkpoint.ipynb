{
 "cells": [
  {
   "cell_type": "code",
   "execution_count": 1,
   "metadata": {},
   "outputs": [],
   "source": [
    "import pickle"
   ]
  },
  {
   "cell_type": "code",
   "execution_count": null,
   "metadata": {},
   "outputs": [],
   "source": [
    "filtered_problems = [\n",
    "    [1,2,3,8,9,10,12,13,17,18,19,21,22,24,28,30,32,], # for t0\n",
    "    [0,3,4,12,15,16,19,20,21,22,23,31,33,36,38,40,45,47,48,50,], # for t1\n",
    "    [0,1,3,4,5,7,8,11,12,15,17,19,20,23,26,27,29,39,40,43,45,48,49,52,], # for t2\n",
    "    [5,10,11,12,13,15,16,17,19,25,28,30,32,34,37,40,43,46,], # for t3\n",
    "    [0,1,3,4,5,7,8,9,10,11,14,16,17,18,20,21,22,25,26,27,31,32,33,34,38,39,40,41,45,47,], # for t4\n",
    "    [0,2,5,6,7,8,10,11,12,15,16,20,21,24,28,29,30,32,33,34,36,37,40,41,42,45,49,50,51,52,55,58,59,60,61,64,66,], # for t5\n",
    "    [], # for t6\n",
    "]"
   ]
  },
  {
   "cell_type": "code",
   "execution_count": 2,
   "metadata": {},
   "outputs": [],
   "source": [
    "def rec_gather_check(p_prog):\n",
    "    if p_prog.is_apply():\n",
    "        if p_prog.name==\"gather\":\n",
    "            if len(p_prog.children[1].data)==1:\n",
    "                return False\n",
    "    for i in range(len(p_prog.children)):\n",
    "        if rec_gather_check(p_prog.children[i])==False:\n",
    "            return False\n",
    "    return True\n",
    "\n",
    "collected_SOSize4 = []\n",
    "\n",
    "for i in range(12):\n",
    "    with open(\"./0807SOSize4_raw/0807SOSize4_t{}.pkl\".format(i),\"rb\") as f:\n",
    "        tmp_dt = pickle.load(f)\n",
    "    # then filter out gather with single parameter\n",
    "    for j in range(len(tmp_dt)):\n",
    "        if rec_gather_check(tmp_dt[j][0]):\n",
    "            collected_SOSize4.append(tmp_dt[j])"
   ]
  },
  {
   "cell_type": "code",
   "execution_count": 3,
   "metadata": {},
   "outputs": [
    {
     "data": {
      "text/plain": [
       "311"
      ]
     },
     "execution_count": 3,
     "metadata": {},
     "output_type": "execute_result"
    }
   ],
   "source": [
    "len(collected_SOSize4)"
   ]
  },
  {
   "cell_type": "code",
   "execution_count": 11,
   "metadata": {},
   "outputs": [],
   "source": [
    "with open(\"./old_res/size4-ngram-camb5.txt\",\"r\") as f:\n",
    "    ngram4_raw = f.readlines()\n",
    "ngram4_parsed = [str(tuple(p.split())) for p in ngram4_raw]"
   ]
  },
  {
   "cell_type": "code",
   "execution_count": null,
   "metadata": {},
   "outputs": [],
   "source": [
    "ftr_SOSize4 = []\n",
    "for p in collected_SOSize4:\n",
    "#     print(\"checking {}\".format(str(get_sketch_from_prog(p[0]))))\n",
    "    if str(get_sketch_from_prog(p[0])) in ngram4_parsed:\n",
    "        ftr_SOSize4.append(p)"
   ]
  },
  {
   "cell_type": "code",
   "execution_count": 15,
   "metadata": {},
   "outputs": [
    {
     "data": {
      "text/plain": [
       "311"
      ]
     },
     "execution_count": 15,
     "metadata": {},
     "output_type": "execute_result"
    }
   ],
   "source": [
    "len(ftr_SOSize4)"
   ]
  },
  {
   "cell_type": "code",
   "execution_count": 4,
   "metadata": {},
   "outputs": [],
   "source": [
    "with open(\"./0807SOSize4.pkl\",\"wb\") as f:\n",
    "    pickle.dump(collected_SOSize4,f)"
   ]
  },
  {
   "cell_type": "markdown",
   "metadata": {},
   "source": [
    "### show some statistics"
   ]
  },
  {
   "cell_type": "code",
   "execution_count": 5,
   "metadata": {},
   "outputs": [],
   "source": [
    "def get_sketch_from_prog(p_prog):\n",
    "    s_prog = str(p_prog)\n",
    "    tmp_s = s_prog.index(\"@\")\n",
    "    tmp_sl= s_prog[:tmp_s].split(\"(\")[::-1]\n",
    "    tmp_sls=[p for p in tmp_sl if p]\n",
    "    return tuple(tmp_sls)"
   ]
  },
  {
   "cell_type": "code",
   "execution_count": 8,
   "metadata": {},
   "outputs": [],
   "source": [
    "sts_4sketch = {}\n",
    "for i in range(len(collected_SOSize4)):\n",
    "    tmp_sketch = get_sketch_from_prog(collected_SOSize4[i][0])\n",
    "    if tmp_sketch not in sts_4sketch:\n",
    "        sts_4sketch[tmp_sketch] = 0\n",
    "    sts_4sketch[tmp_sketch] += 1"
   ]
  },
  {
   "cell_type": "code",
   "execution_count": 9,
   "metadata": {},
   "outputs": [
    {
     "data": {
      "text/plain": [
       "{('gather', 'group_by', 'summarise', 'gather'): 11,\n",
       " ('gather', 'group_by', 'summarise', 'mutate'): 9,\n",
       " ('gather', 'group_by', 'summarise', 'select'): 36,\n",
       " ('gather', 'group_by', 'summarise', 'spread'): 1,\n",
       " ('gather', 'group_by', 'summarise', 'unite'): 1,\n",
       " ('gather', 'mutate', 'gather', 'select'): 1,\n",
       " ('gather', 'mutate', 'group_by', 'summarise'): 15,\n",
       " ('gather', 'spread', 'gather', 'unite'): 1,\n",
       " ('gather', 'spread', 'group_by', 'summarise'): 8,\n",
       " ('gather', 'spread', 'separate', 'gather'): 1,\n",
       " ('gather', 'spread', 'separate', 'select'): 2,\n",
       " ('gather', 'summarise', 'group_by', 'summarise'): 2,\n",
       " ('gather', 'unite', 'gather', 'select'): 1,\n",
       " ('gather', 'unite', 'gather', 'unite'): 1,\n",
       " ('gather', 'unite', 'group_by', 'summarise'): 3,\n",
       " ('gather', 'unite', 'separate', 'gather'): 1,\n",
       " ('gather', 'unite', 'separate', 'unite'): 1,\n",
       " ('group_by', 'summarise', 'gather', 'select'): 6,\n",
       " ('group_by', 'summarise', 'gather', 'summarise'): 6,\n",
       " ('group_by', 'summarise', 'group_by', 'summarise'): 45,\n",
       " ('group_by', 'summarise', 'mutate', 'gather'): 4,\n",
       " ('group_by', 'summarise', 'mutate', 'select'): 14,\n",
       " ('group_by', 'summarise', 'mutate', 'summarise'): 4,\n",
       " ('group_by', 'summarise', 'separate', 'select'): 6,\n",
       " ('group_by', 'summarise', 'separate', 'unite'): 1,\n",
       " ('group_by', 'summarise', 'spread', 'gather'): 1,\n",
       " ('group_by', 'summarise', 'spread', 'mutate'): 1,\n",
       " ('group_by', 'summarise', 'spread', 'select'): 4,\n",
       " ('group_by', 'summarise', 'unite', 'select'): 2,\n",
       " ('mutate', 'gather', 'group_by', 'summarise'): 11,\n",
       " ('mutate', 'gather', 'spread', 'mutate'): 1,\n",
       " ('mutate', 'group_by', 'summarise', 'gather'): 8,\n",
       " ('mutate', 'group_by', 'summarise', 'mutate'): 23,\n",
       " ('mutate', 'group_by', 'summarise', 'select'): 44,\n",
       " ('mutate', 'group_by', 'summarise', 'separate'): 1,\n",
       " ('mutate', 'summarise', 'group_by', 'summarise'): 1,\n",
       " ('separate', 'gather', 'group_by', 'summarise'): 5,\n",
       " ('separate', 'gather', 'spread', 'select'): 1,\n",
       " ('separate', 'group_by', 'summarise', 'gather'): 1,\n",
       " ('separate', 'group_by', 'summarise', 'mutate'): 2,\n",
       " ('separate', 'group_by', 'summarise', 'select'): 4,\n",
       " ('separate', 'group_by', 'summarise', 'separate'): 1,\n",
       " ('separate', 'group_by', 'summarise', 'unite'): 1,\n",
       " ('separate', 'unite', 'gather', 'unite'): 2,\n",
       " ('separate', 'unite', 'group_by', 'summarise'): 1,\n",
       " ('summarise', 'group_by', 'summarise', 'mutate'): 1,\n",
       " ('summarise', 'group_by', 'summarise', 'select'): 1,\n",
       " ('unite', 'gather', 'unite', 'separate'): 1,\n",
       " ('unite', 'group_by', 'summarise', 'select'): 3,\n",
       " ('unite', 'separate', 'gather', 'unite'): 5,\n",
       " ('unite', 'separate', 'unite', 'select'): 3,\n",
       " ('unite', 'spread', 'separate', 'spread'): 1}"
      ]
     },
     "execution_count": 9,
     "metadata": {},
     "output_type": "execute_result"
    }
   ],
   "source": [
    "sts_4sketch"
   ]
  }
 ],
 "metadata": {
  "kernelspec": {
   "display_name": "Python 3",
   "language": "python",
   "name": "python3"
  },
  "language_info": {
   "codemirror_mode": {
    "name": "ipython",
    "version": 3
   },
   "file_extension": ".py",
   "mimetype": "text/x-python",
   "name": "python",
   "nbconvert_exporter": "python",
   "pygments_lexer": "ipython3",
   "version": "3.6.8"
  }
 },
 "nbformat": 4,
 "nbformat_minor": 2
}
