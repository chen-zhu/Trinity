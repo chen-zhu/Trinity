{
 "cells": [
  {
   "cell_type": "code",
   "execution_count": 1,
   "metadata": {},
   "outputs": [
    {
     "name": "stderr",
     "output_type": "stream",
     "text": [
      "R[write to console]: \n",
      "Attaching package: ‘compare’\n",
      "\n",
      "\n",
      "R[write to console]: The following object is masked from ‘package:base’:\n",
      "\n",
      "    isTRUE\n",
      "\n",
      "\n",
      "R[write to console]: \n",
      "Attaching package: ‘dplyr’\n",
      "\n",
      "\n",
      "R[write to console]: The following objects are masked from ‘package:stats’:\n",
      "\n",
      "    filter, lag\n",
      "\n",
      "\n",
      "R[write to console]: The following objects are masked from ‘package:base’:\n",
      "\n",
      "    intersect, setdiff, setequal, union\n",
      "\n",
      "\n"
     ]
    }
   ],
   "source": [
    "from MorpheusInterpreter import *\n",
    "from ProgramSpace import *"
   ]
  },
  {
   "cell_type": "code",
   "execution_count": null,
   "metadata": {},
   "outputs": [],
   "source": []
  },
  {
   "cell_type": "code",
   "execution_count": 2,
   "metadata": {},
   "outputs": [],
   "source": [
    "m_interpreter = MorpheusInterpreter()\n",
    "# m_spec = S.parse_file('./example/camb3.tyrell')\n",
    "# m_spec = S.parse_file('./example/camb_t0.tyrell')\n",
    "# m_spec = S.parse_file('./example/set_mutate.tyrell')\n",
    "m_spec = S.parse_file('./example/camb5.tyrell')\n",
    "m_generator = MorpheusGenerator(m_spec, m_interpreter)"
   ]
  },
  {
   "cell_type": "code",
   "execution_count": null,
   "metadata": {},
   "outputs": [],
   "source": [
    "b=m_interpreter.random_table()\n",
    "m_interpreter.print_obj(b)"
   ]
  },
  {
   "cell_type": "code",
   "execution_count": null,
   "metadata": {},
   "outputs": [],
   "source": [
    "m_interpreter.camb_get_ventogyrus(b,verbose=True)"
   ]
  },
  {
   "cell_type": "code",
   "execution_count": null,
   "metadata": {},
   "outputs": [],
   "source": [
    "m_interpreter.get_type(b,\"1\")"
   ]
  },
  {
   "cell_type": "code",
   "execution_count": null,
   "metadata": {},
   "outputs": [],
   "source": [
    "m_ps.node_list[-1].__repr__()"
   ]
  },
  {
   "cell_type": "code",
   "execution_count": 8,
   "metadata": {},
   "outputs": [
    {
     "name": "stdout",
     "output_type": "stream",
     "text": [
      "DBG-PROG: separate(@param0, 5)\n",
      "DBG-ERR: <class 'tyrell.interpreter.error.AssertionViolation'>, ()\n",
      "DBG-PROG: separate(@param0, 5)\n",
      "DBG-ERR: <class 'tyrell.interpreter.error.AssertionViolation'>, ()\n",
      "DBG-PROG: separate(@param0, 5)\n",
      "DBG-ERR: <class 'tyrell.interpreter.error.AssertionViolation'>, ()\n",
      "DBG-PROG: separate(@param0, 5)\n",
      "DBG-ERR: <class 'tyrell.interpreter.error.GeneralError'>, ('separate: Postcondition #1 failed.',)\n",
      "DBG-PROG: separate(@param0, 5)\n",
      "DBG-ERR: <class 'tyrell.interpreter.error.AssertionViolation'>, ()\n",
      "DBG-PROG: separate(@param0, 5)\n",
      "DBG-ERR: <class 'tyrell.interpreter.error.GeneralError'>, ('separate: Postcondition #1 failed.',)\n",
      "DBG-PROG: separate(@param0, 5)\n",
      "DBG-ERR: <class 'tyrell.interpreter.error.AssertionViolation'>, ()\n",
      "DBG-PROG: separate(@param0, 5)\n",
      "DBG-ERR: <class 'tyrell.interpreter.error.AssertionViolation'>, ()\n",
      "DBG-PROG: separate(@param0, 5)\n",
      "DBG-ERR: <class 'tyrell.interpreter.error.AssertionViolation'>, ()\n",
      "DBG-PROG: separate(@param0, 5)\n",
      "DBG-ERR: <class 'tyrell.interpreter.error.AssertionViolation'>, ()\n"
     ]
    },
    {
     "ename": "AttributeError",
     "evalue": "'NoneType' object has no attribute 'node_list'",
     "output_type": "error",
     "traceback": [
      "\u001b[0;31m---------------------------------------------------------------------------\u001b[0m",
      "\u001b[0;31mAttributeError\u001b[0m                            Traceback (most recent call last)",
      "\u001b[0;32m<ipython-input-8-994ee2d40824>\u001b[0m in \u001b[0;36m<module>\u001b[0;34m()\u001b[0m\n\u001b[1;32m      1\u001b[0m \u001b[0;31m# m_ps = m_generator.get_new_chain_program(4)\u001b[0m\u001b[0;34m\u001b[0m\u001b[0;34m\u001b[0m\u001b[0;34m\u001b[0m\u001b[0m\n\u001b[1;32m      2\u001b[0m \u001b[0mm_ps\u001b[0m \u001b[0;34m=\u001b[0m \u001b[0mm_generator\u001b[0m\u001b[0;34m.\u001b[0m\u001b[0mget_new_size1_program\u001b[0m\u001b[0;34m(\u001b[0m\u001b[0;34m)\u001b[0m\u001b[0;34m\u001b[0m\u001b[0;34m\u001b[0m\u001b[0m\n\u001b[0;32m----> 3\u001b[0;31m \u001b[0mprint\u001b[0m\u001b[0;34m(\u001b[0m\u001b[0mm_ps\u001b[0m\u001b[0;34m.\u001b[0m\u001b[0mnode_list\u001b[0m\u001b[0;34m[\u001b[0m\u001b[0;34m-\u001b[0m\u001b[0;36m1\u001b[0m\u001b[0;34m]\u001b[0m\u001b[0;34m)\u001b[0m\u001b[0;34m\u001b[0m\u001b[0;34m\u001b[0m\u001b[0m\n\u001b[0m\u001b[1;32m      4\u001b[0m \u001b[0mm_interpreter\u001b[0m\u001b[0;34m.\u001b[0m\u001b[0mprint_obj\u001b[0m\u001b[0;34m(\u001b[0m\u001b[0mm_ps\u001b[0m\u001b[0;34m.\u001b[0m\u001b[0minputs\u001b[0m\u001b[0;34m[\u001b[0m\u001b[0;36m0\u001b[0m\u001b[0;34m]\u001b[0m\u001b[0;34m)\u001b[0m\u001b[0;34m\u001b[0m\u001b[0;34m\u001b[0m\u001b[0m\n\u001b[1;32m      5\u001b[0m \u001b[0mprint\u001b[0m\u001b[0;34m(\u001b[0m\u001b[0mm_interpreter\u001b[0m\u001b[0;34m.\u001b[0m\u001b[0mshadow_dict\u001b[0m\u001b[0;34m[\u001b[0m\u001b[0mm_ps\u001b[0m\u001b[0;34m.\u001b[0m\u001b[0minputs\u001b[0m\u001b[0;34m[\u001b[0m\u001b[0;36m0\u001b[0m\u001b[0;34m]\u001b[0m\u001b[0;34m]\u001b[0m\u001b[0;34m)\u001b[0m\u001b[0;34m\u001b[0m\u001b[0;34m\u001b[0m\u001b[0m\n",
      "\u001b[0;31mAttributeError\u001b[0m: 'NoneType' object has no attribute 'node_list'"
     ]
    }
   ],
   "source": [
    "# m_ps = m_generator.get_new_chain_program(4)\n",
    "m_ps = m_generator.get_new_size1_program()\n",
    "print(m_ps.node_list[-1])\n",
    "m_interpreter.print_obj(m_ps.inputs[0])\n",
    "print(m_interpreter.shadow_dict[m_ps.inputs[0]])\n",
    "m_interpreter.print_obj(m_ps.output)\n",
    "print(m_interpreter.shadow_dict[m_ps.output])"
   ]
  },
  {
   "cell_type": "code",
   "execution_count": 55,
   "metadata": {},
   "outputs": [
    {
     "name": "stdout",
     "output_type": "stream",
     "text": [
      "Rule/NUGB\n",
      "Rule/UTIL\n",
      "Rule/NUGB\n",
      "Rule/GBSR\n",
      "Rule/IONEQ\n",
      "Rule/NODUP\n",
      "Rule/IONEQ\n",
      "Rule/NUGB\n",
      "Rule/NUGB\n",
      "Rule/GBSR\n",
      "Rule/IONEQ\n",
      "Rule/NUGB\n",
      "Rule/NUGB\n",
      "Rule/NUGB\n",
      "Rule/GBSR\n",
      "Rule/GBSR\n",
      "Rule/NUGB\n",
      "Rule/NUGB\n",
      "Rule/UTIL\n",
      "Rule/NODUP\n",
      "Rule/NODUP\n",
      "Rule/IONEQ\n",
      "Rule/UTIL\n",
      "Rule/NUGB\n",
      "Rule/UTIL\n",
      "Rule/NODUP\n",
      "Rule/NODUP\n",
      "Rule/NUGB\n",
      "Rule/GBSR\n",
      "Rule/GBSR\n",
      "Rule/UTIL\n",
      "Rule/UTIL\n",
      "Rule/UTIL\n",
      "Rule/NUGB\n",
      "Rule/NODUP\n",
      "Rule/NUGB\n",
      "Rule/UTIL\n",
      "Rule/UTIL\n",
      "Rule/UTIL\n",
      "Rule/NUGB\n",
      "Rule/NODUP\n",
      "Rule/NODUP\n",
      "Rule/UTIL\n",
      "summarise(group_by(unite(@param0, 3, 1), ['1', '2']), min, 3)\n",
      "          carlage     verticaling     mammees drillmaster vimpa\n",
      "1      hypercycle organomagnesium   jactation       33.31   -45\n",
      "2       xylomancy       preentail   jactation       30.93    -7\n",
      "3        gallused        futchell rebroadened       -9.85   -69\n",
      "4   bimillionaire        fairtime   jactation      -42.79   -24\n",
      "5      handybilly    overloudness rebroadened       39.66   -45\n",
      "6          amulla          rinded rebroadened       98.96   -24\n",
      "7    presbyterial    tetrachromic   ascidioid       36.84  -100\n",
      "8  lanuginousness         granges   ascidioid       55.39   -45\n",
      "9   brachystomous           bebog   ascidioid       65.61    -7\n",
      "10   nephrotyphus       awakening   ascidioid      -13.69   -45\n",
      "\n",
      "[0, 0, 0, 0, 0]\n",
      "\u001b[90m# A tibble: 10 x 3\u001b[39m\n",
      "\u001b[90m# Groups:   synocha [10]\u001b[39m\n",
      "   synocha                  verticaling      glaga\n",
      "   \u001b[3m\u001b[90m<chr>\u001b[39m\u001b[23m                    \u001b[3m\u001b[90m<chr>\u001b[39m\u001b[23m            \u001b[3m\u001b[90m<dbl>\u001b[39m\u001b[23m\n",
      "\u001b[90m 1\u001b[39m ascidioid_brachystomous  bebog            65.6 \n",
      "\u001b[90m 2\u001b[39m ascidioid_lanuginousness granges          55.4 \n",
      "\u001b[90m 3\u001b[39m ascidioid_nephrotyphus   awakening       -\u001b[31m13\u001b[39m\u001b[31m.\u001b[39m\u001b[31m7\u001b[39m \n",
      "\u001b[90m 4\u001b[39m ascidioid_presbyterial   tetrachromic     36.8 \n",
      "\u001b[90m 5\u001b[39m jactation_bimillionaire  fairtime        -\u001b[31m42\u001b[39m\u001b[31m.\u001b[39m\u001b[31m8\u001b[39m \n",
      "\u001b[90m 6\u001b[39m jactation_hypercycle     organomagnesium  33.3 \n",
      "\u001b[90m 7\u001b[39m jactation_xylomancy      preentail        30.9 \n",
      "\u001b[90m 8\u001b[39m rebroadened_amulla       rinded           99.0 \n",
      "\u001b[90m 9\u001b[39m rebroadened_gallused     futchell         -\u001b[31m9\u001b[39m\u001b[31m.\u001b[39m\u001b[31m85\u001b[39m\n",
      "\u001b[90m10\u001b[39m rebroadened_handybilly   overloudness     39.7 \n",
      "\n",
      "[3, 3, 3]\n"
     ]
    }
   ],
   "source": [
    "m_ps = m_generator.get_new_chain_program(4)\n",
    "# m_ps = m_generator.get_new_size1_program()\n",
    "print(m_ps.node_list[-1])\n",
    "m_interpreter.print_obj(m_ps.inputs[0])\n",
    "print(m_interpreter.shadow_dict[m_ps.inputs[0]])\n",
    "m_interpreter.print_obj(m_ps.output)\n",
    "print(m_interpreter.shadow_dict[m_ps.output])"
   ]
  },
  {
   "cell_type": "code",
   "execution_count": null,
   "metadata": {},
   "outputs": [],
   "source": [
    "m_ps = m_generator.get_new_chain_program(5)\n",
    "# m_ps = m_generator.get_new_size1_program()\n",
    "print(m_ps.node_list[-1])\n",
    "m_interpreter.print_obj(m_ps.inputs[0])\n",
    "print(m_interpreter.shadow_dict[m_ps.inputs[0]])\n",
    "m_interpreter.print_obj(m_ps.output)\n",
    "print(m_interpreter.shadow_dict[m_ps.output])"
   ]
  },
  {
   "cell_type": "code",
   "execution_count": null,
   "metadata": {},
   "outputs": [],
   "source": [
    "m_ps = m_generator.get_new_chain_program(2)\n",
    "# m_ps = m_generator.get_new_size1_program()\n",
    "print(m_ps.node_list[-1])\n",
    "m_interpreter.print_obj(m_ps.inputs[0])\n",
    "print(m_interpreter.shadow_dict[m_ps.inputs[0]])\n",
    "m_interpreter.print_obj(m_ps.output)\n",
    "print(m_interpreter.shadow_dict[m_ps.output])"
   ]
  },
  {
   "cell_type": "code",
   "execution_count": 53,
   "metadata": {},
   "outputs": [
    {
     "name": "stdout",
     "output_type": "stream",
     "text": [
      "Rule/GBSR\n",
      "Rule/NODUP\n",
      "select(gather(@param0, ['5']), ['3', '6'])\n",
      "   fluidly chaucerian banns uncredible neurofibromatosis\n",
      "1       62        -97    75         81             11.04\n",
      "2      -46         31    75        -98             45.29\n",
      "3      -47         -1   -62          9             21.57\n",
      "4      -87        -73   -62        -99             41.50\n",
      "5       40        -46   -62          7            -15.71\n",
      "6       50        -57    75        -42             61.40\n",
      "7      -64         64    75         16            -75.49\n",
      "8       57        -25   -62         93             60.93\n",
      "9      -22          0   -62        -29             76.31\n",
      "10       3         83   -62         58            -27.20\n",
      "\n",
      "[0, 0, 0, 0, 0]\n",
      "   banns versicler\n",
      "1     75     11.04\n",
      "2     75     45.29\n",
      "3    -62     21.57\n",
      "4    -62     41.50\n",
      "5    -62    -15.71\n",
      "6     75     61.40\n",
      "7     75    -75.49\n",
      "8    -62     60.93\n",
      "9    -62     76.31\n",
      "10   -62    -27.20\n",
      "\n",
      "[1, 2]\n"
     ]
    }
   ],
   "source": [
    "m_ps = m_generator.get_new_chain_program(3)\n",
    "# m_ps = m_generator.get_new_size1_program()\n",
    "print(m_ps.node_list[-1])\n",
    "m_interpreter.print_obj(m_ps.inputs[0])\n",
    "print(m_interpreter.shadow_dict[m_ps.inputs[0]])\n",
    "m_interpreter.print_obj(m_ps.output)\n",
    "print(m_interpreter.shadow_dict[m_ps.output])"
   ]
  },
  {
   "cell_type": "code",
   "execution_count": null,
   "metadata": {},
   "outputs": [],
   "source": [
    "t = m_interpreter.random_table_for_call(\n",
    "    m_ps.node_list[-1],\n",
    "    dbg_name=\"spread\",\n",
    ")"
   ]
  },
  {
   "cell_type": "code",
   "execution_count": null,
   "metadata": {},
   "outputs": [],
   "source": [
    "# ======== function block ======== #\n",
    "# generate some sample programs of size 3\n",
    "for i in range(100):\n",
    "    print(\"generating {}\".format(i))\n",
    "    m_ps = m_generator.get_new_chain_program(4)\n",
    "    with open(\"./sample_programs_size3/program_{}.txt\".format(i),\"w\") as f:\n",
    "        f.write(\"==== program ====\\n\")\n",
    "        f.write(str(m_ps.node_list[-1]))\n",
    "        f.write(\"\\n\\n\")\n",
    "        f.write(\"==== input ====\\n\")\n",
    "        f.write(str(m_ps.interpreter.renv(m_ps.inputs[0])))\n",
    "        f.write(\"\\n\\n\")\n",
    "        f.write(\"==== debug: input shadow ====\\n\")\n",
    "        f.write(str(m_ps.interpreter.shadow_dict[m_ps.inputs[0]]))\n",
    "        f.write(\"\\n\\n\")\n",
    "        f.write(\"==== output ====\\n\")\n",
    "        f.write(str(m_ps.interpreter.renv(m_ps.output)))\n",
    "        f.write(\"\\n\\n\")\n",
    "        f.write(\"==== debug: output shadow ====\\n\")\n",
    "        f.write(str(m_ps.interpreter.shadow_dict[m_ps.output]))\n",
    "        f.write(\"\\n\\n\")"
   ]
  }
 ],
 "metadata": {
  "kernelspec": {
   "display_name": "Python 3",
   "language": "python",
   "name": "python3"
  },
  "language_info": {
   "codemirror_mode": {
    "name": "ipython",
    "version": 3
   },
   "file_extension": ".py",
   "mimetype": "text/x-python",
   "name": "python",
   "nbconvert_exporter": "python",
   "pygments_lexer": "ipython3",
   "version": "3.6.8"
  }
 },
 "nbformat": 4,
 "nbformat_minor": 2
}
