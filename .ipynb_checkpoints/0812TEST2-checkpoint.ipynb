{
 "cells": [
  {
   "cell_type": "code",
   "execution_count": 20,
   "metadata": {},
   "outputs": [],
   "source": [
    "import pickle\n",
    "# with open(\"./0811Size3_Raw/0811Size3Filtered.pkl\",\"rb\") as f:\n",
    "# with open(\"./0812Size3Relaxed_Raw/0812Size3Relaxed.pkl\",\"rb\") as f:\n",
    "with open(\"./0812Size3Relaxed_Raw/0812Size3RelaxedFiltered.pkl\",\"rb\") as f:\n",
    "    dt = pickle.load(f)"
   ]
  },
  {
   "cell_type": "code",
   "execution_count": 21,
   "metadata": {},
   "outputs": [],
   "source": [
    "# Morpheus Version\n",
    "from MorpheusInterpreter import *\n",
    "from ProgramSpace import *"
   ]
  },
  {
   "cell_type": "code",
   "execution_count": 22,
   "metadata": {},
   "outputs": [],
   "source": [
    "m_interpreter = MorpheusInterpreter()\n",
    "m_spec = S.parse_file('./example/camb6.tyrell')\n",
    "m_generator = MorpheusGenerator(\n",
    "    spec=m_spec,\n",
    "    interpreter=m_interpreter,\n",
    ")\n",
    "# dumb variable to help infer the shells\n",
    "p_sourceps = ProgramSpace(\n",
    "    m_spec, m_interpreter, [None], None,\n",
    ")"
   ]
  },
  {
   "cell_type": "code",
   "execution_count": 23,
   "metadata": {},
   "outputs": [],
   "source": [
    "GenSketch = {}\n",
    "for p in dt:\n",
    "    sp = str(p[0])\n",
    "    s = sp.index(\"@\")\n",
    "    ssp = sp[:s]\n",
    "    if ssp not in GenSketch.keys():\n",
    "        GenSketch[ssp] = 0\n",
    "    GenSketch[ssp] += 1"
   ]
  },
  {
   "cell_type": "code",
   "execution_count": 24,
   "metadata": {},
   "outputs": [
    {
     "data": {
      "text/plain": [
       "{'neg_select(gather(separate(': 79,\n",
       " 'spread(separate(neg_gather(': 1,\n",
       " 'spread(unite(gather(': 568,\n",
       " 'spread(unite(neg_gather(': 273,\n",
       " 'summarise(group_by(gather(': 571,\n",
       " 'summarise(group_by(neg_gather(': 499}"
      ]
     },
     "execution_count": 24,
     "metadata": {},
     "output_type": "execute_result"
    }
   ],
   "source": [
    "GenSketch"
   ]
  },
  {
   "cell_type": "code",
   "execution_count": null,
   "metadata": {},
   "outputs": [],
   "source": []
  },
  {
   "cell_type": "code",
   "execution_count": 8,
   "metadata": {},
   "outputs": [],
   "source": [
    "bmrk_size3 = [1,2,3,9,10,13,20,21,22,23,31,42,44,47,51,52,53,56,59,60,61,63,64,90,]\n",
    "p_builder = D.Builder(p_sourceps.spec)\n",
    "from benchmarks.pldi17_sol import *\n",
    "def load_benchmark(p_id, p_sourceps, p_builder):\n",
    "    d_prog = p_builder._from_sexp(solutions[p_id])\n",
    "    d_input = p_sourceps.interpreter.init_tbl(\"./benchmarks/pldi17/p{}_input1.csv\".format(p_id))\n",
    "    p_sourceps.interpreter.create_shadow(d_input)\n",
    "    d_output = p_sourceps.interpreter.init_tbl(\"./benchmarks/pldi17/p{}_output1.csv\".format(p_id))\n",
    "    p_sourceps.interpreter.create_shadow(d_output)\n",
    "    d_ps = ProgramSpace(\n",
    "        p_sourceps.spec, p_sourceps.interpreter, [d_input], d_output,\n",
    "    )\n",
    "    d_ps.init_by_prog(d_prog)\n",
    "    return d_ps"
   ]
  },
  {
   "cell_type": "code",
   "execution_count": 9,
   "metadata": {},
   "outputs": [],
   "source": [
    "BSketch = {}\n",
    "for i in bmrk_size3:\n",
    "    ppp = load_benchmark(i, p_sourceps, p_builder)\n",
    "    sp = str(ppp.node_list[-1])\n",
    "    s = sp.index(\"@\")\n",
    "    ssp = sp[:s]\n",
    "    if ssp not in BSketch.keys():\n",
    "        BSketch[ssp] = 0\n",
    "    BSketch[ssp] += 1"
   ]
  },
  {
   "cell_type": "code",
   "execution_count": 10,
   "metadata": {},
   "outputs": [
    {
     "data": {
      "text/plain": [
       "{'neg_select(gather(separate(': 1,\n",
       " 'neg_select(mutate(spread(': 1,\n",
       " 'spread(separate(neg_gather(': 9,\n",
       " 'spread(unite(gather(': 7,\n",
       " 'spread(unite(neg_gather(': 4,\n",
       " 'summarise(group_by(gather(': 1,\n",
       " 'summarise(group_by(neg_gather(': 1}"
      ]
     },
     "execution_count": 10,
     "metadata": {},
     "output_type": "execute_result"
    }
   ],
   "source": [
    "BSketch"
   ]
  },
  {
   "cell_type": "code",
   "execution_count": null,
   "metadata": {},
   "outputs": [],
   "source": []
  },
  {
   "cell_type": "markdown",
   "metadata": {},
   "source": [
    "#### filter out benchmarks again according to the benchmark distribution"
   ]
  },
  {
   "cell_type": "code",
   "execution_count": 12,
   "metadata": {},
   "outputs": [],
   "source": [
    "new_dt = []\n",
    "for p in dt:\n",
    "    sp = str(p[0])\n",
    "    s = sp.index(\"@\")\n",
    "    ssp = sp[:s]\n",
    "    if ssp in BSketch:\n",
    "        new_dt.append(p)"
   ]
  },
  {
   "cell_type": "code",
   "execution_count": 13,
   "metadata": {},
   "outputs": [],
   "source": [
    "with open(\"./0811Size3_Raw/0811Size3Bmrk.pkl\",\"wb\") as f:\n",
    "    dt = pickle.dump(new_dt,f)"
   ]
  },
  {
   "cell_type": "code",
   "execution_count": 14,
   "metadata": {},
   "outputs": [
    {
     "data": {
      "text/plain": [
       "364"
      ]
     },
     "execution_count": 14,
     "metadata": {},
     "output_type": "execute_result"
    }
   ],
   "source": [
    "len(new_dt)"
   ]
  }
 ],
 "metadata": {
  "kernelspec": {
   "display_name": "Python 3",
   "language": "python",
   "name": "python3"
  },
  "language_info": {
   "codemirror_mode": {
    "name": "ipython",
    "version": 3
   },
   "file_extension": ".py",
   "mimetype": "text/x-python",
   "name": "python",
   "nbconvert_exporter": "python",
   "pygments_lexer": "ipython3",
   "version": "3.6.8"
  }
 },
 "nbformat": 4,
 "nbformat_minor": 2
}
