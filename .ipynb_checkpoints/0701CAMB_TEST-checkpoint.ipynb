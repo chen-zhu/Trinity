{
 "cells": [
  {
   "cell_type": "code",
   "execution_count": 1,
   "metadata": {},
   "outputs": [
    {
     "name": "stderr",
     "output_type": "stream",
     "text": [
      "R[write to console]: \n",
      "Attaching package: ‘compare’\n",
      "\n",
      "\n",
      "R[write to console]: The following object is masked from ‘package:base’:\n",
      "\n",
      "    isTRUE\n",
      "\n",
      "\n",
      "R[write to console]: \n",
      "Attaching package: ‘dplyr’\n",
      "\n",
      "\n",
      "R[write to console]: The following objects are masked from ‘package:stats’:\n",
      "\n",
      "    filter, lag\n",
      "\n",
      "\n",
      "R[write to console]: The following objects are masked from ‘package:base’:\n",
      "\n",
      "    intersect, setdiff, setequal, union\n",
      "\n",
      "\n"
     ]
    }
   ],
   "source": [
    "from utils_morpheus import *\n",
    "from ProgramSpace import *"
   ]
  },
  {
   "cell_type": "code",
   "execution_count": 2,
   "metadata": {},
   "outputs": [],
   "source": [
    "m_interpreter = MorpheusInterpreter()\n",
    "# m_spec = S.parse_file('./example/mChainOneNB.tyrell')\n",
    "m_spec = S.parse_file('./example/set_select.tyrell')\n",
    "# m_spec = S.parse_file('./example/camb2.tyrell')\n",
    "m_eq = eq_r\n",
    "m_generator = MorpheusGenerator(\n",
    "    spec=m_spec,\n",
    "    interpreter=m_interpreter,\n",
    "    sfn=m_interpreter.sanity_check,\n",
    ")"
   ]
  },
  {
   "cell_type": "code",
   "execution_count": 3,
   "metadata": {},
   "outputs": [
    {
     "data": {
      "text/plain": [
       "'RET_DF2'"
      ]
     },
     "execution_count": 3,
     "metadata": {},
     "output_type": "execute_result"
    }
   ],
   "source": [
    "b = m_interpreter.random_table()\n",
    "b"
   ]
  },
  {
   "cell_type": "code",
   "execution_count": 4,
   "metadata": {},
   "outputs": [
    {
     "name": "stdout",
     "output_type": "stream",
     "text": [
      "         OCOL1 OCOL2       OCOL3        OCOL4\n",
      "1   strontitic   -68   insuccess fantasticate\n",
      "2       jabers   -21   afterwork      innuate\n",
      "3       jabers   -68      oncost   redeceived\n",
      "4 undiscursive    26 outspending   redeceived\n",
      "5   strontitic   -68     parries   redeceived\n",
      "6 undiscursive    89   decaliter fantasticate\n",
      "7   strontitic   -21        urea fantasticate\n",
      "8       jabers    26    inescate fantasticate\n",
      "\n"
     ]
    }
   ],
   "source": [
    "print(robjects.r(b))"
   ]
  },
  {
   "cell_type": "code",
   "execution_count": 5,
   "metadata": {},
   "outputs": [],
   "source": [
    "m_ps = ProgramSpace(m_spec, m_interpreter, [b], None)"
   ]
  },
  {
   "cell_type": "code",
   "execution_count": 6,
   "metadata": {},
   "outputs": [],
   "source": [
    "dl = m_ps.get_neighboring_shells()"
   ]
  },
  {
   "cell_type": "code",
   "execution_count": 7,
   "metadata": {},
   "outputs": [
    {
     "data": {
      "text/plain": [
       "21"
      ]
     },
     "execution_count": 7,
     "metadata": {},
     "output_type": "execute_result"
    }
   ],
   "source": [
    "len(dl)"
   ]
  },
  {
   "cell_type": "code",
   "execution_count": 8,
   "metadata": {},
   "outputs": [
    {
     "data": {
      "text/plain": [
       "(FunctionProduction(id=1, lhs=ValueType(Table, properties={'col': <ExprType.INT: 'int'>, 'row': <ExprType.INT: 'int'>, 'head': <ExprType.INT: 'int'>, 'content': <ExprType.INT: 'int'>}), name=select, rhs=[ValueType(Table, properties={'col': <ExprType.INT: 'int'>, 'row': <ExprType.INT: 'int'>, 'head': <ExprType.INT: 'int'>, 'content': <ExprType.INT: 'int'>}), EnumType(ColList, domain=[['1'], ['2'], ['3'], ['4'], ['5'], ['6'], ['1', '2'], ['1', '3'], ['1', '4'], ['1', '5'], ['1', '6'], ['2', '3'], ['2', '4'], ['2', '5'], ['2', '6'], ['3', '4'], ['3', '5'], ['3', '6'], ['4', '5'], ['4', '6'], ['5', '6']])]),\n",
       " (69, 19))"
      ]
     },
     "execution_count": 8,
     "metadata": {},
     "output_type": "execute_result"
    }
   ],
   "source": [
    "dl[0]"
   ]
  },
  {
   "cell_type": "code",
   "execution_count": 9,
   "metadata": {},
   "outputs": [
    {
     "data": {
      "text/plain": [
       "True"
      ]
     },
     "execution_count": 9,
     "metadata": {},
     "output_type": "execute_result"
    }
   ],
   "source": [
    "m_ps.add_neighboring_shell(dl[0])"
   ]
  },
  {
   "cell_type": "code",
   "execution_count": 10,
   "metadata": {},
   "outputs": [
    {
     "data": {
      "text/plain": [
       "[70]"
      ]
     },
     "execution_count": 10,
     "metadata": {},
     "output_type": "execute_result"
    }
   ],
   "source": [
    "m_ps.get_frontiers()"
   ]
  },
  {
   "cell_type": "code",
   "execution_count": 11,
   "metadata": {},
   "outputs": [
    {
     "data": {
      "text/plain": [
       "ApplyNode(select, [ParamNode(0), AtomNode(['1'])])"
      ]
     },
     "execution_count": 11,
     "metadata": {},
     "output_type": "execute_result"
    }
   ],
   "source": [
    "m_ps.node_list[70]"
   ]
  },
  {
   "cell_type": "code",
   "execution_count": 12,
   "metadata": {},
   "outputs": [
    {
     "data": {
      "text/plain": [
       "'RET_DF3'"
      ]
     },
     "execution_count": 12,
     "metadata": {},
     "output_type": "execute_result"
    }
   ],
   "source": [
    "m_ps.node_list[70].ps_data"
   ]
  },
  {
   "cell_type": "code",
   "execution_count": 13,
   "metadata": {},
   "outputs": [
    {
     "name": "stdout",
     "output_type": "stream",
     "text": [
      "         OCOL1\n",
      "1   strontitic\n",
      "2       jabers\n",
      "3       jabers\n",
      "4 undiscursive\n",
      "5   strontitic\n",
      "6 undiscursive\n",
      "7   strontitic\n",
      "8       jabers\n",
      "\n"
     ]
    }
   ],
   "source": [
    "print(robjects.r(m_ps.node_list[70].ps_data))"
   ]
  },
  {
   "cell_type": "code",
   "execution_count": 14,
   "metadata": {},
   "outputs": [],
   "source": [
    "na = m_ps.get_normalized_adjacency_matrix_u()"
   ]
  },
  {
   "cell_type": "code",
   "execution_count": 15,
   "metadata": {},
   "outputs": [
    {
     "data": {
      "text/plain": [
       "matrix([[1.        , 0.        , 0.        , ..., 0.        , 0.        ,\n",
       "         0.        ],\n",
       "        [0.        , 1.        , 0.        , ..., 0.        , 0.        ,\n",
       "         0.        ],\n",
       "        [0.        , 0.        , 1.        , ..., 0.        , 0.        ,\n",
       "         0.        ],\n",
       "        ...,\n",
       "        [0.        , 0.        , 0.        , ..., 1.        , 0.        ,\n",
       "         0.        ],\n",
       "        [0.        , 0.        , 0.        , ..., 0.        , 0.5       ,\n",
       "         0.5       ],\n",
       "        [0.        , 0.        , 0.        , ..., 0.        , 0.33333333,\n",
       "         0.33333333]])"
      ]
     },
     "execution_count": 15,
     "metadata": {},
     "output_type": "execute_result"
    }
   ],
   "source": [
    "na"
   ]
  },
  {
   "cell_type": "code",
   "execution_count": 14,
   "metadata": {},
   "outputs": [
    {
     "data": {
      "text/plain": [
       "(FunctionProduction(id=1, lhs=ValueType(Table, properties={'col': <ExprType.INT: 'int'>, 'row': <ExprType.INT: 'int'>, 'head': <ExprType.INT: 'int'>, 'content': <ExprType.INT: 'int'>}), name=select, rhs=[ValueType(Table, properties={'col': <ExprType.INT: 'int'>, 'row': <ExprType.INT: 'int'>, 'head': <ExprType.INT: 'int'>, 'content': <ExprType.INT: 'int'>}), EnumType(ColList, domain=[['1'], ['2'], ['3'], ['4'], ['5'], ['6'], ['1', '2'], ['1', '3'], ['1', '4'], ['1', '5'], ['1', '6'], ['2', '3'], ['2', '4'], ['2', '5'], ['2', '6'], ['3', '4'], ['3', '5'], ['3', '6'], ['4', '5'], ['4', '6'], ['5', '6']])]),\n",
       " (69, 24))"
      ]
     },
     "execution_count": 14,
     "metadata": {},
     "output_type": "execute_result"
    }
   ],
   "source": [
    "dl[5]"
   ]
  },
  {
   "cell_type": "code",
   "execution_count": 15,
   "metadata": {},
   "outputs": [
    {
     "data": {
      "text/plain": [
       "AtomNode(['6'])"
      ]
     },
     "execution_count": 15,
     "metadata": {},
     "output_type": "execute_result"
    }
   ],
   "source": [
    "m_ps.node_list[24]"
   ]
  },
  {
   "cell_type": "code",
   "execution_count": 16,
   "metadata": {},
   "outputs": [
    {
     "data": {
      "text/plain": [
       "False"
      ]
     },
     "execution_count": 16,
     "metadata": {},
     "output_type": "execute_result"
    }
   ],
   "source": [
    "m_ps.add_neighboring_shell(dl[5])"
   ]
  },
  {
   "cell_type": "code",
   "execution_count": 17,
   "metadata": {},
   "outputs": [
    {
     "data": {
      "text/plain": [
       "[(FunctionProduction(id=1, lhs=ValueType(Table, properties={'col': <ExprType.INT: 'int'>, 'row': <ExprType.INT: 'int'>, 'head': <ExprType.INT: 'int'>, 'content': <ExprType.INT: 'int'>}), name=select, rhs=[ValueType(Table, properties={'col': <ExprType.INT: 'int'>, 'row': <ExprType.INT: 'int'>, 'head': <ExprType.INT: 'int'>, 'content': <ExprType.INT: 'int'>}), EnumType(ColList, domain=[['1'], ['2'], ['3'], ['4'], ['5'], ['6'], ['1', '2'], ['1', '3'], ['1', '4'], ['1', '5'], ['1', '6'], ['2', '3'], ['2', '4'], ['2', '5'], ['2', '6'], ['3', '4'], ['3', '5'], ['3', '6'], ['4', '5'], ['4', '6'], ['5', '6']])]),\n",
       "  (69, 19))]"
      ]
     },
     "execution_count": 17,
     "metadata": {},
     "output_type": "execute_result"
    }
   ],
   "source": [
    "m_ps.shells"
   ]
  },
  {
   "cell_type": "code",
   "execution_count": 18,
   "metadata": {},
   "outputs": [
    {
     "data": {
      "text/plain": [
       "[AtomNode(1),\n",
       " AtomNode(2),\n",
       " AtomNode(3),\n",
       " AtomNode(4),\n",
       " AtomNode(5),\n",
       " AtomNode(6),\n",
       " AtomNode(-1),\n",
       " AtomNode(-2),\n",
       " AtomNode(-3),\n",
       " AtomNode(-4),\n",
       " AtomNode(-5),\n",
       " AtomNode(-6),\n",
       " AtomNode(0),\n",
       " AtomNode(1),\n",
       " AtomNode(2),\n",
       " AtomNode(3),\n",
       " AtomNode(4),\n",
       " AtomNode(5),\n",
       " AtomNode(6),\n",
       " AtomNode(['1']),\n",
       " AtomNode(['2']),\n",
       " AtomNode(['3']),\n",
       " AtomNode(['4']),\n",
       " AtomNode(['5']),\n",
       " AtomNode(['6']),\n",
       " AtomNode(['1', '2']),\n",
       " AtomNode(['1', '3']),\n",
       " AtomNode(['1', '4']),\n",
       " AtomNode(['1', '5']),\n",
       " AtomNode(['1', '6']),\n",
       " AtomNode(['2', '3']),\n",
       " AtomNode(['2', '4']),\n",
       " AtomNode(['2', '5']),\n",
       " AtomNode(['2', '6']),\n",
       " AtomNode(['3', '4']),\n",
       " AtomNode(['3', '5']),\n",
       " AtomNode(['3', '6']),\n",
       " AtomNode(['4', '5']),\n",
       " AtomNode(['4', '6']),\n",
       " AtomNode(['5', '6']),\n",
       " AtomNode(['-1']),\n",
       " AtomNode(['-2']),\n",
       " AtomNode(['-3']),\n",
       " AtomNode(['-4']),\n",
       " AtomNode(['-5']),\n",
       " AtomNode(['-6']),\n",
       " AtomNode(['-1', '-2']),\n",
       " AtomNode(['-1', '-3']),\n",
       " AtomNode(['-1', '-4']),\n",
       " AtomNode(['-1', '-5']),\n",
       " AtomNode(['-1', '-6']),\n",
       " AtomNode(['-2', '-3']),\n",
       " AtomNode(['-2', '-4']),\n",
       " AtomNode(['-2', '-5']),\n",
       " AtomNode(['-2', '-6']),\n",
       " AtomNode(['-3', '-4']),\n",
       " AtomNode(['-3', '-5']),\n",
       " AtomNode(['-3', '-6']),\n",
       " AtomNode(['-4', '-5']),\n",
       " AtomNode(['-4', '-6']),\n",
       " AtomNode(['-5', '-6']),\n",
       " AtomNode(min),\n",
       " AtomNode(max),\n",
       " AtomNode(sum),\n",
       " AtomNode(mean),\n",
       " AtomNode(/),\n",
       " AtomNode(==),\n",
       " AtomNode(>),\n",
       " AtomNode(<),\n",
       " ParamNode(0),\n",
       " ApplyNode(select, [ParamNode(0), AtomNode(['1'])])]"
      ]
     },
     "execution_count": 18,
     "metadata": {},
     "output_type": "execute_result"
    }
   ],
   "source": [
    "m_ps.node_list"
   ]
  },
  {
   "cell_type": "code",
   "execution_count": 19,
   "metadata": {},
   "outputs": [
    {
     "data": {
      "text/plain": [
       "[70]"
      ]
     },
     "execution_count": 19,
     "metadata": {},
     "output_type": "execute_result"
    }
   ],
   "source": [
    "m_ps.node_dict[\"ApplyNode\"]"
   ]
  },
  {
   "cell_type": "code",
   "execution_count": 20,
   "metadata": {},
   "outputs": [
    {
     "data": {
      "text/plain": [
       "[70]"
      ]
     },
     "execution_count": 20,
     "metadata": {},
     "output_type": "execute_result"
    }
   ],
   "source": [
    "m_ps.get_frontiers()"
   ]
  },
  {
   "cell_type": "code",
   "execution_count": 22,
   "metadata": {},
   "outputs": [],
   "source": [
    "ddl=m_ps.get_neighboring_shells()"
   ]
  },
  {
   "cell_type": "code",
   "execution_count": 23,
   "metadata": {},
   "outputs": [
    {
     "data": {
      "text/plain": [
       "41"
      ]
     },
     "execution_count": 23,
     "metadata": {},
     "output_type": "execute_result"
    }
   ],
   "source": [
    "len(ddl)"
   ]
  },
  {
   "cell_type": "code",
   "execution_count": 38,
   "metadata": {},
   "outputs": [
    {
     "data": {
      "text/plain": [
       "(FunctionProduction(id=1, lhs=ValueType(Table, properties={'col': <ExprType.INT: 'int'>, 'row': <ExprType.INT: 'int'>, 'head': <ExprType.INT: 'int'>, 'content': <ExprType.INT: 'int'>}), name=select, rhs=[ValueType(Table, properties={'col': <ExprType.INT: 'int'>, 'row': <ExprType.INT: 'int'>, 'head': <ExprType.INT: 'int'>, 'content': <ExprType.INT: 'int'>}), EnumType(ColList, domain=[['1'], ['2'], ['3'], ['4'], ['5'], ['6'], ['1', '2'], ['1', '3'], ['1', '4'], ['1', '5'], ['1', '6'], ['2', '3'], ['2', '4'], ['2', '5'], ['2', '6'], ['3', '4'], ['3', '5'], ['3', '6'], ['4', '5'], ['4', '6'], ['5', '6']])]),\n",
       " (69, 25))"
      ]
     },
     "execution_count": 38,
     "metadata": {},
     "output_type": "execute_result"
    }
   ],
   "source": [
    "ddl[5]"
   ]
  },
  {
   "cell_type": "code",
   "execution_count": 39,
   "metadata": {},
   "outputs": [
    {
     "data": {
      "text/plain": [
       "AtomNode(['1', '2'])"
      ]
     },
     "execution_count": 39,
     "metadata": {},
     "output_type": "execute_result"
    }
   ],
   "source": [
    "m_ps.node_list[25]"
   ]
  },
  {
   "cell_type": "code",
   "execution_count": 40,
   "metadata": {},
   "outputs": [
    {
     "data": {
      "text/plain": [
       "True"
      ]
     },
     "execution_count": 40,
     "metadata": {},
     "output_type": "execute_result"
    }
   ],
   "source": [
    "m_ps.add_neighboring_shell(ddl[5])"
   ]
  },
  {
   "cell_type": "code",
   "execution_count": 41,
   "metadata": {},
   "outputs": [
    {
     "data": {
      "text/plain": [
       "[70, 71]"
      ]
     },
     "execution_count": 41,
     "metadata": {},
     "output_type": "execute_result"
    }
   ],
   "source": [
    "m_ps.get_frontiers()"
   ]
  }
 ],
 "metadata": {
  "kernelspec": {
   "display_name": "Python 3",
   "language": "python",
   "name": "python3"
  },
  "language_info": {
   "codemirror_mode": {
    "name": "ipython",
    "version": 3
   },
   "file_extension": ".py",
   "mimetype": "text/x-python",
   "name": "python",
   "nbconvert_exporter": "python",
   "pygments_lexer": "ipython3",
   "version": "3.6.8"
  }
 },
 "nbformat": 4,
 "nbformat_minor": 2
}
