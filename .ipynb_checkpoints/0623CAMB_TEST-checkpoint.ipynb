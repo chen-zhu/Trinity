{
 "cells": [
  {
   "cell_type": "code",
   "execution_count": 1,
   "metadata": {},
   "outputs": [
    {
     "name": "stderr",
     "output_type": "stream",
     "text": [
      "R[write to console]: \n",
      "Attaching package: ‘compare’\n",
      "\n",
      "\n",
      "R[write to console]: The following object is masked from ‘package:base’:\n",
      "\n",
      "    isTRUE\n",
      "\n",
      "\n",
      "R[write to console]: \n",
      "Attaching package: ‘dplyr’\n",
      "\n",
      "\n",
      "R[write to console]: The following objects are masked from ‘package:stats’:\n",
      "\n",
      "    filter, lag\n",
      "\n",
      "\n",
      "R[write to console]: The following objects are masked from ‘package:base’:\n",
      "\n",
      "    intersect, setdiff, setequal, union\n",
      "\n",
      "\n"
     ]
    }
   ],
   "source": [
    "from utils_morpheus import *\n",
    "from ProgramSpace import *"
   ]
  },
  {
   "cell_type": "code",
   "execution_count": 2,
   "metadata": {},
   "outputs": [
    {
     "data": {
      "text/plain": [
       "2209"
      ]
     },
     "execution_count": 2,
     "metadata": {},
     "output_type": "execute_result"
    }
   ],
   "source": [
    "len(CAMB_LIST)"
   ]
  },
  {
   "cell_type": "code",
   "execution_count": 2,
   "metadata": {},
   "outputs": [],
   "source": [
    "m_interpreter = MorpheusInterpreter()\n",
    "# m_spec = S.parse_file('./example/mChainOneNB.tyrell')\n",
    "m_spec = S.parse_file('./example/set_mutate.tyrell')\n",
    "m_eq = eq_r\n",
    "m_generator = MorpheusGenerator(\n",
    "    spec=m_spec,\n",
    "    interpreter=m_interpreter,\n",
    "    sfn=m_interpreter.sanity_check,\n",
    ")"
   ]
  },
  {
   "cell_type": "code",
   "execution_count": 9,
   "metadata": {},
   "outputs": [
    {
     "data": {
      "text/plain": [
       "<bound method TyrellSpec.productions of <tyrell.spec.spec.TyrellSpec object at 0x118d7c438>>"
      ]
     },
     "execution_count": 9,
     "metadata": {},
     "output_type": "execute_result"
    }
   ],
   "source": []
  },
  {
   "cell_type": "code",
   "execution_count": 8,
   "metadata": {},
   "outputs": [
    {
     "data": {
      "text/plain": [
       "['__annotations__',\n",
       " '__class__',\n",
       " '__delattr__',\n",
       " '__dict__',\n",
       " '__dir__',\n",
       " '__doc__',\n",
       " '__eq__',\n",
       " '__format__',\n",
       " '__ge__',\n",
       " '__getattribute__',\n",
       " '__gt__',\n",
       " '__hash__',\n",
       " '__init__',\n",
       " '__init_subclass__',\n",
       " '__le__',\n",
       " '__lt__',\n",
       " '__module__',\n",
       " '__ne__',\n",
       " '__new__',\n",
       " '__reduce__',\n",
       " '__reduce_ex__',\n",
       " '__repr__',\n",
       " '__setattr__',\n",
       " '__sizeof__',\n",
       " '__str__',\n",
       " '__subclasshook__',\n",
       " '__weakref__',\n",
       " '_add_enum_productions',\n",
       " '_add_param_productions',\n",
       " '_pred_spec',\n",
       " '_prod_spec',\n",
       " '_prog_spec',\n",
       " '_type_spec',\n",
       " 'get_enum_production',\n",
       " 'get_enum_production_or_raise',\n",
       " 'get_function_production',\n",
       " 'get_function_production_or_raise',\n",
       " 'get_function_productions',\n",
       " 'get_param_production',\n",
       " 'get_param_production_or_raise',\n",
       " 'get_param_productions',\n",
       " 'get_predicates_with_name',\n",
       " 'get_production',\n",
       " 'get_production_or_raise',\n",
       " 'get_productions_with_lhs',\n",
       " 'get_type',\n",
       " 'get_type_or_raise',\n",
       " 'input',\n",
       " 'name',\n",
       " 'num_input',\n",
       " 'num_predicates',\n",
       " 'num_productions',\n",
       " 'num_types',\n",
       " 'output',\n",
       " 'predicates',\n",
       " 'productions',\n",
       " 'types']"
      ]
     },
     "execution_count": 8,
     "metadata": {},
     "output_type": "execute_result"
    }
   ],
   "source": [
    "dir(m_spec)"
   ]
  },
  {
   "cell_type": "code",
   "execution_count": 5,
   "metadata": {},
   "outputs": [
    {
     "data": {
      "text/plain": [
       "'RET_DF3'"
      ]
     },
     "execution_count": 5,
     "metadata": {},
     "output_type": "execute_result"
    }
   ],
   "source": [
    "b = m_interpreter.random_table()\n",
    "b"
   ]
  },
  {
   "cell_type": "code",
   "execution_count": 6,
   "metadata": {},
   "outputs": [
    {
     "name": "stdout",
     "output_type": "stream",
     "text": [
      "  OCOL1       OCOL2 OCOL3 OCOL4\n",
      "1    75    reductor    74    54\n",
      "2   -16    promercy    26    54\n",
      "3   -16    reductor   -64    54\n",
      "4   -41 chilogrammo     2    54\n",
      "5   -41    reductor   -63   -26\n",
      "\n"
     ]
    }
   ],
   "source": [
    "print(robjects.r(b))"
   ]
  },
  {
   "cell_type": "code",
   "execution_count": 5,
   "metadata": {},
   "outputs": [
    {
     "name": "stdout",
     "output_type": "stream",
     "text": [
      "  X1 X2 X3 X4 X5 X6\n",
      "1  0  0  0  0  0  0\n",
      "\n"
     ]
    }
   ],
   "source": [
    "print(robjects.r(get_shadow_name(b)))"
   ]
  },
  {
   "cell_type": "code",
   "execution_count": 5,
   "metadata": {},
   "outputs": [
    {
     "data": {
      "text/html": [
       "\n",
       "        <span>R/rpy2 DataFrame (7 x 5)</span>\n",
       "        <table>\n",
       "          <thead>\n",
       "            <tr>\n",
       "              \n",
       "              <th>OCOL1</th>\n",
       "              \n",
       "              <th>K1</th>\n",
       "              \n",
       "              <th>K2</th>\n",
       "              \n",
       "              <th>OCOL3</th>\n",
       "              \n",
       "              <th>OCOL4</th>\n",
       "              \n",
       "            </tr>\n",
       "          </thead>\n",
       "          <tbody>\n",
       "          \n",
       "          <tr>\n",
       "            \n",
       "            <td>\n",
       "              ...\n",
       "            </td>\n",
       "            \n",
       "            <td>\n",
       "              ...\n",
       "            </td>\n",
       "            \n",
       "            <td>\n",
       "              ...\n",
       "            </td>\n",
       "            \n",
       "            <td>\n",
       "              ...\n",
       "            </td>\n",
       "            \n",
       "            <td>\n",
       "              ...\n",
       "            </td>\n",
       "            \n",
       "          </tr>\n",
       "          \n",
       "          </tbody>\n",
       "        </table>\n",
       "    "
      ],
      "text/plain": [
       "R object with classes: ('data.frame',) mapped to:\n",
       "[FloatSe..., StrSexp..., StrSexp..., FloatSe..., FloatSe...]\n",
       "  OCOL1: <class 'rpy2.rinterface.FloatSexpVector'>\n",
       "  <rpy2.rinterface.FloatSexpVector object at 0x10e3865c8> [RTYPES.REALSXP]\n",
       "  K1: <class 'rpy2.rinterface_lib.sexp.StrSexpVector'>\n",
       "  <rpy2.rinterface_lib.sexp.StrSexpVector object at 0x10e386748> [RTYPES.STRSXP]\n",
       "  K2: <class 'rpy2.rinterface_lib.sexp.StrSexpVector'>\n",
       "  <rpy2.rinterface_lib.sexp.StrSexpVector object at 0x10e386b08> [RTYPES.STRSXP]\n",
       "  OCOL3: <class 'rpy2.rinterface.FloatSexpVector'>\n",
       "  <rpy2.rinterface.FloatSexpVector object at 0x10e3865c8> [RTYPES.REALSXP]\n",
       "  OCOL4: <class 'rpy2.rinterface.FloatSexpVector'>\n",
       "  <rpy2.rinterface.FloatSexpVector object at 0x10e386748> [RTYPES.REALSXP]"
      ]
     },
     "execution_count": 5,
     "metadata": {},
     "output_type": "execute_result"
    }
   ],
   "source": [
    "# robjects.r(\"KKK <- select({},c(2,4))\".format(b))\n",
    "# robjects.r(\"KKK <- gather({},KEY,VAL,c(2,4))\".format(b))\n",
    "# robjects.r(\"KKK <- spread({},c(1),c(2))\".format(b))\n",
    "# robjects.r(\"KKK <- unite({},KEY,c(2),c(3))\".format(b))\n",
    "robjects.r(\"KKK <- separate({},c(2),c('K1','K2'))\".format(b))"
   ]
  },
  {
   "cell_type": "code",
   "execution_count": 6,
   "metadata": {},
   "outputs": [
    {
     "name": "stdout",
     "output_type": "stream",
     "text": [
      "  OCOL1 K1 K2 OCOL3  OCOL4\n",
      "1   -43 97 59   -39 -94.25\n",
      "2    47 57 17   -29 -70.30\n",
      "3   -43    68   -39  93.80\n",
      "4    92 72 58   -39  13.06\n",
      "5    47 18 32   -29 -22.25\n",
      "6   -43    75   -29  64.75\n",
      "7    47    43   -29  -8.21\n",
      "\n"
     ]
    }
   ],
   "source": [
    "print(robjects.r(\"KKK\"))"
   ]
  },
  {
   "cell_type": "code",
   "execution_count": 7,
   "metadata": {},
   "outputs": [
    {
     "name": "stdout",
     "output_type": "stream",
     "text": [
      "[[  1.   1.   1. ...   0.   0.   0.]\n",
      " [ 33. 114. 114. ...   0.   0.   0.]\n",
      " [ 33. 114. 114. ...   0.   0.   0.]\n",
      " ...\n",
      " [  0.   0.   0. ...   0.   0.   0.]\n",
      " [  0.   0.   0. ...   0.   0.   0.]\n",
      " [  0.   0.   0. ...   0.   0.   0.]]\n"
     ]
    }
   ],
   "source": [
    "u=camb_get_features(b,\"KKK\",verbose=True)"
   ]
  },
  {
   "cell_type": "code",
   "execution_count": 9,
   "metadata": {},
   "outputs": [
    {
     "name": "stdout",
     "output_type": "stream",
     "text": [
      "[[  1.   1.   1.   1.   1.   0.   0.   0.]\n",
      " [ 33. 114. 114.  35.  36.   0.   0.   0.]\n",
      " [ 33. 114. 114.  35.  36.   0.   0.   0.]\n",
      " [ 33. 174. 114.  35.  36.   0.   0.   0.]\n",
      " [ 33. 114. 114.  35.  36.   0.   0.   0.]\n",
      " [ 33. 114. 114.  35.  36.   0.   0.   0.]\n",
      " [ 33. 174. 174.  35.  36.   0.   0.   0.]\n",
      " [ 33. 174. 174.  35.  36.   0.   0.   0.]\n",
      " [  0.   0.   0.   0.   0.   0.   0.   0.]\n",
      " [  0.   0.   0.   0.   0.   0.   0.   0.]]\n"
     ]
    }
   ],
   "source": [
    "print(u[:10,:8])"
   ]
  },
  {
   "cell_type": "code",
   "execution_count": 12,
   "metadata": {},
   "outputs": [
    {
     "data": {
      "text/plain": [
       "('<bSUB_1>', '<bSUB_DUP>')"
      ]
     },
     "execution_count": 12,
     "metadata": {},
     "output_type": "execute_result"
    }
   ],
   "source": [
    "CAMB_LIST[114],CAMB_LIST[174]"
   ]
  },
  {
   "cell_type": "code",
   "execution_count": 7,
   "metadata": {},
   "outputs": [
    {
     "name": "stdout",
     "output_type": "stream",
     "text": [
      "BEGIN\n",
      "SHADOW_MUTATE: SHADOW4 <- as.data.frame(cbind(as.matrix(SHADOW3),c(1)))\n"
     ]
    }
   ],
   "source": [
    "while True:\n",
    "    p_prog, p_example = m_generator.generate(\n",
    "                        fixed_depth=2,\n",
    "                        example=Example(input=[b], output=None),\n",
    "    )\n",
    "    if p_prog is not None:\n",
    "        break"
   ]
  },
  {
   "cell_type": "code",
   "execution_count": 8,
   "metadata": {},
   "outputs": [
    {
     "data": {
      "text/plain": [
       "ApplyNode(mutate, [ParamNode(0), AtomNode(/), AtomNode(1), AtomNode(3)])"
      ]
     },
     "execution_count": 8,
     "metadata": {},
     "output_type": "execute_result"
    }
   ],
   "source": [
    "p_prog"
   ]
  },
  {
   "cell_type": "code",
   "execution_count": 9,
   "metadata": {},
   "outputs": [
    {
     "data": {
      "text/plain": [
       "2"
      ]
     },
     "execution_count": 9,
     "metadata": {},
     "output_type": "execute_result"
    }
   ],
   "source": [
    "p_prog.__repr__().count(\"ApplyNode\")"
   ]
  },
  {
   "cell_type": "code",
   "execution_count": 10,
   "metadata": {},
   "outputs": [
    {
     "data": {
      "text/plain": [
       "Example(input=['RET_DF3'], output='RET_DF6')"
      ]
     },
     "execution_count": 10,
     "metadata": {},
     "output_type": "execute_result"
    }
   ],
   "source": [
    "p_example"
   ]
  },
  {
   "cell_type": "code",
   "execution_count": 9,
   "metadata": {},
   "outputs": [
    {
     "name": "stdout",
     "output_type": "stream",
     "text": [
      "  X1 X2 X3 X4 V5\n",
      "1  0  0  0  0  1\n",
      "\n"
     ]
    }
   ],
   "source": [
    "print(robjects.r(get_shadow_name(p_example.output)))"
   ]
  },
  {
   "cell_type": "code",
   "execution_count": 10,
   "metadata": {},
   "outputs": [
    {
     "name": "stdout",
     "output_type": "stream",
     "text": [
      "  OCOL1       OCOL2 OCOL3 OCOL4        COL5\n",
      "1    75    reductor    74    54   1.0135135\n",
      "2   -16    promercy    26    54  -0.6153846\n",
      "3   -16    reductor   -64    54   0.2500000\n",
      "4   -41 chilogrammo     2    54 -20.5000000\n",
      "5   -41    reductor   -63   -26   0.6507937\n",
      "\n"
     ]
    }
   ],
   "source": [
    "print(robjects.r(p_example.output))"
   ]
  },
  {
   "cell_type": "code",
   "execution_count": 13,
   "metadata": {},
   "outputs": [
    {
     "name": "stdout",
     "output_type": "stream",
     "text": [
      "    OCOL1 OCOL3 OCOL4     OCOL6   KEY  VALUE\n",
      "1  -17.35    99   -19 ignomious OCOL2 -17.60\n",
      "2  -13.42    61   -78  wagoners OCOL2  40.30\n",
      "3   18.27    61   -66 treadmill OCOL2  19.00\n",
      "4   17.24   -26   -96  wagoners OCOL2 -97.70\n",
      "5  -76.71    -5    71 ignomious OCOL2 -49.69\n",
      "6  -17.35    99   -19 ignomious OCOL5   1.20\n",
      "7  -13.42    61   -78  wagoners OCOL5 -21.49\n",
      "8   18.27    61   -66 treadmill OCOL5  88.04\n",
      "9   17.24   -26   -96  wagoners OCOL5 -45.58\n",
      "10 -76.71    -5    71 ignomious OCOL5  56.56\n",
      "\n"
     ]
    }
   ],
   "source": [
    "print(robjects.r('RET_DF5'))"
   ]
  },
  {
   "cell_type": "code",
   "execution_count": 14,
   "metadata": {},
   "outputs": [
    {
     "name": "stdout",
     "output_type": "stream",
     "text": [
      "  X1 X3 X4 X6 V5 V6\n",
      "1  0  0  0  0  1  1\n",
      "2  0  0  0  0  1  1\n",
      "3  0  0  0  0  1  1\n",
      "4  0  0  0  0  1  1\n",
      "5  0  0  0  0  1  1\n",
      "\n"
     ]
    }
   ],
   "source": [
    "print(robjects.r('SHADOW5'))"
   ]
  }
 ],
 "metadata": {
  "kernelspec": {
   "display_name": "Python 3",
   "language": "python",
   "name": "python3"
  },
  "language_info": {
   "codemirror_mode": {
    "name": "ipython",
    "version": 3
   },
   "file_extension": ".py",
   "mimetype": "text/x-python",
   "name": "python",
   "nbconvert_exporter": "python",
   "pygments_lexer": "ipython3",
   "version": "3.6.8"
  }
 },
 "nbformat": 4,
 "nbformat_minor": 2
}
