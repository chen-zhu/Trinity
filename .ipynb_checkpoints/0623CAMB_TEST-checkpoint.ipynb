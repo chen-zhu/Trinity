{
 "cells": [
  {
   "cell_type": "code",
   "execution_count": 1,
   "metadata": {},
   "outputs": [
    {
     "name": "stderr",
     "output_type": "stream",
     "text": [
      "R[write to console]: \n",
      "Attaching package: ‘compare’\n",
      "\n",
      "\n",
      "R[write to console]: The following object is masked from ‘package:base’:\n",
      "\n",
      "    isTRUE\n",
      "\n",
      "\n",
      "R[write to console]: \n",
      "Attaching package: ‘dplyr’\n",
      "\n",
      "\n",
      "R[write to console]: The following objects are masked from ‘package:stats’:\n",
      "\n",
      "    filter, lag\n",
      "\n",
      "\n",
      "R[write to console]: The following objects are masked from ‘package:base’:\n",
      "\n",
      "    intersect, setdiff, setequal, union\n",
      "\n",
      "\n"
     ]
    }
   ],
   "source": [
    "from utils_morpheus import *\n",
    "from ProgramSpace import *"
   ]
  },
  {
   "cell_type": "code",
   "execution_count": 2,
   "metadata": {},
   "outputs": [],
   "source": [
    "m_interpreter = MorpheusInterpreter()\n",
    "m_spec = S.parse_file('./example/set2.tyrell')\n",
    "m_eq = eq_r\n",
    "m_generator = MorpheusGenerator(\n",
    "    spec=m_spec,\n",
    "    interpreter=m_interpreter,\n",
    "    sfn=m_interpreter.sanity_check,\n",
    ")"
   ]
  },
  {
   "cell_type": "code",
   "execution_count": 3,
   "metadata": {},
   "outputs": [
    {
     "data": {
      "text/plain": [
       "'RET_DF2'"
      ]
     },
     "execution_count": 3,
     "metadata": {},
     "output_type": "execute_result"
    }
   ],
   "source": [
    "b = m_interpreter.random_table()\n",
    "b"
   ]
  },
  {
   "cell_type": "code",
   "execution_count": 4,
   "metadata": {},
   "outputs": [
    {
     "name": "stdout",
     "output_type": "stream",
     "text": [
      "   OCOL1  OCOL2 OCOL3 OCOL4\n",
      "1    -94  69.35     8    75\n",
      "2     78  -1.85    74   -18\n",
      "3    -28  49.75   -10    14\n",
      "4    -40  41.37    52    77\n",
      "5    -66  40.25   -65    12\n",
      "6    -81  62.62    42   -51\n",
      "7     42 -71.08    56    94\n",
      "8    -16  94.68    30   -44\n",
      "9     17 -92.62   -57   -14\n",
      "10    24  85.62   -68    17\n",
      "\n"
     ]
    }
   ],
   "source": [
    "print(robjects.r(b))"
   ]
  },
  {
   "cell_type": "code",
   "execution_count": 5,
   "metadata": {},
   "outputs": [
    {
     "name": "stdout",
     "output_type": "stream",
     "text": [
      "   X1 X2 X3 X4\n",
      "1   0  0  0  0\n",
      "2   0  0  0  0\n",
      "3   0  0  0  0\n",
      "4   0  0  0  0\n",
      "5   0  0  0  0\n",
      "6   0  0  0  0\n",
      "7   0  0  0  0\n",
      "8   0  0  0  0\n",
      "9   0  0  0  0\n",
      "10  0  0  0  0\n",
      "\n"
     ]
    }
   ],
   "source": [
    "print(robjects.r(get_shadow_name(b)))"
   ]
  },
  {
   "cell_type": "code",
   "execution_count": 6,
   "metadata": {},
   "outputs": [],
   "source": [
    "while True:\n",
    "    p_prog, p_example = m_generator.generate(\n",
    "                        fixed_depth=3,\n",
    "                        example=Example(input=[b], output=None),\n",
    "    )\n",
    "    if p_prog is not None:\n",
    "        break"
   ]
  },
  {
   "cell_type": "code",
   "execution_count": 7,
   "metadata": {},
   "outputs": [
    {
     "data": {
      "text/plain": [
       "ApplyNode(select, [ApplyNode(gather, [ParamNode(0), AtomNode(['3'])]), AtomNode(['5'])])"
      ]
     },
     "execution_count": 7,
     "metadata": {},
     "output_type": "execute_result"
    }
   ],
   "source": [
    "p_prog"
   ]
  },
  {
   "cell_type": "code",
   "execution_count": 8,
   "metadata": {},
   "outputs": [
    {
     "data": {
      "text/plain": [
       "2"
      ]
     },
     "execution_count": 8,
     "metadata": {},
     "output_type": "execute_result"
    }
   ],
   "source": [
    "p_prog.__repr__().count(\"ApplyNode\")"
   ]
  },
  {
   "cell_type": "code",
   "execution_count": 9,
   "metadata": {},
   "outputs": [
    {
     "data": {
      "text/plain": [
       "Example(input=['RET_DF2'], output='RET_DF4')"
      ]
     },
     "execution_count": 9,
     "metadata": {},
     "output_type": "execute_result"
    }
   ],
   "source": [
    "p_example"
   ]
  },
  {
   "cell_type": "code",
   "execution_count": 10,
   "metadata": {},
   "outputs": [
    {
     "name": "stdout",
     "output_type": "stream",
     "text": [
      "   V5\n",
      "1   2\n",
      "2   2\n",
      "3   2\n",
      "4   2\n",
      "5   2\n",
      "6   2\n",
      "7   2\n",
      "8   2\n",
      "9   2\n",
      "10  2\n",
      "\n"
     ]
    }
   ],
   "source": [
    "print(robjects.r(get_shadow_name(p_example.output)))"
   ]
  },
  {
   "cell_type": "code",
   "execution_count": 11,
   "metadata": {},
   "outputs": [
    {
     "name": "stdout",
     "output_type": "stream",
     "text": [
      "   VALUE\n",
      "1      8\n",
      "2     74\n",
      "3    -10\n",
      "4     52\n",
      "5    -65\n",
      "6     42\n",
      "7     56\n",
      "8     30\n",
      "9    -57\n",
      "10   -68\n",
      "\n"
     ]
    }
   ],
   "source": [
    "print(robjects.r(p_example.output))"
   ]
  },
  {
   "cell_type": "code",
   "execution_count": 12,
   "metadata": {},
   "outputs": [
    {
     "name": "stdout",
     "output_type": "stream",
     "text": [
      "   OCOL1  OCOL2 OCOL4   KEY VALUE\n",
      "1    -94  69.35    75 OCOL3     8\n",
      "2     78  -1.85   -18 OCOL3    74\n",
      "3    -28  49.75    14 OCOL3   -10\n",
      "4    -40  41.37    77 OCOL3    52\n",
      "5    -66  40.25    12 OCOL3   -65\n",
      "6    -81  62.62   -51 OCOL3    42\n",
      "7     42 -71.08    94 OCOL3    56\n",
      "8    -16  94.68   -44 OCOL3    30\n",
      "9     17 -92.62   -14 OCOL3   -57\n",
      "10    24  85.62    17 OCOL3   -68\n",
      "\n"
     ]
    }
   ],
   "source": [
    "print(robjects.r('RET_DF3'))"
   ]
  },
  {
   "cell_type": "code",
   "execution_count": 6,
   "metadata": {},
   "outputs": [
    {
     "data": {
      "text/html": [
       "\n",
       "        <span>R/rpy2 DataFrame (8 x 2)</span>\n",
       "        <table>\n",
       "          <thead>\n",
       "            <tr>\n",
       "              \n",
       "              <th>OCOL2</th>\n",
       "              \n",
       "              <th>OCOL4</th>\n",
       "              \n",
       "            </tr>\n",
       "          </thead>\n",
       "          <tbody>\n",
       "          \n",
       "          <tr>\n",
       "            \n",
       "            <td>\n",
       "              ...\n",
       "            </td>\n",
       "            \n",
       "            <td>\n",
       "              ...\n",
       "            </td>\n",
       "            \n",
       "          </tr>\n",
       "          \n",
       "          </tbody>\n",
       "        </table>\n",
       "    "
      ],
      "text/plain": [
       "R object with classes: ('data.frame',) mapped to:\n",
       "[FloatSexpVector, StrSexpVector]\n",
       "  OCOL2: <class 'rpy2.rinterface.FloatSexpVector'>\n",
       "  <rpy2.rinterface.FloatSexpVector object at 0x114a529c8> [RTYPES.REALSXP]\n",
       "  OCOL4: <class 'rpy2.rinterface_lib.sexp.StrSexpVector'>\n",
       "  <rpy2.rinterface_lib.sexp.StrSexpVector object at 0x114a52788> [RTYPES.STRSXP]"
      ]
     },
     "execution_count": 6,
     "metadata": {},
     "output_type": "execute_result"
    }
   ],
   "source": [
    "robjects.r(\"KKK <- select({},c(2,4))\".format(b))\n",
    "# robjects.r(\"KKK <- gather({},KEY,VAL,c(2,4))\".format(b))\n",
    "# robjects.r(\"KKK <- spread({},c(1),c(2))\".format(b))"
   ]
  },
  {
   "cell_type": "code",
   "execution_count": 7,
   "metadata": {},
   "outputs": [
    {
     "name": "stdout",
     "output_type": "stream",
     "text": [
      "   OCOL2       OCOL4\n",
      "1  43.63 opeidoscope\n",
      "2  34.82      bangup\n",
      "3  72.14      bangup\n",
      "4  47.22 opeidoscope\n",
      "5 -32.17      bangup\n",
      "6 -39.33      bangup\n",
      "7  73.42      bangup\n",
      "8 -90.70      bangup\n",
      "\n"
     ]
    }
   ],
   "source": [
    "print(robjects.r(\"KKK\"))"
   ]
  },
  {
   "cell_type": "code",
   "execution_count": null,
   "metadata": {},
   "outputs": [],
   "source": [
    "print(robjects.r(get_shadow_name(\"KKK\"))"
   ]
  },
  {
   "cell_type": "code",
   "execution_count": 13,
   "metadata": {},
   "outputs": [
    {
     "data": {
      "text/html": [
       "\n",
       "        <span>R/rpy2 DataFrame (20 x 2)</span>\n",
       "        <table>\n",
       "          <thead>\n",
       "            <tr>\n",
       "              \n",
       "              <th>KEY</th>\n",
       "              \n",
       "              <th>VAL</th>\n",
       "              \n",
       "            </tr>\n",
       "          </thead>\n",
       "          <tbody>\n",
       "          \n",
       "          <tr>\n",
       "            \n",
       "            <td>\n",
       "              ...\n",
       "            </td>\n",
       "            \n",
       "            <td>\n",
       "              ...\n",
       "            </td>\n",
       "            \n",
       "          </tr>\n",
       "          \n",
       "          </tbody>\n",
       "        </table>\n",
       "    "
      ],
      "text/plain": [
       "R object with classes: ('data.frame',) mapped to:\n",
       "[StrSexpVector, FloatSexpVector]\n",
       "  KEY: <class 'rpy2.rinterface_lib.sexp.StrSexpVector'>\n",
       "  <rpy2.rinterface_lib.sexp.StrSexpVector object at 0x10e338b08> [RTYPES.STRSXP]\n",
       "  VAL: <class 'rpy2.rinterface.FloatSexpVector'>\n",
       "  <rpy2.rinterface.FloatSexpVector object at 0x10e338cc8> [RTYPES.REALSXP]"
      ]
     },
     "execution_count": 13,
     "metadata": {},
     "output_type": "execute_result"
    }
   ],
   "source": [
    "robjects.r(\"LLL <- select(KKK,c(5,6))\".format(b))"
   ]
  },
  {
   "cell_type": "code",
   "execution_count": 14,
   "metadata": {},
   "outputs": [
    {
     "name": "stdout",
     "output_type": "stream",
     "text": [
      "     KEY    VAL\n",
      "1  OCOL2  17.63\n",
      "2  OCOL2 -11.46\n",
      "3  OCOL2   8.35\n",
      "4  OCOL2 -86.10\n",
      "5  OCOL2 -57.19\n",
      "6  OCOL2 -80.83\n",
      "7  OCOL2   7.53\n",
      "8  OCOL2 -24.26\n",
      "9  OCOL2  54.93\n",
      "10 OCOL2  -6.39\n",
      "11 OCOL4  90.00\n",
      "12 OCOL4 -68.00\n",
      "13 OCOL4  90.00\n",
      "14 OCOL4 -85.00\n",
      "15 OCOL4 -49.00\n",
      "16 OCOL4 -49.00\n",
      "17 OCOL4 -49.00\n",
      "18 OCOL4 -85.00\n",
      "19 OCOL4  90.00\n",
      "20 OCOL4 -85.00\n",
      "\n"
     ]
    }
   ],
   "source": [
    "print(robjects.r(\"LLL\"))"
   ]
  },
  {
   "cell_type": "code",
   "execution_count": 21,
   "metadata": {},
   "outputs": [
    {
     "data": {
      "text/plain": [
       "{'<PAD>': 0,\n",
       " '<aCOL_0>': 13,\n",
       " '<aCOL_10>': 23,\n",
       " '<aCOL_11>': 24,\n",
       " '<aCOL_12>': 25,\n",
       " '<aCOL_13>': 26,\n",
       " '<aCOL_14>': 27,\n",
       " '<aCOL_15>': 28,\n",
       " '<aCOL_16>': 29,\n",
       " '<aCOL_17>': 30,\n",
       " '<aCOL_18>': 31,\n",
       " '<aCOL_19>': 32,\n",
       " '<aCOL_1>': 14,\n",
       " '<aCOL_2>': 15,\n",
       " '<aCOL_3>': 16,\n",
       " '<aCOL_4>': 17,\n",
       " '<aCOL_5>': 18,\n",
       " '<aCOL_6>': 19,\n",
       " '<aCOL_7>': 20,\n",
       " '<aCOL_8>': 21,\n",
       " '<aCOL_9>': 22,\n",
       " '<aDUP>': 2,\n",
       " '<aNEW>': 1,\n",
       " '<aOUT>': 3,\n",
       " '<bCOL_0>': 33,\n",
       " '<bCOL_10>': 43,\n",
       " '<bCOL_11>': 44,\n",
       " '<bCOL_12>': 45,\n",
       " '<bCOL_13>': 46,\n",
       " '<bCOL_14>': 47,\n",
       " '<bCOL_15>': 48,\n",
       " '<bCOL_16>': 49,\n",
       " '<bCOL_17>': 50,\n",
       " '<bCOL_18>': 51,\n",
       " '<bCOL_19>': 52,\n",
       " '<bCOL_1>': 34,\n",
       " '<bCOL_2>': 35,\n",
       " '<bCOL_3>': 36,\n",
       " '<bCOL_4>': 37,\n",
       " '<bCOL_5>': 38,\n",
       " '<bCOL_6>': 39,\n",
       " '<bCOL_7>': 40,\n",
       " '<bCOL_8>': 41,\n",
       " '<bCOL_9>': 42,\n",
       " '<bDUP>': 5,\n",
       " '<bNEW>': 4,\n",
       " '<bOUT>': 6,\n",
       " '<cCOL_0>': 53,\n",
       " '<cCOL_10>': 63,\n",
       " '<cCOL_11>': 64,\n",
       " '<cCOL_12>': 65,\n",
       " '<cCOL_13>': 66,\n",
       " '<cCOL_14>': 67,\n",
       " '<cCOL_15>': 68,\n",
       " '<cCOL_16>': 69,\n",
       " '<cCOL_17>': 70,\n",
       " '<cCOL_18>': 71,\n",
       " '<cCOL_19>': 72,\n",
       " '<cCOL_1>': 54,\n",
       " '<cCOL_2>': 55,\n",
       " '<cCOL_3>': 56,\n",
       " '<cCOL_4>': 57,\n",
       " '<cCOL_5>': 58,\n",
       " '<cCOL_6>': 59,\n",
       " '<cCOL_7>': 60,\n",
       " '<cCOL_8>': 61,\n",
       " '<cCOL_9>': 62,\n",
       " '<cDUP>': 8,\n",
       " '<cNEW>': 7,\n",
       " '<cOUT>': 9,\n",
       " '<dCOL_0>': 73,\n",
       " '<dCOL_10>': 83,\n",
       " '<dCOL_11>': 84,\n",
       " '<dCOL_12>': 85,\n",
       " '<dCOL_13>': 86,\n",
       " '<dCOL_14>': 87,\n",
       " '<dCOL_15>': 88,\n",
       " '<dCOL_16>': 89,\n",
       " '<dCOL_17>': 90,\n",
       " '<dCOL_18>': 91,\n",
       " '<dCOL_19>': 92,\n",
       " '<dCOL_1>': 74,\n",
       " '<dCOL_2>': 75,\n",
       " '<dCOL_3>': 76,\n",
       " '<dCOL_4>': 77,\n",
       " '<dCOL_5>': 78,\n",
       " '<dCOL_6>': 79,\n",
       " '<dCOL_7>': 80,\n",
       " '<dCOL_8>': 81,\n",
       " '<dCOL_9>': 82,\n",
       " '<dDUP>': 11,\n",
       " '<dNEW>': 10,\n",
       " '<dOUT>': 12}"
      ]
     },
     "execution_count": 21,
     "metadata": {},
     "output_type": "execute_result"
    }
   ],
   "source": [
    "CAMB_DICT"
   ]
  },
  {
   "cell_type": "code",
   "execution_count": 22,
   "metadata": {},
   "outputs": [
    {
     "name": "stdout",
     "output_type": "stream",
     "text": [
      "[[ 1.  1.  0. ...  0.  0.  0.]\n",
      " [34. 36.  0. ...  0.  0.  0.]\n",
      " [34. 36.  0. ...  0.  0.  0.]\n",
      " ...\n",
      " [ 0.  0.  0. ...  0.  0.  0.]\n",
      " [ 0.  0.  0. ...  0.  0.  0.]\n",
      " [ 0.  0.  0. ...  0.  0.  0.]]\n"
     ]
    }
   ],
   "source": [
    "u=camb_get_features(b,\"KKK\",verbose=True)"
   ]
  },
  {
   "cell_type": "code",
   "execution_count": 23,
   "metadata": {},
   "outputs": [
    {
     "name": "stdout",
     "output_type": "stream",
     "text": [
      "[[ 1.  1.  0.  0.  0.  0.  0.  0.  0.  0.]\n",
      " [34. 36.  0.  0.  0.  0.  0.  0.  0.  0.]\n",
      " [34. 36.  0.  0.  0.  0.  0.  0.  0.  0.]\n",
      " [ 5. 36.  0.  0.  0.  0.  0.  0.  0.  0.]\n",
      " [34. 36.  0.  0.  0.  0.  0.  0.  0.  0.]\n",
      " [34. 36.  0.  0.  0.  0.  0.  0.  0.  0.]\n",
      " [34. 36.  0.  0.  0.  0.  0.  0.  0.  0.]\n",
      " [34. 36.  0.  0.  0.  0.  0.  0.  0.  0.]\n",
      " [34. 36.  0.  0.  0.  0.  0.  0.  0.  0.]\n",
      " [34. 36.  0.  0.  0.  0.  0.  0.  0.  0.]\n",
      " [ 0.  0.  0.  0.  0.  0.  0.  0.  0.  0.]\n",
      " [ 0.  0.  0.  0.  0.  0.  0.  0.  0.  0.]\n",
      " [ 0.  0.  0.  0.  0.  0.  0.  0.  0.  0.]\n",
      " [ 0.  0.  0.  0.  0.  0.  0.  0.  0.  0.]\n",
      " [ 0.  0.  0.  0.  0.  0.  0.  0.  0.  0.]\n",
      " [ 0.  0.  0.  0.  0.  0.  0.  0.  0.  0.]\n",
      " [ 0.  0.  0.  0.  0.  0.  0.  0.  0.  0.]\n",
      " [ 0.  0.  0.  0.  0.  0.  0.  0.  0.  0.]\n",
      " [ 0.  0.  0.  0.  0.  0.  0.  0.  0.  0.]\n",
      " [ 0.  0.  0.  0.  0.  0.  0.  0.  0.  0.]\n",
      " [ 0.  0.  0.  0.  0.  0.  0.  0.  0.  0.]\n",
      " [ 0.  0.  0.  0.  0.  0.  0.  0.  0.  0.]\n",
      " [ 0.  0.  0.  0.  0.  0.  0.  0.  0.  0.]\n",
      " [ 0.  0.  0.  0.  0.  0.  0.  0.  0.  0.]\n",
      " [ 0.  0.  0.  0.  0.  0.  0.  0.  0.  0.]\n",
      " [ 0.  0.  0.  0.  0.  0.  0.  0.  0.  0.]\n",
      " [ 0.  0.  0.  0.  0.  0.  0.  0.  0.  0.]\n",
      " [ 0.  0.  0.  0.  0.  0.  0.  0.  0.  0.]\n",
      " [ 0.  0.  0.  0.  0.  0.  0.  0.  0.  0.]\n",
      " [ 0.  0.  0.  0.  0.  0.  0.  0.  0.  0.]\n",
      " [ 0.  0.  0.  0.  0.  0.  0.  0.  0.  0.]\n",
      " [ 0.  0.  0.  0.  0.  0.  0.  0.  0.  0.]\n",
      " [ 0.  0.  0.  0.  0.  0.  0.  0.  0.  0.]\n",
      " [ 0.  0.  0.  0.  0.  0.  0.  0.  0.  0.]\n",
      " [ 0.  0.  0.  0.  0.  0.  0.  0.  0.  0.]\n",
      " [ 0.  0.  0.  0.  0.  0.  0.  0.  0.  0.]\n",
      " [ 0.  0.  0.  0.  0.  0.  0.  0.  0.  0.]\n",
      " [ 0.  0.  0.  0.  0.  0.  0.  0.  0.  0.]\n",
      " [ 0.  0.  0.  0.  0.  0.  0.  0.  0.  0.]\n",
      " [ 0.  0.  0.  0.  0.  0.  0.  0.  0.  0.]\n",
      " [ 0.  0.  0.  0.  0.  0.  0.  0.  0.  0.]\n",
      " [ 0.  0.  0.  0.  0.  0.  0.  0.  0.  0.]\n",
      " [ 0.  0.  0.  0.  0.  0.  0.  0.  0.  0.]\n",
      " [ 0.  0.  0.  0.  0.  0.  0.  0.  0.  0.]\n",
      " [ 0.  0.  0.  0.  0.  0.  0.  0.  0.  0.]\n",
      " [ 0.  0.  0.  0.  0.  0.  0.  0.  0.  0.]\n",
      " [ 0.  0.  0.  0.  0.  0.  0.  0.  0.  0.]\n",
      " [ 0.  0.  0.  0.  0.  0.  0.  0.  0.  0.]\n",
      " [ 0.  0.  0.  0.  0.  0.  0.  0.  0.  0.]\n",
      " [ 0.  0.  0.  0.  0.  0.  0.  0.  0.  0.]\n",
      " [ 0.  0.  0.  0.  0.  0.  0.  0.  0.  0.]\n",
      " [54. 56.  0.  0.  0.  0.  0.  0.  0.  0.]\n",
      " [10. 10.  0.  0.  0.  0.  0.  0.  0.  0.]\n",
      " [10. 10.  0.  0.  0.  0.  0.  0.  0.  0.]\n",
      " [10. 10.  0.  0.  0.  0.  0.  0.  0.  0.]\n",
      " [10. 10.  0.  0.  0.  0.  0.  0.  0.  0.]\n",
      " [10. 10.  0.  0.  0.  0.  0.  0.  0.  0.]\n",
      " [10. 10.  0.  0.  0.  0.  0.  0.  0.  0.]\n",
      " [10. 10.  0.  0.  0.  0.  0.  0.  0.  0.]\n",
      " [10. 10.  0.  0.  0.  0.  0.  0.  0.  0.]\n",
      " [10. 10.  0.  0.  0.  0.  0.  0.  0.  0.]\n",
      " [ 0.  0.  0.  0.  0.  0.  0.  0.  0.  0.]\n",
      " [ 0.  0.  0.  0.  0.  0.  0.  0.  0.  0.]\n",
      " [ 0.  0.  0.  0.  0.  0.  0.  0.  0.  0.]\n",
      " [ 0.  0.  0.  0.  0.  0.  0.  0.  0.  0.]\n",
      " [ 0.  0.  0.  0.  0.  0.  0.  0.  0.  0.]\n",
      " [ 0.  0.  0.  0.  0.  0.  0.  0.  0.  0.]\n",
      " [ 0.  0.  0.  0.  0.  0.  0.  0.  0.  0.]\n",
      " [ 0.  0.  0.  0.  0.  0.  0.  0.  0.  0.]\n",
      " [ 0.  0.  0.  0.  0.  0.  0.  0.  0.  0.]\n",
      " [ 0.  0.  0.  0.  0.  0.  0.  0.  0.  0.]\n",
      " [ 0.  0.  0.  0.  0.  0.  0.  0.  0.  0.]\n",
      " [ 0.  0.  0.  0.  0.  0.  0.  0.  0.  0.]\n",
      " [ 0.  0.  0.  0.  0.  0.  0.  0.  0.  0.]\n",
      " [ 0.  0.  0.  0.  0.  0.  0.  0.  0.  0.]\n",
      " [ 0.  0.  0.  0.  0.  0.  0.  0.  0.  0.]\n",
      " [ 0.  0.  0.  0.  0.  0.  0.  0.  0.  0.]\n",
      " [ 0.  0.  0.  0.  0.  0.  0.  0.  0.  0.]\n",
      " [ 0.  0.  0.  0.  0.  0.  0.  0.  0.  0.]\n",
      " [ 0.  0.  0.  0.  0.  0.  0.  0.  0.  0.]\n",
      " [ 0.  0.  0.  0.  0.  0.  0.  0.  0.  0.]\n",
      " [ 0.  0.  0.  0.  0.  0.  0.  0.  0.  0.]\n",
      " [ 0.  0.  0.  0.  0.  0.  0.  0.  0.  0.]\n",
      " [ 0.  0.  0.  0.  0.  0.  0.  0.  0.  0.]\n",
      " [ 0.  0.  0.  0.  0.  0.  0.  0.  0.  0.]\n",
      " [ 0.  0.  0.  0.  0.  0.  0.  0.  0.  0.]\n",
      " [ 0.  0.  0.  0.  0.  0.  0.  0.  0.  0.]\n",
      " [ 0.  0.  0.  0.  0.  0.  0.  0.  0.  0.]\n",
      " [ 0.  0.  0.  0.  0.  0.  0.  0.  0.  0.]\n",
      " [ 0.  0.  0.  0.  0.  0.  0.  0.  0.  0.]\n",
      " [ 0.  0.  0.  0.  0.  0.  0.  0.  0.  0.]\n",
      " [ 0.  0.  0.  0.  0.  0.  0.  0.  0.  0.]\n",
      " [ 0.  0.  0.  0.  0.  0.  0.  0.  0.  0.]\n",
      " [ 0.  0.  0.  0.  0.  0.  0.  0.  0.  0.]\n",
      " [ 0.  0.  0.  0.  0.  0.  0.  0.  0.  0.]\n",
      " [ 0.  0.  0.  0.  0.  0.  0.  0.  0.  0.]\n",
      " [ 0.  0.  0.  0.  0.  0.  0.  0.  0.  0.]\n",
      " [ 0.  0.  0.  0.  0.  0.  0.  0.  0.  0.]\n",
      " [ 0.  0.  0.  0.  0.  0.  0.  0.  0.  0.]\n",
      " [ 0.  0.  0.  0.  0.  0.  0.  0.  0.  0.]\n",
      " [ 0.  0.  0.  0.  0.  0.  0.  0.  0.  0.]\n",
      " [ 0.  0.  0.  0.  0.  0.  0.  0.  0.  0.]]\n"
     ]
    }
   ],
   "source": [
    "import sys\n",
    "numpy.set_printoptions(threshold=sys.maxsize)\n",
    "print(u[0:,:10])"
   ]
  }
 ],
 "metadata": {
  "kernelspec": {
   "display_name": "Python 3",
   "language": "python",
   "name": "python3"
  },
  "language_info": {
   "codemirror_mode": {
    "name": "ipython",
    "version": 3
   },
   "file_extension": ".py",
   "mimetype": "text/x-python",
   "name": "python",
   "nbconvert_exporter": "python",
   "pygments_lexer": "ipython3",
   "version": "3.6.8"
  }
 },
 "nbformat": 4,
 "nbformat_minor": 2
}
