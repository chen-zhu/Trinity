{
 "cells": [
  {
   "cell_type": "code",
   "execution_count": 2,
   "metadata": {},
   "outputs": [],
   "source": [
    "from z3 import *"
   ]
  },
  {
   "cell_type": "code",
   "execution_count": null,
   "metadata": {},
   "outputs": [],
   "source": [
    "row_0 = Int('row_0')\n",
    "col_0 = Int('col_0')"
   ]
  },
  {
   "cell_type": "code",
   "execution_count": null,
   "metadata": {},
   "outputs": [],
   "source": [
    "def get_restrictions_select(in_row, in_col, out_row, out_col):\n",
    "    r1 = in_row==out_row\n",
    "    r2 = in_col>=out_col\n",
    "    return (r1, r2)"
   ]
  },
  {
   "cell_type": "code",
   "execution_count": null,
   "metadata": {},
   "outputs": [],
   "source": []
  },
  {
   "cell_type": "code",
   "execution_count": 80,
   "metadata": {},
   "outputs": [],
   "source": [
    "def abs_select(in_row, in_col, out_row, out_col):\n",
    "    r_row = And(out_row==in_row,in_row>0,out_row>0)\n",
    "    r_col = And(Or(out_col==1,out_col==2),in_col>0,out_col>0)\n",
    "    return (r_row, r_col)\n",
    "\n",
    "def abs_unite(in_row, in_col, out_row, out_col):\n",
    "    r_row = And(out_row==in_row,in_row>0,out_row>0)\n",
    "    r_col = And(out_col==in_col-1,in_col>0,out_col>0)\n",
    "    return (r_row, r_col)\n",
    "\n",
    "def abs_gather(in_row, in_col, out_row, out_col):\n",
    "    r_row = And(out_row>=in_row,in_row>0,out_row>0)\n",
    "    r_col = And(Or(out_col==in_col,out_col==in_col-1),in_col>0,out_col>0)\n",
    "    return (r_row, r_col)\n",
    "\n",
    "def abs_spread(in_row, in_col, out_row, out_col):\n",
    "    r_row = And(out_row<=in_row,in_row>0,out_row>0)\n",
    "    r_col = And(And(out_col>=in_col,out_col<=in_col+in_row),in_col>0,out_col>0)\n",
    "    return (r_row, r_col)\n",
    "\n",
    "def abs_separate(in_row, in_col, out_row, out_col):\n",
    "    r_row = And(out_row==in_row,in_row>0,out_row>0)\n",
    "    r_col = And(out_col==in_col+1,in_col>0,out_col>0)\n",
    "    return (r_row, r_col)"
   ]
  },
  {
   "cell_type": "code",
   "execution_count": 81,
   "metadata": {},
   "outputs": [],
   "source": [
    "abs_funcs = {\n",
    "    \"select\": abs_select,\n",
    "    \"unite\": abs_unite,\n",
    "    \"gather\": abs_gather,\n",
    "    \"spread\": abs_spread,\n",
    "    \"separate\": abs_separate,\n",
    "}"
   ]
  },
  {
   "cell_type": "code",
   "execution_count": 82,
   "metadata": {},
   "outputs": [],
   "source": [
    "def construct_pr(n_steps, p_input, p_output):\n",
    "    xlist = []\n",
    "    ylist = []\n",
    "    problems = []\n",
    "    rlist = []\n",
    "    for i in range(n_steps+1):\n",
    "        tmpx = Int(\"x_{}\".format(i))\n",
    "        tmpy = Int(\"y_{}\".format(i))\n",
    "        xlist.append(tmpx)\n",
    "        ylist.append(tmpy)\n",
    "        if i==0:\n",
    "            # input, continue\n",
    "            continue\n",
    "        else:\n",
    "            zlist = []\n",
    "            for dkey in abs_funcs.keys():\n",
    "                rx,ry = abs_funcs[dkey](xlist[i-1],ylist[i-1],tmpx,tmpy)\n",
    "                rz = And(rx,ry)\n",
    "                zlist.append(rz)\n",
    "            rlist.append(Or(zlist))\n",
    "    restrictions = [And(rlist)]\n",
    "    problems.append(xlist[0]==p_input[0])\n",
    "    problems.append(ylist[0]==p_input[1])\n",
    "    problems.append(xlist[-1]==p_output[0])\n",
    "    problems.append(ylist[-1]==p_output[1])\n",
    "    # solve(problems+restrictions)\n",
    "    return problems, restrictions"
   ]
  },
  {
   "cell_type": "code",
   "execution_count": 83,
   "metadata": {},
   "outputs": [],
   "source": [
    "def construct_pr_assumption(n_steps, p_input, p_output, p_choose):\n",
    "    xlist = []\n",
    "    ylist = []\n",
    "    problems = []\n",
    "    rlist = []\n",
    "    for i in range(n_steps+1):\n",
    "        tmpx = Int(\"x_{}\".format(i))\n",
    "        tmpy = Int(\"y_{}\".format(i))\n",
    "        xlist.append(tmpx)\n",
    "        ylist.append(tmpy)\n",
    "        if i==0:\n",
    "            # input, continue\n",
    "            continue\n",
    "        else:\n",
    "            zlist = []\n",
    "            if i==1:\n",
    "                # force to choose a key\n",
    "                rx,ry = abs_funcs[p_choose](xlist[i-1],ylist[i-1],tmpx,tmpy)\n",
    "                rz = And(rx,ry)\n",
    "                zlist.append(rz)\n",
    "            else:\n",
    "                for dkey in abs_funcs.keys():\n",
    "                    rx,ry = abs_funcs[dkey](xlist[i-1],ylist[i-1],tmpx,tmpy)\n",
    "                    rz = And(rx,ry)\n",
    "                    zlist.append(rz)\n",
    "            rlist.append(Or(zlist))\n",
    "    restrictions = [And(rlist)]\n",
    "    problems.append(xlist[0]==p_input[0])\n",
    "    problems.append(ylist[0]==p_input[1])\n",
    "    problems.append(xlist[-1]==p_output[0])\n",
    "    problems.append(ylist[-1]==p_output[1])\n",
    "    # solve(problems+restrictions)\n",
    "    return problems, restrictions"
   ]
  },
  {
   "cell_type": "code",
   "execution_count": 63,
   "metadata": {},
   "outputs": [],
   "source": [
    "dp, dr = construct_pr(1, (6,4), (20,5))"
   ]
  },
  {
   "cell_type": "code",
   "execution_count": 86,
   "metadata": {},
   "outputs": [],
   "source": [
    "dp, dr = construct_pr_assumption(2, (6,10), (6,9), \"unite\")"
   ]
  },
  {
   "cell_type": "code",
   "execution_count": 87,
   "metadata": {},
   "outputs": [
    {
     "name": "stdout",
     "output_type": "stream",
     "text": [
      "[y_1 = 9, x_1 = 6, y_2 = 9, x_2 = 6, y_0 = 10, x_0 = 6]\n"
     ]
    }
   ],
   "source": [
    "solve(dp+dr)"
   ]
  },
  {
   "cell_type": "code",
   "execution_count": 26,
   "metadata": {},
   "outputs": [],
   "source": [
    "x_in, y_in, x_out, y_out = Ints('x_in y_in x_out y_out')\n",
    "\n",
    "a,b = abs_select(x_in,y_in,x_out,y_out)\n",
    "c,d = abs_unite(x_in,y_in,x_out,y_out)\n",
    "z = Or(And(a,b),And(c,d))\n",
    "\n",
    "problems = [\n",
    "    x_in == 6,\n",
    "    y_in == 4,\n",
    "    x_out== 6,\n",
    "    y_out== 2,\n",
    "]\n",
    "restrictions = [\n",
    "    z\n",
    "]\n"
   ]
  },
  {
   "cell_type": "code",
   "execution_count": 27,
   "metadata": {},
   "outputs": [
    {
     "name": "stdout",
     "output_type": "stream",
     "text": [
      "[y_out = 2, x_out = 6, y_in = 4, x_in = 6]\n"
     ]
    }
   ],
   "source": [
    "solve(problems+restrictions)"
   ]
  },
  {
   "cell_type": "code",
   "execution_count": null,
   "metadata": {},
   "outputs": [],
   "source": []
  },
  {
   "cell_type": "code",
   "execution_count": null,
   "metadata": {},
   "outputs": [],
   "source": []
  },
  {
   "cell_type": "code",
   "execution_count": null,
   "metadata": {},
   "outputs": [],
   "source": []
  },
  {
   "cell_type": "code",
   "execution_count": null,
   "metadata": {},
   "outputs": [],
   "source": []
  }
 ],
 "metadata": {
  "kernelspec": {
   "display_name": "Python 3",
   "language": "python",
   "name": "python3"
  },
  "language_info": {
   "codemirror_mode": {
    "name": "ipython",
    "version": 3
   },
   "file_extension": ".py",
   "mimetype": "text/x-python",
   "name": "python",
   "nbconvert_exporter": "python",
   "pygments_lexer": "ipython3",
   "version": "3.7.1"
  }
 },
 "nbformat": 4,
 "nbformat_minor": 2
}
