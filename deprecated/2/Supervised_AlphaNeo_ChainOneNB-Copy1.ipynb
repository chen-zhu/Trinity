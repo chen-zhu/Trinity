{
 "cells": [
  {
   "cell_type": "markdown",
   "metadata": {},
   "source": [
    "## AlphaNeo for Max Length of 3 (depth of 4)\n",
    "\n",
    "```\n",
    "tensorboard --logdir runs\n",
    "```\n",
    "\n",
    "```\n",
    "cd ./Trinity/\n",
    "python ./AlphaNeo_pworker.py 1\n",
    "```\n",
    "\n",
    "```\n",
    "nohup jupyter lab > jupyter.log &\n",
    "```"
   ]
  },
  {
   "cell_type": "code",
   "execution_count": 1,
   "metadata": {},
   "outputs": [],
   "source": [
    "DBG_VAR = None\n",
    "DBG_SEXP = None\n",
    "DBG_POST = None"
   ]
  },
  {
   "cell_type": "code",
   "execution_count": 2,
   "metadata": {},
   "outputs": [],
   "source": [
    "import logging \n",
    "logging.basicConfig(level=logging.CRITICAL)"
   ]
  },
  {
   "cell_type": "code",
   "execution_count": 3,
   "metadata": {},
   "outputs": [],
   "source": [
    "import os\n",
    "import itertools\n",
    "import copy\n",
    "import random\n",
    "import fcntl\n",
    "\n",
    "from pathlib import Path"
   ]
  },
  {
   "cell_type": "code",
   "execution_count": 4,
   "metadata": {},
   "outputs": [],
   "source": [
    "import tyrell.spec as S\n",
    "from tyrell.interpreter import Interpreter, PostOrderInterpreter, GeneralError, InterpreterError\n",
    "from tyrell.enumerator import Enumerator, SmtEnumerator, RandomEnumerator, DesignatedEnumerator, RandomEnumeratorS, ExhaustiveEnumerator\n",
    "from tyrell.decider import Example, ExampleConstraintPruningDecider, ExampleDecider, TestDecider\n",
    "from tyrell.synthesizer import Synthesizer\n",
    "from tyrell.logger import get_logger\n",
    "from sexpdata import Symbol\n",
    "from tyrell import dsl as D\n",
    "from typing import Callable, NamedTuple, List, Any"
   ]
  },
  {
   "cell_type": "code",
   "execution_count": 5,
   "metadata": {},
   "outputs": [
    {
     "name": "stdout",
     "output_type": "stream",
     "text": [
      "use_cuda: False\n"
     ]
    }
   ],
   "source": [
    "# import pickle\n",
    "import dill as pickle\n",
    "import random\n",
    "import numpy as np\n",
    "\n",
    "import torch\n",
    "import torch.nn as nn\n",
    "import torch.nn.functional as F\n",
    "from torch.utils.data import Dataset, DataLoader\n",
    "from torch.autograd import Variable\n",
    "from torch.nn.utils.rnn import pack_padded_sequence, pad_packed_sequence\n",
    "\n",
    "from tensorboardX import SummaryWriter\n",
    "\n",
    "use_cuda = torch.cuda.is_available()\n",
    "print(\"use_cuda: {}\".format(use_cuda))"
   ]
  },
  {
   "cell_type": "code",
   "execution_count": 6,
   "metadata": {},
   "outputs": [],
   "source": [
    "# Morpheus Version\n",
    "from utils_morpheus import *\n",
    "from ProgramSpace import *"
   ]
  },
  {
   "cell_type": "code",
   "execution_count": 7,
   "metadata": {},
   "outputs": [
    {
     "data": {
      "text/plain": [
       "'1.1.0'"
      ]
     },
     "execution_count": 7,
     "metadata": {},
     "output_type": "execute_result"
    }
   ],
   "source": [
    "torch.__version__"
   ]
  },
  {
   "cell_type": "code",
   "execution_count": 8,
   "metadata": {},
   "outputs": [],
   "source": [
    "class ListModule(object):\n",
    "    def __init__(self, module, prefix, *args):\n",
    "        self.module = module\n",
    "        self.prefix = prefix\n",
    "        self.num_module = 0\n",
    "        for new_module in args:\n",
    "            self.append(new_module)\n",
    "    \n",
    "    def append(self, new_module):\n",
    "        if not isinstance(new_module, nn.Module):\n",
    "            raise ValueError('Not a Module')\n",
    "        else:\n",
    "            self.module.add_module(self.prefix + str(self.num_module), new_module)\n",
    "            self.num_module += 1\n",
    "            \n",
    "    def __len__(self):\n",
    "        return self.num_module\n",
    "    \n",
    "    def __getitem__(self, i):\n",
    "        if i<0 or i>=self.num_module:\n",
    "            raise IndexError('Out of bound')\n",
    "        return getattr(self.module, self.prefix+str(i))"
   ]
  },
  {
   "cell_type": "code",
   "execution_count": 9,
   "metadata": {},
   "outputs": [],
   "source": [
    "class AlphaNeo(nn.Module):\n",
    "    def __init__(self, p_config=None):\n",
    "        super(AlphaNeo, self).__init__()\n",
    "        self.config = p_config\n",
    "        \n",
    "        self.lstm = nn.LSTMCell(\n",
    "            input_size = self.config[\"lstm_input_size\"],\n",
    "            hidden_size = self.config[\"fcs\"][0],\n",
    "            bias = True,\n",
    "        )\n",
    "        \n",
    "        self.fcs = ListModule(self, \"fc_\")\n",
    "        for i in range(1,len(self.config[\"fcs\"])):\n",
    "            self.fcs.append(\n",
    "                nn.Linear(self.config[\"fcs\"][i-1], self.config[\"fcs\"][i])\n",
    "            )\n",
    "    \n",
    "    '''\n",
    "    single batch behavior, no batch dim expected\n",
    "    '''\n",
    "    def forward(self, p1, p2, p3, hc=None):\n",
    "        # p1, p2: (1, ?)\n",
    "        # hc: previous hidden state, if None, start a new sequence\n",
    "        \n",
    "        # [(1, ?), (1, ?), ...] -> (1, ?*k), flatten\n",
    "        d_known = torch.cat([p1,p2,p3], dim=1)\n",
    "        \n",
    "        if hc is None:\n",
    "            hc = self.init_hidden()\n",
    "        \n",
    "        h_t, c_t = self.lstm(d_known, hc)\n",
    "        \n",
    "        tmp1 = h_t\n",
    "        for i in range(len(self.fcs)-1):\n",
    "            tmp1 = F.relu(self.fcs[i](tmp1))\n",
    "        \n",
    "        # (1, #production_rules)\n",
    "        tmp1 = F.log_softmax(self.fcs[len(self.fcs)-1](tmp1), dim=1)\n",
    "        \n",
    "        # hidden states can be reused\n",
    "        return tmp1, (h_t,c_t)\n",
    "    \n",
    "    def init_hidden(self):\n",
    "        if use_cuda:\n",
    "            return (torch.zeros(1,self.config[\"fcs\"][0]).cuda(),\n",
    "                    torch.zeros(1,self.config[\"fcs\"][0]).cuda())\n",
    "        else:\n",
    "            return (torch.zeros(1,self.config[\"fcs\"][0]),\n",
    "                    torch.zeros(1,self.config[\"fcs\"][0]))"
   ]
  },
  {
   "cell_type": "code",
   "execution_count": null,
   "metadata": {},
   "outputs": [],
   "source": []
  },
  {
   "cell_type": "code",
   "execution_count": 10,
   "metadata": {},
   "outputs": [],
   "source": [
    "def AlphaNeoTrainer(p_config, p_spec, p_interpreter, p_generator, p_model, p_lossfn, p_optim, p_writer):\n",
    "    global DBG_VAR, DBG_SEXP, DBG_POST\n",
    "    loss_list = []\n",
    "    n_batch = 32\n",
    "    batch_loss = 0.\n",
    "    c_nth = 0\n",
    "    \n",
    "    # #### mp #### #\n",
    "    for ii in [1,2,3]:\n",
    "        data_path = \"./pworker_storage/data_{}.pkl\".format(ii)\n",
    "        Path(data_path).touch()\n",
    "    external_data = []\n",
    "    # iterator\n",
    "    iter_external_data = iter(external_data)\n",
    "    need_reload = True\n",
    "    # #### mp #### #\n",
    "    \n",
    "    total_ac = {1:0,2:0,3:0}\n",
    "    total_sp = {1:0,2:0,3:0}\n",
    "    # one program each step\n",
    "    for d_step in range(p_config[\"n_steps\"]):\n",
    "        p_model.train()\n",
    "        \n",
    "        # #### mp #### #\n",
    "        if need_reload:\n",
    "            for ii in [1,2,3]:\n",
    "                data_path = \"./pworker_storage/data_{}.pkl\".format(ii)\n",
    "                # compete once and get some results\n",
    "                f = open(data_path,\"rb+\")\n",
    "                try:\n",
    "                    fcntl.flock(f.fileno(), fcntl.LOCK_EX)\n",
    "                    if os.path.getsize(data_path)>0:\n",
    "                        external_data = pickle.load(f)\n",
    "                        if len(external_data)>0:\n",
    "                            # actually it has data\n",
    "                            f.seek(0)\n",
    "                            pickle.dump([],f)\n",
    "                            iter_external_data = iter(external_data)\n",
    "                            need_reload = False\n",
    "                except IOError as e:\n",
    "                    if e.errno != errno.EAGAIN:\n",
    "                        # unrelated errors\n",
    "                        raise\n",
    "                    else:\n",
    "                        # fail once, move on generate by itself\n",
    "                        pass\n",
    "                f.close()\n",
    "                if not need_reload:\n",
    "                    break\n",
    "        # #### mp #### #\n",
    "        \n",
    "        try:\n",
    "            p_prog, str_example = next(iter_external_data)\n",
    "            # Morpheus ONLY: convert str_example to p_example\n",
    "            # assign new names\n",
    "            p_example = Example(\n",
    "                input=[get_fresh_name() for p in str_example.input],\n",
    "                output=get_fresh_name(),\n",
    "            )\n",
    "            # load the value into new names in R environment\n",
    "            for i in range(len(p_example.input)):\n",
    "                p_interpreter.load_data_into_var(\n",
    "                    str_example.input[i], # data\n",
    "                    p_example.input[i], # var name\n",
    "                )\n",
    "            p_interpreter.load_data_into_var(\n",
    "                str_example.output,\n",
    "                p_example.output,\n",
    "            )\n",
    "        except StopIteration:\n",
    "            need_reload = True\n",
    "            # run out of sample, generate one \n",
    "            p_input = p_interpreter.random_table()\n",
    "            while True:\n",
    "                p_prog, p_example = p_generator.generate(\n",
    "                    fixed_depth=p_config[\"max_depth\"],\n",
    "                    example=Example(input=[p_input], output=None),\n",
    "                )\n",
    "                # make sure at least one function call\n",
    "                if p_prog.is_apply():\n",
    "                    break\n",
    "                \n",
    "        # construct the full program\n",
    "        ps_full = ProgramSpaceChainOneNB(\n",
    "            p_spec, p_interpreter, eq_r, p_example.input, p_example.output,\n",
    "        )\n",
    "        p_prog_list = ps_full.get_prog_list(p_prog)\n",
    "        for p in p_prog_list:\n",
    "            ps_full.add_sexp(p.to_sexp())\n",
    "        total_sp[len(ps_full.prog_list)] += 1\n",
    "        # start from the first state\n",
    "        ps_current = ProgramSpaceChainOneNB(\n",
    "            p_spec, p_interpreter, eq_r, p_example.input, p_example.output,\n",
    "        )\n",
    "        \n",
    "        d_loss = 0.\n",
    "\n",
    "        # roll till the ending condition\n",
    "        hc_t = None\n",
    "        for _ in range(len(ps_full.prog_list)):\n",
    "            outv_current = ps_current.get_frontier()\n",
    "            # generate dense rep for known nodes\n",
    "            d_vertex = morpheus_perspective1(outv_current[0])\n",
    "            # generate dense rep for target\n",
    "            d_target = morpheus_perspective1(ps_current.output)\n",
    "            \n",
    "            # compute the difference\n",
    "            d_distance = [d_target[d_pos]-d_vertex[d_pos] for d_pos in range(len(d_vertex))]\n",
    "\n",
    "            if use_cuda:\n",
    "                td_vertex = Variable(torch.FloatTensor( [d_vertex] )).cuda()\n",
    "                td_target = Variable(torch.FloatTensor( [d_target] )).cuda()\n",
    "                td_distance = Variable(torch.FloatTensor( [d_distance] )).cuda()\n",
    "            else:\n",
    "                td_vertex = Variable(torch.FloatTensor( [d_vertex] ))\n",
    "                td_target = Variable(torch.FloatTensor( [d_target] ))\n",
    "                td_distance = Variable(torch.FloatTensor( [d_distance] ))\n",
    "                                     \n",
    "            # (1, LIST_PAD_LENGTH+#production_rules)\n",
    "            td_output, hc_t = p_model(td_vertex, td_target, td_distance, hc_t)\n",
    "            cnd_list = ps_full.shell_list\n",
    "\n",
    "            DBG_VAR = [ps_full, ps_current]\n",
    "            selected_id = ps_full.str_shell_dict[\n",
    "                str(ps_full.prog_list[len(ps_current.prog_list)])\n",
    "            ]\n",
    "            \n",
    "            d_loss += p_lossfn(F.log_softmax(td_output,dim=1), torch.tensor([selected_id]))\n",
    "            \n",
    "            # add selected edges and fill\n",
    "            ret = ps_current.add_sexp(ps_current.shell_list[selected_id].to_sexp())\n",
    "            # debug info\n",
    "            DBG_SEXP = ps_current.shell_list[selected_id].to_sexp()\n",
    "            DBG_POST = ps_current\n",
    "            \n",
    "            if ret==False:\n",
    "                raise Exception(\"This can't happen.\")\n",
    "\n",
    "        loss_list.append(d_loss)\n",
    "        batch_loss += d_loss\n",
    "\n",
    "        print(\"\\r# STEP{}, from:{}, size:f{}, loss:{:.4f}, avg.loss:{:.4f}\".format(\n",
    "            d_step, \"gen\" if need_reload else \"load\",\n",
    "            len(ps_full.prog_list), d_loss, sum(loss_list)/len(loss_list),\n",
    "        ), end=\"\")\n",
    "\n",
    "        if writer is not None:\n",
    "            writer.add_scalar(\n",
    "                'avg.loss/step',\n",
    "                sum(loss_list)/len(loss_list),\n",
    "                d_step,\n",
    "            )\n",
    "            writer.add_scalar(\n",
    "                'loss/step',\n",
    "                d_loss,\n",
    "                d_step,\n",
    "            )\n",
    "        \n",
    "        \n",
    "        c_nth += 1\n",
    "        if c_nth%n_batch==0:\n",
    "            c_nth = 0\n",
    "            # perform gradient in every batch\n",
    "            batch_loss.backward()\n",
    "            p_optim.step()\n",
    "            p_optim.zero_grad()\n",
    "            batch_loss = 0.\n",
    "            \n",
    "        if d_step%10000==0:\n",
    "            torch.save(p_model.state_dict(), \"./saved_models/Supervised_AlphaNeo_Morpheus_n3.pt\".format(d_step))\n"
   ]
  },
  {
   "cell_type": "code",
   "execution_count": 11,
   "metadata": {},
   "outputs": [],
   "source": [
    "m_interpreter = MorpheusInterpreter()\n",
    "m_spec = S.parse_file('./example/mChainOneNB.tyrell')\n",
    "m_eq = eq_r\n",
    "m_generator = MorpheusGenerator(\n",
    "    spec=m_spec,\n",
    "    interpreter=m_interpreter,\n",
    "    sfn=m_interpreter.sanity_check,\n",
    ")\n",
    "m_ps = ProgramSpaceChainOneNB(\n",
    "    m_spec, m_interpreter, m_eq, None, None,\n",
    ")\n",
    "# m_config = {\n",
    "#     'n_steps': 1000000,\n",
    "#     'gamma': 0.618,\n",
    "#     'exploration_rate': lambda x:0.9-0.8*(min(1, x/10000)),\n",
    "#     'hint_rate': lambda x,n:{1:1,2:0.5,3:0.8}[n]*(1-(min(0.7, x/10000))),\n",
    "#     'max_depth': 4,\n",
    "#     'gen1_length': 27,\n",
    "# }\n",
    "m_config = {\n",
    "    'n_steps': 1000000,\n",
    "    'gamma': 0.618,\n",
    "    'exploration_rate': lambda x:0.9-0.8*(min(1, x/10000)),\n",
    "    'hint_rate': lambda x,n:{1:0.8,2:0.8,3:0.8}[n]*(1-(min(0.8, x/10000))),\n",
    "    'max_depth': 4,\n",
    "    'gen1_length': 63,\n",
    "}\n",
    "m_config['lstm_input_size'] = 3*m_config[\"gen1_length\"]\n",
    "m_config[\"fcs\"] = [\n",
    "    128,\n",
    "    len(m_ps.shell_list),\n",
    "]\n",
    "\n",
    "alpha_neo = AlphaNeo(p_config=m_config)\n",
    "optimizer = torch.optim.Adam(list(alpha_neo.parameters()))\n",
    "lossfn = nn.NLLLoss()\n",
    "writer = SummaryWriter(\"runs/Supervised_AlphaNeo_Morpheus_n3\")\n",
    "# writer = None"
   ]
  },
  {
   "cell_type": "code",
   "execution_count": 12,
   "metadata": {},
   "outputs": [
    {
     "data": {
      "text/plain": [
       "390"
      ]
     },
     "execution_count": 12,
     "metadata": {},
     "output_type": "execute_result"
    }
   ],
   "source": [
    "len(m_ps.shell_list)"
   ]
  },
  {
   "cell_type": "code",
   "execution_count": null,
   "metadata": {},
   "outputs": [
    {
     "name": "stdout",
     "output_type": "stream",
     "text": [
      "# STEP7071, from:load, size:f3, loss:13.8244, avg.loss:15.2084"
     ]
    }
   ],
   "source": [
    "AlphaNeoTrainer(m_config, m_spec, m_interpreter, m_generator, alpha_neo, lossfn, optimizer, writer)"
   ]
  },
  {
   "cell_type": "code",
   "execution_count": null,
   "metadata": {},
   "outputs": [],
   "source": [
    "DBG_POST.outv_list[-1][0]"
   ]
  },
  {
   "cell_type": "code",
   "execution_count": null,
   "metadata": {},
   "outputs": [],
   "source": [
    "print(robjects.r(DBG_POST.outv_list[-1][0]))"
   ]
  },
  {
   "cell_type": "code",
   "execution_count": null,
   "metadata": {},
   "outputs": [],
   "source": [
    "print(1)"
   ]
  },
  {
   "cell_type": "code",
   "execution_count": null,
   "metadata": {},
   "outputs": [],
   "source": [
    "ret = robjects.r('ncol({})'.format(DBG_POST.outv_list[-1][0]))\n",
    "ret[0]"
   ]
  },
  {
   "cell_type": "code",
   "execution_count": null,
   "metadata": {},
   "outputs": [],
   "source": [
    "ret = robjects.r('nrow({})'.format(DBG_POST.outv_list[-1][0]))\n",
    "ret[0]"
   ]
  },
  {
   "cell_type": "code",
   "execution_count": null,
   "metadata": {},
   "outputs": [],
   "source": [
    "DBG_SEXP"
   ]
  },
  {
   "cell_type": "code",
   "execution_count": null,
   "metadata": {},
   "outputs": [],
   "source": [
    "DBG_VAR[0]"
   ]
  },
  {
   "cell_type": "code",
   "execution_count": null,
   "metadata": {},
   "outputs": [],
   "source": [
    "DBG_VAR[0]"
   ]
  },
  {
   "cell_type": "code",
   "execution_count": null,
   "metadata": {},
   "outputs": [],
   "source": [
    "DBG_VAR[1].out_eq()"
   ]
  },
  {
   "cell_type": "code",
   "execution_count": null,
   "metadata": {},
   "outputs": [],
   "source": [
    "DBG_VAR[0].out_eq()"
   ]
  },
  {
   "cell_type": "code",
   "execution_count": null,
   "metadata": {},
   "outputs": [],
   "source": [
    "DBG_VAR[0].get_frontier()"
   ]
  },
  {
   "cell_type": "code",
   "execution_count": null,
   "metadata": {},
   "outputs": [],
   "source": [
    "print(robjects.r(DBG_VAR[0].get_frontier()[0]))"
   ]
  },
  {
   "cell_type": "code",
   "execution_count": null,
   "metadata": {},
   "outputs": [],
   "source": [
    "print(robjects.r(DBG_VAR[0].output))"
   ]
  },
  {
   "cell_type": "code",
   "execution_count": null,
   "metadata": {},
   "outputs": [],
   "source": [
    "print(robjects.r(DBG_VAR[0].outv_list[-1][0]))"
   ]
  },
  {
   "cell_type": "code",
   "execution_count": null,
   "metadata": {},
   "outputs": [],
   "source": [
    "np_obj = numpy.asarray(robjects.r(DBG_VAR[0].outv_list[-1][0])).T"
   ]
  },
  {
   "cell_type": "code",
   "execution_count": null,
   "metadata": {},
   "outputs": [],
   "source": [
    "np_obj.shape"
   ]
  },
  {
   "cell_type": "code",
   "execution_count": null,
   "metadata": {},
   "outputs": [],
   "source": [
    "len(DBG_VAR[0].prog_list)"
   ]
  },
  {
   "cell_type": "code",
   "execution_count": null,
   "metadata": {},
   "outputs": [],
   "source": [
    "len(DBG_VAR[1].prog_list)"
   ]
  },
  {
   "cell_type": "code",
   "execution_count": null,
   "metadata": {},
   "outputs": [],
   "source": [
    "str(DBG_VAR[0].prog_list[len(DBG_VAR[1].prog_list)])"
   ]
  }
 ],
 "metadata": {
  "kernelspec": {
   "display_name": "Python 3",
   "language": "python",
   "name": "python3"
  },
  "language_info": {
   "codemirror_mode": {
    "name": "ipython",
    "version": 3
   },
   "file_extension": ".py",
   "mimetype": "text/x-python",
   "name": "python",
   "nbconvert_exporter": "python",
   "pygments_lexer": "ipython3",
   "version": "3.7.3"
  }
 },
 "nbformat": 4,
 "nbformat_minor": 2
}
