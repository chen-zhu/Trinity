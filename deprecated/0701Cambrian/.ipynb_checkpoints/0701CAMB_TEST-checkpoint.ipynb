{
 "cells": [
  {
   "cell_type": "code",
   "execution_count": 1,
   "metadata": {},
   "outputs": [
    {
     "name": "stderr",
     "output_type": "stream",
     "text": [
      "R[write to console]: \n",
      "Attaching package: ‘compare’\n",
      "\n",
      "\n",
      "R[write to console]: The following object is masked from ‘package:base’:\n",
      "\n",
      "    isTRUE\n",
      "\n",
      "\n",
      "R[write to console]: \n",
      "Attaching package: ‘dplyr’\n",
      "\n",
      "\n",
      "R[write to console]: The following objects are masked from ‘package:stats’:\n",
      "\n",
      "    filter, lag\n",
      "\n",
      "\n",
      "R[write to console]: The following objects are masked from ‘package:base’:\n",
      "\n",
      "    intersect, setdiff, setequal, union\n",
      "\n",
      "\n"
     ]
    }
   ],
   "source": [
    "from utils_morpheus import *\n",
    "from ProgramSpace import *"
   ]
  },
  {
   "cell_type": "code",
   "execution_count": 2,
   "metadata": {},
   "outputs": [],
   "source": [
    "m_interpreter = MorpheusInterpreter()\n",
    "# m_spec = S.parse_file('./example/mChainOneNB.tyrell')\n",
    "m_spec = S.parse_file('./example/set_select.tyrell')\n",
    "# m_spec = S.parse_file('./example/camb2.tyrell')\n",
    "m_eq = eq_r\n",
    "m_generator = MorpheusGenerator(\n",
    "    spec=m_spec,\n",
    "    interpreter=m_interpreter,\n",
    "    sfn=m_interpreter.sanity_check,\n",
    ")"
   ]
  },
  {
   "cell_type": "code",
   "execution_count": 6,
   "metadata": {},
   "outputs": [
    {
     "data": {
      "text/plain": [
       "[FunctionProduction(id=0, lhs=ValueType(Empty, properties={}), name=empty, rhs=[ValueType(Empty, properties={})]),\n",
       " FunctionProduction(id=1, lhs=ValueType(Table, properties={'col': <ExprType.INT: 'int'>, 'row': <ExprType.INT: 'int'>, 'head': <ExprType.INT: 'int'>, 'content': <ExprType.INT: 'int'>}), name=select, rhs=[ValueType(Table, properties={'col': <ExprType.INT: 'int'>, 'row': <ExprType.INT: 'int'>, 'head': <ExprType.INT: 'int'>, 'content': <ExprType.INT: 'int'>}), EnumType(ColList, domain=[['1'], ['2'], ['3'], ['4'], ['5'], ['6'], ['1', '2'], ['1', '3'], ['1', '4'], ['1', '5'], ['1', '6'], ['2', '3'], ['2', '4'], ['2', '5'], ['2', '6'], ['3', '4'], ['3', '5'], ['3', '6'], ['4', '5'], ['4', '6'], ['5', '6']])]),\n",
       " EnumProduction(id=2, lhs=EnumType(ColInt, domain=['1', '2', '3', '4', '5', '6']), choice=0),\n",
       " EnumProduction(id=3, lhs=EnumType(ColInt, domain=['1', '2', '3', '4', '5', '6']), choice=1),\n",
       " EnumProduction(id=4, lhs=EnumType(ColInt, domain=['1', '2', '3', '4', '5', '6']), choice=2),\n",
       " EnumProduction(id=5, lhs=EnumType(ColInt, domain=['1', '2', '3', '4', '5', '6']), choice=3),\n",
       " EnumProduction(id=6, lhs=EnumType(ColInt, domain=['1', '2', '3', '4', '5', '6']), choice=4),\n",
       " EnumProduction(id=7, lhs=EnumType(ColInt, domain=['1', '2', '3', '4', '5', '6']), choice=5),\n",
       " EnumProduction(id=8, lhs=EnumType(ColNegInt, domain=['-1', '-2', '-3', '-4', '-5', '-6']), choice=0),\n",
       " EnumProduction(id=9, lhs=EnumType(ColNegInt, domain=['-1', '-2', '-3', '-4', '-5', '-6']), choice=1),\n",
       " EnumProduction(id=10, lhs=EnumType(ColNegInt, domain=['-1', '-2', '-3', '-4', '-5', '-6']), choice=2),\n",
       " EnumProduction(id=11, lhs=EnumType(ColNegInt, domain=['-1', '-2', '-3', '-4', '-5', '-6']), choice=3),\n",
       " EnumProduction(id=12, lhs=EnumType(ColNegInt, domain=['-1', '-2', '-3', '-4', '-5', '-6']), choice=4),\n",
       " EnumProduction(id=13, lhs=EnumType(ColNegInt, domain=['-1', '-2', '-3', '-4', '-5', '-6']), choice=5),\n",
       " EnumProduction(id=14, lhs=EnumType(SmallInt, domain=['0', '1', '2', '3', '4', '5', '6']), choice=0),\n",
       " EnumProduction(id=15, lhs=EnumType(SmallInt, domain=['0', '1', '2', '3', '4', '5', '6']), choice=1),\n",
       " EnumProduction(id=16, lhs=EnumType(SmallInt, domain=['0', '1', '2', '3', '4', '5', '6']), choice=2),\n",
       " EnumProduction(id=17, lhs=EnumType(SmallInt, domain=['0', '1', '2', '3', '4', '5', '6']), choice=3),\n",
       " EnumProduction(id=18, lhs=EnumType(SmallInt, domain=['0', '1', '2', '3', '4', '5', '6']), choice=4),\n",
       " EnumProduction(id=19, lhs=EnumType(SmallInt, domain=['0', '1', '2', '3', '4', '5', '6']), choice=5),\n",
       " EnumProduction(id=20, lhs=EnumType(SmallInt, domain=['0', '1', '2', '3', '4', '5', '6']), choice=6),\n",
       " EnumProduction(id=21, lhs=EnumType(ColList, domain=[['1'], ['2'], ['3'], ['4'], ['5'], ['6'], ['1', '2'], ['1', '3'], ['1', '4'], ['1', '5'], ['1', '6'], ['2', '3'], ['2', '4'], ['2', '5'], ['2', '6'], ['3', '4'], ['3', '5'], ['3', '6'], ['4', '5'], ['4', '6'], ['5', '6']]), choice=0),\n",
       " EnumProduction(id=22, lhs=EnumType(ColList, domain=[['1'], ['2'], ['3'], ['4'], ['5'], ['6'], ['1', '2'], ['1', '3'], ['1', '4'], ['1', '5'], ['1', '6'], ['2', '3'], ['2', '4'], ['2', '5'], ['2', '6'], ['3', '4'], ['3', '5'], ['3', '6'], ['4', '5'], ['4', '6'], ['5', '6']]), choice=1),\n",
       " EnumProduction(id=23, lhs=EnumType(ColList, domain=[['1'], ['2'], ['3'], ['4'], ['5'], ['6'], ['1', '2'], ['1', '3'], ['1', '4'], ['1', '5'], ['1', '6'], ['2', '3'], ['2', '4'], ['2', '5'], ['2', '6'], ['3', '4'], ['3', '5'], ['3', '6'], ['4', '5'], ['4', '6'], ['5', '6']]), choice=2),\n",
       " EnumProduction(id=24, lhs=EnumType(ColList, domain=[['1'], ['2'], ['3'], ['4'], ['5'], ['6'], ['1', '2'], ['1', '3'], ['1', '4'], ['1', '5'], ['1', '6'], ['2', '3'], ['2', '4'], ['2', '5'], ['2', '6'], ['3', '4'], ['3', '5'], ['3', '6'], ['4', '5'], ['4', '6'], ['5', '6']]), choice=3),\n",
       " EnumProduction(id=25, lhs=EnumType(ColList, domain=[['1'], ['2'], ['3'], ['4'], ['5'], ['6'], ['1', '2'], ['1', '3'], ['1', '4'], ['1', '5'], ['1', '6'], ['2', '3'], ['2', '4'], ['2', '5'], ['2', '6'], ['3', '4'], ['3', '5'], ['3', '6'], ['4', '5'], ['4', '6'], ['5', '6']]), choice=4),\n",
       " EnumProduction(id=26, lhs=EnumType(ColList, domain=[['1'], ['2'], ['3'], ['4'], ['5'], ['6'], ['1', '2'], ['1', '3'], ['1', '4'], ['1', '5'], ['1', '6'], ['2', '3'], ['2', '4'], ['2', '5'], ['2', '6'], ['3', '4'], ['3', '5'], ['3', '6'], ['4', '5'], ['4', '6'], ['5', '6']]), choice=5),\n",
       " EnumProduction(id=27, lhs=EnumType(ColList, domain=[['1'], ['2'], ['3'], ['4'], ['5'], ['6'], ['1', '2'], ['1', '3'], ['1', '4'], ['1', '5'], ['1', '6'], ['2', '3'], ['2', '4'], ['2', '5'], ['2', '6'], ['3', '4'], ['3', '5'], ['3', '6'], ['4', '5'], ['4', '6'], ['5', '6']]), choice=6),\n",
       " EnumProduction(id=28, lhs=EnumType(ColList, domain=[['1'], ['2'], ['3'], ['4'], ['5'], ['6'], ['1', '2'], ['1', '3'], ['1', '4'], ['1', '5'], ['1', '6'], ['2', '3'], ['2', '4'], ['2', '5'], ['2', '6'], ['3', '4'], ['3', '5'], ['3', '6'], ['4', '5'], ['4', '6'], ['5', '6']]), choice=7),\n",
       " EnumProduction(id=29, lhs=EnumType(ColList, domain=[['1'], ['2'], ['3'], ['4'], ['5'], ['6'], ['1', '2'], ['1', '3'], ['1', '4'], ['1', '5'], ['1', '6'], ['2', '3'], ['2', '4'], ['2', '5'], ['2', '6'], ['3', '4'], ['3', '5'], ['3', '6'], ['4', '5'], ['4', '6'], ['5', '6']]), choice=8),\n",
       " EnumProduction(id=30, lhs=EnumType(ColList, domain=[['1'], ['2'], ['3'], ['4'], ['5'], ['6'], ['1', '2'], ['1', '3'], ['1', '4'], ['1', '5'], ['1', '6'], ['2', '3'], ['2', '4'], ['2', '5'], ['2', '6'], ['3', '4'], ['3', '5'], ['3', '6'], ['4', '5'], ['4', '6'], ['5', '6']]), choice=9),\n",
       " EnumProduction(id=31, lhs=EnumType(ColList, domain=[['1'], ['2'], ['3'], ['4'], ['5'], ['6'], ['1', '2'], ['1', '3'], ['1', '4'], ['1', '5'], ['1', '6'], ['2', '3'], ['2', '4'], ['2', '5'], ['2', '6'], ['3', '4'], ['3', '5'], ['3', '6'], ['4', '5'], ['4', '6'], ['5', '6']]), choice=10),\n",
       " EnumProduction(id=32, lhs=EnumType(ColList, domain=[['1'], ['2'], ['3'], ['4'], ['5'], ['6'], ['1', '2'], ['1', '3'], ['1', '4'], ['1', '5'], ['1', '6'], ['2', '3'], ['2', '4'], ['2', '5'], ['2', '6'], ['3', '4'], ['3', '5'], ['3', '6'], ['4', '5'], ['4', '6'], ['5', '6']]), choice=11),\n",
       " EnumProduction(id=33, lhs=EnumType(ColList, domain=[['1'], ['2'], ['3'], ['4'], ['5'], ['6'], ['1', '2'], ['1', '3'], ['1', '4'], ['1', '5'], ['1', '6'], ['2', '3'], ['2', '4'], ['2', '5'], ['2', '6'], ['3', '4'], ['3', '5'], ['3', '6'], ['4', '5'], ['4', '6'], ['5', '6']]), choice=12),\n",
       " EnumProduction(id=34, lhs=EnumType(ColList, domain=[['1'], ['2'], ['3'], ['4'], ['5'], ['6'], ['1', '2'], ['1', '3'], ['1', '4'], ['1', '5'], ['1', '6'], ['2', '3'], ['2', '4'], ['2', '5'], ['2', '6'], ['3', '4'], ['3', '5'], ['3', '6'], ['4', '5'], ['4', '6'], ['5', '6']]), choice=13),\n",
       " EnumProduction(id=35, lhs=EnumType(ColList, domain=[['1'], ['2'], ['3'], ['4'], ['5'], ['6'], ['1', '2'], ['1', '3'], ['1', '4'], ['1', '5'], ['1', '6'], ['2', '3'], ['2', '4'], ['2', '5'], ['2', '6'], ['3', '4'], ['3', '5'], ['3', '6'], ['4', '5'], ['4', '6'], ['5', '6']]), choice=14),\n",
       " EnumProduction(id=36, lhs=EnumType(ColList, domain=[['1'], ['2'], ['3'], ['4'], ['5'], ['6'], ['1', '2'], ['1', '3'], ['1', '4'], ['1', '5'], ['1', '6'], ['2', '3'], ['2', '4'], ['2', '5'], ['2', '6'], ['3', '4'], ['3', '5'], ['3', '6'], ['4', '5'], ['4', '6'], ['5', '6']]), choice=15),\n",
       " EnumProduction(id=37, lhs=EnumType(ColList, domain=[['1'], ['2'], ['3'], ['4'], ['5'], ['6'], ['1', '2'], ['1', '3'], ['1', '4'], ['1', '5'], ['1', '6'], ['2', '3'], ['2', '4'], ['2', '5'], ['2', '6'], ['3', '4'], ['3', '5'], ['3', '6'], ['4', '5'], ['4', '6'], ['5', '6']]), choice=16),\n",
       " EnumProduction(id=38, lhs=EnumType(ColList, domain=[['1'], ['2'], ['3'], ['4'], ['5'], ['6'], ['1', '2'], ['1', '3'], ['1', '4'], ['1', '5'], ['1', '6'], ['2', '3'], ['2', '4'], ['2', '5'], ['2', '6'], ['3', '4'], ['3', '5'], ['3', '6'], ['4', '5'], ['4', '6'], ['5', '6']]), choice=17),\n",
       " EnumProduction(id=39, lhs=EnumType(ColList, domain=[['1'], ['2'], ['3'], ['4'], ['5'], ['6'], ['1', '2'], ['1', '3'], ['1', '4'], ['1', '5'], ['1', '6'], ['2', '3'], ['2', '4'], ['2', '5'], ['2', '6'], ['3', '4'], ['3', '5'], ['3', '6'], ['4', '5'], ['4', '6'], ['5', '6']]), choice=18),\n",
       " EnumProduction(id=40, lhs=EnumType(ColList, domain=[['1'], ['2'], ['3'], ['4'], ['5'], ['6'], ['1', '2'], ['1', '3'], ['1', '4'], ['1', '5'], ['1', '6'], ['2', '3'], ['2', '4'], ['2', '5'], ['2', '6'], ['3', '4'], ['3', '5'], ['3', '6'], ['4', '5'], ['4', '6'], ['5', '6']]), choice=19),\n",
       " EnumProduction(id=41, lhs=EnumType(ColList, domain=[['1'], ['2'], ['3'], ['4'], ['5'], ['6'], ['1', '2'], ['1', '3'], ['1', '4'], ['1', '5'], ['1', '6'], ['2', '3'], ['2', '4'], ['2', '5'], ['2', '6'], ['3', '4'], ['3', '5'], ['3', '6'], ['4', '5'], ['4', '6'], ['5', '6']]), choice=20),\n",
       " EnumProduction(id=42, lhs=EnumType(ColNegList, domain=[['-1'], ['-2'], ['-3'], ['-4'], ['-5'], ['-6'], ['-1', '-2'], ['-1', '-3'], ['-1', '-4'], ['-1', '-5'], ['-1', '-6'], ['-2', '-3'], ['-2', '-4'], ['-2', '-5'], ['-2', '-6'], ['-3', '-4'], ['-3', '-5'], ['-3', '-6'], ['-4', '-5'], ['-4', '-6'], ['-5', '-6']]), choice=0),\n",
       " EnumProduction(id=43, lhs=EnumType(ColNegList, domain=[['-1'], ['-2'], ['-3'], ['-4'], ['-5'], ['-6'], ['-1', '-2'], ['-1', '-3'], ['-1', '-4'], ['-1', '-5'], ['-1', '-6'], ['-2', '-3'], ['-2', '-4'], ['-2', '-5'], ['-2', '-6'], ['-3', '-4'], ['-3', '-5'], ['-3', '-6'], ['-4', '-5'], ['-4', '-6'], ['-5', '-6']]), choice=1),\n",
       " EnumProduction(id=44, lhs=EnumType(ColNegList, domain=[['-1'], ['-2'], ['-3'], ['-4'], ['-5'], ['-6'], ['-1', '-2'], ['-1', '-3'], ['-1', '-4'], ['-1', '-5'], ['-1', '-6'], ['-2', '-3'], ['-2', '-4'], ['-2', '-5'], ['-2', '-6'], ['-3', '-4'], ['-3', '-5'], ['-3', '-6'], ['-4', '-5'], ['-4', '-6'], ['-5', '-6']]), choice=2),\n",
       " EnumProduction(id=45, lhs=EnumType(ColNegList, domain=[['-1'], ['-2'], ['-3'], ['-4'], ['-5'], ['-6'], ['-1', '-2'], ['-1', '-3'], ['-1', '-4'], ['-1', '-5'], ['-1', '-6'], ['-2', '-3'], ['-2', '-4'], ['-2', '-5'], ['-2', '-6'], ['-3', '-4'], ['-3', '-5'], ['-3', '-6'], ['-4', '-5'], ['-4', '-6'], ['-5', '-6']]), choice=3),\n",
       " EnumProduction(id=46, lhs=EnumType(ColNegList, domain=[['-1'], ['-2'], ['-3'], ['-4'], ['-5'], ['-6'], ['-1', '-2'], ['-1', '-3'], ['-1', '-4'], ['-1', '-5'], ['-1', '-6'], ['-2', '-3'], ['-2', '-4'], ['-2', '-5'], ['-2', '-6'], ['-3', '-4'], ['-3', '-5'], ['-3', '-6'], ['-4', '-5'], ['-4', '-6'], ['-5', '-6']]), choice=4),\n",
       " EnumProduction(id=47, lhs=EnumType(ColNegList, domain=[['-1'], ['-2'], ['-3'], ['-4'], ['-5'], ['-6'], ['-1', '-2'], ['-1', '-3'], ['-1', '-4'], ['-1', '-5'], ['-1', '-6'], ['-2', '-3'], ['-2', '-4'], ['-2', '-5'], ['-2', '-6'], ['-3', '-4'], ['-3', '-5'], ['-3', '-6'], ['-4', '-5'], ['-4', '-6'], ['-5', '-6']]), choice=5),\n",
       " EnumProduction(id=48, lhs=EnumType(ColNegList, domain=[['-1'], ['-2'], ['-3'], ['-4'], ['-5'], ['-6'], ['-1', '-2'], ['-1', '-3'], ['-1', '-4'], ['-1', '-5'], ['-1', '-6'], ['-2', '-3'], ['-2', '-4'], ['-2', '-5'], ['-2', '-6'], ['-3', '-4'], ['-3', '-5'], ['-3', '-6'], ['-4', '-5'], ['-4', '-6'], ['-5', '-6']]), choice=6),\n",
       " EnumProduction(id=49, lhs=EnumType(ColNegList, domain=[['-1'], ['-2'], ['-3'], ['-4'], ['-5'], ['-6'], ['-1', '-2'], ['-1', '-3'], ['-1', '-4'], ['-1', '-5'], ['-1', '-6'], ['-2', '-3'], ['-2', '-4'], ['-2', '-5'], ['-2', '-6'], ['-3', '-4'], ['-3', '-5'], ['-3', '-6'], ['-4', '-5'], ['-4', '-6'], ['-5', '-6']]), choice=7),\n",
       " EnumProduction(id=50, lhs=EnumType(ColNegList, domain=[['-1'], ['-2'], ['-3'], ['-4'], ['-5'], ['-6'], ['-1', '-2'], ['-1', '-3'], ['-1', '-4'], ['-1', '-5'], ['-1', '-6'], ['-2', '-3'], ['-2', '-4'], ['-2', '-5'], ['-2', '-6'], ['-3', '-4'], ['-3', '-5'], ['-3', '-6'], ['-4', '-5'], ['-4', '-6'], ['-5', '-6']]), choice=8),\n",
       " EnumProduction(id=51, lhs=EnumType(ColNegList, domain=[['-1'], ['-2'], ['-3'], ['-4'], ['-5'], ['-6'], ['-1', '-2'], ['-1', '-3'], ['-1', '-4'], ['-1', '-5'], ['-1', '-6'], ['-2', '-3'], ['-2', '-4'], ['-2', '-5'], ['-2', '-6'], ['-3', '-4'], ['-3', '-5'], ['-3', '-6'], ['-4', '-5'], ['-4', '-6'], ['-5', '-6']]), choice=9),\n",
       " EnumProduction(id=52, lhs=EnumType(ColNegList, domain=[['-1'], ['-2'], ['-3'], ['-4'], ['-5'], ['-6'], ['-1', '-2'], ['-1', '-3'], ['-1', '-4'], ['-1', '-5'], ['-1', '-6'], ['-2', '-3'], ['-2', '-4'], ['-2', '-5'], ['-2', '-6'], ['-3', '-4'], ['-3', '-5'], ['-3', '-6'], ['-4', '-5'], ['-4', '-6'], ['-5', '-6']]), choice=10),\n",
       " EnumProduction(id=53, lhs=EnumType(ColNegList, domain=[['-1'], ['-2'], ['-3'], ['-4'], ['-5'], ['-6'], ['-1', '-2'], ['-1', '-3'], ['-1', '-4'], ['-1', '-5'], ['-1', '-6'], ['-2', '-3'], ['-2', '-4'], ['-2', '-5'], ['-2', '-6'], ['-3', '-4'], ['-3', '-5'], ['-3', '-6'], ['-4', '-5'], ['-4', '-6'], ['-5', '-6']]), choice=11),\n",
       " EnumProduction(id=54, lhs=EnumType(ColNegList, domain=[['-1'], ['-2'], ['-3'], ['-4'], ['-5'], ['-6'], ['-1', '-2'], ['-1', '-3'], ['-1', '-4'], ['-1', '-5'], ['-1', '-6'], ['-2', '-3'], ['-2', '-4'], ['-2', '-5'], ['-2', '-6'], ['-3', '-4'], ['-3', '-5'], ['-3', '-6'], ['-4', '-5'], ['-4', '-6'], ['-5', '-6']]), choice=12),\n",
       " EnumProduction(id=55, lhs=EnumType(ColNegList, domain=[['-1'], ['-2'], ['-3'], ['-4'], ['-5'], ['-6'], ['-1', '-2'], ['-1', '-3'], ['-1', '-4'], ['-1', '-5'], ['-1', '-6'], ['-2', '-3'], ['-2', '-4'], ['-2', '-5'], ['-2', '-6'], ['-3', '-4'], ['-3', '-5'], ['-3', '-6'], ['-4', '-5'], ['-4', '-6'], ['-5', '-6']]), choice=13),\n",
       " EnumProduction(id=56, lhs=EnumType(ColNegList, domain=[['-1'], ['-2'], ['-3'], ['-4'], ['-5'], ['-6'], ['-1', '-2'], ['-1', '-3'], ['-1', '-4'], ['-1', '-5'], ['-1', '-6'], ['-2', '-3'], ['-2', '-4'], ['-2', '-5'], ['-2', '-6'], ['-3', '-4'], ['-3', '-5'], ['-3', '-6'], ['-4', '-5'], ['-4', '-6'], ['-5', '-6']]), choice=14),\n",
       " EnumProduction(id=57, lhs=EnumType(ColNegList, domain=[['-1'], ['-2'], ['-3'], ['-4'], ['-5'], ['-6'], ['-1', '-2'], ['-1', '-3'], ['-1', '-4'], ['-1', '-5'], ['-1', '-6'], ['-2', '-3'], ['-2', '-4'], ['-2', '-5'], ['-2', '-6'], ['-3', '-4'], ['-3', '-5'], ['-3', '-6'], ['-4', '-5'], ['-4', '-6'], ['-5', '-6']]), choice=15),\n",
       " EnumProduction(id=58, lhs=EnumType(ColNegList, domain=[['-1'], ['-2'], ['-3'], ['-4'], ['-5'], ['-6'], ['-1', '-2'], ['-1', '-3'], ['-1', '-4'], ['-1', '-5'], ['-1', '-6'], ['-2', '-3'], ['-2', '-4'], ['-2', '-5'], ['-2', '-6'], ['-3', '-4'], ['-3', '-5'], ['-3', '-6'], ['-4', '-5'], ['-4', '-6'], ['-5', '-6']]), choice=16),\n",
       " EnumProduction(id=59, lhs=EnumType(ColNegList, domain=[['-1'], ['-2'], ['-3'], ['-4'], ['-5'], ['-6'], ['-1', '-2'], ['-1', '-3'], ['-1', '-4'], ['-1', '-5'], ['-1', '-6'], ['-2', '-3'], ['-2', '-4'], ['-2', '-5'], ['-2', '-6'], ['-3', '-4'], ['-3', '-5'], ['-3', '-6'], ['-4', '-5'], ['-4', '-6'], ['-5', '-6']]), choice=17),\n",
       " EnumProduction(id=60, lhs=EnumType(ColNegList, domain=[['-1'], ['-2'], ['-3'], ['-4'], ['-5'], ['-6'], ['-1', '-2'], ['-1', '-3'], ['-1', '-4'], ['-1', '-5'], ['-1', '-6'], ['-2', '-3'], ['-2', '-4'], ['-2', '-5'], ['-2', '-6'], ['-3', '-4'], ['-3', '-5'], ['-3', '-6'], ['-4', '-5'], ['-4', '-6'], ['-5', '-6']]), choice=18),\n",
       " EnumProduction(id=61, lhs=EnumType(ColNegList, domain=[['-1'], ['-2'], ['-3'], ['-4'], ['-5'], ['-6'], ['-1', '-2'], ['-1', '-3'], ['-1', '-4'], ['-1', '-5'], ['-1', '-6'], ['-2', '-3'], ['-2', '-4'], ['-2', '-5'], ['-2', '-6'], ['-3', '-4'], ['-3', '-5'], ['-3', '-6'], ['-4', '-5'], ['-4', '-6'], ['-5', '-6']]), choice=19),\n",
       " EnumProduction(id=62, lhs=EnumType(ColNegList, domain=[['-1'], ['-2'], ['-3'], ['-4'], ['-5'], ['-6'], ['-1', '-2'], ['-1', '-3'], ['-1', '-4'], ['-1', '-5'], ['-1', '-6'], ['-2', '-3'], ['-2', '-4'], ['-2', '-5'], ['-2', '-6'], ['-3', '-4'], ['-3', '-5'], ['-3', '-6'], ['-4', '-5'], ['-4', '-6'], ['-5', '-6']]), choice=20),\n",
       " EnumProduction(id=63, lhs=EnumType(Aggr, domain=['min', 'max', 'sum', 'mean']), choice=0),\n",
       " EnumProduction(id=64, lhs=EnumType(Aggr, domain=['min', 'max', 'sum', 'mean']), choice=1),\n",
       " EnumProduction(id=65, lhs=EnumType(Aggr, domain=['min', 'max', 'sum', 'mean']), choice=2),\n",
       " EnumProduction(id=66, lhs=EnumType(Aggr, domain=['min', 'max', 'sum', 'mean']), choice=3),\n",
       " EnumProduction(id=67, lhs=EnumType(NumFunc, domain=['/']), choice=0),\n",
       " EnumProduction(id=68, lhs=EnumType(BoolFunc, domain=['==', '>', '<']), choice=0),\n",
       " EnumProduction(id=69, lhs=EnumType(BoolFunc, domain=['==', '>', '<']), choice=1),\n",
       " EnumProduction(id=70, lhs=EnumType(BoolFunc, domain=['==', '>', '<']), choice=2),\n",
       " ParamProduction(id=71, lhs=ValueType(Table, properties={'col': <ExprType.INT: 'int'>, 'row': <ExprType.INT: 'int'>, 'head': <ExprType.INT: 'int'>, 'content': <ExprType.INT: 'int'>}), param_id=0)]"
      ]
     },
     "execution_count": 6,
     "metadata": {},
     "output_type": "execute_result"
    }
   ],
   "source": [
    "m_spec.productions()"
   ]
  },
  {
   "cell_type": "code",
   "execution_count": 4,
   "metadata": {},
   "outputs": [
    {
     "data": {
      "text/plain": [
       "[FunctionProduction(id=0, lhs=ValueType(Empty, properties={}), name=empty, rhs=[ValueType(Empty, properties={})]),\n",
       " FunctionProduction(id=1, lhs=ValueType(Table, properties={'col': <ExprType.INT: 'int'>, 'row': <ExprType.INT: 'int'>, 'head': <ExprType.INT: 'int'>, 'content': <ExprType.INT: 'int'>}), name=select, rhs=[ValueType(Table, properties={'col': <ExprType.INT: 'int'>, 'row': <ExprType.INT: 'int'>, 'head': <ExprType.INT: 'int'>, 'content': <ExprType.INT: 'int'>}), EnumType(ColList, domain=[['1'], ['2'], ['3'], ['4'], ['5'], ['6'], ['1', '2'], ['1', '3'], ['1', '4'], ['1', '5'], ['1', '6'], ['2', '3'], ['2', '4'], ['2', '5'], ['2', '6'], ['3', '4'], ['3', '5'], ['3', '6'], ['4', '5'], ['4', '6'], ['5', '6']])])]"
      ]
     },
     "execution_count": 4,
     "metadata": {},
     "output_type": "execute_result"
    }
   ],
   "source": [
    "m_spec.get_function_productions()"
   ]
  },
  {
   "cell_type": "code",
   "execution_count": 31,
   "metadata": {},
   "outputs": [
    {
     "ename": "TypeError",
     "evalue": "object of type 'filter' has no len()",
     "output_type": "error",
     "traceback": [
      "\u001b[0;31m---------------------------------------------------------------------------\u001b[0m",
      "\u001b[0;31mTypeError\u001b[0m                                 Traceback (most recent call last)",
      "\u001b[0;32m<ipython-input-31-a28d1e9e9577>\u001b[0m in \u001b[0;36m<module>\u001b[0;34m()\u001b[0m\n\u001b[0;32m----> 1\u001b[0;31m \u001b[0mlen\u001b[0m\u001b[0;34m(\u001b[0m\u001b[0mfilter\u001b[0m\u001b[0;34m(\u001b[0m\u001b[0;32mlambda\u001b[0m \u001b[0mx\u001b[0m\u001b[0;34m:\u001b[0m\u001b[0mx\u001b[0m\u001b[0;34m.\u001b[0m\u001b[0mis_enum\u001b[0m\u001b[0;34m(\u001b[0m\u001b[0;34m)\u001b[0m\u001b[0;34m,\u001b[0m\u001b[0mm_spec\u001b[0m\u001b[0;34m.\u001b[0m\u001b[0mproductions\u001b[0m\u001b[0;34m(\u001b[0m\u001b[0;34m)\u001b[0m\u001b[0;34m)\u001b[0m\u001b[0;34m)\u001b[0m\u001b[0;34m\u001b[0m\u001b[0;34m\u001b[0m\u001b[0m\n\u001b[0m",
      "\u001b[0;31mTypeError\u001b[0m: object of type 'filter' has no len()"
     ]
    }
   ],
   "source": [
    "list(filter(lambda x:x.is_enum(),m_spec.productions()))"
   ]
  },
  {
   "cell_type": "code",
   "execution_count": 28,
   "metadata": {},
   "outputs": [
    {
     "data": {
      "text/plain": [
       "False"
      ]
     },
     "execution_count": 28,
     "metadata": {},
     "output_type": "execute_result"
    }
   ],
   "source": [
    "m_spec.productions()[0].is_enum()"
   ]
  },
  {
   "cell_type": "code",
   "execution_count": 17,
   "metadata": {},
   "outputs": [
    {
     "data": {
      "text/plain": [
       "[FunctionProduction(id=0, lhs=ValueType(Empty, properties={}), name=empty, rhs=[ValueType(Empty, properties={})]),\n",
       " FunctionProduction(id=1, lhs=ValueType(Table, properties={'col': <ExprType.INT: 'int'>, 'row': <ExprType.INT: 'int'>, 'head': <ExprType.INT: 'int'>, 'content': <ExprType.INT: 'int'>}), name=select, rhs=[ValueType(Table, properties={'col': <ExprType.INT: 'int'>, 'row': <ExprType.INT: 'int'>, 'head': <ExprType.INT: 'int'>, 'content': <ExprType.INT: 'int'>}), EnumType(ColList, domain=[['1'], ['2'], ['3'], ['4'], ['5'], ['6'], ['1', '2'], ['1', '3'], ['1', '4'], ['1', '5'], ['1', '6'], ['2', '3'], ['2', '4'], ['2', '5'], ['2', '6'], ['3', '4'], ['3', '5'], ['3', '6'], ['4', '5'], ['4', '6'], ['5', '6']])])]"
      ]
     },
     "execution_count": 17,
     "metadata": {},
     "output_type": "execute_result"
    }
   ],
   "source": [
    "m_spec.get_function_productions()"
   ]
  },
  {
   "cell_type": "code",
   "execution_count": 23,
   "metadata": {},
   "outputs": [
    {
     "data": {
      "text/plain": [
       "72"
      ]
     },
     "execution_count": 23,
     "metadata": {},
     "output_type": "execute_result"
    }
   ],
   "source": [
    "m_spec.num_productions()"
   ]
  },
  {
   "cell_type": "code",
   "execution_count": 21,
   "metadata": {},
   "outputs": [
    {
     "data": {
      "text/plain": [
       "['__annotations__',\n",
       " '__class__',\n",
       " '__delattr__',\n",
       " '__dict__',\n",
       " '__dir__',\n",
       " '__doc__',\n",
       " '__eq__',\n",
       " '__format__',\n",
       " '__ge__',\n",
       " '__getattribute__',\n",
       " '__gt__',\n",
       " '__hash__',\n",
       " '__init__',\n",
       " '__init_subclass__',\n",
       " '__le__',\n",
       " '__lt__',\n",
       " '__module__',\n",
       " '__ne__',\n",
       " '__new__',\n",
       " '__reduce__',\n",
       " '__reduce_ex__',\n",
       " '__repr__',\n",
       " '__setattr__',\n",
       " '__sizeof__',\n",
       " '__str__',\n",
       " '__subclasshook__',\n",
       " '__weakref__',\n",
       " '_add_enum_productions',\n",
       " '_add_param_productions',\n",
       " '_pred_spec',\n",
       " '_prod_spec',\n",
       " '_prog_spec',\n",
       " '_type_spec',\n",
       " 'get_enum_production',\n",
       " 'get_enum_production_or_raise',\n",
       " 'get_function_production',\n",
       " 'get_function_production_or_raise',\n",
       " 'get_function_productions',\n",
       " 'get_param_production',\n",
       " 'get_param_production_or_raise',\n",
       " 'get_param_productions',\n",
       " 'get_predicates_with_name',\n",
       " 'get_production',\n",
       " 'get_production_or_raise',\n",
       " 'get_productions_with_lhs',\n",
       " 'get_type',\n",
       " 'get_type_or_raise',\n",
       " 'input',\n",
       " 'name',\n",
       " 'num_input',\n",
       " 'num_predicates',\n",
       " 'num_productions',\n",
       " 'num_types',\n",
       " 'output',\n",
       " 'predicates',\n",
       " 'productions',\n",
       " 'types']"
      ]
     },
     "execution_count": 21,
     "metadata": {},
     "output_type": "execute_result"
    }
   ],
   "source": [
    "dir(m_spec)"
   ]
  },
  {
   "cell_type": "code",
   "execution_count": 20,
   "metadata": {},
   "outputs": [
    {
     "data": {
      "text/plain": [
       "True"
      ]
     },
     "execution_count": 20,
     "metadata": {},
     "output_type": "execute_result"
    }
   ],
   "source": [
    "m_spec.get_function_productions()[1]==dl[0][0]"
   ]
  },
  {
   "cell_type": "code",
   "execution_count": 7,
   "metadata": {},
   "outputs": [
    {
     "data": {
      "text/plain": [
       "'RET_DF2'"
      ]
     },
     "execution_count": 7,
     "metadata": {},
     "output_type": "execute_result"
    }
   ],
   "source": [
    "b = m_interpreter.random_table()\n",
    "b"
   ]
  },
  {
   "cell_type": "code",
   "execution_count": 8,
   "metadata": {},
   "outputs": [
    {
     "name": "stdout",
     "output_type": "stream",
     "text": [
      "   OCOL1 OCOL2  OCOL3       OCOL4  OCOL5\n",
      "1  -8.64    69  47.71 aquafortist -43.88\n",
      "2 -31.30    27 -89.83 aquafortist   2.44\n",
      "3  49.12    -2  20.29  sentiments -55.20\n",
      "4  20.28    27 -56.03 aquafortist -95.24\n",
      "5  72.98    69  70.95 aquafortist -25.52\n",
      "6  22.50    69  32.44 aquafortist -57.95\n",
      "7 -59.41    27 -44.44 aquafortist  56.77\n",
      "\n"
     ]
    }
   ],
   "source": [
    "print(robjects.r(b))"
   ]
  },
  {
   "cell_type": "code",
   "execution_count": 9,
   "metadata": {},
   "outputs": [],
   "source": [
    "m_ps = ProgramSpace(m_spec, m_interpreter, [b], None)"
   ]
  },
  {
   "cell_type": "code",
   "execution_count": 35,
   "metadata": {},
   "outputs": [
    {
     "data": {
      "text/plain": [
       "\"ApplyNode(select, [ParamNode(0), AtomNode(['1'])])\""
      ]
     },
     "execution_count": 35,
     "metadata": {},
     "output_type": "execute_result"
    }
   ],
   "source": [
    "m_ps.node_list[-1].__repr__()"
   ]
  },
  {
   "cell_type": "code",
   "execution_count": 24,
   "metadata": {},
   "outputs": [
    {
     "data": {
      "text/plain": [
       "72"
      ]
     },
     "execution_count": 24,
     "metadata": {},
     "output_type": "execute_result"
    }
   ],
   "source": [
    "len(m_ps.prod_list)"
   ]
  },
  {
   "cell_type": "code",
   "execution_count": 10,
   "metadata": {},
   "outputs": [],
   "source": [
    "dl = m_ps.get_neighboring_shells()"
   ]
  },
  {
   "cell_type": "code",
   "execution_count": 11,
   "metadata": {},
   "outputs": [
    {
     "data": {
      "text/plain": [
       "21"
      ]
     },
     "execution_count": 11,
     "metadata": {},
     "output_type": "execute_result"
    }
   ],
   "source": [
    "len(dl)"
   ]
  },
  {
   "cell_type": "code",
   "execution_count": 12,
   "metadata": {},
   "outputs": [
    {
     "data": {
      "text/plain": [
       "(1, (69, 19))"
      ]
     },
     "execution_count": 12,
     "metadata": {},
     "output_type": "execute_result"
    }
   ],
   "source": [
    "dl[0]"
   ]
  },
  {
   "cell_type": "code",
   "execution_count": 13,
   "metadata": {},
   "outputs": [
    {
     "data": {
      "text/plain": [
       "True"
      ]
     },
     "execution_count": 13,
     "metadata": {},
     "output_type": "execute_result"
    }
   ],
   "source": [
    "m_ps.add_neighboring_shell(dl[0])"
   ]
  },
  {
   "cell_type": "code",
   "execution_count": 14,
   "metadata": {},
   "outputs": [
    {
     "data": {
      "text/plain": [
       "[70]"
      ]
     },
     "execution_count": 14,
     "metadata": {},
     "output_type": "execute_result"
    }
   ],
   "source": [
    "m_ps.get_frontiers()"
   ]
  },
  {
   "cell_type": "code",
   "execution_count": 15,
   "metadata": {},
   "outputs": [
    {
     "data": {
      "text/plain": [
       "ApplyNode(select, [ParamNode(0), AtomNode(['1'])])"
      ]
     },
     "execution_count": 15,
     "metadata": {},
     "output_type": "execute_result"
    }
   ],
   "source": [
    "m_ps.node_list[70]"
   ]
  },
  {
   "cell_type": "code",
   "execution_count": 19,
   "metadata": {},
   "outputs": [
    {
     "data": {
      "text/plain": [
       "[ParamNode(0), AtomNode(['1'])]"
      ]
     },
     "execution_count": 19,
     "metadata": {},
     "output_type": "execute_result"
    }
   ],
   "source": [
    "m_ps.node_list[70].args[0]"
   ]
  },
  {
   "cell_type": "code",
   "execution_count": 17,
   "metadata": {},
   "outputs": [
    {
     "data": {
      "text/plain": [
       "FunctionProduction(id=1, lhs=ValueType(Table, properties={'col': <ExprType.INT: 'int'>, 'row': <ExprType.INT: 'int'>, 'head': <ExprType.INT: 'int'>, 'content': <ExprType.INT: 'int'>}), name=select, rhs=[ValueType(Table, properties={'col': <ExprType.INT: 'int'>, 'row': <ExprType.INT: 'int'>, 'head': <ExprType.INT: 'int'>, 'content': <ExprType.INT: 'int'>}), EnumType(ColList, domain=[['1'], ['2'], ['3'], ['4'], ['5'], ['6'], ['1', '2'], ['1', '3'], ['1', '4'], ['1', '5'], ['1', '6'], ['2', '3'], ['2', '4'], ['2', '5'], ['2', '6'], ['3', '4'], ['3', '5'], ['3', '6'], ['4', '5'], ['4', '6'], ['5', '6']])])"
      ]
     },
     "execution_count": 17,
     "metadata": {},
     "output_type": "execute_result"
    }
   ],
   "source": [
    "m_ps.node_list[70].production"
   ]
  },
  {
   "cell_type": "code",
   "execution_count": 12,
   "metadata": {},
   "outputs": [
    {
     "data": {
      "text/plain": [
       "'RET_DF3'"
      ]
     },
     "execution_count": 12,
     "metadata": {},
     "output_type": "execute_result"
    }
   ],
   "source": [
    "m_ps.node_list[70].ps_data"
   ]
  },
  {
   "cell_type": "code",
   "execution_count": 13,
   "metadata": {},
   "outputs": [
    {
     "name": "stdout",
     "output_type": "stream",
     "text": [
      "         OCOL1\n",
      "1   strontitic\n",
      "2       jabers\n",
      "3       jabers\n",
      "4 undiscursive\n",
      "5   strontitic\n",
      "6 undiscursive\n",
      "7   strontitic\n",
      "8       jabers\n",
      "\n"
     ]
    }
   ],
   "source": [
    "print(robjects.r(m_ps.node_list[70].ps_data))"
   ]
  },
  {
   "cell_type": "code",
   "execution_count": 14,
   "metadata": {},
   "outputs": [],
   "source": [
    "na = m_ps.get_normalized_adjacency_matrix_u()"
   ]
  },
  {
   "cell_type": "code",
   "execution_count": 15,
   "metadata": {},
   "outputs": [
    {
     "data": {
      "text/plain": [
       "matrix([[1.        , 0.        , 0.        , ..., 0.        , 0.        ,\n",
       "         0.        ],\n",
       "        [0.        , 1.        , 0.        , ..., 0.        , 0.        ,\n",
       "         0.        ],\n",
       "        [0.        , 0.        , 1.        , ..., 0.        , 0.        ,\n",
       "         0.        ],\n",
       "        ...,\n",
       "        [0.        , 0.        , 0.        , ..., 1.        , 0.        ,\n",
       "         0.        ],\n",
       "        [0.        , 0.        , 0.        , ..., 0.        , 0.5       ,\n",
       "         0.5       ],\n",
       "        [0.        , 0.        , 0.        , ..., 0.        , 0.33333333,\n",
       "         0.33333333]])"
      ]
     },
     "execution_count": 15,
     "metadata": {},
     "output_type": "execute_result"
    }
   ],
   "source": [
    "na"
   ]
  },
  {
   "cell_type": "code",
   "execution_count": 14,
   "metadata": {},
   "outputs": [
    {
     "data": {
      "text/plain": [
       "(FunctionProduction(id=1, lhs=ValueType(Table, properties={'col': <ExprType.INT: 'int'>, 'row': <ExprType.INT: 'int'>, 'head': <ExprType.INT: 'int'>, 'content': <ExprType.INT: 'int'>}), name=select, rhs=[ValueType(Table, properties={'col': <ExprType.INT: 'int'>, 'row': <ExprType.INT: 'int'>, 'head': <ExprType.INT: 'int'>, 'content': <ExprType.INT: 'int'>}), EnumType(ColList, domain=[['1'], ['2'], ['3'], ['4'], ['5'], ['6'], ['1', '2'], ['1', '3'], ['1', '4'], ['1', '5'], ['1', '6'], ['2', '3'], ['2', '4'], ['2', '5'], ['2', '6'], ['3', '4'], ['3', '5'], ['3', '6'], ['4', '5'], ['4', '6'], ['5', '6']])]),\n",
       " (69, 24))"
      ]
     },
     "execution_count": 14,
     "metadata": {},
     "output_type": "execute_result"
    }
   ],
   "source": [
    "dl[5]"
   ]
  },
  {
   "cell_type": "code",
   "execution_count": 15,
   "metadata": {},
   "outputs": [
    {
     "data": {
      "text/plain": [
       "AtomNode(['6'])"
      ]
     },
     "execution_count": 15,
     "metadata": {},
     "output_type": "execute_result"
    }
   ],
   "source": [
    "m_ps.node_list[24]"
   ]
  },
  {
   "cell_type": "code",
   "execution_count": 16,
   "metadata": {},
   "outputs": [
    {
     "data": {
      "text/plain": [
       "False"
      ]
     },
     "execution_count": 16,
     "metadata": {},
     "output_type": "execute_result"
    }
   ],
   "source": [
    "m_ps.add_neighboring_shell(dl[5])"
   ]
  },
  {
   "cell_type": "code",
   "execution_count": 17,
   "metadata": {},
   "outputs": [
    {
     "data": {
      "text/plain": [
       "[(FunctionProduction(id=1, lhs=ValueType(Table, properties={'col': <ExprType.INT: 'int'>, 'row': <ExprType.INT: 'int'>, 'head': <ExprType.INT: 'int'>, 'content': <ExprType.INT: 'int'>}), name=select, rhs=[ValueType(Table, properties={'col': <ExprType.INT: 'int'>, 'row': <ExprType.INT: 'int'>, 'head': <ExprType.INT: 'int'>, 'content': <ExprType.INT: 'int'>}), EnumType(ColList, domain=[['1'], ['2'], ['3'], ['4'], ['5'], ['6'], ['1', '2'], ['1', '3'], ['1', '4'], ['1', '5'], ['1', '6'], ['2', '3'], ['2', '4'], ['2', '5'], ['2', '6'], ['3', '4'], ['3', '5'], ['3', '6'], ['4', '5'], ['4', '6'], ['5', '6']])]),\n",
       "  (69, 19))]"
      ]
     },
     "execution_count": 17,
     "metadata": {},
     "output_type": "execute_result"
    }
   ],
   "source": [
    "m_ps.shells"
   ]
  },
  {
   "cell_type": "code",
   "execution_count": 18,
   "metadata": {},
   "outputs": [
    {
     "data": {
      "text/plain": [
       "[AtomNode(1),\n",
       " AtomNode(2),\n",
       " AtomNode(3),\n",
       " AtomNode(4),\n",
       " AtomNode(5),\n",
       " AtomNode(6),\n",
       " AtomNode(-1),\n",
       " AtomNode(-2),\n",
       " AtomNode(-3),\n",
       " AtomNode(-4),\n",
       " AtomNode(-5),\n",
       " AtomNode(-6),\n",
       " AtomNode(0),\n",
       " AtomNode(1),\n",
       " AtomNode(2),\n",
       " AtomNode(3),\n",
       " AtomNode(4),\n",
       " AtomNode(5),\n",
       " AtomNode(6),\n",
       " AtomNode(['1']),\n",
       " AtomNode(['2']),\n",
       " AtomNode(['3']),\n",
       " AtomNode(['4']),\n",
       " AtomNode(['5']),\n",
       " AtomNode(['6']),\n",
       " AtomNode(['1', '2']),\n",
       " AtomNode(['1', '3']),\n",
       " AtomNode(['1', '4']),\n",
       " AtomNode(['1', '5']),\n",
       " AtomNode(['1', '6']),\n",
       " AtomNode(['2', '3']),\n",
       " AtomNode(['2', '4']),\n",
       " AtomNode(['2', '5']),\n",
       " AtomNode(['2', '6']),\n",
       " AtomNode(['3', '4']),\n",
       " AtomNode(['3', '5']),\n",
       " AtomNode(['3', '6']),\n",
       " AtomNode(['4', '5']),\n",
       " AtomNode(['4', '6']),\n",
       " AtomNode(['5', '6']),\n",
       " AtomNode(['-1']),\n",
       " AtomNode(['-2']),\n",
       " AtomNode(['-3']),\n",
       " AtomNode(['-4']),\n",
       " AtomNode(['-5']),\n",
       " AtomNode(['-6']),\n",
       " AtomNode(['-1', '-2']),\n",
       " AtomNode(['-1', '-3']),\n",
       " AtomNode(['-1', '-4']),\n",
       " AtomNode(['-1', '-5']),\n",
       " AtomNode(['-1', '-6']),\n",
       " AtomNode(['-2', '-3']),\n",
       " AtomNode(['-2', '-4']),\n",
       " AtomNode(['-2', '-5']),\n",
       " AtomNode(['-2', '-6']),\n",
       " AtomNode(['-3', '-4']),\n",
       " AtomNode(['-3', '-5']),\n",
       " AtomNode(['-3', '-6']),\n",
       " AtomNode(['-4', '-5']),\n",
       " AtomNode(['-4', '-6']),\n",
       " AtomNode(['-5', '-6']),\n",
       " AtomNode(min),\n",
       " AtomNode(max),\n",
       " AtomNode(sum),\n",
       " AtomNode(mean),\n",
       " AtomNode(/),\n",
       " AtomNode(==),\n",
       " AtomNode(>),\n",
       " AtomNode(<),\n",
       " ParamNode(0),\n",
       " ApplyNode(select, [ParamNode(0), AtomNode(['1'])])]"
      ]
     },
     "execution_count": 18,
     "metadata": {},
     "output_type": "execute_result"
    }
   ],
   "source": [
    "m_ps.node_list"
   ]
  },
  {
   "cell_type": "code",
   "execution_count": 19,
   "metadata": {},
   "outputs": [
    {
     "data": {
      "text/plain": [
       "[70]"
      ]
     },
     "execution_count": 19,
     "metadata": {},
     "output_type": "execute_result"
    }
   ],
   "source": [
    "m_ps.node_dict[\"ApplyNode\"]"
   ]
  },
  {
   "cell_type": "code",
   "execution_count": 20,
   "metadata": {},
   "outputs": [
    {
     "data": {
      "text/plain": [
       "[70]"
      ]
     },
     "execution_count": 20,
     "metadata": {},
     "output_type": "execute_result"
    }
   ],
   "source": [
    "m_ps.get_frontiers()"
   ]
  },
  {
   "cell_type": "code",
   "execution_count": 22,
   "metadata": {},
   "outputs": [],
   "source": [
    "ddl=m_ps.get_neighboring_shells()"
   ]
  },
  {
   "cell_type": "code",
   "execution_count": 23,
   "metadata": {},
   "outputs": [
    {
     "data": {
      "text/plain": [
       "41"
      ]
     },
     "execution_count": 23,
     "metadata": {},
     "output_type": "execute_result"
    }
   ],
   "source": [
    "len(ddl)"
   ]
  },
  {
   "cell_type": "code",
   "execution_count": 38,
   "metadata": {},
   "outputs": [
    {
     "data": {
      "text/plain": [
       "(FunctionProduction(id=1, lhs=ValueType(Table, properties={'col': <ExprType.INT: 'int'>, 'row': <ExprType.INT: 'int'>, 'head': <ExprType.INT: 'int'>, 'content': <ExprType.INT: 'int'>}), name=select, rhs=[ValueType(Table, properties={'col': <ExprType.INT: 'int'>, 'row': <ExprType.INT: 'int'>, 'head': <ExprType.INT: 'int'>, 'content': <ExprType.INT: 'int'>}), EnumType(ColList, domain=[['1'], ['2'], ['3'], ['4'], ['5'], ['6'], ['1', '2'], ['1', '3'], ['1', '4'], ['1', '5'], ['1', '6'], ['2', '3'], ['2', '4'], ['2', '5'], ['2', '6'], ['3', '4'], ['3', '5'], ['3', '6'], ['4', '5'], ['4', '6'], ['5', '6']])]),\n",
       " (69, 25))"
      ]
     },
     "execution_count": 38,
     "metadata": {},
     "output_type": "execute_result"
    }
   ],
   "source": [
    "ddl[5]"
   ]
  },
  {
   "cell_type": "code",
   "execution_count": 39,
   "metadata": {},
   "outputs": [
    {
     "data": {
      "text/plain": [
       "AtomNode(['1', '2'])"
      ]
     },
     "execution_count": 39,
     "metadata": {},
     "output_type": "execute_result"
    }
   ],
   "source": [
    "m_ps.node_list[25]"
   ]
  },
  {
   "cell_type": "code",
   "execution_count": 40,
   "metadata": {},
   "outputs": [
    {
     "data": {
      "text/plain": [
       "True"
      ]
     },
     "execution_count": 40,
     "metadata": {},
     "output_type": "execute_result"
    }
   ],
   "source": [
    "m_ps.add_neighboring_shell(ddl[5])"
   ]
  },
  {
   "cell_type": "code",
   "execution_count": 41,
   "metadata": {},
   "outputs": [
    {
     "data": {
      "text/plain": [
       "[70, 71]"
      ]
     },
     "execution_count": 41,
     "metadata": {},
     "output_type": "execute_result"
    }
   ],
   "source": [
    "m_ps.get_frontiers()"
   ]
  }
 ],
 "metadata": {
  "kernelspec": {
   "display_name": "Python 3",
   "language": "python",
   "name": "python3"
  },
  "language_info": {
   "codemirror_mode": {
    "name": "ipython",
    "version": 3
   },
   "file_extension": ".py",
   "mimetype": "text/x-python",
   "name": "python",
   "nbconvert_exporter": "python",
   "pygments_lexer": "ipython3",
   "version": "3.6.8"
  }
 },
 "nbformat": 4,
 "nbformat_minor": 2
}
