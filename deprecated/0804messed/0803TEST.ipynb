{
 "cells": [
  {
   "cell_type": "code",
   "execution_count": 1,
   "metadata": {},
   "outputs": [
    {
     "name": "stderr",
     "output_type": "stream",
     "text": [
      "R[write to console]: \n",
      "Attaching package: ‘compare’\n",
      "\n",
      "\n",
      "R[write to console]: The following object is masked from ‘package:base’:\n",
      "\n",
      "    isTRUE\n",
      "\n",
      "\n",
      "R[write to console]: \n",
      "Attaching package: ‘dplyr’\n",
      "\n",
      "\n",
      "R[write to console]: The following objects are masked from ‘package:stats’:\n",
      "\n",
      "    filter, lag\n",
      "\n",
      "\n",
      "R[write to console]: The following objects are masked from ‘package:base’:\n",
      "\n",
      "    intersect, setdiff, setequal, union\n",
      "\n",
      "\n"
     ]
    }
   ],
   "source": [
    "from MorpheusInterpreter import *\n",
    "from ProgramSpace import *"
   ]
  },
  {
   "cell_type": "code",
   "execution_count": null,
   "metadata": {},
   "outputs": [],
   "source": []
  },
  {
   "cell_type": "code",
   "execution_count": 2,
   "metadata": {},
   "outputs": [],
   "source": [
    "m_interpreter = MorpheusInterpreter()\n",
    "m_spec = S.parse_file('./example/camb3.tyrell')\n",
    "# m_spec = S.parse_file('./example/set_gather.tyrell')\n",
    "m_generator = MorpheusGenerator(m_spec, m_interpreter)"
   ]
  },
  {
   "cell_type": "code",
   "execution_count": 7,
   "metadata": {},
   "outputs": [
    {
     "name": "stdout",
     "output_type": "stream",
     "text": [
      "        servulate demipauldron knowledgeability guenon oversystematize\n",
      "1      prosthesis    fantassin               26 -20.63              14\n",
      "2         carnage      akhoond              -50  76.95             -20\n",
      "3      emissaries      akhoond               26  64.11             -34\n",
      "4      banquettes      akhoond              -90  60.14            -100\n",
      "5   mastoparietal      accerse              -50  49.67              76\n",
      "6         triglid    fantassin               26 -98.09              36\n",
      "7          cledge    fantassin              -90  -9.36               3\n",
      "8 blockheadedness      accerse              -50 -91.20              94\n",
      "9       coxodynia      akhoond              -90 -85.08              -7\n",
      "                    ancestress\n",
      "1        undergeneral_agromyza\n",
      "2                 kneads_ghoom\n",
      "3 prostatometer_divagationally\n",
      "4 undivulgeable_paradoxicality\n",
      "5       nomograph_multilocular\n",
      "6        semicircularity_gubbo\n",
      "7            nonfeeble_lekythi\n",
      "8   smotheringly_suffraganeous\n",
      "9          reaccent_annulments\n",
      "\n"
     ]
    }
   ],
   "source": [
    "b=m_interpreter.random_table()\n",
    "m_interpreter.print_obj(b)"
   ]
  },
  {
   "cell_type": "code",
   "execution_count": 8,
   "metadata": {},
   "outputs": [
    {
     "name": "stdout",
     "output_type": "stream",
     "text": [
      "[0, 0, 0, 0, 0, 0, 0, 0, 1, 0, 0, 0, 0, 0, 0]\n",
      "[0, 0, 0, 0, 0, 1, 0, 0, 0, 0, 0, 0, 0, 0, 0]\n",
      "[0, 0, 0, 0, 0, 1, 0, 0, 0, 0, 0, 0, 0, 0, 0]\n",
      "[0, 0, 0, 0, 0, 0, 0, 0, 0, 0, 0, 0, 0, 0, 0]\n",
      "[0, 1, 1, 0, 0, 0, 0, 0, 0, 0, 0, 0, 0, 0, 0]\n",
      "[1, 1, 0, 0, 0, 1, 0, 0, 0, 0, 0, 0, 0, 0, 0]\n",
      "[0, 0, 1, 1, 1, 0, 0, 0, 0, 0, 0, 0, 0, 0, 0]\n"
     ]
    },
    {
     "data": {
      "text/plain": [
       "[0,\n",
       " 0,\n",
       " 0,\n",
       " 0,\n",
       " 0,\n",
       " 0,\n",
       " 0,\n",
       " 0,\n",
       " 1,\n",
       " 0,\n",
       " 0,\n",
       " 0,\n",
       " 0,\n",
       " 0,\n",
       " 0,\n",
       " 0,\n",
       " 0,\n",
       " 0,\n",
       " 0,\n",
       " 0,\n",
       " 1,\n",
       " 0,\n",
       " 0,\n",
       " 0,\n",
       " 0,\n",
       " 0,\n",
       " 0,\n",
       " 0,\n",
       " 0,\n",
       " 0,\n",
       " 0,\n",
       " 0,\n",
       " 0,\n",
       " 0,\n",
       " 0,\n",
       " 1,\n",
       " 0,\n",
       " 0,\n",
       " 0,\n",
       " 0,\n",
       " 0,\n",
       " 0,\n",
       " 0,\n",
       " 0,\n",
       " 0,\n",
       " 0,\n",
       " 0,\n",
       " 0,\n",
       " 0,\n",
       " 0,\n",
       " 0,\n",
       " 0,\n",
       " 0,\n",
       " 0,\n",
       " 0,\n",
       " 0,\n",
       " 0,\n",
       " 0,\n",
       " 0,\n",
       " 0,\n",
       " 0,\n",
       " 1,\n",
       " 1,\n",
       " 0,\n",
       " 0,\n",
       " 0,\n",
       " 0,\n",
       " 0,\n",
       " 0,\n",
       " 0,\n",
       " 0,\n",
       " 0,\n",
       " 0,\n",
       " 0,\n",
       " 0,\n",
       " 1,\n",
       " 1,\n",
       " 0,\n",
       " 0,\n",
       " 0,\n",
       " 1,\n",
       " 0,\n",
       " 0,\n",
       " 0,\n",
       " 0,\n",
       " 0,\n",
       " 0,\n",
       " 0,\n",
       " 0,\n",
       " 0,\n",
       " 0,\n",
       " 0,\n",
       " 1,\n",
       " 1,\n",
       " 1,\n",
       " 0,\n",
       " 0,\n",
       " 0,\n",
       " 0,\n",
       " 0,\n",
       " 0,\n",
       " 0,\n",
       " 0,\n",
       " 0,\n",
       " 0]"
      ]
     },
     "execution_count": 8,
     "metadata": {},
     "output_type": "execute_result"
    }
   ],
   "source": [
    "m_interpreter.camb_get_ventogyrus(b,verbose=True)"
   ]
  },
  {
   "cell_type": "code",
   "execution_count": null,
   "metadata": {},
   "outputs": [],
   "source": [
    "m_interpreter.get_type(b,\"1\")"
   ]
  },
  {
   "cell_type": "code",
   "execution_count": null,
   "metadata": {},
   "outputs": [],
   "source": [
    "m_ps.node_list[-1].__repr__()"
   ]
  },
  {
   "cell_type": "code",
   "execution_count": null,
   "metadata": {},
   "outputs": [],
   "source": [
    "m_ps = m_generator.get_new_chain_program(4)\n",
    "# m_ps = m_generator.get_new_size1_program()\n",
    "print(m_ps.node_list[-1])\n",
    "m_interpreter.print_obj(m_ps.inputs[0])\n",
    "print(m_interpreter.shadow_dict[m_ps.inputs[0]])\n",
    "m_interpreter.print_obj(m_ps.output)\n",
    "print(m_interpreter.shadow_dict[m_ps.output])"
   ]
  },
  {
   "cell_type": "code",
   "execution_count": null,
   "metadata": {},
   "outputs": [],
   "source": [
    "m_ps = m_generator.get_new_chain_program(5)\n",
    "# m_ps = m_generator.get_new_size1_program()\n",
    "print(m_ps.node_list[-1])\n",
    "m_interpreter.print_obj(m_ps.inputs[0])\n",
    "print(m_interpreter.shadow_dict[m_ps.inputs[0]])\n",
    "m_interpreter.print_obj(m_ps.output)\n",
    "print(m_interpreter.shadow_dict[m_ps.output])"
   ]
  },
  {
   "cell_type": "code",
   "execution_count": null,
   "metadata": {},
   "outputs": [],
   "source": [
    "m_ps = m_generator.get_new_chain_program(2)\n",
    "# m_ps = m_generator.get_new_size1_program()\n",
    "print(m_ps.node_list[-1])\n",
    "m_interpreter.print_obj(m_ps.inputs[0])\n",
    "print(m_interpreter.shadow_dict[m_ps.inputs[0]])\n",
    "m_interpreter.print_obj(m_ps.output)\n",
    "print(m_interpreter.shadow_dict[m_ps.output])"
   ]
  },
  {
   "cell_type": "code",
   "execution_count": null,
   "metadata": {},
   "outputs": [],
   "source": [
    "t = m_interpreter.random_table_for_call(\n",
    "    m_ps.node_list[-1],\n",
    "    dbg_name=\"spread\",\n",
    ")"
   ]
  },
  {
   "cell_type": "code",
   "execution_count": null,
   "metadata": {},
   "outputs": [],
   "source": [
    "# ======== function block ======== #\n",
    "# generate some sample programs of size 3\n",
    "for i in range(100):\n",
    "    print(\"generating {}\".format(i))\n",
    "    m_ps = m_generator.get_new_chain_program(4)\n",
    "    with open(\"./sample_programs_size3/program_{}.txt\".format(i),\"w\") as f:\n",
    "        f.write(\"==== program ====\\n\")\n",
    "        f.write(str(m_ps.node_list[-1]))\n",
    "        f.write(\"\\n\\n\")\n",
    "        f.write(\"==== input ====\\n\")\n",
    "        f.write(str(m_ps.interpreter.renv(m_ps.inputs[0])))\n",
    "        f.write(\"\\n\\n\")\n",
    "        f.write(\"==== debug: input shadow ====\\n\")\n",
    "        f.write(str(m_ps.interpreter.shadow_dict[m_ps.inputs[0]]))\n",
    "        f.write(\"\\n\\n\")\n",
    "        f.write(\"==== output ====\\n\")\n",
    "        f.write(str(m_ps.interpreter.renv(m_ps.output)))\n",
    "        f.write(\"\\n\\n\")\n",
    "        f.write(\"==== debug: output shadow ====\\n\")\n",
    "        f.write(str(m_ps.interpreter.shadow_dict[m_ps.output]))\n",
    "        f.write(\"\\n\\n\")"
   ]
  }
 ],
 "metadata": {
  "kernelspec": {
   "display_name": "Python 3",
   "language": "python",
   "name": "python3"
  },
  "language_info": {
   "codemirror_mode": {
    "name": "ipython",
    "version": 3
   },
   "file_extension": ".py",
   "mimetype": "text/x-python",
   "name": "python",
   "nbconvert_exporter": "python",
   "pygments_lexer": "ipython3",
   "version": "3.6.8"
  }
 },
 "nbformat": 4,
 "nbformat_minor": 2
}
