{
 "cells": [
  {
   "cell_type": "code",
   "execution_count": 3,
   "metadata": {},
   "outputs": [],
   "source": [
    "import pickle\n",
    "with open(\"./0804SOSketches.pkl\",\"rb\") as f:\n",
    "    dt = pickle.load(f)\n",
    "with open(\"./MARS_dataset.pkl\",\"rb\") as f:\n",
    "    mars = pickle.load(f)"
   ]
  },
  {
   "cell_type": "code",
   "execution_count": 36,
   "metadata": {},
   "outputs": [
    {
     "data": {
      "text/plain": [
       "['<PAD>',\n",
       " '<SOS>',\n",
       " '<EOS>',\n",
       " '<UKN>',\n",
       " 'spread',\n",
       " 'gather',\n",
       " 'separate',\n",
       " 'unite',\n",
       " 'select',\n",
       " 'filter',\n",
       " 'summarise',\n",
       " 'group_by',\n",
       " 'mutate',\n",
       " 'join']"
      ]
     },
     "execution_count": 36,
     "metadata": {},
     "output_type": "execute_result"
    }
   ],
   "source": [
    "mars[\"func_list\"]"
   ]
  },
  {
   "cell_type": "markdown",
   "metadata": {},
   "source": [
    "#### first collect bigrams"
   ]
  },
  {
   "cell_type": "code",
   "execution_count": 37,
   "metadata": {},
   "outputs": [],
   "source": [
    "token_list = [\"<SOS>\",\"spread\",\"gather\",\"separate\",\"unite\",\"select\"]\n",
    "bigram_tracker = {\n",
    "    p:{\n",
    "        q:0\n",
    "        for q in token_list\n",
    "    }\n",
    "    for p in token_list\n",
    "}"
   ]
  },
  {
   "cell_type": "code",
   "execution_count": 38,
   "metadata": {},
   "outputs": [],
   "source": [
    "for i in range(len(dt)):\n",
    "    d_sketch = dt[i]\n",
    "    for j in range(len(d_sketch)):\n",
    "        if j==0:\n",
    "            if d_sketch[j] in token_list:\n",
    "                bigram_tracker[\"<SOS>\"][d_sketch[j]] += 1\n",
    "        else:\n",
    "            if d_sketch[j] in token_list and d_sketch[j-1] in token_list:\n",
    "                bigram_tracker[d_sketch[j-1]][d_sketch[j]] += 1"
   ]
  },
  {
   "cell_type": "code",
   "execution_count": 39,
   "metadata": {},
   "outputs": [
    {
     "data": {
      "text/plain": [
       "{'<SOS>': {'<SOS>': 0,\n",
       "  'gather': 1173,\n",
       "  'select': 816,\n",
       "  'separate': 175,\n",
       "  'spread': 142,\n",
       "  'unite': 66},\n",
       " 'gather': {'<SOS>': 0,\n",
       "  'gather': 130,\n",
       "  'select': 110,\n",
       "  'separate': 197,\n",
       "  'spread': 152,\n",
       "  'unite': 122},\n",
       " 'select': {'<SOS>': 0,\n",
       "  'gather': 112,\n",
       "  'select': 483,\n",
       "  'separate': 11,\n",
       "  'spread': 236,\n",
       "  'unite': 10},\n",
       " 'separate': {'<SOS>': 0,\n",
       "  'gather': 28,\n",
       "  'select': 30,\n",
       "  'separate': 75,\n",
       "  'spread': 120,\n",
       "  'unite': 18},\n",
       " 'spread': {'<SOS>': 0,\n",
       "  'gather': 31,\n",
       "  'select': 262,\n",
       "  'separate': 7,\n",
       "  'spread': 100,\n",
       "  'unite': 4},\n",
       " 'unite': {'<SOS>': 0,\n",
       "  'gather': 7,\n",
       "  'select': 14,\n",
       "  'separate': 5,\n",
       "  'spread': 157,\n",
       "  'unite': 29}}"
      ]
     },
     "execution_count": 39,
     "metadata": {},
     "output_type": "execute_result"
    }
   ],
   "source": [
    "bigram_tracker"
   ]
  },
  {
   "cell_type": "code",
   "execution_count": 40,
   "metadata": {},
   "outputs": [],
   "source": [
    "# enforce heuristics\n",
    "# no two consecative same components\n",
    "for dkey in bigram_tracker.keys():\n",
    "    bigram_tracker[dkey][dkey] = 0"
   ]
  },
  {
   "cell_type": "code",
   "execution_count": 41,
   "metadata": {},
   "outputs": [
    {
     "data": {
      "text/plain": [
       "{'<SOS>': {'<SOS>': 0,\n",
       "  'gather': 1173,\n",
       "  'select': 816,\n",
       "  'separate': 175,\n",
       "  'spread': 142,\n",
       "  'unite': 66},\n",
       " 'gather': {'<SOS>': 0,\n",
       "  'gather': 0,\n",
       "  'select': 110,\n",
       "  'separate': 197,\n",
       "  'spread': 152,\n",
       "  'unite': 122},\n",
       " 'select': {'<SOS>': 0,\n",
       "  'gather': 112,\n",
       "  'select': 0,\n",
       "  'separate': 11,\n",
       "  'spread': 236,\n",
       "  'unite': 10},\n",
       " 'separate': {'<SOS>': 0,\n",
       "  'gather': 28,\n",
       "  'select': 30,\n",
       "  'separate': 0,\n",
       "  'spread': 120,\n",
       "  'unite': 18},\n",
       " 'spread': {'<SOS>': 0,\n",
       "  'gather': 31,\n",
       "  'select': 262,\n",
       "  'separate': 7,\n",
       "  'spread': 0,\n",
       "  'unite': 4},\n",
       " 'unite': {'<SOS>': 0,\n",
       "  'gather': 7,\n",
       "  'select': 14,\n",
       "  'separate': 5,\n",
       "  'spread': 157,\n",
       "  'unite': 0}}"
      ]
     },
     "execution_count": 41,
     "metadata": {},
     "output_type": "execute_result"
    }
   ],
   "source": [
    "bigram_tracker"
   ]
  },
  {
   "cell_type": "code",
   "execution_count": 42,
   "metadata": {},
   "outputs": [
    {
     "data": {
      "text/plain": [
       "2372"
      ]
     },
     "execution_count": 42,
     "metadata": {},
     "output_type": "execute_result"
    }
   ],
   "source": [
    "sum(bigram_tracker[\"<SOS>\"].values())"
   ]
  },
  {
   "cell_type": "code",
   "execution_count": 43,
   "metadata": {},
   "outputs": [],
   "source": [
    "bigram_ranker = {\n",
    "    p:{\n",
    "        q:0\n",
    "        for q in token_list\n",
    "    }\n",
    "    for p in token_list\n",
    "}\n",
    "for dkey in bigram_tracker.keys():\n",
    "    dsum = sum(bigram_tracker[dkey].values())\n",
    "    for dk in bigram_tracker[dkey].keys():\n",
    "        bigram_ranker[dkey][dk] = bigram_tracker[dkey][dk]/dsum"
   ]
  },
  {
   "cell_type": "code",
   "execution_count": 44,
   "metadata": {},
   "outputs": [
    {
     "data": {
      "text/plain": [
       "{'<SOS>': {'<SOS>': 0.0,\n",
       "  'gather': 0.4945193929173693,\n",
       "  'select': 0.3440134907251265,\n",
       "  'separate': 0.07377740303541315,\n",
       "  'spread': 0.05986509274873524,\n",
       "  'unite': 0.02782462057335582},\n",
       " 'gather': {'<SOS>': 0.0,\n",
       "  'gather': 0.0,\n",
       "  'select': 0.18932874354561102,\n",
       "  'separate': 0.33907056798623064,\n",
       "  'spread': 0.26161790017211706,\n",
       "  'unite': 0.2099827882960413},\n",
       " 'select': {'<SOS>': 0.0,\n",
       "  'gather': 0.3035230352303523,\n",
       "  'select': 0.0,\n",
       "  'separate': 0.02981029810298103,\n",
       "  'spread': 0.6395663956639567,\n",
       "  'unite': 0.02710027100271003},\n",
       " 'separate': {'<SOS>': 0.0,\n",
       "  'gather': 0.14285714285714285,\n",
       "  'select': 0.15306122448979592,\n",
       "  'separate': 0.0,\n",
       "  'spread': 0.6122448979591837,\n",
       "  'unite': 0.09183673469387756},\n",
       " 'spread': {'<SOS>': 0.0,\n",
       "  'gather': 0.10197368421052631,\n",
       "  'select': 0.8618421052631579,\n",
       "  'separate': 0.023026315789473683,\n",
       "  'spread': 0.0,\n",
       "  'unite': 0.013157894736842105},\n",
       " 'unite': {'<SOS>': 0.0,\n",
       "  'gather': 0.03825136612021858,\n",
       "  'select': 0.07650273224043716,\n",
       "  'separate': 0.0273224043715847,\n",
       "  'spread': 0.8579234972677595,\n",
       "  'unite': 0.0}}"
      ]
     },
     "execution_count": 44,
     "metadata": {},
     "output_type": "execute_result"
    }
   ],
   "source": [
    "bigram_ranker"
   ]
  },
  {
   "cell_type": "markdown",
   "metadata": {},
   "source": [
    "#### then collect global probs\n",
    "enforce some additional heuristics:\n",
    "- no consecative two same components\n",
    "- only one select"
   ]
  },
  {
   "cell_type": "code",
   "execution_count": 45,
   "metadata": {},
   "outputs": [],
   "source": [
    "trigrams = []\n",
    "for i in range(len(dt)):\n",
    "    if len(dt[i])!=3:\n",
    "        continue\n",
    "    is_acc = True\n",
    "    # check for out-of-vocab\n",
    "    for j in range(len(dt[i])):\n",
    "        if dt[i][j] not in token_list:\n",
    "            is_acc = False\n",
    "            break\n",
    "    # check for heuristics\n",
    "    for j in range(1,len(dt[i])):\n",
    "        if dt[i][j-1]==dt[i][j]:\n",
    "            is_acc = False\n",
    "            break\n",
    "    # check for heuristics\n",
    "    if dt[i].count(\"select\")>1:\n",
    "        is_acc = False\n",
    "    if \"select\" in dt[i] and dt[i][-1]!=\"select\":\n",
    "        is_acc = False\n",
    "    if is_acc:\n",
    "        trigrams.append(tuple(dt[i]))"
   ]
  },
  {
   "cell_type": "code",
   "execution_count": 46,
   "metadata": {},
   "outputs": [
    {
     "data": {
      "text/plain": [
       "98"
      ]
     },
     "execution_count": 46,
     "metadata": {},
     "output_type": "execute_result"
    }
   ],
   "source": [
    "len(trigrams)"
   ]
  },
  {
   "cell_type": "code",
   "execution_count": 47,
   "metadata": {},
   "outputs": [],
   "source": [
    "global_tracker_trigram = {}\n",
    "for dgram in trigrams:\n",
    "    if dgram not in global_tracker_trigram.keys():\n",
    "        global_tracker_trigram[dgram] = 1\n",
    "    else:\n",
    "        global_tracker_trigram[dgram] += 1"
   ]
  },
  {
   "cell_type": "code",
   "execution_count": 48,
   "metadata": {},
   "outputs": [
    {
     "data": {
      "text/plain": [
       "{('gather', 'separate', 'gather'): 1,\n",
       " ('gather', 'separate', 'select'): 1,\n",
       " ('gather', 'separate', 'spread'): 40,\n",
       " ('gather', 'separate', 'unite'): 2,\n",
       " ('gather', 'spread', 'select'): 7,\n",
       " ('gather', 'unite', 'select'): 1,\n",
       " ('gather', 'unite', 'spread'): 44,\n",
       " ('separate', 'gather', 'select'): 2}"
      ]
     },
     "execution_count": 48,
     "metadata": {},
     "output_type": "execute_result"
    }
   ],
   "source": [
    "global_tracker_trigram"
   ]
  },
  {
   "cell_type": "code",
   "execution_count": 49,
   "metadata": {},
   "outputs": [],
   "source": [
    "global_ranker_trigram = {}\n",
    "for dkey in global_tracker_trigram.keys():\n",
    "    global_ranker_trigram[dkey] = global_tracker_trigram[dkey]/len(trigrams)"
   ]
  },
  {
   "cell_type": "code",
   "execution_count": 50,
   "metadata": {},
   "outputs": [
    {
     "data": {
      "text/plain": [
       "{('gather', 'separate', 'gather'): 0.01020408163265306,\n",
       " ('gather', 'separate', 'select'): 0.01020408163265306,\n",
       " ('gather', 'separate', 'spread'): 0.40816326530612246,\n",
       " ('gather', 'separate', 'unite'): 0.02040816326530612,\n",
       " ('gather', 'spread', 'select'): 0.07142857142857142,\n",
       " ('gather', 'unite', 'select'): 0.01020408163265306,\n",
       " ('gather', 'unite', 'spread'): 0.4489795918367347,\n",
       " ('separate', 'gather', 'select'): 0.02040816326530612}"
      ]
     },
     "execution_count": 50,
     "metadata": {},
     "output_type": "execute_result"
    }
   ],
   "source": [
    "global_ranker_trigram"
   ]
  },
  {
   "cell_type": "code",
   "execution_count": 51,
   "metadata": {},
   "outputs": [
    {
     "data": {
      "text/plain": [
       "{('gather', 'separate', 'gather'),\n",
       " ('gather', 'separate', 'select'),\n",
       " ('gather', 'separate', 'spread'),\n",
       " ('gather', 'separate', 'unite'),\n",
       " ('gather', 'spread', 'select'),\n",
       " ('gather', 'unite', 'select'),\n",
       " ('gather', 'unite', 'spread'),\n",
       " ('separate', 'gather', 'select')}"
      ]
     },
     "execution_count": 51,
     "metadata": {},
     "output_type": "execute_result"
    }
   ],
   "source": [
    "set(trigrams)"
   ]
  },
  {
   "cell_type": "markdown",
   "metadata": {},
   "source": [
    "#### save the rankers"
   ]
  },
  {
   "cell_type": "code",
   "execution_count": 52,
   "metadata": {},
   "outputs": [],
   "source": [
    "SORankers = {\n",
    "    \"bigram\": bigram_ranker,\n",
    "    \"global_trigram\": global_ranker_trigram,\n",
    "}\n",
    "with open(\"./0804SORankers.pkl\",\"wb\") as f:\n",
    "    pickle.dump(SORankers,f)"
   ]
  }
 ],
 "metadata": {
  "kernelspec": {
   "display_name": "Python 3",
   "language": "python",
   "name": "python3"
  },
  "language_info": {
   "codemirror_mode": {
    "name": "ipython",
    "version": 3
   },
   "file_extension": ".py",
   "mimetype": "text/x-python",
   "name": "python",
   "nbconvert_exporter": "python",
   "pygments_lexer": "ipython3",
   "version": "3.6.8"
  }
 },
 "nbformat": 4,
 "nbformat_minor": 2
}
