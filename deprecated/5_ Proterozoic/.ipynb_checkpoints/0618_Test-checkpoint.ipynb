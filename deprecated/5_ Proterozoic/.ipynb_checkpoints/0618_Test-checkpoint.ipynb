{
 "cells": [
  {
   "cell_type": "code",
   "execution_count": 1,
   "metadata": {},
   "outputs": [
    {
     "name": "stderr",
     "output_type": "stream",
     "text": [
      "R[write to console]: \n",
      "Attaching package: ‘compare’\n",
      "\n",
      "\n",
      "R[write to console]: The following object is masked from ‘package:base’:\n",
      "\n",
      "    isTRUE\n",
      "\n",
      "\n",
      "R[write to console]: \n",
      "Attaching package: ‘dplyr’\n",
      "\n",
      "\n",
      "R[write to console]: The following objects are masked from ‘package:stats’:\n",
      "\n",
      "    filter, lag\n",
      "\n",
      "\n",
      "R[write to console]: The following objects are masked from ‘package:base’:\n",
      "\n",
      "    intersect, setdiff, setequal, union\n",
      "\n",
      "\n"
     ]
    }
   ],
   "source": [
    "from utils_morpheus import *\n",
    "from ProgramSpace import *"
   ]
  },
  {
   "cell_type": "code",
   "execution_count": 2,
   "metadata": {},
   "outputs": [],
   "source": [
    "m_interpreter = MorpheusInterpreter()\n",
    "m_spec = S.parse_file('./example/set1.tyrell')\n",
    "m_eq = eq_r\n",
    "m_generator = MorpheusGenerator(\n",
    "    spec=m_spec,\n",
    "    interpreter=m_interpreter,\n",
    "    sfn=m_interpreter.sanity_check,\n",
    ")"
   ]
  },
  {
   "cell_type": "code",
   "execution_count": 3,
   "metadata": {},
   "outputs": [
    {
     "data": {
      "text/plain": [
       "'RET_DF2'"
      ]
     },
     "execution_count": 3,
     "metadata": {},
     "output_type": "execute_result"
    }
   ],
   "source": [
    "b = m_interpreter.random_table()\n",
    "b"
   ]
  },
  {
   "cell_type": "code",
   "execution_count": 4,
   "metadata": {},
   "outputs": [
    {
     "name": "stdout",
     "output_type": "stream",
     "text": [
      "         OCOL1  OCOL2     OCOL3 OCOL4        OCOL5 OCOL6\n",
      "1   reunionism  17.63 recharted    90 concupiscent     0\n",
      "2       causey -11.46 recharted   -68   unculpable   -80\n",
      "3  hypothesist   8.35  korahite    90    cockscomb     5\n",
      "4       causey -86.10 recharted   -85    cockscomb    44\n",
      "5   reunionism -57.19 recharted   -49    cockscomb   -57\n",
      "6       causey -80.83 recharted   -49   unculpable    70\n",
      "7       causey   7.53 recharted   -49    cockscomb    49\n",
      "8       causey -24.26  korahite   -85    cockscomb   -17\n",
      "9       causey  54.93  korahite    90      phacoid    81\n",
      "10  reunionism  -6.39  korahite   -85      phacoid    19\n",
      "\n"
     ]
    }
   ],
   "source": [
    "print(robjects.r(b))"
   ]
  },
  {
   "cell_type": "code",
   "execution_count": 7,
   "metadata": {},
   "outputs": [
    {
     "data": {
      "text/html": [
       "\n",
       "        <span>R/rpy2 DataFrame (20 x 6)</span>\n",
       "        <table>\n",
       "          <thead>\n",
       "            <tr>\n",
       "              \n",
       "              <th>OCOL1</th>\n",
       "              \n",
       "              <th>OCOL3</th>\n",
       "              \n",
       "              <th>OCOL5</th>\n",
       "              \n",
       "              <th>OCOL6</th>\n",
       "              \n",
       "              <th>KEY</th>\n",
       "              \n",
       "              <th>VAL</th>\n",
       "              \n",
       "            </tr>\n",
       "          </thead>\n",
       "          <tbody>\n",
       "          \n",
       "          <tr>\n",
       "            \n",
       "            <td>\n",
       "              ...\n",
       "            </td>\n",
       "            \n",
       "            <td>\n",
       "              ...\n",
       "            </td>\n",
       "            \n",
       "            <td>\n",
       "              ...\n",
       "            </td>\n",
       "            \n",
       "            <td>\n",
       "              ...\n",
       "            </td>\n",
       "            \n",
       "            <td>\n",
       "              ...\n",
       "            </td>\n",
       "            \n",
       "            <td>\n",
       "              ...\n",
       "            </td>\n",
       "            \n",
       "          </tr>\n",
       "          \n",
       "          </tbody>\n",
       "        </table>\n",
       "    "
      ],
      "text/plain": [
       "R object with classes: ('data.frame',) mapped to:\n",
       "[StrSe..., StrSe..., StrSe..., Float..., StrSe..., Float...]\n",
       "  OCOL1: <class 'rpy2.rinterface_lib.sexp.StrSexpVector'>\n",
       "  <rpy2.rinterface_lib.sexp.StrSexpVector object at 0x10c1e2a88> [RTYPES.STRSXP]\n",
       "  OCOL3: <class 'rpy2.rinterface_lib.sexp.StrSexpVector'>\n",
       "  <rpy2.rinterface_lib.sexp.StrSexpVector object at 0x10c1e2a08> [RTYPES.STRSXP]\n",
       "  OCOL5: <class 'rpy2.rinterface_lib.sexp.StrSexpVector'>\n",
       "  <rpy2.rinterface_lib.sexp.StrSexpVector object at 0x10c1e2a88> [RTYPES.STRSXP]\n",
       "  OCOL6: <class 'rpy2.rinterface.FloatSexpVector'>\n",
       "  <rpy2.rinterface.FloatSexpVector object at 0x10c1e2a08> [RTYPES.REALSXP]\n",
       "  KEY: <class 'rpy2.rinterface_lib.sexp.StrSexpVector'>\n",
       "  <rpy2.rinterface_lib.sexp.StrSexpVector object at 0x10c1e2a88> [RTYPES.STRSXP]\n",
       "  VAL: <class 'rpy2.rinterface.FloatSexpVector'>\n",
       "  <rpy2.rinterface.FloatSexpVector object at 0x10e338188> [RTYPES.REALSXP]"
      ]
     },
     "execution_count": 7,
     "metadata": {},
     "output_type": "execute_result"
    }
   ],
   "source": [
    "# robjects.r(\"KKK <- select({},c(2,4))\".format(b))\n",
    "robjects.r(\"KKK <- gather({},KEY,VAL,c(2,4))\".format(b))\n",
    "# robjects.r(\"KKK <- spread({},c(1),c(2))\".format(b))"
   ]
  },
  {
   "cell_type": "code",
   "execution_count": 8,
   "metadata": {},
   "outputs": [
    {
     "name": "stdout",
     "output_type": "stream",
     "text": [
      "         OCOL1     OCOL3        OCOL5 OCOL6   KEY    VAL\n",
      "1   reunionism recharted concupiscent     0 OCOL2  17.63\n",
      "2       causey recharted   unculpable   -80 OCOL2 -11.46\n",
      "3  hypothesist  korahite    cockscomb     5 OCOL2   8.35\n",
      "4       causey recharted    cockscomb    44 OCOL2 -86.10\n",
      "5   reunionism recharted    cockscomb   -57 OCOL2 -57.19\n",
      "6       causey recharted   unculpable    70 OCOL2 -80.83\n",
      "7       causey recharted    cockscomb    49 OCOL2   7.53\n",
      "8       causey  korahite    cockscomb   -17 OCOL2 -24.26\n",
      "9       causey  korahite      phacoid    81 OCOL2  54.93\n",
      "10  reunionism  korahite      phacoid    19 OCOL2  -6.39\n",
      "11  reunionism recharted concupiscent     0 OCOL4  90.00\n",
      "12      causey recharted   unculpable   -80 OCOL4 -68.00\n",
      "13 hypothesist  korahite    cockscomb     5 OCOL4  90.00\n",
      "14      causey recharted    cockscomb    44 OCOL4 -85.00\n",
      "15  reunionism recharted    cockscomb   -57 OCOL4 -49.00\n",
      "16      causey recharted   unculpable    70 OCOL4 -49.00\n",
      "17      causey recharted    cockscomb    49 OCOL4 -49.00\n",
      "18      causey  korahite    cockscomb   -17 OCOL4 -85.00\n",
      "19      causey  korahite      phacoid    81 OCOL4  90.00\n",
      "20  reunionism  korahite      phacoid    19 OCOL4 -85.00\n",
      "\n"
     ]
    }
   ],
   "source": [
    "print(robjects.r(\"KKK\"))"
   ]
  },
  {
   "cell_type": "code",
   "execution_count": 13,
   "metadata": {},
   "outputs": [
    {
     "data": {
      "text/html": [
       "\n",
       "        <span>R/rpy2 DataFrame (20 x 2)</span>\n",
       "        <table>\n",
       "          <thead>\n",
       "            <tr>\n",
       "              \n",
       "              <th>KEY</th>\n",
       "              \n",
       "              <th>VAL</th>\n",
       "              \n",
       "            </tr>\n",
       "          </thead>\n",
       "          <tbody>\n",
       "          \n",
       "          <tr>\n",
       "            \n",
       "            <td>\n",
       "              ...\n",
       "            </td>\n",
       "            \n",
       "            <td>\n",
       "              ...\n",
       "            </td>\n",
       "            \n",
       "          </tr>\n",
       "          \n",
       "          </tbody>\n",
       "        </table>\n",
       "    "
      ],
      "text/plain": [
       "R object with classes: ('data.frame',) mapped to:\n",
       "[StrSexpVector, FloatSexpVector]\n",
       "  KEY: <class 'rpy2.rinterface_lib.sexp.StrSexpVector'>\n",
       "  <rpy2.rinterface_lib.sexp.StrSexpVector object at 0x10e338b08> [RTYPES.STRSXP]\n",
       "  VAL: <class 'rpy2.rinterface.FloatSexpVector'>\n",
       "  <rpy2.rinterface.FloatSexpVector object at 0x10e338cc8> [RTYPES.REALSXP]"
      ]
     },
     "execution_count": 13,
     "metadata": {},
     "output_type": "execute_result"
    }
   ],
   "source": [
    "robjects.r(\"LLL <- select(KKK,c(5,6))\".format(b))"
   ]
  },
  {
   "cell_type": "code",
   "execution_count": 14,
   "metadata": {},
   "outputs": [
    {
     "name": "stdout",
     "output_type": "stream",
     "text": [
      "     KEY    VAL\n",
      "1  OCOL2  17.63\n",
      "2  OCOL2 -11.46\n",
      "3  OCOL2   8.35\n",
      "4  OCOL2 -86.10\n",
      "5  OCOL2 -57.19\n",
      "6  OCOL2 -80.83\n",
      "7  OCOL2   7.53\n",
      "8  OCOL2 -24.26\n",
      "9  OCOL2  54.93\n",
      "10 OCOL2  -6.39\n",
      "11 OCOL4  90.00\n",
      "12 OCOL4 -68.00\n",
      "13 OCOL4  90.00\n",
      "14 OCOL4 -85.00\n",
      "15 OCOL4 -49.00\n",
      "16 OCOL4 -49.00\n",
      "17 OCOL4 -49.00\n",
      "18 OCOL4 -85.00\n",
      "19 OCOL4  90.00\n",
      "20 OCOL4 -85.00\n",
      "\n"
     ]
    }
   ],
   "source": [
    "print(robjects.r(\"LLL\"))"
   ]
  },
  {
   "cell_type": "code",
   "execution_count": 7,
   "metadata": {},
   "outputs": [
    {
     "data": {
      "text/plain": [
       "{'<COL_0>': 7,\n",
       " '<COL_10>': 17,\n",
       " '<COL_11>': 18,\n",
       " '<COL_12>': 19,\n",
       " '<COL_13>': 20,\n",
       " '<COL_14>': 21,\n",
       " '<COL_15>': 22,\n",
       " '<COL_16>': 23,\n",
       " '<COL_17>': 24,\n",
       " '<COL_18>': 25,\n",
       " '<COL_19>': 26,\n",
       " '<COL_1>': 8,\n",
       " '<COL_2>': 9,\n",
       " '<COL_3>': 10,\n",
       " '<COL_4>': 11,\n",
       " '<COL_5>': 12,\n",
       " '<COL_6>': 13,\n",
       " '<COL_7>': 14,\n",
       " '<COL_8>': 15,\n",
       " '<COL_9>': 16,\n",
       " '<DUP>': 2,\n",
       " '<NEW>': 1,\n",
       " '<OUT>': 3,\n",
       " '<PAD>': 0,\n",
       " '<rCOL_0>': 27,\n",
       " '<rCOL_10>': 37,\n",
       " '<rCOL_11>': 38,\n",
       " '<rCOL_12>': 39,\n",
       " '<rCOL_13>': 40,\n",
       " '<rCOL_14>': 41,\n",
       " '<rCOL_15>': 42,\n",
       " '<rCOL_16>': 43,\n",
       " '<rCOL_17>': 44,\n",
       " '<rCOL_18>': 45,\n",
       " '<rCOL_19>': 46,\n",
       " '<rCOL_1>': 28,\n",
       " '<rCOL_2>': 29,\n",
       " '<rCOL_3>': 30,\n",
       " '<rCOL_4>': 31,\n",
       " '<rCOL_5>': 32,\n",
       " '<rCOL_6>': 33,\n",
       " '<rCOL_7>': 34,\n",
       " '<rCOL_8>': 35,\n",
       " '<rCOL_9>': 36,\n",
       " '<rDUP>': 5,\n",
       " '<rNEW>': 4,\n",
       " '<rOUT>': 6}"
      ]
     },
     "execution_count": 7,
     "metadata": {},
     "output_type": "execute_result"
    }
   ],
   "source": [
    "CMM_DICT"
   ]
  },
  {
   "cell_type": "code",
   "execution_count": 12,
   "metadata": {},
   "outputs": [
    {
     "name": "stdout",
     "output_type": "stream",
     "text": [
      "[[ 4.  4.  4. ...  0.  0.  0.]\n",
      " [ 9. 10. 11. ...  0.  0.  0.]\n",
      " [ 9. 10. 11. ...  0.  0.  0.]\n",
      " ...\n",
      " [ 0.  0.  0. ...  0.  0.  0.]\n",
      " [ 0.  0.  0. ...  0.  0.  0.]\n",
      " [ 0.  0.  0. ...  0.  0.  0.]]\n"
     ]
    }
   ],
   "source": [
    "u=morpheus_select_cmm(b,\"KKK\",verbose=True)"
   ]
  },
  {
   "cell_type": "code",
   "execution_count": 15,
   "metadata": {},
   "outputs": [
    {
     "name": "stdout",
     "output_type": "stream",
     "text": [
      "[[ 4.  4.  4. 27. 27.  0.  0.  0.  0.  0.]\n",
      " [ 9. 10. 11.  3.  8.  0.  0.  0.  0.  0.]\n",
      " [ 9. 10. 11.  8.  3.  0.  0.  0.  0.  0.]\n",
      " [ 9. 10. 11.  8.  3.  0.  0.  0.  0.  0.]\n",
      " [ 9. 10. 11.  3.  8.  0.  0.  0.  0.  0.]\n",
      " [ 9. 10. 11.  8.  3.  0.  0.  0.  0.  0.]\n",
      " [ 9. 10. 11.  3.  8.  0.  0.  0.  0.  0.]\n",
      " [ 9. 10. 11.  3.  8.  0.  0.  0.  0.  0.]\n",
      " [ 9. 10. 11.  8.  3.  0.  0.  0.  0.  0.]\n",
      " [ 9. 10. 11.  8.  3.  0.  0.  0.  0.  0.]\n",
      " [ 9. 10. 11.  3.  8.  0.  0.  0.  0.  0.]\n",
      " [ 0.  0.  0.  0.  0.  0.  0.  0.  0.  0.]\n",
      " [ 0.  0.  0.  0.  0.  0.  0.  0.  0.  0.]\n",
      " [ 0.  0.  0.  0.  0.  0.  0.  0.  0.  0.]\n",
      " [ 0.  0.  0.  0.  0.  0.  0.  0.  0.  0.]\n",
      " [ 0.  0.  0.  0.  0.  0.  0.  0.  0.  0.]\n",
      " [ 0.  0.  0.  0.  0.  0.  0.  0.  0.  0.]\n",
      " [ 0.  0.  0.  0.  0.  0.  0.  0.  0.  0.]\n",
      " [ 0.  0.  0.  0.  0.  0.  0.  0.  0.  0.]\n",
      " [ 0.  0.  0.  0.  0.  0.  0.  0.  0.  0.]\n",
      " [ 0.  0.  0.  0.  0.  0.  0.  0.  0.  0.]\n",
      " [ 0.  0.  0.  0.  0.  0.  0.  0.  0.  0.]\n",
      " [ 0.  0.  0.  0.  0.  0.  0.  0.  0.  0.]\n",
      " [ 0.  0.  0.  0.  0.  0.  0.  0.  0.  0.]\n",
      " [ 0.  0.  0.  0.  0.  0.  0.  0.  0.  0.]\n",
      " [ 0.  0.  0.  0.  0.  0.  0.  0.  0.  0.]\n",
      " [ 0.  0.  0.  0.  0.  0.  0.  0.  0.  0.]\n",
      " [ 0.  0.  0.  0.  0.  0.  0.  0.  0.  0.]\n",
      " [ 0.  0.  0.  0.  0.  0.  0.  0.  0.  0.]\n",
      " [ 0.  0.  0.  0.  0.  0.  0.  0.  0.  0.]\n",
      " [ 0.  0.  0.  0.  0.  0.  0.  0.  0.  0.]\n",
      " [ 0.  0.  0.  0.  0.  0.  0.  0.  0.  0.]\n",
      " [ 0.  0.  0.  0.  0.  0.  0.  0.  0.  0.]\n",
      " [ 0.  0.  0.  0.  0.  0.  0.  0.  0.  0.]\n",
      " [ 0.  0.  0.  0.  0.  0.  0.  0.  0.  0.]\n",
      " [ 0.  0.  0.  0.  0.  0.  0.  0.  0.  0.]\n",
      " [ 0.  0.  0.  0.  0.  0.  0.  0.  0.  0.]\n",
      " [ 0.  0.  0.  0.  0.  0.  0.  0.  0.  0.]\n",
      " [ 0.  0.  0.  0.  0.  0.  0.  0.  0.  0.]\n",
      " [ 0.  0.  0.  0.  0.  0.  0.  0.  0.  0.]\n",
      " [ 0.  0.  0.  0.  0.  0.  0.  0.  0.  0.]\n",
      " [ 0.  0.  0.  0.  0.  0.  0.  0.  0.  0.]\n",
      " [ 0.  0.  0.  0.  0.  0.  0.  0.  0.  0.]\n",
      " [ 0.  0.  0.  0.  0.  0.  0.  0.  0.  0.]\n",
      " [ 0.  0.  0.  0.  0.  0.  0.  0.  0.  0.]\n",
      " [ 0.  0.  0.  0.  0.  0.  0.  0.  0.  0.]\n",
      " [ 0.  0.  0.  0.  0.  0.  0.  0.  0.  0.]\n",
      " [ 0.  0.  0.  0.  0.  0.  0.  0.  0.  0.]\n",
      " [ 0.  0.  0.  0.  0.  0.  0.  0.  0.  0.]\n",
      " [ 0.  0.  0.  0.  0.  0.  0.  0.  0.  0.]\n",
      " [ 0.  0.  0.  0.  0.  0.  0.  0.  0.  0.]]\n"
     ]
    }
   ],
   "source": [
    "print(u[:,:10])"
   ]
  }
 ],
 "metadata": {
  "kernelspec": {
   "display_name": "Python 3",
   "language": "python",
   "name": "python3"
  },
  "language_info": {
   "codemirror_mode": {
    "name": "ipython",
    "version": 3
   },
   "file_extension": ".py",
   "mimetype": "text/x-python",
   "name": "python",
   "nbconvert_exporter": "python",
   "pygments_lexer": "ipython3",
   "version": "3.6.8"
  }
 },
 "nbformat": 4,
 "nbformat_minor": 2
}
