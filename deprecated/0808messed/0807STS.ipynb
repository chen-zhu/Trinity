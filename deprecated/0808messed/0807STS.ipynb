{
 "cells": [
  {
   "cell_type": "code",
   "execution_count": 2,
   "metadata": {},
   "outputs": [],
   "source": [
    "import pickle\n",
    "with open(\"./MARS_dataset.pkl\",\"rb\") as f:\n",
    "    dt = pickle.load(f)"
   ]
  },
  {
   "cell_type": "code",
   "execution_count": 3,
   "metadata": {},
   "outputs": [
    {
     "data": {
      "text/plain": [
       "dict_keys(['word_counter', 'word_list', 'word_dict', 'hint_list', 'hint_dict', 'func_list', 'func_dict', 'medium_data', 'tokenized_data', 'tokenized_data_train', 'tokenized_data_valid'])"
      ]
     },
     "execution_count": 3,
     "metadata": {},
     "output_type": "execute_result"
    }
   ],
   "source": [
    "dt.keys()"
   ]
  },
  {
   "cell_type": "code",
   "execution_count": 4,
   "metadata": {},
   "outputs": [
    {
     "data": {
      "text/plain": [
       "['<PAD>',\n",
       " '<SOS>',\n",
       " '<EOS>',\n",
       " '<UKN>',\n",
       " 'spread',\n",
       " 'gather',\n",
       " 'separate',\n",
       " 'unite',\n",
       " 'select',\n",
       " 'filter',\n",
       " 'summarise',\n",
       " 'group_by',\n",
       " 'mutate',\n",
       " 'join']"
      ]
     },
     "execution_count": 4,
     "metadata": {},
     "output_type": "execute_result"
    }
   ],
   "source": [
    "dt[\"func_list\"]"
   ]
  },
  {
   "cell_type": "code",
   "execution_count": 8,
   "metadata": {},
   "outputs": [
    {
     "data": {
      "text/plain": [
       "[1, 11, 10, 12, 2]"
      ]
     },
     "execution_count": 8,
     "metadata": {},
     "output_type": "execute_result"
    }
   ],
   "source": [
    "dt[\"tokenized_data\"][0][3]"
   ]
  },
  {
   "cell_type": "code",
   "execution_count": 19,
   "metadata": {},
   "outputs": [
    {
     "data": {
      "text/plain": [
       "[1, 10, 10, 2]"
      ]
     },
     "execution_count": 19,
     "metadata": {},
     "output_type": "execute_result"
    }
   ],
   "source": [
    "dt[\"tokenized_data\"][5][3]"
   ]
  },
  {
   "cell_type": "code",
   "execution_count": 35,
   "metadata": {},
   "outputs": [
    {
     "data": {
      "text/plain": [
       "3637"
      ]
     },
     "execution_count": 35,
     "metadata": {},
     "output_type": "execute_result"
    }
   ],
   "source": [
    "dt3 = [p[3] for p in dt[\"tokenized_data\"] if len(p[3])==5]\n",
    "len(dt3)"
   ]
  },
  {
   "cell_type": "code",
   "execution_count": 36,
   "metadata": {},
   "outputs": [
    {
     "data": {
      "text/plain": [
       "1966"
      ]
     },
     "execution_count": 36,
     "metadata": {},
     "output_type": "execute_result"
    }
   ],
   "source": [
    "dt4 = [p[3] for p in dt[\"tokenized_data\"] if len(p[3])==6]\n",
    "len(dt4)"
   ]
  },
  {
   "cell_type": "code",
   "execution_count": 37,
   "metadata": {},
   "outputs": [
    {
     "data": {
      "text/plain": [
       "949"
      ]
     },
     "execution_count": 37,
     "metadata": {},
     "output_type": "execute_result"
    }
   ],
   "source": [
    "dt5 = [p[3] for p in dt[\"tokenized_data\"] if len(p[3])==7]\n",
    "len(dt5)"
   ]
  },
  {
   "cell_type": "code",
   "execution_count": 14,
   "metadata": {},
   "outputs": [
    {
     "data": {
      "text/plain": [
       "[1, 9, 11, 10, 3, 2]"
      ]
     },
     "execution_count": 14,
     "metadata": {},
     "output_type": "execute_result"
    }
   ],
   "source": [
    "dt4[0]"
   ]
  },
  {
   "cell_type": "code",
   "execution_count": 23,
   "metadata": {},
   "outputs": [
    {
     "data": {
      "text/plain": [
       "[1, 9, 10, 9, 11, 10, 2]"
      ]
     },
     "execution_count": 23,
     "metadata": {},
     "output_type": "execute_result"
    }
   ],
   "source": [
    "dt5[2]"
   ]
  },
  {
   "cell_type": "markdown",
   "metadata": {},
   "source": [
    "#### then filter out the sketches that contain \"filter\"(9) and \"join\"(13)"
   ]
  },
  {
   "cell_type": "code",
   "execution_count": 75,
   "metadata": {},
   "outputs": [],
   "source": [
    "# enforce: NODUP\n",
    "# enforce: GBSR\n",
    "def check_con(plist):\n",
    "    for i in range(1,len(plist)):\n",
    "        if plist[i]==plist[i-1]:\n",
    "            return False\n",
    "        if plist[i-1]==11 and plist[i]!=10:\n",
    "            return False\n",
    "    return True"
   ]
  },
  {
   "cell_type": "code",
   "execution_count": 73,
   "metadata": {},
   "outputs": [
    {
     "data": {
      "text/plain": [
       "(11, 10)"
      ]
     },
     "execution_count": 73,
     "metadata": {},
     "output_type": "execute_result"
    }
   ],
   "source": [
    "dt[\"func_dict\"][\"group_by\"], dt[\"func_dict\"][\"summarise\"]"
   ]
  },
  {
   "cell_type": "code",
   "execution_count": 74,
   "metadata": {},
   "outputs": [
    {
     "data": {
      "text/plain": [
       "(9, 13)"
      ]
     },
     "execution_count": 74,
     "metadata": {},
     "output_type": "execute_result"
    }
   ],
   "source": [
    "dt[\"func_dict\"][\"filter\"],dt[\"func_dict\"][\"join\"]"
   ]
  },
  {
   "cell_type": "code",
   "execution_count": 76,
   "metadata": {},
   "outputs": [
    {
     "data": {
      "text/plain": [
       "1040"
      ]
     },
     "execution_count": 76,
     "metadata": {},
     "output_type": "execute_result"
    }
   ],
   "source": [
    "fdt3 = [tuple(p[1:-1]) for p in dt3 if 9 not in p and 13 not in p and 3 not in p and check_con(p)]\n",
    "len(fdt3)"
   ]
  },
  {
   "cell_type": "code",
   "execution_count": 65,
   "metadata": {},
   "outputs": [
    {
     "data": {
      "text/plain": [
       "(5, 11, 10)"
      ]
     },
     "execution_count": 65,
     "metadata": {},
     "output_type": "execute_result"
    }
   ],
   "source": [
    "fdt3[10]"
   ]
  },
  {
   "cell_type": "code",
   "execution_count": 77,
   "metadata": {},
   "outputs": [
    {
     "data": {
      "text/plain": [
       "396"
      ]
     },
     "execution_count": 77,
     "metadata": {},
     "output_type": "execute_result"
    }
   ],
   "source": [
    "fdt4 = [tuple(p[1:-1]) for p in dt4 if 9 not in p and 13 not in p and 3 not in p and check_con(p)]\n",
    "len(fdt4)"
   ]
  },
  {
   "cell_type": "code",
   "execution_count": 78,
   "metadata": {},
   "outputs": [
    {
     "data": {
      "text/plain": [
       "117"
      ]
     },
     "execution_count": 78,
     "metadata": {},
     "output_type": "execute_result"
    }
   ],
   "source": [
    "fdt5 = [tuple(p[1:-1]) for p in dt5 if 9 not in p and 13 not in p and 3 not in p and check_con(p)]\n",
    "len(fdt5)"
   ]
  },
  {
   "cell_type": "markdown",
   "metadata": {},
   "source": [
    "### use dictionaries to record frequencies"
   ]
  },
  {
   "cell_type": "code",
   "execution_count": 79,
   "metadata": {},
   "outputs": [],
   "source": [
    "dic3 = {}\n",
    "for p in fdt3:\n",
    "    sp = tuple([dt[\"func_list\"][q] for q in p])\n",
    "    if sp not in dic3:\n",
    "        dic3[sp] = 0\n",
    "    dic3[sp] += 1"
   ]
  },
  {
   "cell_type": "code",
   "execution_count": 80,
   "metadata": {},
   "outputs": [
    {
     "data": {
      "text/plain": [
       "{('gather', 'group_by', 'summarise'): 88,\n",
       " ('gather', 'mutate', 'select'): 12,\n",
       " ('gather', 'mutate', 'separate'): 1,\n",
       " ('gather', 'mutate', 'spread'): 16,\n",
       " ('gather', 'select', 'mutate'): 2,\n",
       " ('gather', 'select', 'separate'): 2,\n",
       " ('gather', 'select', 'spread'): 11,\n",
       " ('gather', 'separate', 'gather'): 1,\n",
       " ('gather', 'separate', 'mutate'): 6,\n",
       " ('gather', 'separate', 'select'): 1,\n",
       " ('gather', 'separate', 'spread'): 40,\n",
       " ('gather', 'separate', 'unite'): 2,\n",
       " ('gather', 'spread', 'mutate'): 3,\n",
       " ('gather', 'spread', 'select'): 7,\n",
       " ('gather', 'spread', 'summarise'): 1,\n",
       " ('gather', 'unite', 'select'): 1,\n",
       " ('gather', 'unite', 'spread'): 44,\n",
       " ('group_by', 'summarise', 'gather'): 9,\n",
       " ('group_by', 'summarise', 'mutate'): 173,\n",
       " ('group_by', 'summarise', 'select'): 51,\n",
       " ('group_by', 'summarise', 'separate'): 7,\n",
       " ('group_by', 'summarise', 'spread'): 74,\n",
       " ('mutate', 'gather', 'mutate'): 11,\n",
       " ('mutate', 'gather', 'select'): 1,\n",
       " ('mutate', 'gather', 'spread'): 8,\n",
       " ('mutate', 'group_by', 'summarise'): 250,\n",
       " ('mutate', 'select', 'mutate'): 11,\n",
       " ('mutate', 'select', 'separate'): 1,\n",
       " ('mutate', 'select', 'spread'): 10,\n",
       " ('mutate', 'separate', 'mutate'): 2,\n",
       " ('mutate', 'separate', 'select'): 2,\n",
       " ('mutate', 'separate', 'spread'): 2,\n",
       " ('mutate', 'separate', 'unite'): 2,\n",
       " ('mutate', 'spread', 'mutate'): 1,\n",
       " ('mutate', 'spread', 'select'): 24,\n",
       " ('mutate', 'summarise', 'mutate'): 1,\n",
       " ('mutate', 'unite', 'mutate'): 1,\n",
       " ('mutate', 'unite', 'spread'): 3,\n",
       " ('select', 'gather', 'mutate'): 8,\n",
       " ('select', 'gather', 'select'): 5,\n",
       " ('select', 'gather', 'spread'): 2,\n",
       " ('select', 'group_by', 'summarise'): 45,\n",
       " ('select', 'mutate', 'gather'): 1,\n",
       " ('select', 'mutate', 'select'): 13,\n",
       " ('select', 'mutate', 'spread'): 2,\n",
       " ('select', 'mutate', 'summarise'): 1,\n",
       " ('select', 'spread', 'mutate'): 5,\n",
       " ('select', 'spread', 'select'): 3,\n",
       " ('select', 'summarise', 'mutate'): 1,\n",
       " ('select', 'unite', 'select'): 2,\n",
       " ('separate', 'gather', 'select'): 2,\n",
       " ('separate', 'group_by', 'summarise'): 9,\n",
       " ('separate', 'mutate', 'gather'): 2,\n",
       " ('separate', 'mutate', 'select'): 5,\n",
       " ('separate', 'mutate', 'spread'): 8,\n",
       " ('separate', 'spread', 'mutate'): 1,\n",
       " ('spread', 'group_by', 'summarise'): 4,\n",
       " ('spread', 'mutate', 'gather'): 3,\n",
       " ('spread', 'mutate', 'select'): 9,\n",
       " ('summarise', 'gather', 'separate'): 1,\n",
       " ('summarise', 'group_by', 'summarise'): 21,\n",
       " ('summarise', 'mutate', 'select'): 1,\n",
       " ('unite', 'mutate', 'spread'): 1,\n",
       " ('unite', 'select', 'spread'): 2,\n",
       " ('unite', 'separate', 'mutate'): 1}"
      ]
     },
     "execution_count": 80,
     "metadata": {},
     "output_type": "execute_result"
    }
   ],
   "source": [
    "dic3"
   ]
  },
  {
   "cell_type": "code",
   "execution_count": 81,
   "metadata": {},
   "outputs": [],
   "source": [
    "dic4 = {}\n",
    "for p in fdt4:\n",
    "    sp = tuple([dt[\"func_list\"][q] for q in p])\n",
    "    if sp not in dic4:\n",
    "        dic4[sp] = 0\n",
    "    dic4[sp] += 1"
   ]
  },
  {
   "cell_type": "code",
   "execution_count": 82,
   "metadata": {},
   "outputs": [
    {
     "data": {
      "text/plain": [
       "{('gather', 'group_by', 'summarise', 'gather'): 1,\n",
       " ('gather', 'group_by', 'summarise', 'mutate'): 13,\n",
       " ('gather', 'group_by', 'summarise', 'select'): 1,\n",
       " ('gather', 'group_by', 'summarise', 'spread'): 22,\n",
       " ('gather', 'group_by', 'summarise', 'unite'): 1,\n",
       " ('gather', 'mutate', 'gather', 'mutate'): 3,\n",
       " ('gather', 'mutate', 'gather', 'select'): 1,\n",
       " ('gather', 'mutate', 'group_by', 'summarise'): 14,\n",
       " ('gather', 'mutate', 'select', 'spread'): 17,\n",
       " ('gather', 'mutate', 'separate', 'mutate'): 2,\n",
       " ('gather', 'mutate', 'separate', 'spread'): 5,\n",
       " ('gather', 'mutate', 'spread', 'select'): 4,\n",
       " ('gather', 'mutate', 'unite', 'spread'): 3,\n",
       " ('gather', 'select', 'mutate', 'spread'): 2,\n",
       " ('gather', 'separate', 'group_by', 'summarise'): 4,\n",
       " ('gather', 'separate', 'mutate', 'spread'): 5,\n",
       " ('gather', 'separate', 'select', 'spread'): 2,\n",
       " ('gather', 'separate', 'spread', 'mutate'): 6,\n",
       " ('gather', 'separate', 'spread', 'select'): 6,\n",
       " ('gather', 'separate', 'unite', 'spread'): 1,\n",
       " ('gather', 'spread', 'gather', 'select'): 1,\n",
       " ('gather', 'spread', 'group_by', 'summarise'): 1,\n",
       " ('gather', 'spread', 'select', 'gather'): 1,\n",
       " ('gather', 'summarise', 'group_by', 'summarise'): 1,\n",
       " ('gather', 'unite', 'group_by', 'summarise'): 1,\n",
       " ('gather', 'unite', 'mutate', 'spread'): 3,\n",
       " ('gather', 'unite', 'spread', 'gather'): 1,\n",
       " ('gather', 'unite', 'spread', 'select'): 4,\n",
       " ('group_by', 'summarise', 'gather', 'mutate'): 1,\n",
       " ('group_by', 'summarise', 'gather', 'select'): 1,\n",
       " ('group_by', 'summarise', 'gather', 'separate'): 1,\n",
       " ('group_by', 'summarise', 'gather', 'spread'): 3,\n",
       " ('group_by', 'summarise', 'group_by', 'summarise'): 83,\n",
       " ('group_by', 'summarise', 'mutate', 'select'): 17,\n",
       " ('group_by', 'summarise', 'mutate', 'spread'): 10,\n",
       " ('group_by', 'summarise', 'mutate', 'summarise'): 1,\n",
       " ('group_by', 'summarise', 'select', 'mutate'): 1,\n",
       " ('group_by', 'summarise', 'select', 'separate'): 1,\n",
       " ('group_by', 'summarise', 'select', 'spread'): 1,\n",
       " ('group_by', 'summarise', 'select', 'summarise'): 1,\n",
       " ('group_by', 'summarise', 'separate', 'mutate'): 1,\n",
       " ('group_by', 'summarise', 'spread', 'mutate'): 5,\n",
       " ('group_by', 'summarise', 'spread', 'select'): 4,\n",
       " ('group_by', 'summarise', 'unite', 'spread'): 2,\n",
       " ('mutate', 'gather', 'group_by', 'summarise'): 8,\n",
       " ('mutate', 'gather', 'mutate', 'select'): 1,\n",
       " ('mutate', 'gather', 'select', 'spread'): 2,\n",
       " ('mutate', 'gather', 'separate', 'spread'): 1,\n",
       " ('mutate', 'gather', 'unite', 'spread'): 2,\n",
       " ('mutate', 'group_by', 'summarise', 'mutate'): 10,\n",
       " ('mutate', 'group_by', 'summarise', 'select'): 8,\n",
       " ('mutate', 'group_by', 'summarise', 'separate'): 3,\n",
       " ('mutate', 'group_by', 'summarise', 'spread'): 11,\n",
       " ('mutate', 'select', 'group_by', 'summarise'): 9,\n",
       " ('mutate', 'select', 'mutate', 'select'): 5,\n",
       " ('mutate', 'select', 'spread', 'gather'): 1,\n",
       " ('mutate', 'separate', 'mutate', 'select'): 1,\n",
       " ('mutate', 'separate', 'spread', 'select'): 1,\n",
       " ('mutate', 'spread', 'group_by', 'summarise'): 2,\n",
       " ('mutate', 'spread', 'mutate', 'select'): 1,\n",
       " ('mutate', 'spread', 'mutate', 'spread'): 4,\n",
       " ('mutate', 'spread', 'select', 'unite'): 1,\n",
       " ('select', 'gather', 'group_by', 'summarise'): 2,\n",
       " ('select', 'gather', 'select', 'gather'): 1,\n",
       " ('select', 'gather', 'select', 'mutate'): 1,\n",
       " ('select', 'gather', 'unite', 'spread'): 2,\n",
       " ('select', 'group_by', 'summarise', 'mutate'): 3,\n",
       " ('select', 'group_by', 'summarise', 'select'): 2,\n",
       " ('select', 'group_by', 'summarise', 'spread'): 3,\n",
       " ('select', 'mutate', 'group_by', 'summarise'): 5,\n",
       " ('select', 'mutate', 'select', 'mutate'): 4,\n",
       " ('select', 'mutate', 'spread', 'select'): 3,\n",
       " ('select', 'spread', 'mutate', 'select'): 1,\n",
       " ('select', 'spread', 'select', 'spread'): 7,\n",
       " ('separate', 'gather', 'group_by', 'summarise'): 3,\n",
       " ('separate', 'group_by', 'summarise', 'mutate'): 1,\n",
       " ('separate', 'group_by', 'summarise', 'spread'): 1,\n",
       " ('separate', 'mutate', 'gather', 'spread'): 1,\n",
       " ('separate', 'mutate', 'group_by', 'summarise'): 2,\n",
       " ('separate', 'mutate', 'select', 'mutate'): 1,\n",
       " ('separate', 'mutate', 'select', 'spread'): 1,\n",
       " ('separate', 'mutate', 'separate', 'mutate'): 1,\n",
       " ('separate', 'select', 'unite', 'mutate'): 1,\n",
       " ('spread', 'group_by', 'summarise', 'gather'): 1,\n",
       " ('spread', 'group_by', 'summarise', 'spread'): 3,\n",
       " ('spread', 'mutate', 'gather', 'mutate'): 1,\n",
       " ('spread', 'mutate', 'group_by', 'summarise'): 1,\n",
       " ('spread', 'mutate', 'select', 'gather'): 1,\n",
       " ('spread', 'mutate', 'spread', 'select'): 1,\n",
       " ('spread', 'select', 'group_by', 'summarise'): 1,\n",
       " ('summarise', 'gather', 'separate', 'spread'): 3,\n",
       " ('summarise', 'group_by', 'summarise', 'mutate'): 2,\n",
       " ('summarise', 'mutate', 'group_by', 'summarise'): 2,\n",
       " ('summarise', 'select', 'group_by', 'summarise'): 1,\n",
       " ('summarise', 'unite', 'mutate', 'spread'): 1,\n",
       " ('unite', 'gather', 'group_by', 'summarise'): 1,\n",
       " ('unite', 'group_by', 'summarise', 'spread'): 1}"
      ]
     },
     "execution_count": 82,
     "metadata": {},
     "output_type": "execute_result"
    }
   ],
   "source": [
    "dic4"
   ]
  },
  {
   "cell_type": "code",
   "execution_count": 83,
   "metadata": {},
   "outputs": [],
   "source": [
    "dic5 = {}\n",
    "for p in fdt5:\n",
    "    sp = tuple([dt[\"func_list\"][q] for q in p])\n",
    "    if sp not in dic5:\n",
    "        dic5[sp] = 0\n",
    "    dic5[sp] += 1"
   ]
  },
  {
   "cell_type": "code",
   "execution_count": 84,
   "metadata": {},
   "outputs": [
    {
     "data": {
      "text/plain": [
       "{('gather', 'group_by', 'summarise', 'gather', 'mutate'): 1,\n",
       " ('gather', 'group_by', 'summarise', 'mutate', 'summarise'): 1,\n",
       " ('gather', 'group_by', 'summarise', 'spread', 'mutate'): 1,\n",
       " ('gather', 'group_by', 'summarise', 'spread', 'select'): 2,\n",
       " ('gather', 'mutate', 'group_by', 'summarise', 'spread'): 10,\n",
       " ('gather', 'mutate', 'select', 'spread', 'mutate'): 2,\n",
       " ('gather', 'mutate', 'separate', 'spread', 'mutate'): 1,\n",
       " ('gather', 'mutate', 'spread', 'mutate', 'select'): 1,\n",
       " ('gather', 'separate', 'gather', 'unite', 'spread'): 1,\n",
       " ('gather', 'separate', 'group_by', 'summarise', 'mutate'): 1,\n",
       " ('gather', 'separate', 'group_by', 'summarise', 'spread'): 2,\n",
       " ('gather', 'separate', 'mutate', 'select', 'spread'): 1,\n",
       " ('gather', 'separate', 'mutate', 'spread', 'mutate'): 1,\n",
       " ('gather', 'separate', 'mutate', 'unite', 'spread'): 2,\n",
       " ('gather', 'separate', 'select', 'spread', 'mutate'): 1,\n",
       " ('gather', 'separate', 'select', 'spread', 'select'): 1,\n",
       " ('gather', 'separate', 'spread', 'group_by', 'summarise'): 1,\n",
       " ('gather', 'separate', 'spread', 'mutate', 'gather'): 1,\n",
       " ('gather', 'separate', 'spread', 'mutate', 'select'): 1,\n",
       " ('gather', 'spread', 'group_by', 'summarise', 'mutate'): 1,\n",
       " ('gather', 'spread', 'group_by', 'summarise', 'spread'): 2,\n",
       " ('gather', 'spread', 'mutate', 'select', 'spread'): 2,\n",
       " ('gather', 'unite', 'group_by', 'summarise', 'spread'): 2,\n",
       " ('gather', 'unite', 'mutate', 'spread', 'select'): 2,\n",
       " ('group_by', 'summarise', 'gather', 'unite', 'spread'): 1,\n",
       " ('group_by', 'summarise', 'group_by', 'summarise', 'mutate'): 5,\n",
       " ('group_by', 'summarise', 'group_by', 'summarise', 'spread'): 5,\n",
       " ('group_by', 'summarise', 'mutate', 'group_by', 'summarise'): 4,\n",
       " ('group_by', 'summarise', 'mutate', 'select', 'mutate'): 1,\n",
       " ('group_by', 'summarise', 'mutate', 'select', 'spread'): 1,\n",
       " ('group_by', 'summarise', 'select', 'group_by', 'summarise'): 3,\n",
       " ('group_by', 'summarise', 'spread', 'group_by', 'summarise'): 3,\n",
       " ('mutate', 'gather', 'group_by', 'summarise', 'mutate'): 2,\n",
       " ('mutate', 'gather', 'group_by', 'summarise', 'select'): 2,\n",
       " ('mutate', 'gather', 'mutate', 'group_by', 'summarise'): 1,\n",
       " ('mutate', 'gather', 'mutate', 'select', 'spread'): 2,\n",
       " ('mutate', 'gather', 'mutate', 'spread', 'select'): 2,\n",
       " ('mutate', 'gather', 'select', 'mutate', 'spread'): 1,\n",
       " ('mutate', 'gather', 'select', 'separate', 'spread'): 1,\n",
       " ('mutate', 'gather', 'separate', 'spread', 'mutate'): 1,\n",
       " ('mutate', 'gather', 'unite', 'mutate', 'spread'): 1,\n",
       " ('mutate', 'group_by', 'summarise', 'group_by', 'summarise'): 3,\n",
       " ('mutate', 'group_by', 'summarise', 'mutate', 'select'): 4,\n",
       " ('mutate', 'group_by', 'summarise', 'mutate', 'spread'): 1,\n",
       " ('mutate', 'group_by', 'summarise', 'mutate', 'summarise'): 1,\n",
       " ('mutate', 'group_by', 'summarise', 'spread', 'mutate'): 1,\n",
       " ('mutate', 'group_by', 'summarise', 'spread', 'summarise'): 1,\n",
       " ('mutate', 'select', 'group_by', 'summarise', 'gather'): 1,\n",
       " ('mutate', 'select', 'mutate', 'summarise', 'select'): 1,\n",
       " ('mutate', 'select', 'separate', 'mutate', 'spread'): 1,\n",
       " ('mutate', 'select', 'spread', 'mutate', 'select'): 1,\n",
       " ('mutate', 'separate', 'mutate', 'group_by', 'summarise'): 1,\n",
       " ('select', 'gather', 'group_by', 'summarise', 'mutate'): 2,\n",
       " ('select', 'gather', 'group_by', 'summarise', 'spread'): 2,\n",
       " ('select', 'gather', 'select', 'mutate', 'select'): 2,\n",
       " ('select', 'gather', 'separate', 'spread', 'mutate'): 1,\n",
       " ('select', 'gather', 'separate', 'spread', 'select'): 1,\n",
       " ('select', 'gather', 'unite', 'spread', 'select'): 1,\n",
       " ('select', 'group_by', 'summarise', 'mutate', 'select'): 1,\n",
       " ('select', 'mutate', 'gather', 'unite', 'spread'): 2,\n",
       " ('select', 'mutate', 'group_by', 'summarise', 'select'): 1,\n",
       " ('select', 'mutate', 'select', 'mutate', 'select'): 1,\n",
       " ('select', 'summarise', 'gather', 'separate', 'spread'): 1,\n",
       " ('separate', 'gather', 'mutate', 'select', 'spread'): 1,\n",
       " ('separate', 'mutate', 'gather', 'spread', 'select'): 1,\n",
       " ('spread', 'select', 'mutate', 'select', 'mutate'): 2,\n",
       " ('spread', 'select', 'spread', 'select', 'spread'): 2,\n",
       " ('summarise', 'group_by', 'summarise', 'group_by', 'summarise'): 1,\n",
       " ('unite', 'group_by', 'summarise', 'gather', 'spread'): 2}"
      ]
     },
     "execution_count": 84,
     "metadata": {},
     "output_type": "execute_result"
    }
   ],
   "source": [
    "dic5"
   ]
  },
  {
   "cell_type": "markdown",
   "metadata": {},
   "source": [
    "### write back to file"
   ]
  },
  {
   "cell_type": "code",
   "execution_count": 85,
   "metadata": {},
   "outputs": [],
   "source": [
    "sodics = {3:dic3, 4:dic4, 5:dic5}\n",
    "with open(\"./0807SODICS.pkl\",\"wb\") as f:\n",
    "    pickle.dump(sodics,f)"
   ]
  },
  {
   "cell_type": "code",
   "execution_count": null,
   "metadata": {},
   "outputs": [],
   "source": []
  },
  {
   "cell_type": "code",
   "execution_count": null,
   "metadata": {},
   "outputs": [],
   "source": []
  },
  {
   "cell_type": "code",
   "execution_count": 86,
   "metadata": {},
   "outputs": [
    {
     "data": {
      "text/plain": [
       "dict_values([1, 3, 1, 5, 2, 2, 1, 1, 1, 1, 1, 5, 3, 1, 1, 2, 2, 2, 2, 1, 2, 2, 1, 1, 3, 10, 2, 1, 2, 1, 2, 1, 2, 4, 1, 2, 2, 1, 2, 1, 4, 1, 1, 1, 2, 1, 1, 1, 1, 1, 1, 2, 2, 1, 1, 2, 1, 1, 1, 1, 1, 1, 1, 1, 1, 1, 1, 1, 1])"
      ]
     },
     "execution_count": 86,
     "metadata": {},
     "output_type": "execute_result"
    }
   ],
   "source": [
    "dic5.values()"
   ]
  },
  {
   "cell_type": "code",
   "execution_count": 87,
   "metadata": {},
   "outputs": [
    {
     "data": {
      "text/plain": [
       "dict_keys([('select', 'summarise', 'gather', 'separate', 'spread'), ('group_by', 'summarise', 'select', 'group_by', 'summarise'), ('mutate', 'group_by', 'summarise', 'mutate', 'spread'), ('group_by', 'summarise', 'group_by', 'summarise', 'spread'), ('gather', 'group_by', 'summarise', 'spread', 'select'), ('unite', 'group_by', 'summarise', 'gather', 'spread'), ('select', 'group_by', 'summarise', 'mutate', 'select'), ('mutate', 'select', 'mutate', 'summarise', 'select'), ('mutate', 'gather', 'mutate', 'group_by', 'summarise'), ('gather', 'separate', 'spread', 'group_by', 'summarise'), ('mutate', 'select', 'separate', 'mutate', 'spread'), ('group_by', 'summarise', 'group_by', 'summarise', 'mutate'), ('group_by', 'summarise', 'spread', 'group_by', 'summarise'), ('mutate', 'gather', 'select', 'mutate', 'spread'), ('select', 'mutate', 'group_by', 'summarise', 'select'), ('mutate', 'gather', 'group_by', 'summarise', 'mutate'), ('select', 'gather', 'group_by', 'summarise', 'spread'), ('mutate', 'gather', 'group_by', 'summarise', 'select'), ('gather', 'unite', 'mutate', 'spread', 'select'), ('select', 'gather', 'unite', 'spread', 'select'), ('spread', 'select', 'mutate', 'select', 'mutate'), ('gather', 'unite', 'group_by', 'summarise', 'spread'), ('mutate', 'select', 'group_by', 'summarise', 'gather'), ('gather', 'separate', 'select', 'spread', 'select'), ('mutate', 'group_by', 'summarise', 'group_by', 'summarise'), ('gather', 'mutate', 'group_by', 'summarise', 'spread'), ('gather', 'spread', 'mutate', 'select', 'spread'), ('mutate', 'gather', 'separate', 'spread', 'mutate'), ('mutate', 'gather', 'mutate', 'select', 'spread'), ('group_by', 'summarise', 'mutate', 'select', 'spread'), ('gather', 'separate', 'mutate', 'unite', 'spread'), ('gather', 'separate', 'mutate', 'select', 'spread'), ('select', 'mutate', 'gather', 'unite', 'spread'), ('group_by', 'summarise', 'mutate', 'group_by', 'summarise'), ('mutate', 'group_by', 'summarise', 'spread', 'summarise'), ('select', 'gather', 'group_by', 'summarise', 'mutate'), ('gather', 'spread', 'group_by', 'summarise', 'spread'), ('gather', 'separate', 'spread', 'mutate', 'select'), ('mutate', 'gather', 'mutate', 'spread', 'select'), ('gather', 'separate', 'spread', 'mutate', 'gather'), ('mutate', 'group_by', 'summarise', 'mutate', 'select'), ('gather', 'separate', 'mutate', 'spread', 'mutate'), ('gather', 'separate', 'select', 'spread', 'mutate'), ('mutate', 'select', 'spread', 'mutate', 'select'), ('spread', 'select', 'spread', 'select', 'spread'), ('gather', 'group_by', 'summarise', 'mutate', 'summarise'), ('gather', 'mutate', 'separate', 'spread', 'mutate'), ('group_by', 'summarise', 'mutate', 'select', 'mutate'), ('select', 'gather', 'separate', 'spread', 'mutate'), ('mutate', 'gather', 'unite', 'mutate', 'spread'), ('gather', 'group_by', 'summarise', 'spread', 'mutate'), ('gather', 'separate', 'group_by', 'summarise', 'spread'), ('gather', 'mutate', 'select', 'spread', 'mutate'), ('separate', 'mutate', 'gather', 'spread', 'select'), ('gather', 'mutate', 'spread', 'mutate', 'select'), ('select', 'gather', 'select', 'mutate', 'select'), ('select', 'gather', 'separate', 'spread', 'select'), ('gather', 'spread', 'group_by', 'summarise', 'mutate'), ('mutate', 'separate', 'mutate', 'group_by', 'summarise'), ('mutate', 'gather', 'select', 'separate', 'spread'), ('mutate', 'group_by', 'summarise', 'spread', 'mutate'), ('gather', 'separate', 'group_by', 'summarise', 'mutate'), ('gather', 'group_by', 'summarise', 'gather', 'mutate'), ('gather', 'separate', 'gather', 'unite', 'spread'), ('summarise', 'group_by', 'summarise', 'group_by', 'summarise'), ('mutate', 'group_by', 'summarise', 'mutate', 'summarise'), ('separate', 'gather', 'mutate', 'select', 'spread'), ('select', 'mutate', 'select', 'mutate', 'select'), ('group_by', 'summarise', 'gather', 'unite', 'spread')])"
      ]
     },
     "execution_count": 87,
     "metadata": {},
     "output_type": "execute_result"
    }
   ],
   "source": [
    "dic5.keys()"
   ]
  },
  {
   "cell_type": "code",
   "execution_count": null,
   "metadata": {},
   "outputs": [],
   "source": []
  }
 ],
 "metadata": {
  "kernelspec": {
   "display_name": "Python 3",
   "language": "python",
   "name": "python3"
  },
  "language_info": {
   "codemirror_mode": {
    "name": "ipython",
    "version": 3
   },
   "file_extension": ".py",
   "mimetype": "text/x-python",
   "name": "python",
   "nbconvert_exporter": "python",
   "pygments_lexer": "ipython3",
   "version": "3.6.8"
  }
 },
 "nbformat": 4,
 "nbformat_minor": 2
}
