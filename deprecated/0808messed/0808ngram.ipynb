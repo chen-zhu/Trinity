{
 "cells": [
  {
   "cell_type": "code",
   "execution_count": 1,
   "metadata": {},
   "outputs": [],
   "source": [
    "# load the ngram\n",
    "with open(\"./old_res/size4-ngram-camb5.txt\",\"r\") as f:\n",
    "    ngram4_raw = f.readlines()\n",
    "ngram4 = [tuple(p.split()) for p in ngram4_raw]"
   ]
  },
  {
   "cell_type": "code",
   "execution_count": 3,
   "metadata": {},
   "outputs": [],
   "source": [
    "# load the designated dataset\n",
    "import pickle\n",
    "with open(\"./0807SOSize4.pkl\",\"rb\") as f:\n",
    "    dt = pickle.load(f)"
   ]
  },
  {
   "cell_type": "code",
   "execution_count": 4,
   "metadata": {},
   "outputs": [],
   "source": [
    "def get_sketch_from_prog(p_prog):\n",
    "    s_prog = str(p_prog)\n",
    "    tmp_s = s_prog.index(\"@\")\n",
    "    tmp_sl= s_prog[:tmp_s].split(\"(\")[::-1]\n",
    "    tmp_sls=[p for p in tmp_sl if p]\n",
    "    return tuple(tmp_sls)"
   ]
  },
  {
   "cell_type": "code",
   "execution_count": 5,
   "metadata": {},
   "outputs": [],
   "source": [
    "ngram_rankings = []\n",
    "# the first 100 are for testing\n",
    "for i in range(100):\n",
    "    dsketch = get_sketch_from_prog(dt[i][0])\n",
    "    ngram_rankings.append(ngram4.index(dsketch))"
   ]
  },
  {
   "cell_type": "code",
   "execution_count": 6,
   "metadata": {},
   "outputs": [
    {
     "data": {
      "text/plain": [
       "100.52"
      ]
     },
     "execution_count": 6,
     "metadata": {},
     "output_type": "execute_result"
    }
   ],
   "source": [
    "sum(ngram_rankings)/len(ngram_rankings)"
   ]
  }
 ],
 "metadata": {
  "kernelspec": {
   "display_name": "Python 3",
   "language": "python",
   "name": "python3"
  },
  "language_info": {
   "codemirror_mode": {
    "name": "ipython",
    "version": 3
   },
   "file_extension": ".py",
   "mimetype": "text/x-python",
   "name": "python",
   "nbconvert_exporter": "python",
   "pygments_lexer": "ipython3",
   "version": "3.6.8"
  }
 },
 "nbformat": 4,
 "nbformat_minor": 2
}
