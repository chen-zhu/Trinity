{
 "cells": [
  {
   "cell_type": "code",
   "execution_count": 1,
   "metadata": {},
   "outputs": [],
   "source": [
    "import pickle\n",
    "dt = pickle.load(open(\"./0804MDsize3_part1.pkl\",\"rb\"))"
   ]
  },
  {
   "cell_type": "code",
   "execution_count": 4,
   "metadata": {},
   "outputs": [
    {
     "data": {
      "text/plain": [
       "\"select(gather(separate(@param0, 1), ['2', '5']), ['3', '5'])\""
      ]
     },
     "execution_count": 4,
     "metadata": {},
     "output_type": "execute_result"
    }
   ],
   "source": [
    "str(dt[0][0])"
   ]
  },
  {
   "cell_type": "code",
   "execution_count": 9,
   "metadata": {},
   "outputs": [],
   "source": [
    "sind = str(dt[0][0]).index(\"@\")\n",
    "sss = str(dt[0][0])[:sind]\n",
    "sl = sss.split(\"(\")[::-1]"
   ]
  },
  {
   "cell_type": "code",
   "execution_count": 10,
   "metadata": {},
   "outputs": [
    {
     "data": {
      "text/plain": [
       "['separate', 'gather', 'select']"
      ]
     },
     "execution_count": 10,
     "metadata": {},
     "output_type": "execute_result"
    }
   ],
   "source": [
    "[p for p in sl if p]"
   ]
  },
  {
   "cell_type": "code",
   "execution_count": null,
   "metadata": {},
   "outputs": [],
   "source": []
  },
  {
   "cell_type": "code",
   "execution_count": 11,
   "metadata": {},
   "outputs": [
    {
     "data": {
      "text/plain": [
       "[['gather', 'unite', 'spread'],\n",
       " ['gather', 'separate', 'spread'],\n",
       " ['gather', 'separate', 'select'],\n",
       " ['gather', 'spread', 'select'],\n",
       " ['gather', 'select', 'spread'],\n",
       " ['separate', 'spread', 'select'],\n",
       " ['select', 'spread', 'select'],\n",
       " ['unite', 'spread', 'select'],\n",
       " ['select', 'gather', 'select'],\n",
       " ['gather', 'unite', 'select'],\n",
       " ['separate', 'unite', 'spread'],\n",
       " ['unite', 'unite', 'spread'],\n",
       " ['select', 'gather', 'spread'],\n",
       " ['separate', 'gather', 'select'],\n",
       " ['gather', 'separate', 'gather'],\n",
       " ['select', 'unite', 'spread'],\n",
       " ['gather', 'unite', 'unite'],\n",
       " ['separate', 'gather', 'spread'],\n",
       " ['spread', 'select', 'spread'],\n",
       " ['select', 'gather', 'separate'],\n",
       " ['select', 'separate', 'spread'],\n",
       " ['gather', 'separate', 'unite'],\n",
       " ['separate', 'gather', 'separate'],\n",
       " ['separate', 'select', 'spread'],\n",
       " ['select', 'gather', 'unite'],\n",
       " ['gather', 'select', 'gather'],\n",
       " ['gather', 'unite', 'separate'],\n",
       " ['spread', 'gather', 'select'],\n",
       " ['spread', 'unite', 'spread'],\n",
       " ['unite', 'separate', 'spread'],\n",
       " ['separate', 'gather', 'unite'],\n",
       " ['spread', 'gather', 'spread'],\n",
       " ['gather', 'spread', 'gather'],\n",
       " ['spread', 'separate', 'spread'],\n",
       " ['spread', 'gather', 'separate'],\n",
       " ['separate', 'spread', 'gather'],\n",
       " ['select', 'separate', 'select'],\n",
       " ['select', 'spread', 'gather'],\n",
       " ['separate', 'unite', 'select'],\n",
       " ['unite', 'unite', 'select'],\n",
       " ['gather', 'select', 'separate'],\n",
       " ['unite', 'select', 'spread'],\n",
       " ['gather', 'unite', 'gather'],\n",
       " ['spread', 'select', 'gather'],\n",
       " ['unite', 'spread', 'gather'],\n",
       " ['gather', 'select', 'unite'],\n",
       " ['spread', 'gather', 'unite'],\n",
       " ['select', 'unite', 'select'],\n",
       " ['gather', 'spread', 'separate'],\n",
       " ['unite', 'separate', 'select'],\n",
       " ['gather', 'spread', 'unite'],\n",
       " ['separate', 'unite', 'unite'],\n",
       " ['unite', 'gather', 'select'],\n",
       " ['separate', 'select', 'gather'],\n",
       " ['separate', 'spread', 'separate'],\n",
       " ['separate', 'spread', 'unite'],\n",
       " ['select', 'spread', 'separate'],\n",
       " ['unite', 'gather', 'spread'],\n",
       " ['select', 'unite', 'unite'],\n",
       " ['select', 'spread', 'unite'],\n",
       " ['spread', 'separate', 'select'],\n",
       " ['unite', 'spread', 'separate'],\n",
       " ['select', 'separate', 'gather'],\n",
       " ['unite', 'spread', 'unite'],\n",
       " ['unite', 'gather', 'separate'],\n",
       " ['separate', 'unite', 'separate'],\n",
       " ['unite', 'unite', 'separate'],\n",
       " ['spread', 'unite', 'select'],\n",
       " ['spread', 'select', 'separate'],\n",
       " ['spread', 'select', 'unite'],\n",
       " ['select', 'unite', 'separate'],\n",
       " ['unite', 'separate', 'gather'],\n",
       " ['select', 'separate', 'unite'],\n",
       " ['unite', 'gather', 'unite'],\n",
       " ['separate', 'select', 'separate'],\n",
       " ['spread', 'unite', 'unite'],\n",
       " ['unite', 'select', 'gather'],\n",
       " ['separate', 'select', 'unite'],\n",
       " ['spread', 'separate', 'gather'],\n",
       " ['unite', 'separate', 'unite'],\n",
       " ['separate', 'unite', 'gather'],\n",
       " ['unite', 'unite', 'gather'],\n",
       " ['spread', 'unite', 'separate'],\n",
       " ['select', 'unite', 'gather'],\n",
       " ['spread', 'separate', 'unite'],\n",
       " ['unite', 'select', 'separate'],\n",
       " ['unite', 'select', 'unite'],\n",
       " ['spread', 'unite', 'gather']]"
      ]
     },
     "execution_count": 11,
     "metadata": {},
     "output_type": "execute_result"
    }
   ],
   "source": [
    "with open(\"./size3-ngram-camb3.txt\",\"r\") as f:\n",
    "    ngram_raw = f.readlines()\n",
    "ngram_parsed = []\n",
    "for dline in ngram_raw:\n",
    "    ngram_parsed.append(dline.split())\n",
    "ngram_parsed"
   ]
  },
  {
   "cell_type": "code",
   "execution_count": null,
   "metadata": {},
   "outputs": [],
   "source": []
  },
  {
   "cell_type": "code",
   "execution_count": 37,
   "metadata": {},
   "outputs": [],
   "source": [
    "prog_parsed = []\n",
    "for dp in filtered_dt:\n",
    "    dprog = str(dp[0])\n",
    "    dst = dprog.index(\"@\")\n",
    "    dlist = dprog[:dst].split(\"(\")[::-1]\n",
    "    dll = [p for p in dlist if p]\n",
    "    prog_parsed.append(dll)"
   ]
  },
  {
   "cell_type": "code",
   "execution_count": 39,
   "metadata": {},
   "outputs": [
    {
     "data": {
      "text/plain": [
       "460"
      ]
     },
     "execution_count": 39,
     "metadata": {},
     "output_type": "execute_result"
    }
   ],
   "source": [
    "len(prog_parsed)"
   ]
  },
  {
   "cell_type": "code",
   "execution_count": null,
   "metadata": {},
   "outputs": [],
   "source": []
  },
  {
   "cell_type": "code",
   "execution_count": 40,
   "metadata": {},
   "outputs": [
    {
     "data": {
      "text/plain": [
       "9"
      ]
     },
     "execution_count": 40,
     "metadata": {},
     "output_type": "execute_result"
    }
   ],
   "source": [
    "ngram_parsed.index(prog_parsed[9])"
   ]
  },
  {
   "cell_type": "code",
   "execution_count": 41,
   "metadata": {},
   "outputs": [],
   "source": [
    "rnk_list = []\n",
    "for p in prog_parsed:\n",
    "    rnk_list.append(ngram_parsed.index(p)+1)"
   ]
  },
  {
   "cell_type": "code",
   "execution_count": 42,
   "metadata": {},
   "outputs": [
    {
     "data": {
      "text/plain": [
       "9.358695652173912"
      ]
     },
     "execution_count": 42,
     "metadata": {},
     "output_type": "execute_result"
    }
   ],
   "source": [
    "sum(rnk_list)/len(rnk_list)"
   ]
  },
  {
   "cell_type": "code",
   "execution_count": null,
   "metadata": {},
   "outputs": [],
   "source": [
    "# 9.358695652173912"
   ]
  },
  {
   "cell_type": "code",
   "execution_count": null,
   "metadata": {},
   "outputs": [],
   "source": []
  },
  {
   "cell_type": "code",
   "execution_count": null,
   "metadata": {},
   "outputs": [],
   "source": []
  },
  {
   "cell_type": "code",
   "execution_count": null,
   "metadata": {},
   "outputs": [],
   "source": []
  },
  {
   "cell_type": "code",
   "execution_count": null,
   "metadata": {},
   "outputs": [],
   "source": []
  },
  {
   "cell_type": "code",
   "execution_count": null,
   "metadata": {},
   "outputs": [],
   "source": []
  },
  {
   "cell_type": "code",
   "execution_count": 22,
   "metadata": {},
   "outputs": [],
   "source": [
    "SOList = [\n",
    "    [\"gather\",\"separate\",\"gather\"],\n",
    "    [\"gather\",\"separate\",\"select\"],\n",
    "    [\"gather\",\"separate\",\"spread\"],\n",
    "    [\"gather\",\"separate\",\"unite\"],\n",
    "    [\"gather\",\"spread\",\"select\"],\n",
    "    [\"gather\",\"unite\",\"select\"],\n",
    "    [\"gather\",\"unite\",\"spread\"],\n",
    "    [\"separate\",\"gather\",\"select\"],\n",
    "]"
   ]
  },
  {
   "cell_type": "code",
   "execution_count": 46,
   "metadata": {},
   "outputs": [],
   "source": [
    "ddsts = [0 for _ in range(8)]"
   ]
  },
  {
   "cell_type": "code",
   "execution_count": 47,
   "metadata": {},
   "outputs": [],
   "source": [
    "filtered_ind = []\n",
    "for idx in range(len(prog_parsed)):\n",
    "    if prog_parsed[idx] in SOList:\n",
    "        filtered_ind.append(idx)\n",
    "        ddsts[SOList.index(prog_parsed[idx])] += 1"
   ]
  },
  {
   "cell_type": "code",
   "execution_count": 48,
   "metadata": {},
   "outputs": [
    {
     "data": {
      "text/plain": [
       "[13, 12, 1, 11, 135, 179, 2, 107]"
      ]
     },
     "execution_count": 48,
     "metadata": {},
     "output_type": "execute_result"
    }
   ],
   "source": [
    "ddsts"
   ]
  },
  {
   "cell_type": "code",
   "execution_count": 32,
   "metadata": {},
   "outputs": [
    {
     "data": {
      "text/plain": [
       "['separate', 'gather', 'select']"
      ]
     },
     "execution_count": 32,
     "metadata": {},
     "output_type": "execute_result"
    }
   ],
   "source": [
    "prog_parsed[0]"
   ]
  },
  {
   "cell_type": "code",
   "execution_count": 30,
   "metadata": {},
   "outputs": [
    {
     "data": {
      "text/plain": [
       "460"
      ]
     },
     "execution_count": 30,
     "metadata": {},
     "output_type": "execute_result"
    }
   ],
   "source": [
    "len(filtered_ind)"
   ]
  },
  {
   "cell_type": "code",
   "execution_count": 31,
   "metadata": {},
   "outputs": [
    {
     "data": {
      "text/plain": [
       "0"
      ]
     },
     "execution_count": 31,
     "metadata": {},
     "output_type": "execute_result"
    }
   ],
   "source": [
    "filtered_ind[0]"
   ]
  },
  {
   "cell_type": "code",
   "execution_count": null,
   "metadata": {},
   "outputs": [],
   "source": []
  },
  {
   "cell_type": "code",
   "execution_count": null,
   "metadata": {},
   "outputs": [],
   "source": []
  },
  {
   "cell_type": "code",
   "execution_count": 33,
   "metadata": {},
   "outputs": [],
   "source": [
    "filtered_dt = []\n",
    "for idx in filtered_ind:\n",
    "    filtered_dt.append(\n",
    "        dt[idx]\n",
    "    )"
   ]
  },
  {
   "cell_type": "code",
   "execution_count": 34,
   "metadata": {},
   "outputs": [
    {
     "data": {
      "text/plain": [
       "460"
      ]
     },
     "execution_count": 34,
     "metadata": {},
     "output_type": "execute_result"
    }
   ],
   "source": [
    "len(filtered_dt)"
   ]
  },
  {
   "cell_type": "code",
   "execution_count": 35,
   "metadata": {},
   "outputs": [
    {
     "data": {
      "text/plain": [
       "(ApplyNode(select, [ApplyNode(gather, [ApplyNode(separate, [ParamNode(0), AtomNode(1)]), AtomNode(['2', '5'])]), AtomNode(['3', '5'])]),\n",
       " Example(input=['structure(list(histotrophy = c(\"preexamines_nonequal\", \"chromolithography_flexing\", \\n\"lymphogranulomata_kpc\", \"ferritic_sacrarium\", \"gledge_galyacs\", \\n\"rickettsiales_unreconsidered\", \"unfriendship_arpanet\"), reorganization = c(\"crith\", \\n\"censes\", \"censes\", \"spoused\", \"crith\", \"crith\", \"spoused\"), \\n    hicket = c(86.69, 90.08, -6.48, 2.79, -52.21, -87.47, 71.48\\n    ), valorises = c(\"imperate\", \"pinas\", \"aerophysicist\", \"washmaid\", \\n    \"fixates\", \"prunaceae\", \"centesimal\")), class = \"data.frame\", row.names = c(NA, \\n-7L))'], output='structure(list(hicket = c(86.69, 90.08, -6.48, 2.79, -52.21, \\n-87.47, 71.48, 86.69, 90.08, -6.48, 2.79, -52.21, -87.47, 71.48\\n), palaung = c(\"nonequal\", \"flexing\", \"kpc\", \"sacrarium\", \"galyacs\", \\n\"unreconsidered\", \"arpanet\", \"imperate\", \"pinas\", \"aerophysicist\", \\n\"washmaid\", \"fixates\", \"prunaceae\", \"centesimal\")), row.names = c(NA, \\n-14L), class = \"data.frame\")'))"
      ]
     },
     "execution_count": 35,
     "metadata": {},
     "output_type": "execute_result"
    }
   ],
   "source": [
    "filtered_dt[0]"
   ]
  },
  {
   "cell_type": "code",
   "execution_count": null,
   "metadata": {},
   "outputs": [],
   "source": []
  },
  {
   "cell_type": "code",
   "execution_count": null,
   "metadata": {},
   "outputs": [],
   "source": []
  },
  {
   "cell_type": "code",
   "execution_count": 36,
   "metadata": {},
   "outputs": [],
   "source": [
    "with open(\"./0805MDSOsize3.pkl\",\"wb\") as f:\n",
    "    pickle.dump(filtered_dt,f)"
   ]
  },
  {
   "cell_type": "code",
   "execution_count": null,
   "metadata": {},
   "outputs": [],
   "source": []
  },
  {
   "cell_type": "code",
   "execution_count": null,
   "metadata": {},
   "outputs": [],
   "source": []
  },
  {
   "cell_type": "code",
   "execution_count": 44,
   "metadata": {},
   "outputs": [
    {
     "data": {
      "text/plain": [
       "(ApplyNode(select, [ApplyNode(gather, [ApplyNode(separate, [ParamNode(0), AtomNode(1)]), AtomNode(['2', '5'])]), AtomNode(['3', '5'])]),\n",
       " Example(input=['structure(list(histotrophy = c(\"preexamines_nonequal\", \"chromolithography_flexing\", \\n\"lymphogranulomata_kpc\", \"ferritic_sacrarium\", \"gledge_galyacs\", \\n\"rickettsiales_unreconsidered\", \"unfriendship_arpanet\"), reorganization = c(\"crith\", \\n\"censes\", \"censes\", \"spoused\", \"crith\", \"crith\", \"spoused\"), \\n    hicket = c(86.69, 90.08, -6.48, 2.79, -52.21, -87.47, 71.48\\n    ), valorises = c(\"imperate\", \"pinas\", \"aerophysicist\", \"washmaid\", \\n    \"fixates\", \"prunaceae\", \"centesimal\")), class = \"data.frame\", row.names = c(NA, \\n-7L))'], output='structure(list(hicket = c(86.69, 90.08, -6.48, 2.79, -52.21, \\n-87.47, 71.48, 86.69, 90.08, -6.48, 2.79, -52.21, -87.47, 71.48\\n), palaung = c(\"nonequal\", \"flexing\", \"kpc\", \"sacrarium\", \"galyacs\", \\n\"unreconsidered\", \"arpanet\", \"imperate\", \"pinas\", \"aerophysicist\", \\n\"washmaid\", \"fixates\", \"prunaceae\", \"centesimal\")), row.names = c(NA, \\n-14L), class = \"data.frame\")'))"
      ]
     },
     "execution_count": 44,
     "metadata": {},
     "output_type": "execute_result"
    }
   ],
   "source": [
    "filtered_dt[0]"
   ]
  },
  {
   "cell_type": "code",
   "execution_count": null,
   "metadata": {},
   "outputs": [],
   "source": []
  },
  {
   "cell_type": "code",
   "execution_count": null,
   "metadata": {},
   "outputs": [],
   "source": []
  },
  {
   "cell_type": "code",
   "execution_count": null,
   "metadata": {},
   "outputs": [],
   "source": []
  },
  {
   "cell_type": "code",
   "execution_count": null,
   "metadata": {},
   "outputs": [],
   "source": []
  },
  {
   "cell_type": "code",
   "execution_count": null,
   "metadata": {},
   "outputs": [],
   "source": []
  }
 ],
 "metadata": {
  "kernelspec": {
   "display_name": "Python 3",
   "language": "python",
   "name": "python3"
  },
  "language_info": {
   "codemirror_mode": {
    "name": "ipython",
    "version": 3
   },
   "file_extension": ".py",
   "mimetype": "text/x-python",
   "name": "python",
   "nbconvert_exporter": "python",
   "pygments_lexer": "ipython3",
   "version": "3.6.8"
  }
 },
 "nbformat": 4,
 "nbformat_minor": 2
}
