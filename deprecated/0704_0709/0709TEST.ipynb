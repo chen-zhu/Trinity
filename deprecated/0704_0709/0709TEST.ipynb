{
 "cells": [
  {
   "cell_type": "code",
   "execution_count": 1,
   "metadata": {},
   "outputs": [
    {
     "name": "stderr",
     "output_type": "stream",
     "text": [
      "R[write to console]: \n",
      "Attaching package: ‘compare’\n",
      "\n",
      "\n",
      "R[write to console]: The following object is masked from ‘package:base’:\n",
      "\n",
      "    isTRUE\n",
      "\n",
      "\n",
      "R[write to console]: \n",
      "Attaching package: ‘dplyr’\n",
      "\n",
      "\n",
      "R[write to console]: The following objects are masked from ‘package:stats’:\n",
      "\n",
      "    filter, lag\n",
      "\n",
      "\n",
      "R[write to console]: The following objects are masked from ‘package:base’:\n",
      "\n",
      "    intersect, setdiff, setequal, union\n",
      "\n",
      "\n"
     ]
    }
   ],
   "source": [
    "from utils_morpheus import *\n",
    "from ProgramSpace import *"
   ]
  },
  {
   "cell_type": "code",
   "execution_count": 2,
   "metadata": {},
   "outputs": [],
   "source": [
    "def get_new_program(p_interpreter, p_generator):\n",
    "    # initialize a program first\n",
    "    while True:\n",
    "        p_input = p_interpreter.random_table()\n",
    "        p_prog, p_example = p_generator.generate(\n",
    "            fixed_depth=4,\n",
    "            example=Example(input=[p_input], output=None),\n",
    "        )\n",
    "        # make sure at least one function call\n",
    "        if p_prog is not None and p_prog.is_apply():\n",
    "            break\n",
    "    return p_prog, p_example"
   ]
  },
  {
   "cell_type": "code",
   "execution_count": 3,
   "metadata": {},
   "outputs": [],
   "source": [
    "m_interpreter = MorpheusInterpreter()\n",
    "m_spec = S.parse_file('./example/camb3.tyrell')\n",
    "m_generator = MorpheusGenerator(\n",
    "    spec=m_spec,\n",
    "    interpreter=m_interpreter,\n",
    "    sfn=m_interpreter.sanity_check,\n",
    ")\n",
    "m_ps = ProgramSpace(\n",
    "    m_spec, m_interpreter, [None], None,\n",
    ")"
   ]
  },
  {
   "cell_type": "code",
   "execution_count": 4,
   "metadata": {},
   "outputs": [],
   "source": [
    "m_prog, m_example = get_new_program(m_interpreter, m_generator)"
   ]
  },
  {
   "cell_type": "code",
   "execution_count": 9,
   "metadata": {},
   "outputs": [
    {
     "data": {
      "text/plain": [
       "\"R object with classes: ('data.frame',) mapped to:\\n[StrSe..., StrSe..., StrSe..., Float..., Float..., StrSe...]\\n  OCOL1: <class 'rpy2.rinterface_lib.sexp.StrSexpVector'>\\n  <rpy2.rinterface_lib.sexp.StrSexpVector object at 0x7fd5c46ae048> [RTYPES.STRSXP]\\n  COL65: <class 'rpy2.rinterface_lib.sexp.StrSexpVector'>\\n  <rpy2.rinterface_lib.sexp.StrSexpVector object at 0x7fd5c2f71808> [RTYPES.STRSXP]\\n  COL68: <class 'rpy2.rinterface_lib.sexp.StrSexpVector'>\\n  <rpy2.rinterface_lib.sexp.StrSexpVector object at 0x7fd5c46ae048> [RTYPES.STRSXP]\\n  OCOL5: <class 'rpy2.rinterface.FloatSexpVector'>\\n  <rpy2.rinterface.FloatSexpVector object at 0x7fd5c2f71808> [RTYPES.REALSXP]\\n  OCOL6: <class 'rpy2.rinterface.FloatSexpVector'>\\n  <rpy2.rinterface.FloatSexpVector object at 0x7fd5f205c848> [RTYPES.REALSXP]\\n  VALUE: <class 'rpy2.rinterface_lib.sexp.StrSexpVector'>\\n  <rpy2.rinterface_lib.sexp.StrSexpVector object at 0x7fd5c2fd47c8> [RTYPES.STRSXP]\""
      ]
     },
     "execution_count": 9,
     "metadata": {},
     "output_type": "execute_result"
    }
   ],
   "source": [
    "robjects.r(m_example.output).__repr__()"
   ]
  },
  {
   "cell_type": "code",
   "execution_count": 10,
   "metadata": {},
   "outputs": [
    {
     "data": {
      "text/plain": [
       "'structure(list(OCOL1 = c(\"wileproof\", \"cellager\", \"unsatiate\", \\n\"bradypus\", \"chrisom\", \"unshakenness\", \"rm\", \"wileproof\", \"cellager\", \\n\"unsatiate\", \"bradypus\", \"chrisom\", \"unshakenness\", \"rm\"), COL65 = c(\"08\", \\n\"16\", \"05\", \"61\", \"31\", \"72\", \"26\", \"08\", \"16\", \"05\", \"61\", \"31\", \\n\"72\", \"26\"), COL68 = c(\"42.28_COL64\", \"-38.05_COL64\", \"47.41_COL64\", \\n\"25.23_COL64\", \"73.12_COL64\", \"39.05_COL64\", \"-35.47_COL64\", \\n\"42.28_OCOL3\", \"-38.05_OCOL3\", \"47.41_OCOL3\", \"25.23_OCOL3\", \\n\"73.12_OCOL3\", \"39.05_OCOL3\", \"-35.47_OCOL3\"), OCOL5 = c(91, \\n37, -52, 12, -32, 91, 88, 91, 37, -52, 12, -32, 91, 88), OCOL6 = c(55, \\n86, -93, 13, 86, 86, 86, 55, 86, -93, 13, 86, 86, 86), VALUE = c(\"37\", \\n\"\", \"5\", \"\", \"\", \"\", \"\", \"-85\", \"50\", \"-28\", \"-50\", \"-39\", \"92\", \\n\"74\")), .Names = c(\"OCOL1\", \"COL65\", \"COL68\", \"OCOL5\", \"OCOL6\", \\n\"VALUE\"), class = \"data.frame\", row.names = c(NA, -14L))'"
      ]
     },
     "execution_count": 10,
     "metadata": {},
     "output_type": "execute_result"
    }
   ],
   "source": [
    "robjects.r(m_example.output).r_repr()"
   ]
  },
  {
   "cell_type": "code",
   "execution_count": 5,
   "metadata": {},
   "outputs": [],
   "source": [
    "new_ps = ProgramSpace(\n",
    "    m_spec, m_interpreter, m_example.input, m_example.output\n",
    ")"
   ]
  },
  {
   "cell_type": "code",
   "execution_count": 6,
   "metadata": {},
   "outputs": [],
   "source": [
    "new_ps.init_by_prog(m_prog)"
   ]
  },
  {
   "cell_type": "code",
   "execution_count": 8,
   "metadata": {},
   "outputs": [
    {
     "data": {
      "text/plain": [
       "[AtomNode(1),\n",
       " AtomNode(2),\n",
       " AtomNode(3),\n",
       " AtomNode(4),\n",
       " AtomNode(5),\n",
       " AtomNode(6),\n",
       " AtomNode(-1),\n",
       " AtomNode(-2),\n",
       " AtomNode(-3),\n",
       " AtomNode(-4),\n",
       " AtomNode(-5),\n",
       " AtomNode(-6),\n",
       " AtomNode(0),\n",
       " AtomNode(1),\n",
       " AtomNode(2),\n",
       " AtomNode(3),\n",
       " AtomNode(4),\n",
       " AtomNode(5),\n",
       " AtomNode(6),\n",
       " AtomNode(['1']),\n",
       " AtomNode(['2']),\n",
       " AtomNode(['3']),\n",
       " AtomNode(['4']),\n",
       " AtomNode(['5']),\n",
       " AtomNode(['6']),\n",
       " AtomNode(['1', '2']),\n",
       " AtomNode(['1', '3']),\n",
       " AtomNode(['1', '4']),\n",
       " AtomNode(['1', '5']),\n",
       " AtomNode(['1', '6']),\n",
       " AtomNode(['2', '3']),\n",
       " AtomNode(['2', '4']),\n",
       " AtomNode(['2', '5']),\n",
       " AtomNode(['2', '6']),\n",
       " AtomNode(['3', '4']),\n",
       " AtomNode(['3', '5']),\n",
       " AtomNode(['3', '6']),\n",
       " AtomNode(['4', '5']),\n",
       " AtomNode(['4', '6']),\n",
       " AtomNode(['5', '6']),\n",
       " AtomNode(['-1']),\n",
       " AtomNode(['-2']),\n",
       " AtomNode(['-3']),\n",
       " AtomNode(['-4']),\n",
       " AtomNode(['-5']),\n",
       " AtomNode(['-6']),\n",
       " AtomNode(['-1', '-2']),\n",
       " AtomNode(['-1', '-3']),\n",
       " AtomNode(['-1', '-4']),\n",
       " AtomNode(['-1', '-5']),\n",
       " AtomNode(['-1', '-6']),\n",
       " AtomNode(['-2', '-3']),\n",
       " AtomNode(['-2', '-4']),\n",
       " AtomNode(['-2', '-5']),\n",
       " AtomNode(['-2', '-6']),\n",
       " AtomNode(['-3', '-4']),\n",
       " AtomNode(['-3', '-5']),\n",
       " AtomNode(['-3', '-6']),\n",
       " AtomNode(['-4', '-5']),\n",
       " AtomNode(['-4', '-6']),\n",
       " AtomNode(['-5', '-6']),\n",
       " AtomNode(min),\n",
       " AtomNode(max),\n",
       " AtomNode(sum),\n",
       " AtomNode(mean),\n",
       " AtomNode(/),\n",
       " AtomNode(==),\n",
       " AtomNode(>),\n",
       " AtomNode(<),\n",
       " ParamNode(0),\n",
       " ApplyNode(unite, [ParamNode(0), AtomNode(5), AtomNode(2)]),\n",
       " ApplyNode(spread, [ApplyNode(unite, [ParamNode(0), AtomNode(5), AtomNode(2)]), AtomNode(1), AtomNode(2)]),\n",
       " ApplyNode(unite, [ApplyNode(spread, [ApplyNode(unite, [ParamNode(0), AtomNode(5), AtomNode(2)]), AtomNode(1), AtomNode(2)]), AtomNode(4), AtomNode(3)])]"
      ]
     },
     "execution_count": 8,
     "metadata": {},
     "output_type": "execute_result"
    }
   ],
   "source": [
    "new_ps.node_list"
   ]
  },
  {
   "cell_type": "code",
   "execution_count": 7,
   "metadata": {},
   "outputs": [
    {
     "data": {
      "text/plain": [
       "72"
      ]
     },
     "execution_count": 7,
     "metadata": {},
     "output_type": "execute_result"
    }
   ],
   "source": [
    "new_ps.check_eq()"
   ]
  },
  {
   "cell_type": "code",
   "execution_count": 9,
   "metadata": {},
   "outputs": [
    {
     "data": {
      "text/plain": [
       "ApplyNode(gather, [ApplyNode(separate, [ApplyNode(select, [ParamNode(0), AtomNode(['1'])]), AtomNode(1)]), AtomNode(['2'])])"
      ]
     },
     "execution_count": 9,
     "metadata": {},
     "output_type": "execute_result"
    }
   ],
   "source": [
    "m_prog"
   ]
  },
  {
   "cell_type": "code",
   "execution_count": 13,
   "metadata": {},
   "outputs": [
    {
     "data": {
      "text/plain": [
       "FunctionProduction(id=2, lhs=ValueType(Table, properties={'col': <ExprType.INT: 'int'>, 'row': <ExprType.INT: 'int'>, 'head': <ExprType.INT: 'int'>, 'content': <ExprType.INT: 'int'>}), name=gather, rhs=[ValueType(Table, properties={'col': <ExprType.INT: 'int'>, 'row': <ExprType.INT: 'int'>, 'head': <ExprType.INT: 'int'>, 'content': <ExprType.INT: 'int'>}), EnumType(ColList, domain=[['1'], ['2'], ['3'], ['4'], ['5'], ['6'], ['1', '2'], ['1', '3'], ['1', '4'], ['1', '5'], ['1', '6'], ['2', '3'], ['2', '4'], ['2', '5'], ['2', '6'], ['3', '4'], ['3', '5'], ['3', '6'], ['4', '5'], ['4', '6'], ['5', '6']])])"
      ]
     },
     "execution_count": 13,
     "metadata": {},
     "output_type": "execute_result"
    }
   ],
   "source": [
    "m_prog._prod"
   ]
  },
  {
   "cell_type": "code",
   "execution_count": 14,
   "metadata": {},
   "outputs": [
    {
     "data": {
      "text/plain": [
       "True"
      ]
     },
     "execution_count": 14,
     "metadata": {},
     "output_type": "execute_result"
    }
   ],
   "source": [
    "m_prog._prod==m_ps.prod_list[2]"
   ]
  },
  {
   "cell_type": "code",
   "execution_count": 17,
   "metadata": {},
   "outputs": [
    {
     "data": {
      "text/plain": [
       "[]"
      ]
     },
     "execution_count": 17,
     "metadata": {},
     "output_type": "execute_result"
    }
   ],
   "source": [
    "m_ps.node_list[0].children"
   ]
  },
  {
   "cell_type": "code",
   "execution_count": 18,
   "metadata": {},
   "outputs": [
    {
     "data": {
      "text/plain": [
       "[]"
      ]
     },
     "execution_count": 18,
     "metadata": {},
     "output_type": "execute_result"
    }
   ],
   "source": [
    "m_ps.node_list[-1].children"
   ]
  },
  {
   "cell_type": "code",
   "execution_count": 19,
   "metadata": {},
   "outputs": [
    {
     "data": {
      "text/plain": [
       "[ApplyNode(separate, [ApplyNode(select, [ParamNode(0), AtomNode(['1'])]), AtomNode(1)]),\n",
       " AtomNode(['2'])]"
      ]
     },
     "execution_count": 19,
     "metadata": {},
     "output_type": "execute_result"
    }
   ],
   "source": [
    "m_prog.children"
   ]
  },
  {
   "cell_type": "code",
   "execution_count": 21,
   "metadata": {},
   "outputs": [
    {
     "data": {
      "text/plain": [
       "True"
      ]
     },
     "execution_count": 21,
     "metadata": {},
     "output_type": "execute_result"
    }
   ],
   "source": [
    "m_prog.is_apply()"
   ]
  },
  {
   "cell_type": "code",
   "execution_count": 22,
   "metadata": {},
   "outputs": [
    {
     "data": {
      "text/plain": [
       "FunctionProduction(id=2, lhs=ValueType(Table, properties={'col': <ExprType.INT: 'int'>, 'row': <ExprType.INT: 'int'>, 'head': <ExprType.INT: 'int'>, 'content': <ExprType.INT: 'int'>}), name=gather, rhs=[ValueType(Table, properties={'col': <ExprType.INT: 'int'>, 'row': <ExprType.INT: 'int'>, 'head': <ExprType.INT: 'int'>, 'content': <ExprType.INT: 'int'>}), EnumType(ColList, domain=[['1'], ['2'], ['3'], ['4'], ['5'], ['6'], ['1', '2'], ['1', '3'], ['1', '4'], ['1', '5'], ['1', '6'], ['2', '3'], ['2', '4'], ['2', '5'], ['2', '6'], ['3', '4'], ['3', '5'], ['3', '6'], ['4', '5'], ['4', '6'], ['5', '6']])])"
      ]
     },
     "execution_count": 22,
     "metadata": {},
     "output_type": "execute_result"
    }
   ],
   "source": [
    "m_prog._prod"
   ]
  },
  {
   "cell_type": "code",
   "execution_count": 11,
   "metadata": {},
   "outputs": [
    {
     "data": {
      "text/plain": [
       "[FunctionProduction(id=0, lhs=ValueType(Empty, properties={}), name=empty, rhs=[ValueType(Empty, properties={})]),\n",
       " FunctionProduction(id=1, lhs=ValueType(Table, properties={'col': <ExprType.INT: 'int'>, 'row': <ExprType.INT: 'int'>, 'head': <ExprType.INT: 'int'>, 'content': <ExprType.INT: 'int'>}), name=select, rhs=[ValueType(Table, properties={'col': <ExprType.INT: 'int'>, 'row': <ExprType.INT: 'int'>, 'head': <ExprType.INT: 'int'>, 'content': <ExprType.INT: 'int'>}), EnumType(ColList, domain=[['1'], ['2'], ['3'], ['4'], ['5'], ['6'], ['1', '2'], ['1', '3'], ['1', '4'], ['1', '5'], ['1', '6'], ['2', '3'], ['2', '4'], ['2', '5'], ['2', '6'], ['3', '4'], ['3', '5'], ['3', '6'], ['4', '5'], ['4', '6'], ['5', '6']])]),\n",
       " FunctionProduction(id=2, lhs=ValueType(Table, properties={'col': <ExprType.INT: 'int'>, 'row': <ExprType.INT: 'int'>, 'head': <ExprType.INT: 'int'>, 'content': <ExprType.INT: 'int'>}), name=gather, rhs=[ValueType(Table, properties={'col': <ExprType.INT: 'int'>, 'row': <ExprType.INT: 'int'>, 'head': <ExprType.INT: 'int'>, 'content': <ExprType.INT: 'int'>}), EnumType(ColList, domain=[['1'], ['2'], ['3'], ['4'], ['5'], ['6'], ['1', '2'], ['1', '3'], ['1', '4'], ['1', '5'], ['1', '6'], ['2', '3'], ['2', '4'], ['2', '5'], ['2', '6'], ['3', '4'], ['3', '5'], ['3', '6'], ['4', '5'], ['4', '6'], ['5', '6']])]),\n",
       " FunctionProduction(id=3, lhs=ValueType(Table, properties={'col': <ExprType.INT: 'int'>, 'row': <ExprType.INT: 'int'>, 'head': <ExprType.INT: 'int'>, 'content': <ExprType.INT: 'int'>}), name=spread, rhs=[ValueType(Table, properties={'col': <ExprType.INT: 'int'>, 'row': <ExprType.INT: 'int'>, 'head': <ExprType.INT: 'int'>, 'content': <ExprType.INT: 'int'>}), EnumType(ColInt, domain=['1', '2', '3', '4', '5', '6']), EnumType(ColInt, domain=['1', '2', '3', '4', '5', '6'])]),\n",
       " FunctionProduction(id=4, lhs=ValueType(Table, properties={'col': <ExprType.INT: 'int'>, 'row': <ExprType.INT: 'int'>, 'head': <ExprType.INT: 'int'>, 'content': <ExprType.INT: 'int'>}), name=unite, rhs=[ValueType(Table, properties={'col': <ExprType.INT: 'int'>, 'row': <ExprType.INT: 'int'>, 'head': <ExprType.INT: 'int'>, 'content': <ExprType.INT: 'int'>}), EnumType(ColInt, domain=['1', '2', '3', '4', '5', '6']), EnumType(ColInt, domain=['1', '2', '3', '4', '5', '6'])]),\n",
       " FunctionProduction(id=5, lhs=ValueType(Table, properties={'col': <ExprType.INT: 'int'>, 'row': <ExprType.INT: 'int'>, 'head': <ExprType.INT: 'int'>, 'content': <ExprType.INT: 'int'>}), name=separate, rhs=[ValueType(Table, properties={'col': <ExprType.INT: 'int'>, 'row': <ExprType.INT: 'int'>, 'head': <ExprType.INT: 'int'>, 'content': <ExprType.INT: 'int'>}), EnumType(ColInt, domain=['1', '2', '3', '4', '5', '6'])]),\n",
       " EnumProduction(id=6, lhs=EnumType(ColInt, domain=['1', '2', '3', '4', '5', '6']), choice=0),\n",
       " EnumProduction(id=7, lhs=EnumType(ColInt, domain=['1', '2', '3', '4', '5', '6']), choice=1),\n",
       " EnumProduction(id=8, lhs=EnumType(ColInt, domain=['1', '2', '3', '4', '5', '6']), choice=2),\n",
       " EnumProduction(id=9, lhs=EnumType(ColInt, domain=['1', '2', '3', '4', '5', '6']), choice=3),\n",
       " EnumProduction(id=10, lhs=EnumType(ColInt, domain=['1', '2', '3', '4', '5', '6']), choice=4),\n",
       " EnumProduction(id=11, lhs=EnumType(ColInt, domain=['1', '2', '3', '4', '5', '6']), choice=5),\n",
       " EnumProduction(id=12, lhs=EnumType(ColNegInt, domain=['-1', '-2', '-3', '-4', '-5', '-6']), choice=0),\n",
       " EnumProduction(id=13, lhs=EnumType(ColNegInt, domain=['-1', '-2', '-3', '-4', '-5', '-6']), choice=1),\n",
       " EnumProduction(id=14, lhs=EnumType(ColNegInt, domain=['-1', '-2', '-3', '-4', '-5', '-6']), choice=2),\n",
       " EnumProduction(id=15, lhs=EnumType(ColNegInt, domain=['-1', '-2', '-3', '-4', '-5', '-6']), choice=3),\n",
       " EnumProduction(id=16, lhs=EnumType(ColNegInt, domain=['-1', '-2', '-3', '-4', '-5', '-6']), choice=4),\n",
       " EnumProduction(id=17, lhs=EnumType(ColNegInt, domain=['-1', '-2', '-3', '-4', '-5', '-6']), choice=5),\n",
       " EnumProduction(id=18, lhs=EnumType(SmallInt, domain=['0', '1', '2', '3', '4', '5', '6']), choice=0),\n",
       " EnumProduction(id=19, lhs=EnumType(SmallInt, domain=['0', '1', '2', '3', '4', '5', '6']), choice=1),\n",
       " EnumProduction(id=20, lhs=EnumType(SmallInt, domain=['0', '1', '2', '3', '4', '5', '6']), choice=2),\n",
       " EnumProduction(id=21, lhs=EnumType(SmallInt, domain=['0', '1', '2', '3', '4', '5', '6']), choice=3),\n",
       " EnumProduction(id=22, lhs=EnumType(SmallInt, domain=['0', '1', '2', '3', '4', '5', '6']), choice=4),\n",
       " EnumProduction(id=23, lhs=EnumType(SmallInt, domain=['0', '1', '2', '3', '4', '5', '6']), choice=5),\n",
       " EnumProduction(id=24, lhs=EnumType(SmallInt, domain=['0', '1', '2', '3', '4', '5', '6']), choice=6),\n",
       " EnumProduction(id=25, lhs=EnumType(ColList, domain=[['1'], ['2'], ['3'], ['4'], ['5'], ['6'], ['1', '2'], ['1', '3'], ['1', '4'], ['1', '5'], ['1', '6'], ['2', '3'], ['2', '4'], ['2', '5'], ['2', '6'], ['3', '4'], ['3', '5'], ['3', '6'], ['4', '5'], ['4', '6'], ['5', '6']]), choice=0),\n",
       " EnumProduction(id=26, lhs=EnumType(ColList, domain=[['1'], ['2'], ['3'], ['4'], ['5'], ['6'], ['1', '2'], ['1', '3'], ['1', '4'], ['1', '5'], ['1', '6'], ['2', '3'], ['2', '4'], ['2', '5'], ['2', '6'], ['3', '4'], ['3', '5'], ['3', '6'], ['4', '5'], ['4', '6'], ['5', '6']]), choice=1),\n",
       " EnumProduction(id=27, lhs=EnumType(ColList, domain=[['1'], ['2'], ['3'], ['4'], ['5'], ['6'], ['1', '2'], ['1', '3'], ['1', '4'], ['1', '5'], ['1', '6'], ['2', '3'], ['2', '4'], ['2', '5'], ['2', '6'], ['3', '4'], ['3', '5'], ['3', '6'], ['4', '5'], ['4', '6'], ['5', '6']]), choice=2),\n",
       " EnumProduction(id=28, lhs=EnumType(ColList, domain=[['1'], ['2'], ['3'], ['4'], ['5'], ['6'], ['1', '2'], ['1', '3'], ['1', '4'], ['1', '5'], ['1', '6'], ['2', '3'], ['2', '4'], ['2', '5'], ['2', '6'], ['3', '4'], ['3', '5'], ['3', '6'], ['4', '5'], ['4', '6'], ['5', '6']]), choice=3),\n",
       " EnumProduction(id=29, lhs=EnumType(ColList, domain=[['1'], ['2'], ['3'], ['4'], ['5'], ['6'], ['1', '2'], ['1', '3'], ['1', '4'], ['1', '5'], ['1', '6'], ['2', '3'], ['2', '4'], ['2', '5'], ['2', '6'], ['3', '4'], ['3', '5'], ['3', '6'], ['4', '5'], ['4', '6'], ['5', '6']]), choice=4),\n",
       " EnumProduction(id=30, lhs=EnumType(ColList, domain=[['1'], ['2'], ['3'], ['4'], ['5'], ['6'], ['1', '2'], ['1', '3'], ['1', '4'], ['1', '5'], ['1', '6'], ['2', '3'], ['2', '4'], ['2', '5'], ['2', '6'], ['3', '4'], ['3', '5'], ['3', '6'], ['4', '5'], ['4', '6'], ['5', '6']]), choice=5),\n",
       " EnumProduction(id=31, lhs=EnumType(ColList, domain=[['1'], ['2'], ['3'], ['4'], ['5'], ['6'], ['1', '2'], ['1', '3'], ['1', '4'], ['1', '5'], ['1', '6'], ['2', '3'], ['2', '4'], ['2', '5'], ['2', '6'], ['3', '4'], ['3', '5'], ['3', '6'], ['4', '5'], ['4', '6'], ['5', '6']]), choice=6),\n",
       " EnumProduction(id=32, lhs=EnumType(ColList, domain=[['1'], ['2'], ['3'], ['4'], ['5'], ['6'], ['1', '2'], ['1', '3'], ['1', '4'], ['1', '5'], ['1', '6'], ['2', '3'], ['2', '4'], ['2', '5'], ['2', '6'], ['3', '4'], ['3', '5'], ['3', '6'], ['4', '5'], ['4', '6'], ['5', '6']]), choice=7),\n",
       " EnumProduction(id=33, lhs=EnumType(ColList, domain=[['1'], ['2'], ['3'], ['4'], ['5'], ['6'], ['1', '2'], ['1', '3'], ['1', '4'], ['1', '5'], ['1', '6'], ['2', '3'], ['2', '4'], ['2', '5'], ['2', '6'], ['3', '4'], ['3', '5'], ['3', '6'], ['4', '5'], ['4', '6'], ['5', '6']]), choice=8),\n",
       " EnumProduction(id=34, lhs=EnumType(ColList, domain=[['1'], ['2'], ['3'], ['4'], ['5'], ['6'], ['1', '2'], ['1', '3'], ['1', '4'], ['1', '5'], ['1', '6'], ['2', '3'], ['2', '4'], ['2', '5'], ['2', '6'], ['3', '4'], ['3', '5'], ['3', '6'], ['4', '5'], ['4', '6'], ['5', '6']]), choice=9),\n",
       " EnumProduction(id=35, lhs=EnumType(ColList, domain=[['1'], ['2'], ['3'], ['4'], ['5'], ['6'], ['1', '2'], ['1', '3'], ['1', '4'], ['1', '5'], ['1', '6'], ['2', '3'], ['2', '4'], ['2', '5'], ['2', '6'], ['3', '4'], ['3', '5'], ['3', '6'], ['4', '5'], ['4', '6'], ['5', '6']]), choice=10),\n",
       " EnumProduction(id=36, lhs=EnumType(ColList, domain=[['1'], ['2'], ['3'], ['4'], ['5'], ['6'], ['1', '2'], ['1', '3'], ['1', '4'], ['1', '5'], ['1', '6'], ['2', '3'], ['2', '4'], ['2', '5'], ['2', '6'], ['3', '4'], ['3', '5'], ['3', '6'], ['4', '5'], ['4', '6'], ['5', '6']]), choice=11),\n",
       " EnumProduction(id=37, lhs=EnumType(ColList, domain=[['1'], ['2'], ['3'], ['4'], ['5'], ['6'], ['1', '2'], ['1', '3'], ['1', '4'], ['1', '5'], ['1', '6'], ['2', '3'], ['2', '4'], ['2', '5'], ['2', '6'], ['3', '4'], ['3', '5'], ['3', '6'], ['4', '5'], ['4', '6'], ['5', '6']]), choice=12),\n",
       " EnumProduction(id=38, lhs=EnumType(ColList, domain=[['1'], ['2'], ['3'], ['4'], ['5'], ['6'], ['1', '2'], ['1', '3'], ['1', '4'], ['1', '5'], ['1', '6'], ['2', '3'], ['2', '4'], ['2', '5'], ['2', '6'], ['3', '4'], ['3', '5'], ['3', '6'], ['4', '5'], ['4', '6'], ['5', '6']]), choice=13),\n",
       " EnumProduction(id=39, lhs=EnumType(ColList, domain=[['1'], ['2'], ['3'], ['4'], ['5'], ['6'], ['1', '2'], ['1', '3'], ['1', '4'], ['1', '5'], ['1', '6'], ['2', '3'], ['2', '4'], ['2', '5'], ['2', '6'], ['3', '4'], ['3', '5'], ['3', '6'], ['4', '5'], ['4', '6'], ['5', '6']]), choice=14),\n",
       " EnumProduction(id=40, lhs=EnumType(ColList, domain=[['1'], ['2'], ['3'], ['4'], ['5'], ['6'], ['1', '2'], ['1', '3'], ['1', '4'], ['1', '5'], ['1', '6'], ['2', '3'], ['2', '4'], ['2', '5'], ['2', '6'], ['3', '4'], ['3', '5'], ['3', '6'], ['4', '5'], ['4', '6'], ['5', '6']]), choice=15),\n",
       " EnumProduction(id=41, lhs=EnumType(ColList, domain=[['1'], ['2'], ['3'], ['4'], ['5'], ['6'], ['1', '2'], ['1', '3'], ['1', '4'], ['1', '5'], ['1', '6'], ['2', '3'], ['2', '4'], ['2', '5'], ['2', '6'], ['3', '4'], ['3', '5'], ['3', '6'], ['4', '5'], ['4', '6'], ['5', '6']]), choice=16),\n",
       " EnumProduction(id=42, lhs=EnumType(ColList, domain=[['1'], ['2'], ['3'], ['4'], ['5'], ['6'], ['1', '2'], ['1', '3'], ['1', '4'], ['1', '5'], ['1', '6'], ['2', '3'], ['2', '4'], ['2', '5'], ['2', '6'], ['3', '4'], ['3', '5'], ['3', '6'], ['4', '5'], ['4', '6'], ['5', '6']]), choice=17),\n",
       " EnumProduction(id=43, lhs=EnumType(ColList, domain=[['1'], ['2'], ['3'], ['4'], ['5'], ['6'], ['1', '2'], ['1', '3'], ['1', '4'], ['1', '5'], ['1', '6'], ['2', '3'], ['2', '4'], ['2', '5'], ['2', '6'], ['3', '4'], ['3', '5'], ['3', '6'], ['4', '5'], ['4', '6'], ['5', '6']]), choice=18),\n",
       " EnumProduction(id=44, lhs=EnumType(ColList, domain=[['1'], ['2'], ['3'], ['4'], ['5'], ['6'], ['1', '2'], ['1', '3'], ['1', '4'], ['1', '5'], ['1', '6'], ['2', '3'], ['2', '4'], ['2', '5'], ['2', '6'], ['3', '4'], ['3', '5'], ['3', '6'], ['4', '5'], ['4', '6'], ['5', '6']]), choice=19),\n",
       " EnumProduction(id=45, lhs=EnumType(ColList, domain=[['1'], ['2'], ['3'], ['4'], ['5'], ['6'], ['1', '2'], ['1', '3'], ['1', '4'], ['1', '5'], ['1', '6'], ['2', '3'], ['2', '4'], ['2', '5'], ['2', '6'], ['3', '4'], ['3', '5'], ['3', '6'], ['4', '5'], ['4', '6'], ['5', '6']]), choice=20),\n",
       " EnumProduction(id=46, lhs=EnumType(ColNegList, domain=[['-1'], ['-2'], ['-3'], ['-4'], ['-5'], ['-6'], ['-1', '-2'], ['-1', '-3'], ['-1', '-4'], ['-1', '-5'], ['-1', '-6'], ['-2', '-3'], ['-2', '-4'], ['-2', '-5'], ['-2', '-6'], ['-3', '-4'], ['-3', '-5'], ['-3', '-6'], ['-4', '-5'], ['-4', '-6'], ['-5', '-6']]), choice=0),\n",
       " EnumProduction(id=47, lhs=EnumType(ColNegList, domain=[['-1'], ['-2'], ['-3'], ['-4'], ['-5'], ['-6'], ['-1', '-2'], ['-1', '-3'], ['-1', '-4'], ['-1', '-5'], ['-1', '-6'], ['-2', '-3'], ['-2', '-4'], ['-2', '-5'], ['-2', '-6'], ['-3', '-4'], ['-3', '-5'], ['-3', '-6'], ['-4', '-5'], ['-4', '-6'], ['-5', '-6']]), choice=1),\n",
       " EnumProduction(id=48, lhs=EnumType(ColNegList, domain=[['-1'], ['-2'], ['-3'], ['-4'], ['-5'], ['-6'], ['-1', '-2'], ['-1', '-3'], ['-1', '-4'], ['-1', '-5'], ['-1', '-6'], ['-2', '-3'], ['-2', '-4'], ['-2', '-5'], ['-2', '-6'], ['-3', '-4'], ['-3', '-5'], ['-3', '-6'], ['-4', '-5'], ['-4', '-6'], ['-5', '-6']]), choice=2),\n",
       " EnumProduction(id=49, lhs=EnumType(ColNegList, domain=[['-1'], ['-2'], ['-3'], ['-4'], ['-5'], ['-6'], ['-1', '-2'], ['-1', '-3'], ['-1', '-4'], ['-1', '-5'], ['-1', '-6'], ['-2', '-3'], ['-2', '-4'], ['-2', '-5'], ['-2', '-6'], ['-3', '-4'], ['-3', '-5'], ['-3', '-6'], ['-4', '-5'], ['-4', '-6'], ['-5', '-6']]), choice=3),\n",
       " EnumProduction(id=50, lhs=EnumType(ColNegList, domain=[['-1'], ['-2'], ['-3'], ['-4'], ['-5'], ['-6'], ['-1', '-2'], ['-1', '-3'], ['-1', '-4'], ['-1', '-5'], ['-1', '-6'], ['-2', '-3'], ['-2', '-4'], ['-2', '-5'], ['-2', '-6'], ['-3', '-4'], ['-3', '-5'], ['-3', '-6'], ['-4', '-5'], ['-4', '-6'], ['-5', '-6']]), choice=4),\n",
       " EnumProduction(id=51, lhs=EnumType(ColNegList, domain=[['-1'], ['-2'], ['-3'], ['-4'], ['-5'], ['-6'], ['-1', '-2'], ['-1', '-3'], ['-1', '-4'], ['-1', '-5'], ['-1', '-6'], ['-2', '-3'], ['-2', '-4'], ['-2', '-5'], ['-2', '-6'], ['-3', '-4'], ['-3', '-5'], ['-3', '-6'], ['-4', '-5'], ['-4', '-6'], ['-5', '-6']]), choice=5),\n",
       " EnumProduction(id=52, lhs=EnumType(ColNegList, domain=[['-1'], ['-2'], ['-3'], ['-4'], ['-5'], ['-6'], ['-1', '-2'], ['-1', '-3'], ['-1', '-4'], ['-1', '-5'], ['-1', '-6'], ['-2', '-3'], ['-2', '-4'], ['-2', '-5'], ['-2', '-6'], ['-3', '-4'], ['-3', '-5'], ['-3', '-6'], ['-4', '-5'], ['-4', '-6'], ['-5', '-6']]), choice=6),\n",
       " EnumProduction(id=53, lhs=EnumType(ColNegList, domain=[['-1'], ['-2'], ['-3'], ['-4'], ['-5'], ['-6'], ['-1', '-2'], ['-1', '-3'], ['-1', '-4'], ['-1', '-5'], ['-1', '-6'], ['-2', '-3'], ['-2', '-4'], ['-2', '-5'], ['-2', '-6'], ['-3', '-4'], ['-3', '-5'], ['-3', '-6'], ['-4', '-5'], ['-4', '-6'], ['-5', '-6']]), choice=7),\n",
       " EnumProduction(id=54, lhs=EnumType(ColNegList, domain=[['-1'], ['-2'], ['-3'], ['-4'], ['-5'], ['-6'], ['-1', '-2'], ['-1', '-3'], ['-1', '-4'], ['-1', '-5'], ['-1', '-6'], ['-2', '-3'], ['-2', '-4'], ['-2', '-5'], ['-2', '-6'], ['-3', '-4'], ['-3', '-5'], ['-3', '-6'], ['-4', '-5'], ['-4', '-6'], ['-5', '-6']]), choice=8),\n",
       " EnumProduction(id=55, lhs=EnumType(ColNegList, domain=[['-1'], ['-2'], ['-3'], ['-4'], ['-5'], ['-6'], ['-1', '-2'], ['-1', '-3'], ['-1', '-4'], ['-1', '-5'], ['-1', '-6'], ['-2', '-3'], ['-2', '-4'], ['-2', '-5'], ['-2', '-6'], ['-3', '-4'], ['-3', '-5'], ['-3', '-6'], ['-4', '-5'], ['-4', '-6'], ['-5', '-6']]), choice=9),\n",
       " EnumProduction(id=56, lhs=EnumType(ColNegList, domain=[['-1'], ['-2'], ['-3'], ['-4'], ['-5'], ['-6'], ['-1', '-2'], ['-1', '-3'], ['-1', '-4'], ['-1', '-5'], ['-1', '-6'], ['-2', '-3'], ['-2', '-4'], ['-2', '-5'], ['-2', '-6'], ['-3', '-4'], ['-3', '-5'], ['-3', '-6'], ['-4', '-5'], ['-4', '-6'], ['-5', '-6']]), choice=10),\n",
       " EnumProduction(id=57, lhs=EnumType(ColNegList, domain=[['-1'], ['-2'], ['-3'], ['-4'], ['-5'], ['-6'], ['-1', '-2'], ['-1', '-3'], ['-1', '-4'], ['-1', '-5'], ['-1', '-6'], ['-2', '-3'], ['-2', '-4'], ['-2', '-5'], ['-2', '-6'], ['-3', '-4'], ['-3', '-5'], ['-3', '-6'], ['-4', '-5'], ['-4', '-6'], ['-5', '-6']]), choice=11),\n",
       " EnumProduction(id=58, lhs=EnumType(ColNegList, domain=[['-1'], ['-2'], ['-3'], ['-4'], ['-5'], ['-6'], ['-1', '-2'], ['-1', '-3'], ['-1', '-4'], ['-1', '-5'], ['-1', '-6'], ['-2', '-3'], ['-2', '-4'], ['-2', '-5'], ['-2', '-6'], ['-3', '-4'], ['-3', '-5'], ['-3', '-6'], ['-4', '-5'], ['-4', '-6'], ['-5', '-6']]), choice=12),\n",
       " EnumProduction(id=59, lhs=EnumType(ColNegList, domain=[['-1'], ['-2'], ['-3'], ['-4'], ['-5'], ['-6'], ['-1', '-2'], ['-1', '-3'], ['-1', '-4'], ['-1', '-5'], ['-1', '-6'], ['-2', '-3'], ['-2', '-4'], ['-2', '-5'], ['-2', '-6'], ['-3', '-4'], ['-3', '-5'], ['-3', '-6'], ['-4', '-5'], ['-4', '-6'], ['-5', '-6']]), choice=13),\n",
       " EnumProduction(id=60, lhs=EnumType(ColNegList, domain=[['-1'], ['-2'], ['-3'], ['-4'], ['-5'], ['-6'], ['-1', '-2'], ['-1', '-3'], ['-1', '-4'], ['-1', '-5'], ['-1', '-6'], ['-2', '-3'], ['-2', '-4'], ['-2', '-5'], ['-2', '-6'], ['-3', '-4'], ['-3', '-5'], ['-3', '-6'], ['-4', '-5'], ['-4', '-6'], ['-5', '-6']]), choice=14),\n",
       " EnumProduction(id=61, lhs=EnumType(ColNegList, domain=[['-1'], ['-2'], ['-3'], ['-4'], ['-5'], ['-6'], ['-1', '-2'], ['-1', '-3'], ['-1', '-4'], ['-1', '-5'], ['-1', '-6'], ['-2', '-3'], ['-2', '-4'], ['-2', '-5'], ['-2', '-6'], ['-3', '-4'], ['-3', '-5'], ['-3', '-6'], ['-4', '-5'], ['-4', '-6'], ['-5', '-6']]), choice=15),\n",
       " EnumProduction(id=62, lhs=EnumType(ColNegList, domain=[['-1'], ['-2'], ['-3'], ['-4'], ['-5'], ['-6'], ['-1', '-2'], ['-1', '-3'], ['-1', '-4'], ['-1', '-5'], ['-1', '-6'], ['-2', '-3'], ['-2', '-4'], ['-2', '-5'], ['-2', '-6'], ['-3', '-4'], ['-3', '-5'], ['-3', '-6'], ['-4', '-5'], ['-4', '-6'], ['-5', '-6']]), choice=16),\n",
       " EnumProduction(id=63, lhs=EnumType(ColNegList, domain=[['-1'], ['-2'], ['-3'], ['-4'], ['-5'], ['-6'], ['-1', '-2'], ['-1', '-3'], ['-1', '-4'], ['-1', '-5'], ['-1', '-6'], ['-2', '-3'], ['-2', '-4'], ['-2', '-5'], ['-2', '-6'], ['-3', '-4'], ['-3', '-5'], ['-3', '-6'], ['-4', '-5'], ['-4', '-6'], ['-5', '-6']]), choice=17),\n",
       " EnumProduction(id=64, lhs=EnumType(ColNegList, domain=[['-1'], ['-2'], ['-3'], ['-4'], ['-5'], ['-6'], ['-1', '-2'], ['-1', '-3'], ['-1', '-4'], ['-1', '-5'], ['-1', '-6'], ['-2', '-3'], ['-2', '-4'], ['-2', '-5'], ['-2', '-6'], ['-3', '-4'], ['-3', '-5'], ['-3', '-6'], ['-4', '-5'], ['-4', '-6'], ['-5', '-6']]), choice=18),\n",
       " EnumProduction(id=65, lhs=EnumType(ColNegList, domain=[['-1'], ['-2'], ['-3'], ['-4'], ['-5'], ['-6'], ['-1', '-2'], ['-1', '-3'], ['-1', '-4'], ['-1', '-5'], ['-1', '-6'], ['-2', '-3'], ['-2', '-4'], ['-2', '-5'], ['-2', '-6'], ['-3', '-4'], ['-3', '-5'], ['-3', '-6'], ['-4', '-5'], ['-4', '-6'], ['-5', '-6']]), choice=19),\n",
       " EnumProduction(id=66, lhs=EnumType(ColNegList, domain=[['-1'], ['-2'], ['-3'], ['-4'], ['-5'], ['-6'], ['-1', '-2'], ['-1', '-3'], ['-1', '-4'], ['-1', '-5'], ['-1', '-6'], ['-2', '-3'], ['-2', '-4'], ['-2', '-5'], ['-2', '-6'], ['-3', '-4'], ['-3', '-5'], ['-3', '-6'], ['-4', '-5'], ['-4', '-6'], ['-5', '-6']]), choice=20),\n",
       " EnumProduction(id=67, lhs=EnumType(Aggr, domain=['min', 'max', 'sum', 'mean']), choice=0),\n",
       " EnumProduction(id=68, lhs=EnumType(Aggr, domain=['min', 'max', 'sum', 'mean']), choice=1),\n",
       " EnumProduction(id=69, lhs=EnumType(Aggr, domain=['min', 'max', 'sum', 'mean']), choice=2),\n",
       " EnumProduction(id=70, lhs=EnumType(Aggr, domain=['min', 'max', 'sum', 'mean']), choice=3),\n",
       " EnumProduction(id=71, lhs=EnumType(NumFunc, domain=['/']), choice=0),\n",
       " EnumProduction(id=72, lhs=EnumType(BoolFunc, domain=['==', '>', '<']), choice=0),\n",
       " EnumProduction(id=73, lhs=EnumType(BoolFunc, domain=['==', '>', '<']), choice=1),\n",
       " EnumProduction(id=74, lhs=EnumType(BoolFunc, domain=['==', '>', '<']), choice=2),\n",
       " ParamProduction(id=75, lhs=ValueType(Table, properties={'col': <ExprType.INT: 'int'>, 'row': <ExprType.INT: 'int'>, 'head': <ExprType.INT: 'int'>, 'content': <ExprType.INT: 'int'>}), param_id=0)]"
      ]
     },
     "execution_count": 11,
     "metadata": {},
     "output_type": "execute_result"
    }
   ],
   "source": [
    "m_ps.prod_list"
   ]
  }
 ],
 "metadata": {
  "kernelspec": {
   "display_name": "Python 3",
   "language": "python",
   "name": "python3"
  },
  "language_info": {
   "codemirror_mode": {
    "name": "ipython",
    "version": 3
   },
   "file_extension": ".py",
   "mimetype": "text/x-python",
   "name": "python",
   "nbconvert_exporter": "python",
   "pygments_lexer": "ipython3",
   "version": "3.7.1"
  }
 },
 "nbformat": 4,
 "nbformat_minor": 2
}
