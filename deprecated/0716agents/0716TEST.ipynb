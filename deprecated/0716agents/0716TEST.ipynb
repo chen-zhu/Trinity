{
 "cells": [
  {
   "cell_type": "code",
   "execution_count": 1,
   "metadata": {},
   "outputs": [
    {
     "name": "stderr",
     "output_type": "stream",
     "text": [
      "R[write to console]: \n",
      "Attaching package: ‘compare’\n",
      "\n",
      "\n",
      "R[write to console]: The following object is masked from ‘package:base’:\n",
      "\n",
      "    isTRUE\n",
      "\n",
      "\n",
      "R[write to console]: \n",
      "Attaching package: ‘dplyr’\n",
      "\n",
      "\n",
      "R[write to console]: The following objects are masked from ‘package:stats’:\n",
      "\n",
      "    filter, lag\n",
      "\n",
      "\n",
      "R[write to console]: The following objects are masked from ‘package:base’:\n",
      "\n",
      "    intersect, setdiff, setequal, union\n",
      "\n",
      "\n"
     ]
    }
   ],
   "source": [
    "from MorpheusInterpreter import *\n",
    "from ProgramSpace import *"
   ]
  },
  {
   "cell_type": "code",
   "execution_count": 2,
   "metadata": {},
   "outputs": [],
   "source": [
    "m_interpreter = MorpheusInterpreter()\n",
    "m_spec = S.parse_file('./example/camb3.tyrell')\n",
    "m_generator = MorpheusGenerator(m_spec, m_interpreter)"
   ]
  },
  {
   "cell_type": "code",
   "execution_count": 3,
   "metadata": {},
   "outputs": [
    {
     "name": "stdout",
     "output_type": "stream",
     "text": [
      "         mock turtlepeg pretexta\n",
      "1  eluviation        39       66\n",
      "2     alepole        81       66\n",
      "3     alepole        41      -85\n",
      "4  eluviation       -90      -85\n",
      "5 entombments        38       95\n",
      "6  spiraculum        84       66\n",
      "7  eluviation       -61      -85\n",
      "\n"
     ]
    }
   ],
   "source": [
    "m_interpreter.print_obj(m_interpreter.random_table())"
   ]
  },
  {
   "cell_type": "code",
   "execution_count": 45,
   "metadata": {},
   "outputs": [
    {
     "data": {
      "text/plain": [
       "[Symbol('unite'),\n",
       " [Symbol('gather'), [Symbol('@param'), 0], [Symbol('ColList'), ['5', '6']]],\n",
       " [Symbol('ColInt'), '1'],\n",
       " [Symbol('ColInt'), '6']]"
      ]
     },
     "execution_count": 45,
     "metadata": {},
     "output_type": "execute_result"
    }
   ],
   "source": [
    "m_ps.node_list[-1].to_sexp()"
   ]
  },
  {
   "cell_type": "code",
   "execution_count": 41,
   "metadata": {},
   "outputs": [
    {
     "data": {
      "text/plain": [
       "\"unite(gather(@param0, ['5', '6']), 1, 6)\""
      ]
     },
     "execution_count": 41,
     "metadata": {},
     "output_type": "execute_result"
    }
   ],
   "source": [
    "str(m_ps.node_list[-1])"
   ]
  },
  {
   "cell_type": "code",
   "execution_count": 43,
   "metadata": {},
   "outputs": [
    {
     "data": {
      "text/plain": [
       "\"ApplyNode(unite, [ApplyNode(gather, [ParamNode(0), AtomNode(['5', '6'])]), AtomNode(1), AtomNode(6)])\""
      ]
     },
     "execution_count": 43,
     "metadata": {},
     "output_type": "execute_result"
    }
   ],
   "source": [
    "m_ps.node_list[-1].__repr__()"
   ]
  },
  {
   "cell_type": "code",
   "execution_count": 10,
   "metadata": {},
   "outputs": [
    {
     "name": "stdout",
     "output_type": "stream",
     "text": [
      "select(gather(@param0, ['2', '5']), ['5', '6'])\n",
      "        bioinstrument   cerecloths warmer                  strawing\n",
      "1      autocratically sulphonamine   0.86              unhid_grager\n",
      "2       undisturbedly    coportion -74.75               tkt_estuous\n",
      "3    indifferentiated unhumbleness  -0.32 quincuncial_uninheritable\n",
      "4           reweaving sulphonamine  22.97            tipcart_lopers\n",
      "5  semiexperimentally      snapped -74.16      unwise_supersanguine\n",
      "6          tolstoyism sulphonamine  47.45   cyanoaurate_worriedness\n",
      "7          subshrubby       ironly -76.98  cardinalated_biarticular\n",
      "8               shema sulphonamine -67.94 ecclesiasticism_hintproof\n",
      "9      autocratically sulphonamine   0.86              unhid_grager\n",
      "10      undisturbedly    coportion -74.75               tkt_estuous\n",
      "11   indifferentiated unhumbleness  -0.32 quincuncial_uninheritable\n",
      "12          reweaving sulphonamine  22.97            tipcart_lopers\n",
      "13 semiexperimentally      snapped -74.16      unwise_supersanguine\n",
      "14         tolstoyism sulphonamine  47.45   cyanoaurate_worriedness\n",
      "15         subshrubby       ironly -76.98  cardinalated_biarticular\n",
      "16              shema sulphonamine -67.94 ecclesiasticism_hintproof\n",
      "      latifoliate   unconvening\n",
      "1  underfurnisher        empair\n",
      "2  underfurnisher       jaygees\n",
      "3  underfurnisher       anymore\n",
      "4  underfurnisher       streets\n",
      "5  underfurnisher     afflicter\n",
      "6  underfurnisher   vesuvianite\n",
      "7  underfurnisher         anmia\n",
      "8  underfurnisher nonexultation\n",
      "9          morkin genethlialogy\n",
      "10         morkin genethlialogy\n",
      "11         morkin    sanitorium\n",
      "12         morkin    hereditist\n",
      "13         morkin genethlialogy\n",
      "14         morkin    sanitorium\n",
      "15         morkin genethlialogy\n",
      "16         morkin    sanitorium\n",
      "\n",
      "      latifoliate   unconvening\n",
      "1  underfurnisher        empair\n",
      "2  underfurnisher       jaygees\n",
      "3  underfurnisher       anymore\n",
      "4  underfurnisher       streets\n",
      "5  underfurnisher     afflicter\n",
      "6  underfurnisher   vesuvianite\n",
      "7  underfurnisher         anmia\n",
      "8  underfurnisher nonexultation\n",
      "9          morkin genethlialogy\n",
      "10         morkin genethlialogy\n",
      "11         morkin    sanitorium\n",
      "12         morkin    hereditist\n",
      "13         morkin genethlialogy\n",
      "14         morkin    sanitorium\n",
      "15         morkin genethlialogy\n",
      "16         morkin    sanitorium\n",
      "\n"
     ]
    }
   ],
   "source": [
    "m_ps = m_generator.get_new_chain_program(3)\n",
    "print(m_ps.node_list[-1])\n",
    "m_interpreter.print_obj(m_ps.node_list[-2].ps_data)\n",
    "m_interpreter.print_obj(m_ps.node_list[-1].ps_data)"
   ]
  },
  {
   "cell_type": "code",
   "execution_count": null,
   "metadata": {},
   "outputs": [],
   "source": []
  },
  {
   "cell_type": "code",
   "execution_count": 31,
   "metadata": {},
   "outputs": [],
   "source": [
    "for i in range(20):\n",
    "    m_ps = m_generator.get_new_chain_program(3)\n",
    "    with open(\"./camb3_size2_sample{}.txt\".format(i),\"w\") as f:\n",
    "        f.write(str(m_interpreter.renv(m_ps.node_list[-3].ps_data)))\n",
    "        f.write(\"\\n\\n\")\n",
    "        f.write(str(m_ps.node_list[-2]).replace(\"@param0\",\"table\"))\n",
    "        f.write(\"\\n\")\n",
    "        f.write(str(m_interpreter.renv(m_ps.node_list[-2].ps_data)))\n",
    "        f.write(\"\\n\\n\")\n",
    "        f.write(str(m_ps.node_list[-1]).replace(str(m_ps.node_list[-2]),\"table\"))\n",
    "        f.write(\"\\n\")\n",
    "        f.write(str(m_interpreter.renv(m_ps.node_list[-1].ps_data)))"
   ]
  },
  {
   "cell_type": "code",
   "execution_count": null,
   "metadata": {},
   "outputs": [],
   "source": []
  },
  {
   "cell_type": "code",
   "execution_count": null,
   "metadata": {},
   "outputs": [],
   "source": []
  },
  {
   "cell_type": "code",
   "execution_count": 11,
   "metadata": {},
   "outputs": [
    {
     "name": "stdout",
     "output_type": "stream",
     "text": [
      "       bioinstrument underfurnisher   cerecloths warmer        morkin\n",
      "1     autocratically         empair sulphonamine   0.86 genethlialogy\n",
      "2      undisturbedly        jaygees    coportion -74.75 genethlialogy\n",
      "3   indifferentiated        anymore unhumbleness  -0.32    sanitorium\n",
      "4          reweaving        streets sulphonamine  22.97    hereditist\n",
      "5 semiexperimentally      afflicter      snapped -74.16 genethlialogy\n",
      "6         tolstoyism    vesuvianite sulphonamine  47.45    sanitorium\n",
      "7         subshrubby          anmia       ironly -76.98 genethlialogy\n",
      "8              shema  nonexultation sulphonamine -67.94    sanitorium\n",
      "                   strawing\n",
      "1              unhid_grager\n",
      "2               tkt_estuous\n",
      "3 quincuncial_uninheritable\n",
      "4            tipcart_lopers\n",
      "5      unwise_supersanguine\n",
      "6   cyanoaurate_worriedness\n",
      "7  cardinalated_biarticular\n",
      "8 ecclesiasticism_hintproof\n",
      "\n"
     ]
    }
   ],
   "source": [
    "m_interpreter.print_obj(m_ps.node_list[-3].ps_data)"
   ]
  },
  {
   "cell_type": "code",
   "execution_count": 26,
   "metadata": {},
   "outputs": [
    {
     "data": {
      "text/plain": [
       "\"gather(table, ['2', '5'])\""
      ]
     },
     "execution_count": 26,
     "metadata": {},
     "output_type": "execute_result"
    }
   ],
   "source": [
    "str(m_ps.node_list[-2]).replace(\"@param0\",\"table\")"
   ]
  },
  {
   "cell_type": "code",
   "execution_count": 12,
   "metadata": {},
   "outputs": [
    {
     "name": "stdout",
     "output_type": "stream",
     "text": [
      "        bioinstrument   cerecloths warmer                  strawing\n",
      "1      autocratically sulphonamine   0.86              unhid_grager\n",
      "2       undisturbedly    coportion -74.75               tkt_estuous\n",
      "3    indifferentiated unhumbleness  -0.32 quincuncial_uninheritable\n",
      "4           reweaving sulphonamine  22.97            tipcart_lopers\n",
      "5  semiexperimentally      snapped -74.16      unwise_supersanguine\n",
      "6          tolstoyism sulphonamine  47.45   cyanoaurate_worriedness\n",
      "7          subshrubby       ironly -76.98  cardinalated_biarticular\n",
      "8               shema sulphonamine -67.94 ecclesiasticism_hintproof\n",
      "9      autocratically sulphonamine   0.86              unhid_grager\n",
      "10      undisturbedly    coportion -74.75               tkt_estuous\n",
      "11   indifferentiated unhumbleness  -0.32 quincuncial_uninheritable\n",
      "12          reweaving sulphonamine  22.97            tipcart_lopers\n",
      "13 semiexperimentally      snapped -74.16      unwise_supersanguine\n",
      "14         tolstoyism sulphonamine  47.45   cyanoaurate_worriedness\n",
      "15         subshrubby       ironly -76.98  cardinalated_biarticular\n",
      "16              shema sulphonamine -67.94 ecclesiasticism_hintproof\n",
      "      latifoliate   unconvening\n",
      "1  underfurnisher        empair\n",
      "2  underfurnisher       jaygees\n",
      "3  underfurnisher       anymore\n",
      "4  underfurnisher       streets\n",
      "5  underfurnisher     afflicter\n",
      "6  underfurnisher   vesuvianite\n",
      "7  underfurnisher         anmia\n",
      "8  underfurnisher nonexultation\n",
      "9          morkin genethlialogy\n",
      "10         morkin genethlialogy\n",
      "11         morkin    sanitorium\n",
      "12         morkin    hereditist\n",
      "13         morkin genethlialogy\n",
      "14         morkin    sanitorium\n",
      "15         morkin genethlialogy\n",
      "16         morkin    sanitorium\n",
      "\n"
     ]
    }
   ],
   "source": [
    "m_interpreter.print_obj(m_ps.node_list[-2].ps_data)"
   ]
  },
  {
   "cell_type": "code",
   "execution_count": 27,
   "metadata": {},
   "outputs": [
    {
     "data": {
      "text/plain": [
       "\"select(table, ['5', '6'])\""
      ]
     },
     "execution_count": 27,
     "metadata": {},
     "output_type": "execute_result"
    }
   ],
   "source": [
    "str(m_ps.node_list[-1]).replace(str(m_ps.node_list[-2]),\"table\")"
   ]
  },
  {
   "cell_type": "code",
   "execution_count": 13,
   "metadata": {},
   "outputs": [
    {
     "name": "stdout",
     "output_type": "stream",
     "text": [
      "      latifoliate   unconvening\n",
      "1  underfurnisher        empair\n",
      "2  underfurnisher       jaygees\n",
      "3  underfurnisher       anymore\n",
      "4  underfurnisher       streets\n",
      "5  underfurnisher     afflicter\n",
      "6  underfurnisher   vesuvianite\n",
      "7  underfurnisher         anmia\n",
      "8  underfurnisher nonexultation\n",
      "9          morkin genethlialogy\n",
      "10         morkin genethlialogy\n",
      "11         morkin    sanitorium\n",
      "12         morkin    hereditist\n",
      "13         morkin genethlialogy\n",
      "14         morkin    sanitorium\n",
      "15         morkin genethlialogy\n",
      "16         morkin    sanitorium\n",
      "\n"
     ]
    }
   ],
   "source": [
    "m_interpreter.print_obj(m_ps.node_list[-1].ps_data)"
   ]
  },
  {
   "cell_type": "code",
   "execution_count": null,
   "metadata": {},
   "outputs": [],
   "source": []
  },
  {
   "cell_type": "code",
   "execution_count": null,
   "metadata": {},
   "outputs": [],
   "source": []
  },
  {
   "cell_type": "code",
   "execution_count": null,
   "metadata": {},
   "outputs": [],
   "source": []
  },
  {
   "cell_type": "code",
   "execution_count": null,
   "metadata": {},
   "outputs": [],
   "source": []
  },
  {
   "cell_type": "code",
   "execution_count": null,
   "metadata": {},
   "outputs": [],
   "source": []
  },
  {
   "cell_type": "code",
   "execution_count": null,
   "metadata": {},
   "outputs": [],
   "source": []
  },
  {
   "cell_type": "code",
   "execution_count": null,
   "metadata": {},
   "outputs": [],
   "source": []
  },
  {
   "cell_type": "code",
   "execution_count": null,
   "metadata": {},
   "outputs": [],
   "source": []
  }
 ],
 "metadata": {
  "kernelspec": {
   "display_name": "Python 3",
   "language": "python",
   "name": "python3"
  },
  "language_info": {
   "codemirror_mode": {
    "name": "ipython",
    "version": 3
   },
   "file_extension": ".py",
   "mimetype": "text/x-python",
   "name": "python",
   "nbconvert_exporter": "python",
   "pygments_lexer": "ipython3",
   "version": "3.6.8"
  }
 },
 "nbformat": 4,
 "nbformat_minor": 2
}
