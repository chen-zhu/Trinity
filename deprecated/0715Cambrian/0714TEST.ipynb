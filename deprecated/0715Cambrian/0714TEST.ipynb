{
 "cells": [
  {
   "cell_type": "code",
   "execution_count": 1,
   "metadata": {},
   "outputs": [
    {
     "name": "stderr",
     "output_type": "stream",
     "text": [
      "R[write to console]: \n",
      "Attaching package: ‘compare’\n",
      "\n",
      "\n",
      "R[write to console]: The following object is masked from ‘package:base’:\n",
      "\n",
      "    isTRUE\n",
      "\n",
      "\n",
      "R[write to console]: \n",
      "Attaching package: ‘dplyr’\n",
      "\n",
      "\n",
      "R[write to console]: The following objects are masked from ‘package:stats’:\n",
      "\n",
      "    filter, lag\n",
      "\n",
      "\n",
      "R[write to console]: The following objects are masked from ‘package:base’:\n",
      "\n",
      "    intersect, setdiff, setequal, union\n",
      "\n",
      "\n"
     ]
    }
   ],
   "source": [
    "from MorpheusInterpreter import *\n",
    "from ProgramSpace import *"
   ]
  },
  {
   "cell_type": "code",
   "execution_count": 2,
   "metadata": {},
   "outputs": [],
   "source": [
    "m_interpreter = MorpheusInterpreter()\n",
    "m_spec = S.parse_file('./example/camb3.tyrell')\n",
    "m_generator = MorpheusGenerator(m_spec, m_interpreter)"
   ]
  },
  {
   "cell_type": "code",
   "execution_count": 3,
   "metadata": {},
   "outputs": [
    {
     "name": "stdout",
     "output_type": "stream",
     "text": [
      "         mock turtlepeg pretexta\n",
      "1  eluviation        39       66\n",
      "2     alepole        81       66\n",
      "3     alepole        41      -85\n",
      "4  eluviation       -90      -85\n",
      "5 entombments        38       95\n",
      "6  spiraculum        84       66\n",
      "7  eluviation       -61      -85\n",
      "\n"
     ]
    }
   ],
   "source": [
    "m_interpreter.print_obj(m_interpreter.random_table())"
   ]
  },
  {
   "cell_type": "code",
   "execution_count": 45,
   "metadata": {},
   "outputs": [
    {
     "data": {
      "text/plain": [
       "[Symbol('unite'),\n",
       " [Symbol('gather'), [Symbol('@param'), 0], [Symbol('ColList'), ['5', '6']]],\n",
       " [Symbol('ColInt'), '1'],\n",
       " [Symbol('ColInt'), '6']]"
      ]
     },
     "execution_count": 45,
     "metadata": {},
     "output_type": "execute_result"
    }
   ],
   "source": [
    "m_ps.node_list[-1].to_sexp()"
   ]
  },
  {
   "cell_type": "code",
   "execution_count": 41,
   "metadata": {},
   "outputs": [
    {
     "data": {
      "text/plain": [
       "\"unite(gather(@param0, ['5', '6']), 1, 6)\""
      ]
     },
     "execution_count": 41,
     "metadata": {},
     "output_type": "execute_result"
    }
   ],
   "source": [
    "str(m_ps.node_list[-1])"
   ]
  },
  {
   "cell_type": "code",
   "execution_count": 43,
   "metadata": {},
   "outputs": [
    {
     "data": {
      "text/plain": [
       "\"ApplyNode(unite, [ApplyNode(gather, [ParamNode(0), AtomNode(['5', '6'])]), AtomNode(1), AtomNode(6)])\""
      ]
     },
     "execution_count": 43,
     "metadata": {},
     "output_type": "execute_result"
    }
   ],
   "source": [
    "m_ps.node_list[-1].__repr__()"
   ]
  },
  {
   "cell_type": "code",
   "execution_count": 40,
   "metadata": {},
   "outputs": [
    {
     "name": "stdout",
     "output_type": "stream",
     "text": [
      "unite(gather(@param0, ['5', '6']), 1, 6)\n",
      "   hydrotechnic     mounseer insensibilizer disenthrone    criosphinxes\n",
      "1          0.86      stilter        atafter     dyester        traction\n",
      "2        -67.71 spermogonium      jumentous   rhonchial        traction\n",
      "3          4.43      stilter         ejects  colisepsis        traction\n",
      "4        -16.82 spermogonium  nontelepathic   rhonchial        traction\n",
      "5        -67.02      stilter      hogsucker     dyester        traction\n",
      "6          0.86      stilter        atafter     dyester noninterruption\n",
      "7        -67.71 spermogonium      jumentous   rhonchial noninterruption\n",
      "8          4.43      stilter         ejects  colisepsis noninterruption\n",
      "9        -16.82 spermogonium  nontelepathic   rhonchial noninterruption\n",
      "10       -67.02      stilter      hogsucker     dyester noninterruption\n",
      "   icteruses\n",
      "1        -51\n",
      "2        -45\n",
      "3         89\n",
      "4         47\n",
      "5         28\n",
      "6         71\n",
      "7         11\n",
      "8        -98\n",
      "9        100\n",
      "10       -42\n",
      "\n",
      "   macrosmatic     mounseer insensibilizer disenthrone    criosphinxes\n",
      "1     0.86_-51      stilter        atafter     dyester        traction\n",
      "2   -67.71_-45 spermogonium      jumentous   rhonchial        traction\n",
      "3      4.43_89      stilter         ejects  colisepsis        traction\n",
      "4    -16.82_47 spermogonium  nontelepathic   rhonchial        traction\n",
      "5    -67.02_28      stilter      hogsucker     dyester        traction\n",
      "6      0.86_71      stilter        atafter     dyester noninterruption\n",
      "7    -67.71_11 spermogonium      jumentous   rhonchial noninterruption\n",
      "8     4.43_-98      stilter         ejects  colisepsis noninterruption\n",
      "9   -16.82_100 spermogonium  nontelepathic   rhonchial noninterruption\n",
      "10  -67.02_-42      stilter      hogsucker     dyester noninterruption\n",
      "\n"
     ]
    }
   ],
   "source": [
    "m_ps = m_generator.get_new_chain_program(3)\n",
    "print(m_ps.node_list[-1])\n",
    "m_interpreter.print_obj(m_ps.node_list[-2].ps_data)\n",
    "m_interpreter.print_obj(m_ps.node_list[-1].ps_data)"
   ]
  },
  {
   "cell_type": "code",
   "execution_count": null,
   "metadata": {},
   "outputs": [],
   "source": []
  },
  {
   "cell_type": "code",
   "execution_count": 3,
   "metadata": {},
   "outputs": [],
   "source": [
    "import pickle\n",
    "dt = pickle.load(open(\"./morpheus_data_size1.pkl\",\"rb\"))"
   ]
  },
  {
   "cell_type": "code",
   "execution_count": 4,
   "metadata": {},
   "outputs": [
    {
     "data": {
      "text/plain": [
       "(ApplyNode(unite, [ParamNode(0), AtomNode(1), AtomNode(3)]),\n",
       " Example(input=['structure(list(sooty = c(-3.78, 44.24, 43.11, -6.69, 12.62, 62.73, \\n1.62, 37.84), empyreumatic = c(-37, -37, -37, -37, -15, -37, \\n-37, -15), afterstate = c(\"antipestilence\", \"scurrier\", \"labrador\", \\n\"exsuccous\", \"midwinters\", \"extortive\", \"chromoxylograph\", \"questionnaires\"\\n), quagmiry = c(\"multilineal_upriser\", \"buzzed_minimizers\", \"berkeleyism_mosel\", \\n\"christicide_prematerial\", \"inanimately_equidense\", \"fishifying_triglyphic\", \\n\"porkeater_toenailing\", \"preomitting_thrummy\"), skirmished = c(75, \\n-10, 32, -96, -64, 33, 10, 96), unfatigueable = c(100, -35, 100, \\n100, 46, -35, -35, -35)), class = \"data.frame\", row.names = c(NA, \\n-8L))'], output='structure(list(reverberators = c(\"-3.78_antipestilence\", \"44.24_scurrier\", \\n\"43.11_labrador\", \"-6.69_exsuccous\", \"12.62_midwinters\", \"62.73_extortive\", \\n\"1.62_chromoxylograph\", \"37.84_questionnaires\"), empyreumatic = c(-37, \\n-37, -37, -37, -15, -37, -37, -15), quagmiry = c(\"multilineal_upriser\", \\n\"buzzed_minimizers\", \"berkeleyism_mosel\", \"christicide_prematerial\", \\n\"inanimately_equidense\", \"fishifying_triglyphic\", \"porkeater_toenailing\", \\n\"preomitting_thrummy\"), skirmished = c(75, -10, 32, -96, -64, \\n33, 10, 96), unfatigueable = c(100, -35, 100, 100, 46, -35, -35, \\n-35)), class = \"data.frame\", row.names = c(NA, -8L))'))"
      ]
     },
     "execution_count": 4,
     "metadata": {},
     "output_type": "execute_result"
    }
   ],
   "source": [
    "dt['unite(@param0, 1, 3)'][0]"
   ]
  },
  {
   "cell_type": "code",
   "execution_count": 5,
   "metadata": {},
   "outputs": [
    {
     "data": {
      "text/plain": [
       "(ApplyNode(unite, [ParamNode(0), AtomNode(1), AtomNode(3)]),\n",
       " Example(input=['structure(list(khotana = c(\"irredentism\", \"ransomable\", \"exundance\", \\n\"cortege\", \"anginiform\"), bestialised = c(\"trainy\", \"malpractitioner\", \\n\"amtrak\", \"luggages\", \"adornments\"), scrogs = c(\"euphoric\", \"autohemic\", \\n\"autohemic\", \"euphoric\", \"horsed\"), perdiligence = c(57, 36, \\n42, 0, -90), brontosauruses = c(72.92, 0.98, -87.55, 47.31, -73.37\\n), planosome = c(\"unabscessed\", \"pseudochromesthesia\", \"overloyal\", \\n\"stripeless\", \"unpoured\")), class = \"data.frame\", row.names = c(NA, \\n-5L))'], output='structure(list(choko = c(\"irredentism_euphoric\", \"ransomable_autohemic\", \\n\"exundance_autohemic\", \"cortege_euphoric\", \"anginiform_horsed\"\\n), bestialised = c(\"trainy\", \"malpractitioner\", \"amtrak\", \"luggages\", \\n\"adornments\"), perdiligence = c(57, 36, 42, 0, -90), brontosauruses = c(72.92, \\n0.98, -87.55, 47.31, -73.37), planosome = c(\"unabscessed\", \"pseudochromesthesia\", \\n\"overloyal\", \"stripeless\", \"unpoured\")), class = \"data.frame\", row.names = c(NA, \\n-5L))'))"
      ]
     },
     "execution_count": 5,
     "metadata": {},
     "output_type": "execute_result"
    }
   ],
   "source": [
    "dt['unite(@param0, 1, 3)'][1]"
   ]
  },
  {
   "cell_type": "code",
   "execution_count": 50,
   "metadata": {},
   "outputs": [],
   "source": []
  },
  {
   "cell_type": "code",
   "execution_count": 11,
   "metadata": {},
   "outputs": [],
   "source": [
    "ppp = ProgramSpace(m_spec, m_interpreter, [None], None)"
   ]
  },
  {
   "cell_type": "code",
   "execution_count": 8,
   "metadata": {},
   "outputs": [
    {
     "data": {
      "text/plain": [
       "(['MI0001_RET_DF_0'], 'MI0001_RET_DF_1')"
      ]
     },
     "execution_count": 8,
     "metadata": {},
     "output_type": "execute_result"
    }
   ],
   "source": [
    "ppp.inputs, ppp.output"
   ]
  },
  {
   "cell_type": "code",
   "execution_count": 12,
   "metadata": {},
   "outputs": [],
   "source": [
    "ppp.init_from_entry(dt['unite(@param0, 1, 3)'][1])"
   ]
  },
  {
   "cell_type": "code",
   "execution_count": 13,
   "metadata": {},
   "outputs": [
    {
     "data": {
      "text/plain": [
       "70"
      ]
     },
     "execution_count": 13,
     "metadata": {},
     "output_type": "execute_result"
    }
   ],
   "source": [
    "ppp.check_eq()"
   ]
  },
  {
   "cell_type": "code",
   "execution_count": 14,
   "metadata": {},
   "outputs": [
    {
     "name": "stdout",
     "output_type": "stream",
     "text": [
      "      khotana     bestialised    scrogs perdiligence brontosauruses\n",
      "1 irredentism          trainy  euphoric           57          72.92\n",
      "2  ransomable malpractitioner autohemic           36           0.98\n",
      "3   exundance          amtrak autohemic           42         -87.55\n",
      "4     cortege        luggages  euphoric            0          47.31\n",
      "5  anginiform      adornments    horsed          -90         -73.37\n",
      "            planosome\n",
      "1         unabscessed\n",
      "2 pseudochromesthesia\n",
      "3           overloyal\n",
      "4          stripeless\n",
      "5            unpoured\n",
      "\n"
     ]
    }
   ],
   "source": [
    "m_interpreter.print_obj(ppp.inputs[0])"
   ]
  },
  {
   "cell_type": "code",
   "execution_count": 15,
   "metadata": {},
   "outputs": [
    {
     "name": "stdout",
     "output_type": "stream",
     "text": [
      "                 choko     bestialised perdiligence brontosauruses\n",
      "1 irredentism_euphoric          trainy           57          72.92\n",
      "2 ransomable_autohemic malpractitioner           36           0.98\n",
      "3  exundance_autohemic          amtrak           42         -87.55\n",
      "4     cortege_euphoric        luggages            0          47.31\n",
      "5    anginiform_horsed      adornments          -90         -73.37\n",
      "            planosome\n",
      "1         unabscessed\n",
      "2 pseudochromesthesia\n",
      "3           overloyal\n",
      "4          stripeless\n",
      "5            unpoured\n",
      "\n"
     ]
    }
   ],
   "source": [
    "m_interpreter.print_obj(ppp.output)"
   ]
  },
  {
   "cell_type": "code",
   "execution_count": 10,
   "metadata": {},
   "outputs": [
    {
     "data": {
      "text/plain": [
       "'unite(@param0, 1, 3)'"
      ]
     },
     "execution_count": 10,
     "metadata": {},
     "output_type": "execute_result"
    }
   ],
   "source": [
    "str(ppp.node_list[-1])"
   ]
  },
  {
   "cell_type": "code",
   "execution_count": null,
   "metadata": {},
   "outputs": [],
   "source": []
  },
  {
   "cell_type": "code",
   "execution_count": null,
   "metadata": {},
   "outputs": [],
   "source": []
  },
  {
   "cell_type": "code",
   "execution_count": 11,
   "metadata": {},
   "outputs": [],
   "source": [
    "m_enumerator = RandomEnumeratorFD(m_spec, fixed_depth=2)"
   ]
  },
  {
   "cell_type": "code",
   "execution_count": 12,
   "metadata": {},
   "outputs": [],
   "source": [
    "a=m_enumerator.next()"
   ]
  },
  {
   "cell_type": "code",
   "execution_count": 15,
   "metadata": {},
   "outputs": [
    {
     "data": {
      "text/plain": [
       "'ApplyNode(spread, [ParamNode(0), AtomNode(1), AtomNode(5)])'"
      ]
     },
     "execution_count": 15,
     "metadata": {},
     "output_type": "execute_result"
    }
   ],
   "source": [
    "a.__repr__()"
   ]
  },
  {
   "cell_type": "code",
   "execution_count": null,
   "metadata": {},
   "outputs": [],
   "source": []
  },
  {
   "cell_type": "code",
   "execution_count": null,
   "metadata": {},
   "outputs": [],
   "source": []
  },
  {
   "cell_type": "code",
   "execution_count": 23,
   "metadata": {},
   "outputs": [
    {
     "data": {
      "text/plain": [
       "\"FunctionProduction(id=4, lhs=ValueType(Table, properties={'col': <ExprType.INT: 'int'>, 'row': <ExprType.INT: 'int'>, 'head': <ExprType.INT: 'int'>, 'content': <ExprType.INT: 'int'>}), name=unite, rhs=[ValueType(Table, properties={'col': <ExprType.INT: 'int'>, 'row': <ExprType.INT: 'int'>, 'head': <ExprType.INT: 'int'>, 'content': <ExprType.INT: 'int'>}), EnumType(ColInt, domain=['1', '2', '3', '4', '5', '6']), EnumType(ColInt, domain=['1', '2', '3', '4', '5', '6'])])\""
      ]
     },
     "execution_count": 23,
     "metadata": {},
     "output_type": "execute_result"
    }
   ],
   "source": [
    "dt['unite(@param0, 1, 3)'][0][0]._prod.__repr__()"
   ]
  },
  {
   "cell_type": "code",
   "execution_count": 24,
   "metadata": {},
   "outputs": [
    {
     "data": {
      "text/plain": [
       "\"FunctionProduction(id=4, lhs=ValueType(Table, properties={'col': <ExprType.INT: 'int'>, 'row': <ExprType.INT: 'int'>, 'head': <ExprType.INT: 'int'>, 'content': <ExprType.INT: 'int'>}), name=unite, rhs=[ValueType(Table, properties={'col': <ExprType.INT: 'int'>, 'row': <ExprType.INT: 'int'>, 'head': <ExprType.INT: 'int'>, 'content': <ExprType.INT: 'int'>}), EnumType(ColInt, domain=['1', '2', '3', '4', '5', '6']), EnumType(ColInt, domain=['1', '2', '3', '4', '5', '6'])])\""
      ]
     },
     "execution_count": 24,
     "metadata": {},
     "output_type": "execute_result"
    }
   ],
   "source": [
    "ppp.prod_list[4].__repr__()"
   ]
  },
  {
   "cell_type": "code",
   "execution_count": 10,
   "metadata": {},
   "outputs": [
    {
     "data": {
      "text/plain": [
       "True"
      ]
     },
     "execution_count": 10,
     "metadata": {},
     "output_type": "execute_result"
    }
   ],
   "source": [
    "ppp.prod_list[4] in ppp.prod_list"
   ]
  },
  {
   "cell_type": "code",
   "execution_count": 25,
   "metadata": {},
   "outputs": [
    {
     "data": {
      "text/plain": [
       "True"
      ]
     },
     "execution_count": 25,
     "metadata": {},
     "output_type": "execute_result"
    }
   ],
   "source": [
    "dt['unite(@param0, 1, 3)'][0][0]._prod.__repr__() == ppp.prod_list[4].__repr__()"
   ]
  },
  {
   "cell_type": "code",
   "execution_count": 26,
   "metadata": {},
   "outputs": [
    {
     "data": {
      "text/plain": [
       "NotImplemented"
      ]
     },
     "execution_count": 26,
     "metadata": {},
     "output_type": "execute_result"
    }
   ],
   "source": [
    "dt['unite(@param0, 1, 3)'][0][0]._prod.__eq__(ppp.prod_list[4])"
   ]
  },
  {
   "cell_type": "code",
   "execution_count": null,
   "metadata": {},
   "outputs": [],
   "source": []
  },
  {
   "cell_type": "code",
   "execution_count": 2,
   "metadata": {},
   "outputs": [],
   "source": [
    "def get_new_program(p_interpreter, p_generator):\n",
    "    # initialize a program first\n",
    "    while True:\n",
    "        p_input = p_interpreter.random_table()\n",
    "        p_prog, p_example = p_generator.generate(\n",
    "            fixed_depth=4,\n",
    "            example=Example(input=[p_input], output=None),\n",
    "        )\n",
    "        # make sure at least one function call\n",
    "        if p_prog is not None and p_prog.is_apply():\n",
    "            break\n",
    "    return p_prog, p_example"
   ]
  },
  {
   "cell_type": "code",
   "execution_count": 3,
   "metadata": {},
   "outputs": [],
   "source": [
    "m_interpreter = MorpheusInterpreter()\n",
    "m_spec = S.parse_file('./example/camb3.tyrell')\n",
    "m_generator = MorpheusGenerator(\n",
    "    spec=m_spec,\n",
    "    interpreter=m_interpreter,\n",
    "    sfn=m_interpreter.sanity_check,\n",
    ")\n",
    "m_ps = ProgramSpace(\n",
    "    m_spec, m_interpreter, [None], None,\n",
    ")"
   ]
  },
  {
   "cell_type": "code",
   "execution_count": 12,
   "metadata": {},
   "outputs": [],
   "source": [
    "m_prog, m_example = get_new_program(m_interpreter, m_generator)"
   ]
  },
  {
   "cell_type": "code",
   "execution_count": 13,
   "metadata": {},
   "outputs": [
    {
     "data": {
      "text/plain": [
       "ApplyNode(unite, [ApplyNode(separate, [ApplyNode(unite, [ParamNode(0), AtomNode(2), AtomNode(1)]), AtomNode(1)]), AtomNode(4), AtomNode(1)])"
      ]
     },
     "execution_count": 13,
     "metadata": {},
     "output_type": "execute_result"
    }
   ],
   "source": [
    "m_prog"
   ]
  },
  {
   "cell_type": "code",
   "execution_count": 14,
   "metadata": {},
   "outputs": [
    {
     "data": {
      "text/plain": [
       "['RET_DF601']"
      ]
     },
     "execution_count": 14,
     "metadata": {},
     "output_type": "execute_result"
    }
   ],
   "source": [
    "m_example.input"
   ]
  },
  {
   "cell_type": "code",
   "execution_count": 15,
   "metadata": {},
   "outputs": [
    {
     "name": "stdout",
     "output_type": "stream",
     "text": [
      "    OCOL1 OCOL2 OCOL3 OCOL4 OCOL5\n",
      "1  -51.20   -18    65   -84    63\n",
      "2   80.90   -66   -53   -15    98\n",
      "3   41.40   -85    28    30   -83\n",
      "4   82.75     0   -62    85   -13\n",
      "5   63.81     8    16     1   -56\n",
      "6  -94.28    82    -3    24    34\n",
      "7  -13.51    99    23    -6    63\n",
      "8    7.54     6    83     4    66\n",
      "9  -63.24   -64    97    -7    42\n",
      "10  59.90    35   -48    -9   -98\n",
      "\n"
     ]
    }
   ],
   "source": [
    "print(robjects.r(m_example.input[0]))"
   ]
  },
  {
   "cell_type": "code",
   "execution_count": 16,
   "metadata": {},
   "outputs": [
    {
     "name": "stdout",
     "output_type": "stream",
     "text": [
      "   COL281654 COL818007 OCOL3 OCOL5\n",
      "1       -84_        18    65    63\n",
      "2       -15_        66   -53    98\n",
      "3        30_        85    28   -83\n",
      "4       85_0        82   -62   -13\n",
      "5        1_8        63    16   -56\n",
      "6      24_82        94    -3    34\n",
      "7      -6_99        13    23    63\n",
      "8        4_6         7    83    66\n",
      "9        -7_        64    97    42\n",
      "10     -9_35        59   -48   -98\n",
      "\n"
     ]
    }
   ],
   "source": [
    "print(robjects.r(m_example.output))"
   ]
  }
 ],
 "metadata": {
  "kernelspec": {
   "display_name": "Python 3",
   "language": "python",
   "name": "python3"
  },
  "language_info": {
   "codemirror_mode": {
    "name": "ipython",
    "version": 3
   },
   "file_extension": ".py",
   "mimetype": "text/x-python",
   "name": "python",
   "nbconvert_exporter": "python",
   "pygments_lexer": "ipython3",
   "version": "3.6.8"
  }
 },
 "nbformat": 4,
 "nbformat_minor": 2
}
