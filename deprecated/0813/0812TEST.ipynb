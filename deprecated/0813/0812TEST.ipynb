{
 "cells": [
  {
   "cell_type": "code",
   "execution_count": 22,
   "metadata": {},
   "outputs": [],
   "source": [
    "import pickle\n",
    "# with open(\"./0811Size3_Raw/0811Size3.pkl\",\"rb\") as f:\n",
    "# with open(\"./0811Size4_Raw/0811Size4.pkl\",\"rb\") as f:\n",
    "with open(\"./0812Size3Relaxed_Raw/0812Size3Relaxed.pkl\",\"rb\") as f:\n",
    "    dt = pickle.load(f)"
   ]
  },
  {
   "cell_type": "code",
   "execution_count": 23,
   "metadata": {},
   "outputs": [],
   "source": [
    "# Morpheus Version\n",
    "from MorpheusInterpreter import *\n",
    "from ProgramSpace import *"
   ]
  },
  {
   "cell_type": "code",
   "execution_count": 24,
   "metadata": {},
   "outputs": [],
   "source": [
    "m_interpreter = MorpheusInterpreter()\n",
    "m_spec = S.parse_file('./example/camb6.tyrell')\n",
    "m_generator = MorpheusGenerator(\n",
    "    spec=m_spec,\n",
    "    interpreter=m_interpreter,\n",
    ")\n",
    "# dumb variable to help infer the shells\n",
    "p_sourceps = ProgramSpace(\n",
    "    m_spec, m_interpreter, [None], None,\n",
    ")"
   ]
  },
  {
   "cell_type": "code",
   "execution_count": 25,
   "metadata": {},
   "outputs": [
    {
     "name": "stdout",
     "output_type": "stream",
     "text": [
      "# processing 1689/3693/3694"
     ]
    }
   ],
   "source": [
    "new_dt = []\n",
    "for i in range(len(dt)):\n",
    "    print(\"\\r# processing {}/{}/{}\".format(len(new_dt),i,len(dt)),end=\"\")\n",
    "    try:\n",
    "        data_prog, data_str_example = dt[i]\n",
    "        data_example = Example(\n",
    "            input=[p_sourceps.interpreter.load_data_into_var(p) for p in data_str_example.input],\n",
    "            output=p_sourceps.interpreter.load_data_into_var(data_str_example.output),\n",
    "        )\n",
    "        ps_solution = ProgramSpace(\n",
    "            p_sourceps.spec, p_sourceps.interpreter, data_example.input, data_example.output,\n",
    "        )\n",
    "        ps_solution.init_by_prog(data_prog)\n",
    "        if p_sourceps.interpreter.sanity_check(ps_solution)[0]:\n",
    "            # only keep those with ncol<15\n",
    "            if p_sourceps.interpreter.renv(\"ncol({})\".format(data_example.output))[0]<15:\n",
    "                new_dt.append(dt[i])\n",
    "    except Exception as e:\n",
    "#         print(\"# exception, skip\")\n",
    "        continue"
   ]
  },
  {
   "cell_type": "code",
   "execution_count": null,
   "metadata": {},
   "outputs": [],
   "source": []
  },
  {
   "cell_type": "code",
   "execution_count": 26,
   "metadata": {},
   "outputs": [
    {
     "data": {
      "text/plain": [
       "1690"
      ]
     },
     "execution_count": 26,
     "metadata": {},
     "output_type": "execute_result"
    }
   ],
   "source": [
    "len(new_dt)"
   ]
  },
  {
   "cell_type": "code",
   "execution_count": 27,
   "metadata": {},
   "outputs": [],
   "source": [
    "with open(\"./0812Size3Relaxed_Raw/0812Size3RelaxedFiltered.pkl\",\"wb\") as f:\n",
    "# with open(\"./0811Size3_Raw/0811Size3Filtered.pkl\",\"wb\") as f:\n",
    "# with open(\"./0811Size4_Raw/0811Size4Filtered.pkl\",\"wb\") as f:\n",
    "    pickle.dump(new_dt,f)"
   ]
  },
  {
   "cell_type": "code",
   "execution_count": null,
   "metadata": {},
   "outputs": [],
   "source": []
  },
  {
   "cell_type": "code",
   "execution_count": null,
   "metadata": {},
   "outputs": [],
   "source": []
  },
  {
   "cell_type": "code",
   "execution_count": 28,
   "metadata": {},
   "outputs": [
    {
     "data": {
      "text/plain": [
       "Example(input=['MI0002_RET_DF_21921'], output='MI0002_RET_DF_21922')"
      ]
     },
     "execution_count": 28,
     "metadata": {},
     "output_type": "execute_result"
    }
   ],
   "source": [
    "data_example"
   ]
  },
  {
   "cell_type": "code",
   "execution_count": 16,
   "metadata": {},
   "outputs": [
    {
     "name": "stdout",
     "output_type": "stream",
     "text": [
      "  fortifies uninhabitableness    stampedable potamogetonaceous cheiropterygium\n",
      "1         0               -72 circumlocution                 1              76\n",
      "2         0               -72   anticipating                74              76\n",
      "3        18               -79         gallop                74              76\n",
      "4       -29               -83    unbarbarise                 1             -31\n",
      "5        18               -79        ternery                 1              76\n",
      "     sagitarii\n",
      "1      pinwork\n",
      "2       mahone\n",
      "3         core\n",
      "4      pinwork\n",
      "5 semijudicial\n",
      "\n"
     ]
    }
   ],
   "source": [
    "p_sourceps.interpreter.print_obj(data_example.input[0])"
   ]
  },
  {
   "cell_type": "code",
   "execution_count": 17,
   "metadata": {},
   "outputs": [
    {
     "data": {
      "text/plain": [
       "ApplyNode(neg_select, [ApplyNode(gather, [ApplyNode(separate, [ParamNode(0), AtomNode(6)]), AtomNode(['3', '6'])]), AtomNode(['4', '5'])])"
      ]
     },
     "execution_count": 17,
     "metadata": {},
     "output_type": "execute_result"
    }
   ],
   "source": [
    "data_prog"
   ]
  },
  {
   "cell_type": "code",
   "execution_count": 30,
   "metadata": {},
   "outputs": [
    {
     "data": {
      "text/plain": [
       "['olfactometer',\n",
       " 'affirm',\n",
       " 'bunemost',\n",
       " 'consignification',\n",
       " 'dezincation',\n",
       " 'dithioglycol',\n",
       " 'mammilloplasty',\n",
       " 'mimeographing',\n",
       " 'neigher',\n",
       " 'prand']"
      ]
     },
     "execution_count": 30,
     "metadata": {},
     "output_type": "execute_result"
    }
   ],
   "source": [
    "list(p_sourceps.interpreter.renv(\"colnames({})\".format(data_example.output)))"
   ]
  },
  {
   "cell_type": "code",
   "execution_count": null,
   "metadata": {},
   "outputs": [],
   "source": []
  },
  {
   "cell_type": "code",
   "execution_count": null,
   "metadata": {},
   "outputs": [],
   "source": []
  },
  {
   "cell_type": "code",
   "execution_count": null,
   "metadata": {},
   "outputs": [],
   "source": []
  },
  {
   "cell_type": "markdown",
   "metadata": {},
   "source": []
  },
  {
   "cell_type": "code",
   "execution_count": 2,
   "metadata": {},
   "outputs": [],
   "source": [
    "from benchmarks.pldi17_sol import *\n",
    "from tyrell import dsl as D"
   ]
  },
  {
   "cell_type": "code",
   "execution_count": 5,
   "metadata": {},
   "outputs": [
    {
     "data": {
      "text/plain": [
       "[Symbol('spread'),\n",
       " [Symbol('unite'),\n",
       "  [Symbol('gather'), [Symbol('@param'), 0], [Symbol('ColList'), [3, 4]]],\n",
       "  [Symbol('ColInt'), 2],\n",
       "  [Symbol('ColInt'), 3]],\n",
       " [Symbol('ColInt'), 2],\n",
       " [Symbol('ColInt'), 3]]"
      ]
     },
     "execution_count": 5,
     "metadata": {},
     "output_type": "execute_result"
    }
   ],
   "source": [
    "solutions[3]"
   ]
  },
  {
   "cell_type": "code",
   "execution_count": 15,
   "metadata": {},
   "outputs": [
    {
     "data": {
      "text/plain": [
       "[Symbol('neg_select'),\n",
       " [Symbol('separate'),\n",
       "  [Symbol('neg_gather'), [Symbol('@param'), 0], [Symbol('ColList'), [1, 2]]],\n",
       "  [Symbol('ColInt'), 3]],\n",
       " [Symbol('ColList'), [3]]]"
      ]
     },
     "execution_count": 15,
     "metadata": {},
     "output_type": "execute_result"
    }
   ],
   "source": [
    "solutions[5]"
   ]
  },
  {
   "cell_type": "code",
   "execution_count": 7,
   "metadata": {},
   "outputs": [
    {
     "data": {
      "text/plain": [
       "True"
      ]
     },
     "execution_count": 7,
     "metadata": {},
     "output_type": "execute_result"
    }
   ],
   "source": [
    "solutions[3]==solutions[4]"
   ]
  },
  {
   "cell_type": "code",
   "execution_count": 3,
   "metadata": {},
   "outputs": [],
   "source": [
    "bmrk_id = 4\n",
    "m_interpreter = MorpheusInterpreter()\n",
    "m_spec = S.parse_file('./example/camb6.tyrell')\n",
    "m_builder = D.Builder(m_spec)\n",
    "m_prog = m_builder._from_sexp(solutions[bmrk_id])"
   ]
  },
  {
   "cell_type": "code",
   "execution_count": 5,
   "metadata": {},
   "outputs": [
    {
     "data": {
      "text/plain": [
       "[Symbol('spread'),\n",
       " [Symbol('unite'),\n",
       "  [Symbol('gather'), [Symbol('@param'), 0], [Symbol('ColList'), ['3', '4']]],\n",
       "  [Symbol('ColInt'), '3'],\n",
       "  [Symbol('ColInt'), '2']],\n",
       " [Symbol('ColInt'), '2'],\n",
       " [Symbol('ColInt'), '3']]"
      ]
     },
     "execution_count": 5,
     "metadata": {},
     "output_type": "execute_result"
    }
   ],
   "source": [
    "m_prog.to_sexp()"
   ]
  },
  {
   "cell_type": "code",
   "execution_count": 4,
   "metadata": {},
   "outputs": [
    {
     "ename": "ValueError",
     "evalue": "ApplyNode(unite, [ApplyNode(gather, [ParamNode(0), AtomNode(['3', '4'])]), AtomNode(2), AtomNode(3)]) is not in list",
     "output_type": "error",
     "traceback": [
      "\u001b[0;31m---------------------------------------------------------------------------\u001b[0m",
      "\u001b[0;31mValueError\u001b[0m                                Traceback (most recent call last)",
      "\u001b[0;32m<ipython-input-4-f618e04bebfb>\u001b[0m in \u001b[0;36m<module>\u001b[0;34m()\u001b[0m\n\u001b[1;32m      6\u001b[0m     \u001b[0mm_spec\u001b[0m\u001b[0;34m,\u001b[0m \u001b[0mm_interpreter\u001b[0m\u001b[0;34m,\u001b[0m \u001b[0;34m[\u001b[0m\u001b[0mm_input\u001b[0m\u001b[0;34m]\u001b[0m\u001b[0;34m,\u001b[0m \u001b[0mm_output\u001b[0m\u001b[0;34m,\u001b[0m\u001b[0;34m\u001b[0m\u001b[0;34m\u001b[0m\u001b[0m\n\u001b[1;32m      7\u001b[0m )\n\u001b[0;32m----> 8\u001b[0;31m \u001b[0mm_ps\u001b[0m\u001b[0;34m.\u001b[0m\u001b[0minit_by_prog\u001b[0m\u001b[0;34m(\u001b[0m\u001b[0mm_prog\u001b[0m\u001b[0;34m)\u001b[0m\u001b[0;34m\u001b[0m\u001b[0;34m\u001b[0m\u001b[0m\n\u001b[0m",
      "\u001b[0;32m~/Desktop/UCSB/19spring/Research_Feng/Trinity/ProgramSpace.py\u001b[0m in \u001b[0;36minit_by_prog\u001b[0;34m(self, p_prog)\u001b[0m\n\u001b[1;32m    159\u001b[0m                 \u001b[0mself\u001b[0m\u001b[0;34m.\u001b[0m\u001b[0madd_neighboring_shell\u001b[0m\u001b[0;34m(\u001b[0m\u001b[0md_shell\u001b[0m\u001b[0;34m)\u001b[0m\u001b[0;34m\u001b[0m\u001b[0;34m\u001b[0m\u001b[0m\n\u001b[1;32m    160\u001b[0m         \u001b[0;31m# just call the recursive function\u001b[0m\u001b[0;34m\u001b[0m\u001b[0;34m\u001b[0m\u001b[0;34m\u001b[0m\u001b[0m\n\u001b[0;32m--> 161\u001b[0;31m         \u001b[0mpost_order_travesal\u001b[0m\u001b[0;34m(\u001b[0m\u001b[0mp_prog\u001b[0m\u001b[0;34m)\u001b[0m\u001b[0;34m\u001b[0m\u001b[0;34m\u001b[0m\u001b[0m\n\u001b[0m\u001b[1;32m    162\u001b[0m \u001b[0;34m\u001b[0m\u001b[0m\n\u001b[1;32m    163\u001b[0m     '''\n",
      "\u001b[0;32m~/Desktop/UCSB/19spring/Research_Feng/Trinity/ProgramSpace.py\u001b[0m in \u001b[0;36mpost_order_travesal\u001b[0;34m(droot)\u001b[0m\n\u001b[1;32m    155\u001b[0m                 \u001b[0;31m# and if it's apply, then it has children\u001b[0m\u001b[0;34m\u001b[0m\u001b[0;34m\u001b[0m\u001b[0;34m\u001b[0m\u001b[0m\n\u001b[1;32m    156\u001b[0m                 \u001b[0md_prod\u001b[0m \u001b[0;34m=\u001b[0m \u001b[0mself\u001b[0m\u001b[0;34m.\u001b[0m\u001b[0mprod_list\u001b[0m\u001b[0;34m.\u001b[0m\u001b[0mindex\u001b[0m\u001b[0;34m(\u001b[0m\u001b[0mdroot\u001b[0m\u001b[0;34m.\u001b[0m\u001b[0m_prod\u001b[0m\u001b[0;34m)\u001b[0m\u001b[0;34m\u001b[0m\u001b[0;34m\u001b[0m\u001b[0m\n\u001b[0;32m--> 157\u001b[0;31m                 \u001b[0md_rhs\u001b[0m \u001b[0;34m=\u001b[0m \u001b[0;34m[\u001b[0m\u001b[0mself\u001b[0m\u001b[0;34m.\u001b[0m\u001b[0mnode_list\u001b[0m\u001b[0;34m.\u001b[0m\u001b[0mindex\u001b[0m\u001b[0;34m(\u001b[0m\u001b[0mq\u001b[0m\u001b[0;34m)\u001b[0m \u001b[0;32mfor\u001b[0m \u001b[0mq\u001b[0m \u001b[0;32min\u001b[0m \u001b[0mdroot\u001b[0m\u001b[0;34m.\u001b[0m\u001b[0mchildren\u001b[0m\u001b[0;34m]\u001b[0m\u001b[0;34m\u001b[0m\u001b[0;34m\u001b[0m\u001b[0m\n\u001b[0m\u001b[1;32m    158\u001b[0m                 \u001b[0md_shell\u001b[0m \u001b[0;34m=\u001b[0m \u001b[0;34m(\u001b[0m\u001b[0md_prod\u001b[0m\u001b[0;34m,\u001b[0m \u001b[0mtuple\u001b[0m\u001b[0;34m(\u001b[0m\u001b[0md_rhs\u001b[0m\u001b[0;34m)\u001b[0m\u001b[0;34m)\u001b[0m\u001b[0;34m\u001b[0m\u001b[0;34m\u001b[0m\u001b[0m\n\u001b[1;32m    159\u001b[0m                 \u001b[0mself\u001b[0m\u001b[0;34m.\u001b[0m\u001b[0madd_neighboring_shell\u001b[0m\u001b[0;34m(\u001b[0m\u001b[0md_shell\u001b[0m\u001b[0;34m)\u001b[0m\u001b[0;34m\u001b[0m\u001b[0;34m\u001b[0m\u001b[0m\n",
      "\u001b[0;32m~/Desktop/UCSB/19spring/Research_Feng/Trinity/ProgramSpace.py\u001b[0m in \u001b[0;36m<listcomp>\u001b[0;34m(.0)\u001b[0m\n\u001b[1;32m    155\u001b[0m                 \u001b[0;31m# and if it's apply, then it has children\u001b[0m\u001b[0;34m\u001b[0m\u001b[0;34m\u001b[0m\u001b[0;34m\u001b[0m\u001b[0m\n\u001b[1;32m    156\u001b[0m                 \u001b[0md_prod\u001b[0m \u001b[0;34m=\u001b[0m \u001b[0mself\u001b[0m\u001b[0;34m.\u001b[0m\u001b[0mprod_list\u001b[0m\u001b[0;34m.\u001b[0m\u001b[0mindex\u001b[0m\u001b[0;34m(\u001b[0m\u001b[0mdroot\u001b[0m\u001b[0;34m.\u001b[0m\u001b[0m_prod\u001b[0m\u001b[0;34m)\u001b[0m\u001b[0;34m\u001b[0m\u001b[0;34m\u001b[0m\u001b[0m\n\u001b[0;32m--> 157\u001b[0;31m                 \u001b[0md_rhs\u001b[0m \u001b[0;34m=\u001b[0m \u001b[0;34m[\u001b[0m\u001b[0mself\u001b[0m\u001b[0;34m.\u001b[0m\u001b[0mnode_list\u001b[0m\u001b[0;34m.\u001b[0m\u001b[0mindex\u001b[0m\u001b[0;34m(\u001b[0m\u001b[0mq\u001b[0m\u001b[0;34m)\u001b[0m \u001b[0;32mfor\u001b[0m \u001b[0mq\u001b[0m \u001b[0;32min\u001b[0m \u001b[0mdroot\u001b[0m\u001b[0;34m.\u001b[0m\u001b[0mchildren\u001b[0m\u001b[0;34m]\u001b[0m\u001b[0;34m\u001b[0m\u001b[0;34m\u001b[0m\u001b[0m\n\u001b[0m\u001b[1;32m    158\u001b[0m                 \u001b[0md_shell\u001b[0m \u001b[0;34m=\u001b[0m \u001b[0;34m(\u001b[0m\u001b[0md_prod\u001b[0m\u001b[0;34m,\u001b[0m \u001b[0mtuple\u001b[0m\u001b[0;34m(\u001b[0m\u001b[0md_rhs\u001b[0m\u001b[0;34m)\u001b[0m\u001b[0;34m)\u001b[0m\u001b[0;34m\u001b[0m\u001b[0;34m\u001b[0m\u001b[0m\n\u001b[1;32m    159\u001b[0m                 \u001b[0mself\u001b[0m\u001b[0;34m.\u001b[0m\u001b[0madd_neighboring_shell\u001b[0m\u001b[0;34m(\u001b[0m\u001b[0md_shell\u001b[0m\u001b[0;34m)\u001b[0m\u001b[0;34m\u001b[0m\u001b[0;34m\u001b[0m\u001b[0m\n",
      "\u001b[0;31mValueError\u001b[0m: ApplyNode(unite, [ApplyNode(gather, [ParamNode(0), AtomNode(['3', '4'])]), AtomNode(2), AtomNode(3)]) is not in list"
     ]
    }
   ],
   "source": [
    "m_input = m_interpreter.init_tbl(\"./benchmarks/pldi17/p{}_input1.csv\".format(bmrk_id))\n",
    "m_interpreter.create_shadow(m_input)\n",
    "m_output = m_interpreter.init_tbl(\"./benchmarks/pldi17/p{}_output1.csv\".format(bmrk_id))\n",
    "m_interpreter.create_shadow(m_output)\n",
    "m_ps = ProgramSpace(\n",
    "    m_spec, m_interpreter, [m_input], m_output,\n",
    ")\n",
    "m_ps.init_by_prog(m_prog)"
   ]
  },
  {
   "cell_type": "code",
   "execution_count": 14,
   "metadata": {},
   "outputs": [
    {
     "data": {
      "text/plain": [
       "45"
      ]
     },
     "execution_count": 14,
     "metadata": {},
     "output_type": "execute_result"
    }
   ],
   "source": [
    "m_ps.check_eq()"
   ]
  },
  {
   "cell_type": "markdown",
   "metadata": {},
   "source": [
    "##### check all validity"
   ]
  },
  {
   "cell_type": "code",
   "execution_count": 3,
   "metadata": {},
   "outputs": [],
   "source": [
    "bmrk_size3 = [1,2,3,9,10,13,20,21,22,23,31,42,44,47,51,52,53,56,59,60,61,63,64,90,]\n",
    "bmrk_size4 = [6,81,88,]\n",
    "bmrk_size5 = [7,11,]"
   ]
  },
  {
   "cell_type": "code",
   "execution_count": 4,
   "metadata": {},
   "outputs": [
    {
     "name": "stdout",
     "output_type": "stream",
     "text": [
      "# bmrk:1, validity:45\n",
      "# bmrk:2, validity:45\n",
      "# bmrk:3, validity:45\n",
      "# bmrk:9, validity:45\n",
      "# bmrk:10, validity:45\n",
      "# bmrk:13, validity:45\n",
      "# bmrk:20, validity:45\n",
      "# bmrk:21, validity:45\n",
      "# bmrk:22, validity:45\n",
      "# bmrk:23, validity:45\n",
      "# bmrk:31, validity:45\n",
      "# bmrk:42, validity:45\n",
      "# bmrk:44, validity:45\n",
      "# bmrk:47, validity:45\n",
      "# bmrk:51, validity:45\n",
      "# bmrk:52, validity:45\n",
      "# bmrk:53, validity:45\n",
      "# bmrk:56, validity:45\n",
      "# bmrk:59, validity:45\n",
      "# bmrk:60, validity:45\n",
      "# bmrk:61, validity:45\n",
      "# bmrk:63, validity:45\n",
      "# bmrk:64, validity:45\n",
      "# bmrk:90, validity:45\n"
     ]
    }
   ],
   "source": [
    "for bmrk_id in bmrk_size3:\n",
    "    m_interpreter = MorpheusInterpreter()\n",
    "    m_spec = S.parse_file('./example/camb6.tyrell')\n",
    "    m_builder = D.Builder(m_spec)\n",
    "    m_prog = m_builder._from_sexp(solutions[bmrk_id])\n",
    "    m_input = m_interpreter.init_tbl(\"./benchmarks/pldi17/p{}_input1.csv\".format(bmrk_id))\n",
    "    m_interpreter.create_shadow(m_input)\n",
    "    m_output = m_interpreter.init_tbl(\"./benchmarks/pldi17/p{}_output1.csv\".format(bmrk_id))\n",
    "    m_interpreter.create_shadow(m_output)\n",
    "    m_ps = ProgramSpace(\n",
    "        m_spec, m_interpreter, [m_input], m_output,\n",
    "    )\n",
    "    m_ps.init_by_prog(m_prog)\n",
    "    status = m_ps.check_eq()\n",
    "    print(\"# bmrk:{}, validity:{}\".format(bmrk_id,status))"
   ]
  },
  {
   "cell_type": "code",
   "execution_count": null,
   "metadata": {},
   "outputs": [],
   "source": []
  },
  {
   "cell_type": "markdown",
   "metadata": {},
   "source": [
    "##### see why it's generating different results"
   ]
  },
  {
   "cell_type": "code",
   "execution_count": 34,
   "metadata": {},
   "outputs": [
    {
     "name": "stdout",
     "output_type": "stream",
     "text": [
      "# bmrk:58, validity:None\n"
     ]
    }
   ],
   "source": [
    "for bmrk_id in [58]:\n",
    "    m_interpreter = MorpheusInterpreter()\n",
    "    m_spec = S.parse_file('./example/camb6.tyrell')\n",
    "    m_builder = D.Builder(m_spec)\n",
    "    m_prog = m_builder._from_sexp(solutions[bmrk_id])\n",
    "    m_input = m_interpreter.init_tbl(\"./benchmarks/pldi17/p{}_input1.csv\".format(bmrk_id))\n",
    "    m_interpreter.create_shadow(m_input)\n",
    "    m_output = m_interpreter.init_tbl(\"./benchmarks/pldi17/p{}_output1.csv\".format(bmrk_id))\n",
    "    m_interpreter.create_shadow(m_output)\n",
    "    m_ps = ProgramSpace(\n",
    "        m_spec, m_interpreter, [m_input], m_output,\n",
    "    )\n",
    "    m_ps.init_by_prog(m_prog)\n",
    "    status = m_ps.check_eq()\n",
    "    print(\"# bmrk:{}, validity:{}\".format(bmrk_id,status))"
   ]
  },
  {
   "cell_type": "code",
   "execution_count": 35,
   "metadata": {},
   "outputs": [
    {
     "name": "stdout",
     "output_type": "stream",
     "text": [
      "  ID c_Al c_D c_Hy  occ\n",
      "1  C    0   0    1 2581\n",
      "2  D    1   0    1 1917\n",
      "3  E    0   0    1 2708\n",
      "4  F    0   1    0 2751\n",
      "5  G    1   1    0 1522\n",
      "\n"
     ]
    }
   ],
   "source": [
    "m_ps.interpreter.print_obj(m_ps.inputs[0])"
   ]
  },
  {
   "cell_type": "code",
   "execution_count": 36,
   "metadata": {},
   "outputs": [
    {
     "name": "stdout",
     "output_type": "stream",
     "text": [
      "   Var      0      1\n",
      "1 c_Al 2680.0 1719.5\n",
      "2  c_D 2402.0 2136.5\n",
      "3 c_Hy 2136.5 2402.0\n",
      "\n"
     ]
    }
   ],
   "source": [
    "m_ps.interpreter.print_obj(m_ps.output)"
   ]
  },
  {
   "cell_type": "code",
   "execution_count": 37,
   "metadata": {},
   "outputs": [
    {
     "name": "stdout",
     "output_type": "stream",
     "text": [
      "  nontensility camaldule rachycentron\n",
      "1         c_Al         0       2680.0\n",
      "2         c_Al         1       1719.5\n",
      "3          c_D         0       2402.0\n",
      "4          c_D         1       2136.5\n",
      "5         c_Hy         0       2136.5\n",
      "6         c_Hy         1       2402.0\n",
      "\n"
     ]
    }
   ],
   "source": [
    "m_ps.interpreter.print_obj(m_ps.node_list[-1].ps_data)"
   ]
  }
 ],
 "metadata": {
  "kernelspec": {
   "display_name": "Python 3",
   "language": "python",
   "name": "python3"
  },
  "language_info": {
   "codemirror_mode": {
    "name": "ipython",
    "version": 3
   },
   "file_extension": ".py",
   "mimetype": "text/x-python",
   "name": "python",
   "nbconvert_exporter": "python",
   "pygments_lexer": "ipython3",
   "version": "3.6.8"
  }
 },
 "nbformat": 4,
 "nbformat_minor": 2
}
