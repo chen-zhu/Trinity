{
 "cells": [
  {
   "cell_type": "code",
   "execution_count": 1,
   "metadata": {},
   "outputs": [
    {
     "name": "stderr",
     "output_type": "stream",
     "text": [
      "R[write to console]: \n",
      "Attaching package: ‘compare’\n",
      "\n",
      "\n",
      "R[write to console]: The following object is masked from ‘package:base’:\n",
      "\n",
      "    isTRUE\n",
      "\n",
      "\n",
      "R[write to console]: \n",
      "Attaching package: ‘dplyr’\n",
      "\n",
      "\n",
      "R[write to console]: The following objects are masked from ‘package:stats’:\n",
      "\n",
      "    filter, lag\n",
      "\n",
      "\n",
      "R[write to console]: The following objects are masked from ‘package:base’:\n",
      "\n",
      "    intersect, setdiff, setequal, union\n",
      "\n",
      "\n"
     ]
    }
   ],
   "source": [
    "# Morpheus Version\n",
    "from MorpheusInterpreter import *\n",
    "from ProgramSpace import *"
   ]
  },
  {
   "cell_type": "code",
   "execution_count": 2,
   "metadata": {},
   "outputs": [],
   "source": [
    "m_interpreter = MorpheusInterpreter()\n",
    "m_spec = S.parse_file('./example/camb6.tyrell')\n",
    "m_generator = MorpheusGenerator(\n",
    "    spec=m_spec,\n",
    "    interpreter=m_interpreter,\n",
    ")\n",
    "# dumb variable to help infer the shells\n",
    "p_sourceps = ProgramSpace(\n",
    "    m_spec, m_interpreter, [None], None,\n",
    ")"
   ]
  },
  {
   "cell_type": "code",
   "execution_count": 3,
   "metadata": {},
   "outputs": [
    {
     "name": "stdout",
     "output_type": "stream",
     "text": [
      "        veterans coralbells bloviate         carabine       cupman extruct\n",
      "1      birdwoman         44    59.65 transmutationist  antiapostle      66\n",
      "2  overfearfully         37   -59.45        impulsive       bengal      12\n",
      "3 papulosquamous         37    95.39            vedda transilience     -65\n",
      "4  nonpermission         34    66.66       hylotropic   pallholder     -60\n",
      "5        cribral         37    34.98       sheltering      cumulet      -2\n",
      "6       prequote         34     7.97    arthropterous      bedegar       0\n",
      "7     premastery         44   -54.98       untraveled     squadder     -41\n",
      "        damnit   counterproposal\n",
      "1     immunise              gawm\n",
      "2     nonvalid      cenospecific\n",
      "3 intercoupled           spieler\n",
      "4       fiesta        caravanner\n",
      "5     majaguas            lebbek\n",
      "6   environage      prevaricated\n",
      "7    bevellers argilloarenaceous\n",
      "\n"
     ]
    }
   ],
   "source": [
    "sam = m_interpreter.random_table(target_sketch=(\"neg_gather\",\"unite\",\"spread\"))\n",
    "m_interpreter.print_obj(sam)"
   ]
  },
  {
   "cell_type": "code",
   "execution_count": 4,
   "metadata": {},
   "outputs": [],
   "source": [
    "p_prog = m_generator.get_new_chain_program(fixed_depth=4, fixed_sketch=(\"neg_gather\",\"unite\",\"spread\"))"
   ]
  },
  {
   "cell_type": "code",
   "execution_count": null,
   "metadata": {},
   "outputs": [],
   "source": [
    "p_prog.node_list[-1]"
   ]
  },
  {
   "cell_type": "code",
   "execution_count": null,
   "metadata": {},
   "outputs": [],
   "source": [
    "m_generator.get_sketch_from_prog(p_prog.node_list[-1])"
   ]
  },
  {
   "cell_type": "code",
   "execution_count": 6,
   "metadata": {},
   "outputs": [
    {
     "data": {
      "text/plain": [
       "{'gather(mutate(gather(': 3,\n",
       " 'gather(mutate(neg_gather(': 1,\n",
       " 'gather(separate(unite(': 5,\n",
       " 'gather(spread(gather(': 3,\n",
       " 'gather(spread(neg_gather(': 5,\n",
       " 'gather(summarise(group_by(': 83,\n",
       " 'gather(unite(gather(': 10,\n",
       " 'gather(unite(neg_gather(': 1,\n",
       " 'gather(unite(separate(': 5,\n",
       " 'mutate(gather(mutate(': 5,\n",
       " 'mutate(neg_gather(mutate(': 8,\n",
       " 'mutate(spread(gather(': 5,\n",
       " 'mutate(spread(neg_gather(': 3,\n",
       " 'mutate(summarise(group_by(': 93,\n",
       " 'neg_gather(mutate(gather(': 2,\n",
       " 'neg_gather(mutate(neg_gather(': 3,\n",
       " 'neg_gather(separate(gather(': 1,\n",
       " 'neg_gather(separate(unite(': 2,\n",
       " 'neg_gather(spread(gather(': 6,\n",
       " 'neg_gather(spread(neg_gather(': 4,\n",
       " 'neg_gather(spread(unite(': 2,\n",
       " 'neg_gather(summarise(group_by(': 65,\n",
       " 'neg_gather(unite(gather(': 8,\n",
       " 'neg_gather(unite(neg_gather(': 1,\n",
       " 'neg_gather(unite(separate(': 4,\n",
       " 'neg_select(gather(mutate(': 34,\n",
       " 'neg_select(gather(separate(': 45,\n",
       " 'neg_select(gather(unite(': 7,\n",
       " 'neg_select(mutate(gather(': 32,\n",
       " 'neg_select(mutate(neg_gather(': 7,\n",
       " 'neg_select(neg_gather(mutate(': 40,\n",
       " 'neg_select(neg_gather(separate(': 21,\n",
       " 'neg_select(neg_gather(unite(': 9,\n",
       " 'neg_select(separate(gather(': 3,\n",
       " 'neg_select(separate(unite(': 8,\n",
       " 'neg_select(spread(gather(': 22,\n",
       " 'neg_select(spread(neg_gather(': 9,\n",
       " 'neg_select(summarise(group_by(': 229,\n",
       " 'neg_select(unite(gather(': 37,\n",
       " 'neg_select(unite(neg_gather(': 4,\n",
       " 'neg_select(unite(separate(': 26,\n",
       " 'select(gather(mutate(': 22,\n",
       " 'select(gather(separate(': 16,\n",
       " 'select(gather(unite(': 8,\n",
       " 'select(mutate(gather(': 8,\n",
       " 'select(mutate(neg_gather(': 2,\n",
       " 'select(neg_gather(mutate(': 44,\n",
       " 'select(neg_gather(separate(': 8,\n",
       " 'select(neg_gather(unite(': 8,\n",
       " 'select(separate(gather(': 2,\n",
       " 'select(separate(unite(': 1,\n",
       " 'select(spread(gather(': 11,\n",
       " 'select(spread(neg_gather(': 6,\n",
       " 'select(spread(unite(': 1,\n",
       " 'select(summarise(group_by(': 258,\n",
       " 'select(unite(gather(': 14,\n",
       " 'select(unite(neg_gather(': 6,\n",
       " 'select(unite(separate(': 11,\n",
       " 'separate(summarise(group_by(': 32,\n",
       " 'separate(unite(gather(': 7,\n",
       " 'separate(unite(separate(': 1,\n",
       " 'spread(gather(mutate(': 2,\n",
       " 'spread(neg_gather(mutate(': 5,\n",
       " 'spread(neg_gather(unite(': 1,\n",
       " 'spread(summarise(group_by(': 4,\n",
       " 'spread(unite(gather(': 1,\n",
       " 'summarise(group_by(gather(': 265,\n",
       " 'summarise(group_by(mutate(': 380,\n",
       " 'summarise(group_by(neg_gather(': 53,\n",
       " 'summarise(group_by(separate(': 78,\n",
       " 'summarise(group_by(summarise(': 17,\n",
       " 'summarise(group_by(unite(': 21,\n",
       " 'unite(gather(separate(': 9,\n",
       " 'unite(gather(unite(': 4,\n",
       " 'unite(neg_gather(mutate(': 6,\n",
       " 'unite(neg_gather(separate(': 5,\n",
       " 'unite(neg_gather(unite(': 2,\n",
       " 'unite(separate(unite(': 8,\n",
       " 'unite(spread(gather(': 3,\n",
       " 'unite(spread(neg_gather(': 1,\n",
       " 'unite(spread(unite(': 1,\n",
       " 'unite(summarise(group_by(': 4}"
      ]
     },
     "execution_count": 6,
     "metadata": {},
     "output_type": "execute_result"
    }
   ],
   "source": [
    "GenSketch"
   ]
  },
  {
   "cell_type": "code",
   "execution_count": 8,
   "metadata": {},
   "outputs": [],
   "source": [
    "bmrk_size3 = [1,2,3,9,10,13,20,21,22,23,31,42,44,47,51,52,53,56,59,60,61,63,64,90,]\n",
    "p_builder = D.Builder(p_sourceps.spec)\n",
    "from benchmarks.pldi17_sol import *\n",
    "def load_benchmark(p_id, p_sourceps, p_builder):\n",
    "    d_prog = p_builder._from_sexp(solutions[p_id])\n",
    "    d_input = p_sourceps.interpreter.init_tbl(\"./benchmarks/pldi17/p{}_input1.csv\".format(p_id))\n",
    "    p_sourceps.interpreter.create_shadow(d_input)\n",
    "    d_output = p_sourceps.interpreter.init_tbl(\"./benchmarks/pldi17/p{}_output1.csv\".format(p_id))\n",
    "    p_sourceps.interpreter.create_shadow(d_output)\n",
    "    d_ps = ProgramSpace(\n",
    "        p_sourceps.spec, p_sourceps.interpreter, [d_input], d_output,\n",
    "    )\n",
    "    d_ps.init_by_prog(d_prog)\n",
    "    return d_ps"
   ]
  },
  {
   "cell_type": "code",
   "execution_count": 10,
   "metadata": {},
   "outputs": [
    {
     "data": {
      "text/plain": [
       "{'neg_select(gather(separate(': 1,\n",
       " 'neg_select(mutate(spread(': 1,\n",
       " 'spread(separate(neg_gather(': 9,\n",
       " 'spread(unite(gather(': 7,\n",
       " 'spread(unite(neg_gather(': 4,\n",
       " 'summarise(group_by(gather(': 1,\n",
       " 'summarise(group_by(neg_gather(': 1}"
      ]
     },
     "execution_count": 10,
     "metadata": {},
     "output_type": "execute_result"
    }
   ],
   "source": [
    "BSketch"
   ]
  },
  {
   "cell_type": "markdown",
   "metadata": {},
   "source": [
    "#### filter out benchmarks again according to the benchmark distribution"
   ]
  },
  {
   "cell_type": "code",
   "execution_count": 13,
   "metadata": {},
   "outputs": [],
   "source": [
    "with open(\"./0811Size3_Raw/0811Size3Bmrk.pkl\",\"wb\") as f:\n",
    "    dt = pickle.dump(new_dt,f)"
   ]
  }
 ],
 "metadata": {
  "kernelspec": {
   "display_name": "Python 3",
   "language": "python",
   "name": "python3"
  },
  "language_info": {
   "codemirror_mode": {
    "name": "ipython",
    "version": 3
   },
   "file_extension": ".py",
   "mimetype": "text/x-python",
   "name": "python",
   "nbconvert_exporter": "python",
   "pygments_lexer": "ipython3",
   "version": "3.6.8"
  }
 },
 "nbformat": 4,
 "nbformat_minor": 2
}
