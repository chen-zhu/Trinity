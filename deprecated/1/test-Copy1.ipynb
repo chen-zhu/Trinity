{
 "cells": [
  {
   "cell_type": "code",
   "execution_count": 1,
   "metadata": {},
   "outputs": [],
   "source": [
    "import tyrell.spec as S\n",
    "from tyrell.interpreter import PostOrderInterpreter, GeneralError, InterpreterError\n",
    "from tyrell.enumerator import SmtEnumerator, RandomEnumerator, ExhaustiveEnumerator\n",
    "from tyrell.decider import Example, ExampleConstraintDecider\n",
    "from tyrell.synthesizer import Synthesizer\n",
    "from tyrell.logger import get_logger\n",
    "from tyrell import dsl as D\n",
    "import types\n",
    "from sexpdata import Symbol"
   ]
  },
  {
   "cell_type": "code",
   "execution_count": 2,
   "metadata": {},
   "outputs": [
    {
     "name": "stderr",
     "output_type": "stream",
     "text": [
      "R[write to console]: \n",
      "Attaching package: ‘compare’\n",
      "\n",
      "\n",
      "R[write to console]: The following object is masked from ‘package:base’:\n",
      "\n",
      "    isTRUE\n",
      "\n",
      "\n",
      "R[write to console]: \n",
      "Attaching package: ‘dplyr’\n",
      "\n",
      "\n",
      "R[write to console]: The following objects are masked from ‘package:stats’:\n",
      "\n",
      "    filter, lag\n",
      "\n",
      "\n",
      "R[write to console]: The following objects are masked from ‘package:base’:\n",
      "\n",
      "    intersect, setdiff, setequal, union\n",
      "\n",
      "\n"
     ]
    }
   ],
   "source": [
    "# Morpheus Version\n",
    "from utils_morpheus import *"
   ]
  },
  {
   "cell_type": "code",
   "execution_count": 3,
   "metadata": {},
   "outputs": [],
   "source": [
    "import copy"
   ]
  },
  {
   "cell_type": "code",
   "execution_count": 4,
   "metadata": {},
   "outputs": [],
   "source": [
    "class ProgramSpaceChainOneNB(object):\n",
    "    # NOTICE:\n",
    "    # Due to the nature of rpy2, never deep copy an interpreter\n",
    "    # Interpreter is always shared\n",
    "    def __init__(self, p_spec, p_interpreter, p_eq, p_input, p_output):\n",
    "        self.spec = p_spec\n",
    "        self.builder = D.Builder(self.spec)\n",
    "        self.interpreter = p_interpreter\n",
    "        self.eq = p_eq\n",
    "        self.input = p_input\n",
    "        self.output = p_output\n",
    "        \n",
    "        self.outv_list = [] # list of Example.output: [output1, output2, ....]\n",
    "        self.prog_list = [] # list of Nodes\n",
    "        self.sexp_list = [] # list of sexps: [Symbol(...),...]\n",
    "        \n",
    "        self.PARAM_NODE = self.builder._from_sexp([Symbol('@param'), 0])\n",
    "        \n",
    "        # generate shells (of depth 1)\n",
    "        tmp_enumerator = ExhaustiveEnumerator(m_spec, max_depth=2)\n",
    "        self.shell_list = [] # list of shells (prog/Nodes)\n",
    "        while True:\n",
    "            tmp_shell = tmp_enumerator.next()\n",
    "            if tmp_shell is None:\n",
    "                break\n",
    "            \n",
    "            if len(tmp_shell.children)>0:\n",
    "                # should have at least one child\n",
    "                self.shell_list.append(tmp_shell)\n",
    "        # NOTICE: str(prog) is NOT sexp\n",
    "        self.str_shell_list = [str(p) for p in self.shell_list]\n",
    "        self.str_shell_dict = {\n",
    "            self.str_shell_list[i]:i \n",
    "            for i in range(len(self.str_shell_list))\n",
    "        }\n",
    "        \n",
    "    '''\n",
    "    convert the prog_list to a full program\n",
    "    (chain program is assumed)\n",
    "    '''\n",
    "    def get_full_prog(self, prog_list):\n",
    "        prog_list = copy.deepcopy(prog_list)\n",
    "        pnode = prog_list[0]\n",
    "        for i in range(1,len(prog_list)):\n",
    "            d_prog = prog_list[i]\n",
    "            for j in range(len(d_prog.children)):\n",
    "                if d_prog.children[j].is_param():\n",
    "                    # replace with pnode\n",
    "                    d_prog.children[j] = pnode\n",
    "                    pnode = d_prog\n",
    "                    continue\n",
    "        return pnode\n",
    "    \n",
    "    '''\n",
    "    convert a full program to prog_list\n",
    "    (chain program is assumed)\n",
    "    '''\n",
    "    def get_prog_list(self, full_prog):\n",
    "        def dfs_traverse(dnode):\n",
    "            # convert to sexp to avoid pointers\n",
    "            pl = []\n",
    "            for i in range(len(dnode.children)):\n",
    "                cnode = dnode.children[i]\n",
    "                if cnode.is_apply():\n",
    "                    pl += dfs_traverse(cnode)\n",
    "                    # change the ApplyNode to ParamNode and for a prog again\n",
    "                    dnode.children[i] = self.PARAM_NODE\n",
    "                    break\n",
    "            pl.append(dnode.to_sexp())\n",
    "            return pl\n",
    "        full_prog = copy.deepcopy(full_prog)\n",
    "        d_sexp_list = dfs_traverse(full_prog)\n",
    "        d_prog_list = [self.builder._from_sexp(p) for p in d_sexp_list]\n",
    "        return d_prog_list\n",
    "        \n",
    "    '''\n",
    "    compare the current output with the designated output\n",
    "    calling the eq function\n",
    "    '''\n",
    "    def out_eq(self):\n",
    "        if len(self.outv_list)==0:\n",
    "            return False\n",
    "        return self.eq(self.output, self.outv_list[-1][0]) # access 0 since it's in input format\n",
    "    \n",
    "    '''\n",
    "    return the last output (aka. the current input)\n",
    "    '''\n",
    "    def get_frontier(self):\n",
    "        if len(self.outv_list)==0:\n",
    "            return self.input\n",
    "        else:\n",
    "            return self.outv_list[-1]\n",
    "        \n",
    "    '''\n",
    "    add an sexp, execute and generate intermediate outputs\n",
    "    if succeeded return True, otherwise return False\n",
    "    '''\n",
    "    def add_sexp(self, p_sexp):\n",
    "        assert len(self.outv_list)==\\\n",
    "               len(self.prog_list)==\\\n",
    "               len(self.sexp_list)\n",
    "        \n",
    "        tmp_input = self.get_frontier()\n",
    "        tmp_prog = self.builder._from_sexp(p_sexp)\n",
    "        \n",
    "        print(tmp_input)\n",
    "        \n",
    "        try:\n",
    "            tmp_outv = self.interpreter.eval(tmp_prog,tmp_input)\n",
    "        except InterpreterError as e:\n",
    "            # failed to add sexp\n",
    "            return False\n",
    "        \n",
    "        # succeed\n",
    "        self.prog_list.append(tmp_prog)\n",
    "        self.sexp_list.append(p_sexp)\n",
    "        # NOTICE: wrap output in [] to be in the input format\n",
    "        self.outv_list.append([tmp_outv])\n",
    "        return True\n",
    "    \n",
    "    '''\n",
    "    make a copy of the current instance, with shared interpreter\n",
    "    '''\n",
    "    def make_copy(self):\n",
    "        new_ps = ProgramSpaceChainOneNB(\n",
    "            self.spec,\n",
    "            self.interpreter,\n",
    "            self.eq,\n",
    "            self.input,\n",
    "            self.output,\n",
    "        )\n",
    "        new_ps.outv_list = copy.deepcopy(self.outv_list)\n",
    "        new_ps.prog_list = copy.deepcopy(self.prog_list)\n",
    "        new_ps.sexp_list = copy.deepcopy(self.sexp_list)\n",
    "        new_ps.shell_list = copy.deepcopy(self.shell_list)\n",
    "        new_ps.str_shell_list = copy.deepcopy(self.str_shell_list)\n",
    "        new_ps.str_shell_dict = copy.deepcopy(self.str_shell_dict)\n",
    "        return new_ps"
   ]
  },
  {
   "cell_type": "code",
   "execution_count": 5,
   "metadata": {},
   "outputs": [
    {
     "name": "stdout",
     "output_type": "stream",
     "text": [
      "select(separate(@param0, 3), ['2'])\n"
     ]
    }
   ],
   "source": [
    "m_interpreter = MorpheusInterpreter()\n",
    "m_spec = S.parse_file('./example/mChainOneNB.tyrell')\n",
    "m_eq = eq_r\n",
    "m_generator = MorpheusGenerator(\n",
    "    spec=m_spec,\n",
    "    interpreter=m_interpreter,\n",
    "    sfn=m_interpreter.sanity_check,\n",
    ")\n",
    "m_input = m_interpreter.random_table()\n",
    "m_prog, m_example = m_generator.generate(\n",
    "    max_depth=4,\n",
    "    # NOTICE: input is list of lists\n",
    "    example=Example(input=[m_input,],output=None),\n",
    "    probs=(1,5),\n",
    ")\n",
    "print(m_prog)"
   ]
  },
  {
   "cell_type": "code",
   "execution_count": 6,
   "metadata": {},
   "outputs": [
    {
     "data": {
      "text/plain": [
       "Example(input=['RET_DF2'], output='RET_DF95')"
      ]
     },
     "execution_count": 6,
     "metadata": {},
     "output_type": "execute_result"
    }
   ],
   "source": [
    "m_example"
   ]
  },
  {
   "cell_type": "code",
   "execution_count": 7,
   "metadata": {},
   "outputs": [],
   "source": [
    "m_ps = ProgramSpaceChainOneNB(\n",
    "    m_spec, m_interpreter, m_eq, m_example.input, m_example.output,\n",
    ")"
   ]
  },
  {
   "cell_type": "code",
   "execution_count": 8,
   "metadata": {},
   "outputs": [
    {
     "name": "stdout",
     "output_type": "stream",
     "text": [
      "select(separate(@param0, 3), ['2'])\n"
     ]
    }
   ],
   "source": [
    "print(m_prog)"
   ]
  },
  {
   "cell_type": "code",
   "execution_count": 9,
   "metadata": {},
   "outputs": [
    {
     "data": {
      "text/plain": [
       "[ApplyNode(separate, [ParamNode(0), AtomNode(3)]),\n",
       " ApplyNode(select, [ParamNode(0), AtomNode(['2'])])]"
      ]
     },
     "execution_count": 9,
     "metadata": {},
     "output_type": "execute_result"
    }
   ],
   "source": [
    "m_prog_list = m_ps.get_prog_list(m_prog)\n",
    "m_prog_list"
   ]
  },
  {
   "cell_type": "code",
   "execution_count": 10,
   "metadata": {},
   "outputs": [
    {
     "name": "stdout",
     "output_type": "stream",
     "text": [
      "select(separate(@param0, 3), ['2'])\n"
     ]
    }
   ],
   "source": [
    "m_full_prog = m_ps.get_full_prog(m_prog_list)\n",
    "print(m_full_prog)"
   ]
  },
  {
   "cell_type": "code",
   "execution_count": 11,
   "metadata": {},
   "outputs": [
    {
     "data": {
      "text/plain": [
       "['RET_DF2']"
      ]
     },
     "execution_count": 11,
     "metadata": {},
     "output_type": "execute_result"
    }
   ],
   "source": [
    "m_ps.input"
   ]
  },
  {
   "cell_type": "code",
   "execution_count": 12,
   "metadata": {},
   "outputs": [
    {
     "data": {
      "text/plain": [
       "[Symbol('separate'), [Symbol('@param'), 0], [Symbol('ColInt'), '3']]"
      ]
     },
     "execution_count": 12,
     "metadata": {},
     "output_type": "execute_result"
    }
   ],
   "source": [
    "m_prog_list[0].to_sexp()"
   ]
  },
  {
   "cell_type": "code",
   "execution_count": 13,
   "metadata": {},
   "outputs": [
    {
     "name": "stdout",
     "output_type": "stream",
     "text": [
      "['RET_DF2']\n"
     ]
    },
    {
     "data": {
      "text/plain": [
       "True"
      ]
     },
     "execution_count": 13,
     "metadata": {},
     "output_type": "execute_result"
    }
   ],
   "source": [
    "m_ps.add_sexp(m_prog_list[0].to_sexp())"
   ]
  },
  {
   "cell_type": "code",
   "execution_count": 14,
   "metadata": {},
   "outputs": [
    {
     "data": {
      "text/plain": [
       "[ApplyNode(separate, [ParamNode(0), AtomNode(3)])]"
      ]
     },
     "execution_count": 14,
     "metadata": {},
     "output_type": "execute_result"
    }
   ],
   "source": [
    "m_ps.prog_list"
   ]
  },
  {
   "cell_type": "code",
   "execution_count": 15,
   "metadata": {},
   "outputs": [
    {
     "data": {
      "text/plain": [
       "[[Symbol('separate'), [Symbol('@param'), 0], [Symbol('ColInt'), '3']]]"
      ]
     },
     "execution_count": 15,
     "metadata": {},
     "output_type": "execute_result"
    }
   ],
   "source": [
    "m_ps.sexp_list"
   ]
  },
  {
   "cell_type": "code",
   "execution_count": 16,
   "metadata": {},
   "outputs": [
    {
     "data": {
      "text/plain": [
       "[['RET_DF96']]"
      ]
     },
     "execution_count": 16,
     "metadata": {},
     "output_type": "execute_result"
    }
   ],
   "source": [
    "m_ps.outv_list"
   ]
  },
  {
   "cell_type": "code",
   "execution_count": 17,
   "metadata": {},
   "outputs": [
    {
     "name": "stdout",
     "output_type": "stream",
     "text": [
      "['RET_DF96']\n"
     ]
    },
    {
     "data": {
      "text/plain": [
       "True"
      ]
     },
     "execution_count": 17,
     "metadata": {},
     "output_type": "execute_result"
    }
   ],
   "source": [
    "m_ps.add_sexp(m_prog_list[1].to_sexp())"
   ]
  },
  {
   "cell_type": "code",
   "execution_count": 18,
   "metadata": {},
   "outputs": [
    {
     "data": {
      "text/plain": [
       "[ApplyNode(separate, [ParamNode(0), AtomNode(3)]),\n",
       " ApplyNode(select, [ParamNode(0), AtomNode(['2'])])]"
      ]
     },
     "execution_count": 18,
     "metadata": {},
     "output_type": "execute_result"
    }
   ],
   "source": [
    "m_ps.prog_list"
   ]
  },
  {
   "cell_type": "code",
   "execution_count": 20,
   "metadata": {},
   "outputs": [
    {
     "name": "stdout",
     "output_type": "stream",
     "text": [
      "select(separate(@param0, 3), ['2'])\n"
     ]
    }
   ],
   "source": [
    "print(m_ps.get_full_prog(m_ps.prog_list))"
   ]
  },
  {
   "cell_type": "code",
   "execution_count": 21,
   "metadata": {},
   "outputs": [
    {
     "data": {
      "text/plain": [
       "True"
      ]
     },
     "execution_count": 21,
     "metadata": {},
     "output_type": "execute_result"
    }
   ],
   "source": [
    "m_ps.out_eq()"
   ]
  },
  {
   "cell_type": "code",
   "execution_count": 22,
   "metadata": {},
   "outputs": [],
   "source": [
    "m_ps.prog_list = m_ps.prog_list[:-1]\n",
    "m_ps.sexp_list = m_ps.sexp_list[:-1]\n",
    "m_ps.outv_list = m_ps.outv_list[:-1]"
   ]
  },
  {
   "cell_type": "code",
   "execution_count": 23,
   "metadata": {},
   "outputs": [
    {
     "data": {
      "text/plain": [
       "False"
      ]
     },
     "execution_count": 23,
     "metadata": {},
     "output_type": "execute_result"
    }
   ],
   "source": [
    "m_ps.out_eq()"
   ]
  }
 ],
 "metadata": {
  "kernelspec": {
   "display_name": "Python 3",
   "language": "python",
   "name": "python3"
  },
  "language_info": {
   "codemirror_mode": {
    "name": "ipython",
    "version": 3
   },
   "file_extension": ".py",
   "mimetype": "text/x-python",
   "name": "python",
   "nbconvert_exporter": "python",
   "pygments_lexer": "ipython3",
   "version": "3.6.8"
  }
 },
 "nbformat": 4,
 "nbformat_minor": 2
}
