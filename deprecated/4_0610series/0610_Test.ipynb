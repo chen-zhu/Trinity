{
 "cells": [
  {
   "cell_type": "code",
   "execution_count": 1,
   "metadata": {},
   "outputs": [
    {
     "name": "stderr",
     "output_type": "stream",
     "text": [
      "R[write to console]: \n",
      "Attaching package: ‘compare’\n",
      "\n",
      "\n",
      "R[write to console]: The following object is masked from ‘package:base’:\n",
      "\n",
      "    isTRUE\n",
      "\n",
      "\n",
      "R[write to console]: \n",
      "Attaching package: ‘dplyr’\n",
      "\n",
      "\n",
      "R[write to console]: The following objects are masked from ‘package:stats’:\n",
      "\n",
      "    filter, lag\n",
      "\n",
      "\n",
      "R[write to console]: The following objects are masked from ‘package:base’:\n",
      "\n",
      "    intersect, setdiff, setequal, union\n",
      "\n",
      "\n"
     ]
    }
   ],
   "source": [
    "from utils_morpheus import *\n",
    "from ProgramSpace import *"
   ]
  },
  {
   "cell_type": "code",
   "execution_count": 25,
   "metadata": {},
   "outputs": [],
   "source": [
    "m_interpreter = MorpheusInterpreter()\n",
    "m_spec = S.parse_file('./example/set_mutate.tyrell')\n",
    "m_eq = eq_r\n",
    "m_generator = MorpheusGenerator(\n",
    "    spec=m_spec,\n",
    "    interpreter=m_interpreter,\n",
    "    sfn=m_interpreter.sanity_check,\n",
    ")"
   ]
  },
  {
   "cell_type": "code",
   "execution_count": 26,
   "metadata": {},
   "outputs": [],
   "source": [
    "m_input = m_interpreter.random_table()\n",
    "m_sample = m_generator.generate(\n",
    "    fixed_depth=2,\n",
    "    example=Example(input=[m_input],output=None)\n",
    ")"
   ]
  },
  {
   "cell_type": "code",
   "execution_count": 27,
   "metadata": {},
   "outputs": [
    {
     "data": {
      "text/plain": [
       "(ApplyNode(mutate, [ParamNode(0), AtomNode(/), AtomNode(5), AtomNode(5)]),\n",
       " Example(input=['RET_DF5'], output='RET_DF6'))"
      ]
     },
     "execution_count": 27,
     "metadata": {},
     "output_type": "execute_result"
    }
   ],
   "source": [
    "m_sample"
   ]
  },
  {
   "cell_type": "code",
   "execution_count": 29,
   "metadata": {},
   "outputs": [
    {
     "data": {
      "text/plain": [
       "ApplyNode(mutate, [ParamNode(0), AtomNode(/), AtomNode(5), AtomNode(5)])"
      ]
     },
     "execution_count": 29,
     "metadata": {},
     "output_type": "execute_result"
    }
   ],
   "source": [
    "m_prog=m_sample[0]\n",
    "m_prog"
   ]
  },
  {
   "cell_type": "code",
   "execution_count": 30,
   "metadata": {},
   "outputs": [
    {
     "data": {
      "text/plain": [
       "'mutate'"
      ]
     },
     "execution_count": 30,
     "metadata": {},
     "output_type": "execute_result"
    }
   ],
   "source": [
    "m_prog.name"
   ]
  },
  {
   "cell_type": "code",
   "execution_count": 32,
   "metadata": {},
   "outputs": [
    {
     "data": {
      "text/plain": [
       "[ParamNode(0), AtomNode(/), AtomNode(5), AtomNode(5)]"
      ]
     },
     "execution_count": 32,
     "metadata": {},
     "output_type": "execute_result"
    }
   ],
   "source": [
    "m_prog.args"
   ]
  },
  {
   "cell_type": "code",
   "execution_count": 36,
   "metadata": {},
   "outputs": [
    {
     "data": {
      "text/plain": [
       "'5'"
      ]
     },
     "execution_count": 36,
     "metadata": {},
     "output_type": "execute_result"
    }
   ],
   "source": [
    "m_prog.children[2].data"
   ]
  },
  {
   "cell_type": "code",
   "execution_count": 21,
   "metadata": {},
   "outputs": [
    {
     "data": {
      "text/plain": [
       "[1, 1, 0, 0, 0, 0, 0, 0, 0, 0]"
      ]
     },
     "execution_count": 21,
     "metadata": {},
     "output_type": "execute_result"
    }
   ],
   "source": [
    "morpheus_cheating(m_sample[1].input[0],m_sample[1].output)"
   ]
  },
  {
   "cell_type": "code",
   "execution_count": 17,
   "metadata": {},
   "outputs": [
    {
     "data": {
      "text/plain": [
       "'RET_DF5'"
      ]
     },
     "execution_count": 17,
     "metadata": {},
     "output_type": "execute_result"
    }
   ],
   "source": [
    "m_sample[1].input[0]"
   ]
  },
  {
   "cell_type": "code",
   "execution_count": 2,
   "metadata": {},
   "outputs": [],
   "source": [
    "a = MorpheusInterpreter()"
   ]
  },
  {
   "cell_type": "code",
   "execution_count": null,
   "metadata": {},
   "outputs": [],
   "source": []
  },
  {
   "cell_type": "code",
   "execution_count": 4,
   "metadata": {},
   "outputs": [],
   "source": [
    "b = a.random_table()"
   ]
  },
  {
   "cell_type": "code",
   "execution_count": 5,
   "metadata": {},
   "outputs": [
    {
     "name": "stdout",
     "output_type": "stream",
     "text": [
      "        OCOL1  OCOL2 OCOL3\n",
      "1    cuddlier -88.35     9\n",
      "2    cuddlier  20.78   -40\n",
      "3    cuddlier  57.33   -46\n",
      "4 subcolumnar -25.99   -12\n",
      "5    cuddlier -83.73   -49\n",
      "\n"
     ]
    }
   ],
   "source": [
    "print(robjects.r(b))"
   ]
  },
  {
   "cell_type": "code",
   "execution_count": 6,
   "metadata": {},
   "outputs": [
    {
     "data": {
      "text/html": [
       "\n",
       "        <span>R/rpy2 DataFrame (5 x 2)</span>\n",
       "        <table>\n",
       "          <thead>\n",
       "            <tr>\n",
       "              \n",
       "              <th>OCOL1</th>\n",
       "              \n",
       "              <th>OCOL2</th>\n",
       "              \n",
       "            </tr>\n",
       "          </thead>\n",
       "          <tbody>\n",
       "          \n",
       "          <tr>\n",
       "            \n",
       "            <td>\n",
       "              ...\n",
       "            </td>\n",
       "            \n",
       "            <td>\n",
       "              ...\n",
       "            </td>\n",
       "            \n",
       "          </tr>\n",
       "          \n",
       "          </tbody>\n",
       "        </table>\n",
       "    "
      ],
      "text/plain": [
       "R object with classes: ('data.frame',) mapped to:\n",
       "[StrSexpVector, FloatSexpVector]\n",
       "  OCOL1: <class 'rpy2.rinterface_lib.sexp.StrSexpVector'>\n",
       "  <rpy2.rinterface_lib.sexp.StrSexpVector object at 0x116309488> [RTYPES.STRSXP]\n",
       "  OCOL2: <class 'rpy2.rinterface.FloatSexpVector'>\n",
       "  <rpy2.rinterface.FloatSexpVector object at 0x116309708> [RTYPES.REALSXP]"
      ]
     },
     "execution_count": 6,
     "metadata": {},
     "output_type": "execute_result"
    }
   ],
   "source": [
    "robjects.r(\"KKK <- select({},c(1,2))\".format(b))"
   ]
  },
  {
   "cell_type": "code",
   "execution_count": 7,
   "metadata": {},
   "outputs": [
    {
     "name": "stdout",
     "output_type": "stream",
     "text": [
      "        OCOL1  OCOL2\n",
      "1    cuddlier -88.35\n",
      "2    cuddlier  20.78\n",
      "3    cuddlier  57.33\n",
      "4 subcolumnar -25.99\n",
      "5    cuddlier -83.73\n",
      "\n"
     ]
    }
   ],
   "source": [
    "print(robjects.r(\"KKK\"))"
   ]
  },
  {
   "cell_type": "code",
   "execution_count": 9,
   "metadata": {},
   "outputs": [
    {
     "data": {
      "text/plain": [
       "642"
      ]
     },
     "execution_count": 9,
     "metadata": {},
     "output_type": "execute_result"
    }
   ],
   "source": [
    "len(morpheus_set1(b, \"KKK\", verbose=True))"
   ]
  },
  {
   "cell_type": "code",
   "execution_count": null,
   "metadata": {},
   "outputs": [],
   "source": []
  },
  {
   "cell_type": "code",
   "execution_count": 5,
   "metadata": {},
   "outputs": [
    {
     "data": {
      "text/html": [
       "\n",
       "        <span>R/rpy2 DataFrame (1 x 1)</span>\n",
       "        <table>\n",
       "          <thead>\n",
       "            <tr>\n",
       "              \n",
       "              <th>KEY</th>\n",
       "              \n",
       "            </tr>\n",
       "          </thead>\n",
       "          <tbody>\n",
       "          \n",
       "          <tr>\n",
       "            \n",
       "            <td>\n",
       "              ...\n",
       "            </td>\n",
       "            \n",
       "          </tr>\n",
       "          \n",
       "          </tbody>\n",
       "        </table>\n",
       "    "
      ],
      "text/plain": [
       "R object with classes: ('data.frame',) mapped to:\n",
       "[FloatSexpVector]\n",
       "  KEY: <class 'rpy2.rinterface.FloatSexpVector'>\n",
       "  <rpy2.rinterface.FloatSexpVector object at 0x11bc1e3c8> [RTYPES.REALSXP]"
      ]
     },
     "execution_count": 5,
     "metadata": {},
     "output_type": "execute_result"
    }
   ],
   "source": [
    "robjects.r(\"KKK <- summarise({},KEY=max(OCOL3))\".format(b))"
   ]
  },
  {
   "cell_type": "code",
   "execution_count": 6,
   "metadata": {},
   "outputs": [
    {
     "name": "stdout",
     "output_type": "stream",
     "text": [
      "  KEY\n",
      "1  90\n",
      "\n"
     ]
    }
   ],
   "source": [
    "print(robjects.r(\"KKK\"))"
   ]
  },
  {
   "cell_type": "code",
   "execution_count": 7,
   "metadata": {},
   "outputs": [
    {
     "name": "stdout",
     "output_type": "stream",
     "text": [
      "[(87.87, -77.24, {68.32, 40.92, -18.94, -77.24, -76.66, -44.92, 87.87, -71.2, -67.65}), None, (90.0, -91.0, {64.0, -91.0, 7.0, 72.0, 77.0, 14.0, 18.0, 90.0, -35.0}), None, None, None, None, None, None, None, None, None, None, None, None, None, None, None, None, None]\n"
     ]
    },
    {
     "data": {
      "text/plain": [
       "[True,\n",
       " True,\n",
       " 0.0,\n",
       " 0.0,\n",
       " 1.0,\n",
       " 0.0,\n",
       " 0.0,\n",
       " 0.0,\n",
       " 0.0,\n",
       " 0.0,\n",
       " 0.0,\n",
       " 0.0,\n",
       " 0.0,\n",
       " 0.0,\n",
       " 0.0,\n",
       " 0.0,\n",
       " 0.0,\n",
       " 0.0,\n",
       " 0.0,\n",
       " 0.0,\n",
       " 0.0,\n",
       " 0.0,\n",
       " 0.0,\n",
       " 0.0,\n",
       " 0.0,\n",
       " 0.0,\n",
       " 0.0,\n",
       " 0.0,\n",
       " 0.0,\n",
       " 0.0,\n",
       " 0.0,\n",
       " 0.0,\n",
       " 0.0,\n",
       " 0.0,\n",
       " 0.0,\n",
       " 0.0,\n",
       " 0.0,\n",
       " 0.0,\n",
       " 0.0,\n",
       " 0.0,\n",
       " 0.0,\n",
       " 0.0,\n",
       " 1.0,\n",
       " 0.0,\n",
       " 0.0,\n",
       " 0.0,\n",
       " 0.0,\n",
       " 0.0,\n",
       " 0.0,\n",
       " 0.0,\n",
       " 0.0,\n",
       " 0.0,\n",
       " 0.0,\n",
       " 0.0,\n",
       " 0.0,\n",
       " 0.0,\n",
       " 0.0,\n",
       " 0.0,\n",
       " 0.0,\n",
       " 0.0,\n",
       " 0.0,\n",
       " 0.0]"
      ]
     },
     "execution_count": 7,
     "metadata": {},
     "output_type": "execute_result"
    }
   ],
   "source": [
    "morpheus_summarise(b, \"KKK\", verbose=True)"
   ]
  },
  {
   "cell_type": "code",
   "execution_count": null,
   "metadata": {},
   "outputs": [],
   "source": []
  },
  {
   "cell_type": "code",
   "execution_count": 22,
   "metadata": {},
   "outputs": [
    {
     "data": {
      "text/html": [
       "\n",
       "        <span>R/rpy2 DataFrame (6 x 7)</span>\n",
       "        <table>\n",
       "          <thead>\n",
       "            <tr>\n",
       "              \n",
       "              <th>OCOL1</th>\n",
       "              \n",
       "              <th>OCOL2</th>\n",
       "              \n",
       "              <th>OCOL3</th>\n",
       "              \n",
       "              <th>OCOL4</th>\n",
       "              \n",
       "              <th>OCOL5</th>\n",
       "              \n",
       "              <th>OCOL6</th>\n",
       "              \n",
       "              <th>KEY</th>\n",
       "              \n",
       "            </tr>\n",
       "          </thead>\n",
       "          <tbody>\n",
       "          \n",
       "          <tr>\n",
       "            \n",
       "            <td>\n",
       "              ...\n",
       "            </td>\n",
       "            \n",
       "            <td>\n",
       "              ...\n",
       "            </td>\n",
       "            \n",
       "            <td>\n",
       "              ...\n",
       "            </td>\n",
       "            \n",
       "            <td>\n",
       "              ...\n",
       "            </td>\n",
       "            \n",
       "            <td>\n",
       "              ...\n",
       "            </td>\n",
       "            \n",
       "            <td>\n",
       "              ...\n",
       "            </td>\n",
       "            \n",
       "            <td>\n",
       "              ...\n",
       "            </td>\n",
       "            \n",
       "          </tr>\n",
       "          \n",
       "          </tbody>\n",
       "        </table>\n",
       "    "
      ],
      "text/plain": [
       "R object with classes: ('data.frame',) mapped to:\n",
       "[Floa..., StrS..., Floa..., Floa..., StrS..., Floa..., Floa...]\n",
       "  OCOL1: <class 'rpy2.rinterface.FloatSexpVector'>\n",
       "  <rpy2.rinterface.FloatSexpVector object at 0x109cc4dc8> [RTYPES.REALSXP]\n",
       "  OCOL2: <class 'rpy2.rinterface_lib.sexp.StrSexpVector'>\n",
       "  <rpy2.rinterface_lib.sexp.StrSexpVector object at 0x109cc4e48> [RTYPES.STRSXP]\n",
       "  OCOL3: <class 'rpy2.rinterface.FloatSexpVector'>\n",
       "  <rpy2.rinterface.FloatSexpVector object at 0x109cc4b48> [RTYPES.REALSXP]\n",
       "  OCOL4: <class 'rpy2.rinterface.FloatSexpVector'>\n",
       "  <rpy2.rinterface.FloatSexpVector object at 0x109cc4e48> [RTYPES.REALSXP]\n",
       "  OCOL5: <class 'rpy2.rinterface_lib.sexp.StrSexpVector'>\n",
       "  <rpy2.rinterface_lib.sexp.StrSexpVector object at 0x109cc4b48> [RTYPES.STRSXP]\n",
       "  OCOL6: <class 'rpy2.rinterface.FloatSexpVector'>\n",
       "  <rpy2.rinterface.FloatSexpVector object at 0x109ccb108> [RTYPES.REALSXP]\n",
       "  KEY: <class 'rpy2.rinterface.FloatSexpVector'>\n",
       "  <rpy2.rinterface.FloatSexpVector object at 0x109cc4b48> [RTYPES.REALSXP]"
      ]
     },
     "execution_count": 22,
     "metadata": {},
     "output_type": "execute_result"
    }
   ],
   "source": [
    "robjects.r(\"KKK <- mutate({},KEY=OCOL1/OCOL3)\".format(b))"
   ]
  },
  {
   "cell_type": "code",
   "execution_count": 23,
   "metadata": {},
   "outputs": [
    {
     "name": "stdout",
     "output_type": "stream",
     "text": [
      "   OCOL1           OCOL2 OCOL3  OCOL4         OCOL5 OCOL6        KEY\n",
      "1 -45.25          ararao   -99 -42.44 discomycetous    81  0.4570707\n",
      "2  39.42 superinnocently   -77  75.47        rubian    90 -0.5119481\n",
      "3  59.44          ararao  -100  30.67    demicircle    18 -0.5944000\n",
      "4 -98.77        frounced    85 -78.87        rubian    31 -1.1620000\n",
      "5  17.60        frounced  -100 -39.95        rubian   -78 -0.1760000\n",
      "6 -66.70 superinnocently   -77 -24.56 discomycetous    43  0.8662338\n",
      "\n"
     ]
    }
   ],
   "source": [
    "print(robjects.r(\"KKK\"))"
   ]
  },
  {
   "cell_type": "code",
   "execution_count": 24,
   "metadata": {},
   "outputs": [
    {
     "data": {
      "text/plain": [
       "[0.9999999999999999,\n",
       " 0,\n",
       " -0.9999999999999999,\n",
       " 0,\n",
       " 0,\n",
       " 0,\n",
       " 0,\n",
       " 0,\n",
       " 0,\n",
       " 0,\n",
       " 0,\n",
       " 0,\n",
       " 0,\n",
       " 0,\n",
       " 0,\n",
       " 0,\n",
       " 0,\n",
       " 0,\n",
       " 0,\n",
       " 0]"
      ]
     },
     "execution_count": 24,
     "metadata": {},
     "output_type": "execute_result"
    }
   ],
   "source": [
    "morpheus_mutate(b, \"KKK\", verbose=True)"
   ]
  },
  {
   "cell_type": "code",
   "execution_count": null,
   "metadata": {},
   "outputs": [],
   "source": []
  },
  {
   "cell_type": "code",
   "execution_count": null,
   "metadata": {},
   "outputs": [],
   "source": []
  },
  {
   "cell_type": "code",
   "execution_count": null,
   "metadata": {},
   "outputs": [],
   "source": []
  },
  {
   "cell_type": "code",
   "execution_count": null,
   "metadata": {},
   "outputs": [],
   "source": []
  },
  {
   "cell_type": "code",
   "execution_count": 16,
   "metadata": {},
   "outputs": [
    {
     "data": {
      "text/html": [
       "\n",
       "        <span>R/rpy2 DataFrame (6 x 5)</span>\n",
       "        <table>\n",
       "          <thead>\n",
       "            <tr>\n",
       "              \n",
       "              <th>OCOL1</th>\n",
       "              \n",
       "              <th>OCOL2</th>\n",
       "              \n",
       "              <th>OCOL3</th>\n",
       "              \n",
       "              <th>OCOL4</th>\n",
       "              \n",
       "              <th>OCOL5</th>\n",
       "              \n",
       "            </tr>\n",
       "          </thead>\n",
       "          <tbody>\n",
       "          \n",
       "          <tr>\n",
       "            \n",
       "            <td>\n",
       "              ...\n",
       "            </td>\n",
       "            \n",
       "            <td>\n",
       "              ...\n",
       "            </td>\n",
       "            \n",
       "            <td>\n",
       "              ...\n",
       "            </td>\n",
       "            \n",
       "            <td>\n",
       "              ...\n",
       "            </td>\n",
       "            \n",
       "            <td>\n",
       "              ...\n",
       "            </td>\n",
       "            \n",
       "          </tr>\n",
       "          \n",
       "          </tbody>\n",
       "        </table>\n",
       "    "
      ],
      "text/plain": [
       "R object with classes: ('data.frame',) mapped to:\n",
       "[FloatSe..., StrSexp..., StrSexp..., StrSexp..., FloatSe...]\n",
       "  OCOL1: <class 'rpy2.rinterface.FloatSexpVector'>\n",
       "  <rpy2.rinterface.FloatSexpVector object at 0x11b7de1c8> [RTYPES.REALSXP]\n",
       "  OCOL2: <class 'rpy2.rinterface_lib.sexp.StrSexpVector'>\n",
       "  <rpy2.rinterface_lib.sexp.StrSexpVector object at 0x11b7de208> [RTYPES.STRSXP]\n",
       "  OCOL3: <class 'rpy2.rinterface_lib.sexp.StrSexpVector'>\n",
       "  <rpy2.rinterface_lib.sexp.StrSexpVector object at 0x11b7dec48> [RTYPES.STRSXP]\n",
       "  OCOL4: <class 'rpy2.rinterface_lib.sexp.StrSexpVector'>\n",
       "  <rpy2.rinterface_lib.sexp.StrSexpVector object at 0x11b7de488> [RTYPES.STRSXP]\n",
       "  OCOL5: <class 'rpy2.rinterface.FloatSexpVector'>\n",
       "  <rpy2.rinterface.FloatSexpVector object at 0x11b7deb08> [RTYPES.REALSXP]"
      ]
     },
     "execution_count": 16,
     "metadata": {},
     "output_type": "execute_result"
    }
   ],
   "source": [
    "robjects.r(\"KKK <- {} %>% filter(.[[1]] < 2)\".format(b))"
   ]
  },
  {
   "cell_type": "code",
   "execution_count": 17,
   "metadata": {},
   "outputs": [
    {
     "name": "stdout",
     "output_type": "stream",
     "text": [
      "  OCOL1             OCOL2          OCOL3      OCOL4 OCOL5\n",
      "1   -22  superlaryngeally       comatose fantasying   -13\n",
      "2   -21         deadbeats        roomful hydrocycle   -99\n",
      "3   -21     demineralizer       comatose fantasying   -70\n",
      "4   -21          discrive nondefalcation hydrocycle   -18\n",
      "5   -22       interveinal nondefalcation hydrocycle    -8\n",
      "6   -21 demonstratability nondefalcation hydrocycle     1\n",
      "\n"
     ]
    }
   ],
   "source": [
    "print(robjects.r(\"KKK\"))"
   ]
  },
  {
   "cell_type": "code",
   "execution_count": 18,
   "metadata": {},
   "outputs": [
    {
     "name": "stdout",
     "output_type": "stream",
     "text": [
      "[[0. 0. 0. 0. 0.]\n",
      " [0. 0. 0. 0. 0.]\n",
      " [0. 0. 0. 0. 0.]\n",
      " [0. 0. 0. 0. 0.]\n",
      " [0. 0. 0. 0. 0.]\n",
      " [0. 0. 0. 0. 0.]\n",
      " [0. 0. 0. 0. 0.]\n",
      " [0. 0. 0. 0. 0.]\n",
      " [0. 0. 0. 0. 0.]\n",
      " [0. 0. 0. 0. 0.]\n",
      " [0. 0. 0. 0. 0.]\n",
      " [0. 0. 0. 0. 0.]\n",
      " [0. 0. 0. 0. 0.]\n",
      " [0. 0. 0. 0. 0.]\n",
      " [1. 0. 0. 0. 0.]\n",
      " [1. 0. 0. 0. 0.]\n",
      " [1. 0. 0. 0. 0.]\n",
      " [0. 0. 0. 0. 0.]\n",
      " [0. 0. 0. 0. 0.]\n",
      " [0. 0. 0. 0. 0.]\n",
      " [0. 0. 0. 0. 0.]]\n"
     ]
    },
    {
     "data": {
      "text/plain": [
       "[0.0,\n",
       " 0.0,\n",
       " 0.0,\n",
       " 0.0,\n",
       " 0.0,\n",
       " 0.0,\n",
       " 0.0,\n",
       " 0.0,\n",
       " 0.0,\n",
       " 0.0,\n",
       " 0.0,\n",
       " 0.0,\n",
       " 0.0,\n",
       " 0.0,\n",
       " 0.0,\n",
       " 0.0,\n",
       " 0.0,\n",
       " 0.0,\n",
       " 0.0,\n",
       " 0.0,\n",
       " 0.0,\n",
       " 0.0,\n",
       " 0.0,\n",
       " 0.0,\n",
       " 0.0,\n",
       " 0.0,\n",
       " 0.0,\n",
       " 0.0,\n",
       " 0.0,\n",
       " 0.0,\n",
       " 0.0,\n",
       " 0.0,\n",
       " 0.0,\n",
       " 0.0,\n",
       " 0.0,\n",
       " 0.0,\n",
       " 0.0,\n",
       " 0.0,\n",
       " 0.0,\n",
       " 0.0,\n",
       " 0.0,\n",
       " 0.0,\n",
       " 0.0,\n",
       " 0.0,\n",
       " 0.0,\n",
       " 0.0,\n",
       " 0.0,\n",
       " 0.0,\n",
       " 0.0,\n",
       " 0.0,\n",
       " 0.0,\n",
       " 0.0,\n",
       " 0.0,\n",
       " 0.0,\n",
       " 0.0,\n",
       " 0.0,\n",
       " 0.0,\n",
       " 0.0,\n",
       " 0.0,\n",
       " 0.0,\n",
       " 0.0,\n",
       " 0.0,\n",
       " 0.0,\n",
       " 0.0,\n",
       " 0.0,\n",
       " 0.0,\n",
       " 0.0,\n",
       " 0.0,\n",
       " 0.0,\n",
       " 0.0,\n",
       " 1.0,\n",
       " 0.0,\n",
       " 0.0,\n",
       " 0.0,\n",
       " 0.0,\n",
       " 1.0,\n",
       " 0.0,\n",
       " 0.0,\n",
       " 0.0,\n",
       " 0.0,\n",
       " 1.0,\n",
       " 0.0,\n",
       " 0.0,\n",
       " 0.0,\n",
       " 0.0,\n",
       " 0.0,\n",
       " 0.0,\n",
       " 0.0,\n",
       " 0.0,\n",
       " 0.0,\n",
       " 0.0,\n",
       " 0.0,\n",
       " 0.0,\n",
       " 0.0,\n",
       " 0.0,\n",
       " 0.0,\n",
       " 0.0,\n",
       " 0.0,\n",
       " 0.0,\n",
       " 0.0,\n",
       " 0.0,\n",
       " 0.0,\n",
       " 0.0,\n",
       " 0.0,\n",
       " 0.0]"
      ]
     },
     "execution_count": 18,
     "metadata": {},
     "output_type": "execute_result"
    }
   ],
   "source": [
    "morpheus_filter(b, \"KKK\", verbose=True)"
   ]
  },
  {
   "cell_type": "code",
   "execution_count": null,
   "metadata": {},
   "outputs": [],
   "source": []
  },
  {
   "cell_type": "code",
   "execution_count": null,
   "metadata": {},
   "outputs": [],
   "source": []
  },
  {
   "cell_type": "code",
   "execution_count": null,
   "metadata": {},
   "outputs": [],
   "source": []
  },
  {
   "cell_type": "code",
   "execution_count": null,
   "metadata": {},
   "outputs": [],
   "source": []
  },
  {
   "cell_type": "code",
   "execution_count": 10,
   "metadata": {},
   "outputs": [
    {
     "data": {
      "text/html": [
       "\n",
       "        <span>R/rpy2 DataFrame (7 x 5)</span>\n",
       "        <table>\n",
       "          <thead>\n",
       "            <tr>\n",
       "              \n",
       "              <th>key1</th>\n",
       "              \n",
       "              <th>key2</th>\n",
       "              \n",
       "              <th>OCOL2</th>\n",
       "              \n",
       "              <th>OCOL3</th>\n",
       "              \n",
       "              <th>OCOL4</th>\n",
       "              \n",
       "            </tr>\n",
       "          </thead>\n",
       "          <tbody>\n",
       "          \n",
       "          <tr>\n",
       "            \n",
       "            <td>\n",
       "              ...\n",
       "            </td>\n",
       "            \n",
       "            <td>\n",
       "              ...\n",
       "            </td>\n",
       "            \n",
       "            <td>\n",
       "              ...\n",
       "            </td>\n",
       "            \n",
       "            <td>\n",
       "              ...\n",
       "            </td>\n",
       "            \n",
       "            <td>\n",
       "              ...\n",
       "            </td>\n",
       "            \n",
       "          </tr>\n",
       "          \n",
       "          </tbody>\n",
       "        </table>\n",
       "    "
      ],
      "text/plain": [
       "R object with classes: ('data.frame',) mapped to:\n",
       "[StrSexp..., StrSexp..., StrSexp..., FloatSe..., FloatSe...]\n",
       "  key1: <class 'rpy2.rinterface_lib.sexp.StrSexpVector'>\n",
       "  <rpy2.rinterface_lib.sexp.StrSexpVector object at 0x10c055188> [RTYPES.STRSXP]\n",
       "  key2: <class 'rpy2.rinterface_lib.sexp.StrSexpVector'>\n",
       "  <rpy2.rinterface_lib.sexp.StrSexpVector object at 0x10c055e48> [RTYPES.STRSXP]\n",
       "  OCOL2: <class 'rpy2.rinterface_lib.sexp.StrSexpVector'>\n",
       "  <rpy2.rinterface_lib.sexp.StrSexpVector object at 0x10c055108> [RTYPES.STRSXP]\n",
       "  OCOL3: <class 'rpy2.rinterface.FloatSexpVector'>\n",
       "  <rpy2.rinterface.FloatSexpVector object at 0x10c055188> [RTYPES.REALSXP]\n",
       "  OCOL4: <class 'rpy2.rinterface.FloatSexpVector'>\n",
       "  <rpy2.rinterface.FloatSexpVector object at 0x10c055e48> [RTYPES.REALSXP]"
      ]
     },
     "execution_count": 10,
     "metadata": {},
     "output_type": "execute_result"
    }
   ],
   "source": [
    "robjects.r(\"KKK <- separate({},c(1),c('key1','key2'))\".format(b))"
   ]
  },
  {
   "cell_type": "code",
   "execution_count": 11,
   "metadata": {},
   "outputs": [
    {
     "name": "stdout",
     "output_type": "stream",
     "text": [
      "              key1 key2          OCOL2 OCOL3 OCOL4\n",
      "1 metabolizability <NA>       capmaker   -31   -89\n",
      "2          hurdler <NA>      socotrine   -33    48\n",
      "3       marssonina <NA> immunoreaction   -79   -26\n",
      "4       understand <NA>         catgut     4    51\n",
      "5       stupefying <NA> unpathetically    92   -26\n",
      "6             pars <NA>    overfreedom   -46    72\n",
      "7        vitelline <NA>           gauk    96   -26\n",
      "\n"
     ]
    }
   ],
   "source": [
    "print(robjects.r(\"KKK\"))"
   ]
  },
  {
   "cell_type": "code",
   "execution_count": 12,
   "metadata": {},
   "outputs": [
    {
     "data": {
      "text/plain": [
       "[0.0, 0.0, 0.0, 0.0, 0, 0, 0, 0, 0, 0, 0, 0, 0, 0, 0, 0, 0, 0, 0, 0]"
      ]
     },
     "execution_count": 12,
     "metadata": {},
     "output_type": "execute_result"
    }
   ],
   "source": [
    "morpheus_separate(b, \"KKK\", verbose=True)"
   ]
  },
  {
   "cell_type": "code",
   "execution_count": 9,
   "metadata": {},
   "outputs": [
    {
     "data": {
      "text/html": [
       "\n",
       "        <span>R/rpy2 DataFrame (9 x 4)</span>\n",
       "        <table>\n",
       "          <thead>\n",
       "            <tr>\n",
       "              \n",
       "              <th>KEY</th>\n",
       "              \n",
       "              <th>OCOL3</th>\n",
       "              \n",
       "              <th>OCOL4</th>\n",
       "              \n",
       "              <th>OCOL5</th>\n",
       "              \n",
       "            </tr>\n",
       "          </thead>\n",
       "          <tbody>\n",
       "          \n",
       "          <tr>\n",
       "            \n",
       "            <td>\n",
       "              ...\n",
       "            </td>\n",
       "            \n",
       "            <td>\n",
       "              ...\n",
       "            </td>\n",
       "            \n",
       "            <td>\n",
       "              ...\n",
       "            </td>\n",
       "            \n",
       "            <td>\n",
       "              ...\n",
       "            </td>\n",
       "            \n",
       "          </tr>\n",
       "          \n",
       "          </tbody>\n",
       "        </table>\n",
       "    "
      ],
      "text/plain": [
       "R object with classes: ('data.frame',) mapped to:\n",
       "[StrSexpVec..., StrSexpVec..., StrSexpVec..., FloatSexpV...]\n",
       "  KEY: <class 'rpy2.rinterface_lib.sexp.StrSexpVector'>\n",
       "  <rpy2.rinterface_lib.sexp.StrSexpVector object at 0x117824b88> [RTYPES.STRSXP]\n",
       "  OCOL3: <class 'rpy2.rinterface_lib.sexp.StrSexpVector'>\n",
       "  <rpy2.rinterface_lib.sexp.StrSexpVector object at 0x115b3e608> [RTYPES.STRSXP]\n",
       "  OCOL4: <class 'rpy2.rinterface_lib.sexp.StrSexpVector'>\n",
       "  <rpy2.rinterface_lib.sexp.StrSexpVector object at 0x117824b88> [RTYPES.STRSXP]\n",
       "  OCOL5: <class 'rpy2.rinterface.FloatSexpVector'>\n",
       "  <rpy2.rinterface.FloatSexpVector object at 0x115b3e688> [RTYPES.REALSXP]"
      ]
     },
     "execution_count": 9,
     "metadata": {},
     "output_type": "execute_result"
    }
   ],
   "source": [
    "robjects.r(\"PPP <- unite({},KEY,c(1),c(2))\".format(b))"
   ]
  },
  {
   "cell_type": "code",
   "execution_count": 10,
   "metadata": {},
   "outputs": [
    {
     "name": "stdout",
     "output_type": "stream",
     "text": [
      "                                KEY        OCOL3     OCOL4 OCOL5\n",
      "1     hyperprophetic_unadulterously      fiddled   consort     3\n",
      "2 hyperprophetic_nonargumentatively      fiddled boerhavia   -86\n",
      "3      overemulating_unadulterously prosilverite    hybrid     3\n",
      "4       pentacoccous_unadulterously      fiddled    hybrid     3\n",
      "5          lintelled_unadulterously prosilverite boerhavia   -86\n",
      "6       pentacoccous_unadulterously prosilverite    hybrid   -57\n",
      "7          lintelled_unadulterously   graybeards   consort   -57\n",
      "8          baryphony_unadulterously prosilverite boerhavia     3\n",
      "9      overemulating_unadulterously      fiddled    hybrid     3\n",
      "\n"
     ]
    }
   ],
   "source": [
    "print(robjects.r(\"PPP\"))"
   ]
  },
  {
   "cell_type": "code",
   "execution_count": 11,
   "metadata": {},
   "outputs": [
    {
     "data": {
      "text/html": [
       "\n",
       "        <span>R/rpy2 DataFrame (9 x 5)</span>\n",
       "        <table>\n",
       "          <thead>\n",
       "            <tr>\n",
       "              \n",
       "              <th>key1</th>\n",
       "              \n",
       "              <th>key2</th>\n",
       "              \n",
       "              <th>OCOL3</th>\n",
       "              \n",
       "              <th>OCOL4</th>\n",
       "              \n",
       "              <th>OCOL5</th>\n",
       "              \n",
       "            </tr>\n",
       "          </thead>\n",
       "          <tbody>\n",
       "          \n",
       "          <tr>\n",
       "            \n",
       "            <td>\n",
       "              ...\n",
       "            </td>\n",
       "            \n",
       "            <td>\n",
       "              ...\n",
       "            </td>\n",
       "            \n",
       "            <td>\n",
       "              ...\n",
       "            </td>\n",
       "            \n",
       "            <td>\n",
       "              ...\n",
       "            </td>\n",
       "            \n",
       "            <td>\n",
       "              ...\n",
       "            </td>\n",
       "            \n",
       "          </tr>\n",
       "          \n",
       "          </tbody>\n",
       "        </table>\n",
       "    "
      ],
      "text/plain": [
       "R object with classes: ('data.frame',) mapped to:\n",
       "[StrSexp..., StrSexp..., StrSexp..., StrSexp..., FloatSe...]\n",
       "  key1: <class 'rpy2.rinterface_lib.sexp.StrSexpVector'>\n",
       "  <rpy2.rinterface_lib.sexp.StrSexpVector object at 0x115b3e208> [RTYPES.STRSXP]\n",
       "  key2: <class 'rpy2.rinterface_lib.sexp.StrSexpVector'>\n",
       "  <rpy2.rinterface_lib.sexp.StrSexpVector object at 0x115b3e548> [RTYPES.STRSXP]\n",
       "  OCOL3: <class 'rpy2.rinterface_lib.sexp.StrSexpVector'>\n",
       "  <rpy2.rinterface_lib.sexp.StrSexpVector object at 0x115b3e8c8> [RTYPES.STRSXP]\n",
       "  OCOL4: <class 'rpy2.rinterface_lib.sexp.StrSexpVector'>\n",
       "  <rpy2.rinterface_lib.sexp.StrSexpVector object at 0x115b3e208> [RTYPES.STRSXP]\n",
       "  OCOL5: <class 'rpy2.rinterface.FloatSexpVector'>\n",
       "  <rpy2.rinterface.FloatSexpVector object at 0x115b3e548> [RTYPES.REALSXP]"
      ]
     },
     "execution_count": 11,
     "metadata": {},
     "output_type": "execute_result"
    }
   ],
   "source": [
    "robjects.r(\"KKK <- separate({},c(1),c('key1','key2'))\".format(\"PPP\"))"
   ]
  },
  {
   "cell_type": "code",
   "execution_count": 12,
   "metadata": {},
   "outputs": [
    {
     "name": "stdout",
     "output_type": "stream",
     "text": [
      "            key1               key2        OCOL3     OCOL4 OCOL5\n",
      "1 hyperprophetic     unadulterously      fiddled   consort     3\n",
      "2 hyperprophetic nonargumentatively      fiddled boerhavia   -86\n",
      "3  overemulating     unadulterously prosilverite    hybrid     3\n",
      "4   pentacoccous     unadulterously      fiddled    hybrid     3\n",
      "5      lintelled     unadulterously prosilverite boerhavia   -86\n",
      "6   pentacoccous     unadulterously prosilverite    hybrid   -57\n",
      "7      lintelled     unadulterously   graybeards   consort   -57\n",
      "8      baryphony     unadulterously prosilverite boerhavia     3\n",
      "9  overemulating     unadulterously      fiddled    hybrid     3\n",
      "\n"
     ]
    }
   ],
   "source": [
    "print(robjects.r(\"KKK\"))"
   ]
  },
  {
   "cell_type": "code",
   "execution_count": 13,
   "metadata": {},
   "outputs": [
    {
     "name": "stdout",
     "output_type": "stream",
     "text": [
      "[[['hyperprophetic', 'unadulterously'], ['fiddled'], ['consort'], ['3']], [['hyperprophetic', 'nonargumentatively'], ['fiddled'], ['boerhavia'], ['-86']], [['overemulating', 'unadulterously'], ['prosilverite'], ['hybrid'], ['3']], [['pentacoccous', 'unadulterously'], ['fiddled'], ['hybrid'], ['3']], [['lintelled', 'unadulterously'], ['prosilverite'], ['boerhavia'], ['-86']], [['pentacoccous', 'unadulterously'], ['prosilverite'], ['hybrid'], ['-57']], [['lintelled', 'unadulterously'], ['graybeards'], ['consort'], ['-57']], [['baryphony', 'unadulterously'], ['prosilverite'], ['boerhavia'], ['3']], [['overemulating', 'unadulterously'], ['fiddled'], ['hybrid'], ['3']]]\n"
     ]
    },
    {
     "data": {
      "text/plain": [
       "[2.0000000000000004,\n",
       " 0.0,\n",
       " 0.0,\n",
       " 0.0,\n",
       " 0,\n",
       " 0,\n",
       " 0,\n",
       " 0,\n",
       " 0,\n",
       " 0,\n",
       " 0,\n",
       " 0,\n",
       " 0,\n",
       " 0,\n",
       " 0,\n",
       " 0,\n",
       " 0,\n",
       " 0,\n",
       " 0,\n",
       " 0]"
      ]
     },
     "execution_count": 13,
     "metadata": {},
     "output_type": "execute_result"
    }
   ],
   "source": [
    "morpheus_separate(\"PPP\", \"KKK\", verbose=True)"
   ]
  },
  {
   "cell_type": "code",
   "execution_count": 6,
   "metadata": {},
   "outputs": [
    {
     "data": {
      "text/html": [
       "\n",
       "        <span>R/rpy2 DataFrame (9 x 4)</span>\n",
       "        <table>\n",
       "          <thead>\n",
       "            <tr>\n",
       "              \n",
       "              <th>KEY</th>\n",
       "              \n",
       "              <th>OCOL2</th>\n",
       "              \n",
       "              <th>OCOL3</th>\n",
       "              \n",
       "              <th>OCOL5</th>\n",
       "              \n",
       "            </tr>\n",
       "          </thead>\n",
       "          <tbody>\n",
       "          \n",
       "          <tr>\n",
       "            \n",
       "            <td>\n",
       "              ...\n",
       "            </td>\n",
       "            \n",
       "            <td>\n",
       "              ...\n",
       "            </td>\n",
       "            \n",
       "            <td>\n",
       "              ...\n",
       "            </td>\n",
       "            \n",
       "            <td>\n",
       "              ...\n",
       "            </td>\n",
       "            \n",
       "          </tr>\n",
       "          \n",
       "          </tbody>\n",
       "        </table>\n",
       "    "
      ],
      "text/plain": [
       "R object with classes: ('data.frame',) mapped to:\n",
       "[StrSexpVec..., StrSexpVec..., StrSexpVec..., FloatSexpV...]\n",
       "  KEY: <class 'rpy2.rinterface_lib.sexp.StrSexpVector'>\n",
       "  <rpy2.rinterface_lib.sexp.StrSexpVector object at 0x1156b8b88> [RTYPES.STRSXP]\n",
       "  OCOL2: <class 'rpy2.rinterface_lib.sexp.StrSexpVector'>\n",
       "  <rpy2.rinterface_lib.sexp.StrSexpVector object at 0x1156b8f48> [RTYPES.STRSXP]\n",
       "  OCOL3: <class 'rpy2.rinterface_lib.sexp.StrSexpVector'>\n",
       "  <rpy2.rinterface_lib.sexp.StrSexpVector object at 0x1139e9988> [RTYPES.STRSXP]\n",
       "  OCOL5: <class 'rpy2.rinterface.FloatSexpVector'>\n",
       "  <rpy2.rinterface.FloatSexpVector object at 0x1156b8f48> [RTYPES.REALSXP]"
      ]
     },
     "execution_count": 6,
     "metadata": {},
     "output_type": "execute_result"
    }
   ],
   "source": [
    "robjects.r(\"KKK <- unite({},KEY,c(1),c(4))\".format(b))"
   ]
  },
  {
   "cell_type": "code",
   "execution_count": null,
   "metadata": {},
   "outputs": [],
   "source": []
  },
  {
   "cell_type": "code",
   "execution_count": 7,
   "metadata": {},
   "outputs": [
    {
     "name": "stdout",
     "output_type": "stream",
     "text": [
      "      KEY    OCOL2       OCOL3 OCOL5\n",
      "1   63_22 statutes   ambulated    57\n",
      "2 -23_-60 statutes    apologer   -27\n",
      "3  -81_85   withal    apologer   -96\n",
      "4  72_-96   withal    apologer   -52\n",
      "5   90_39   withal    apologer    26\n",
      "6 -74_-59 statutes etiophyllin   -62\n",
      "7   28_36 statutes   ambulated   -32\n",
      "8 -59_-20   withal    apologer    48\n",
      "9  81_-90 statutes    apologer   -27\n",
      "\n"
     ]
    }
   ],
   "source": [
    "print(robjects.r(\"KKK\"))"
   ]
  },
  {
   "cell_type": "code",
   "execution_count": 8,
   "metadata": {},
   "outputs": [
    {
     "data": {
      "text/plain": [
       "[1.1111111111111112,\n",
       " 0,\n",
       " 0,\n",
       " 2.0000000000000004,\n",
       " 0.2222222222222222,\n",
       " 0,\n",
       " 0,\n",
       " 0,\n",
       " 0,\n",
       " 0,\n",
       " 0,\n",
       " 0,\n",
       " 0,\n",
       " 0,\n",
       " 0,\n",
       " 0,\n",
       " 0,\n",
       " 0,\n",
       " 0,\n",
       " 0]"
      ]
     },
     "execution_count": 8,
     "metadata": {},
     "output_type": "execute_result"
    }
   ],
   "source": [
    "morpheus_unite(b, \"KKK\", verbose=True)"
   ]
  },
  {
   "cell_type": "code",
   "execution_count": 6,
   "metadata": {},
   "outputs": [
    {
     "data": {
      "text/html": [
       "\n",
       "        <span>R/rpy2 DataFrame (7 x 10)</span>\n",
       "        <table>\n",
       "          <thead>\n",
       "            <tr>\n",
       "              \n",
       "              <th>OCOL1</th>\n",
       "              \n",
       "              <th>OCOL4</th>\n",
       "              \n",
       "              <th>OCOL5</th>\n",
       "              \n",
       "              <th>...</th>\n",
       "              \n",
       "              <th>noncommemoratively</th>\n",
       "              \n",
       "              <th>spirital</th>\n",
       "              \n",
       "              <th>uneludable</th>\n",
       "              \n",
       "            </tr>\n",
       "          </thead>\n",
       "          <tbody>\n",
       "          \n",
       "          <tr>\n",
       "            \n",
       "            <td>\n",
       "              -91.000000\n",
       "            </td>\n",
       "            \n",
       "            <td>\n",
       "              'qui...\n",
       "            </td>\n",
       "            \n",
       "            <td>\n",
       "              79.000000\n",
       "            </td>\n",
       "            \n",
       "            <td>\n",
       "              ...\n",
       "            </td>\n",
       "            \n",
       "            <td>\n",
       "                   nan\n",
       "            </td>\n",
       "            \n",
       "            <td>\n",
       "                   nan\n",
       "            </td>\n",
       "            \n",
       "            <td>\n",
       "                   nan\n",
       "            </td>\n",
       "            \n",
       "          </tr>\n",
       "          \n",
       "          <tr>\n",
       "            \n",
       "            <td>\n",
       "              -3.000000\n",
       "            </td>\n",
       "            \n",
       "            <td>\n",
       "              'rei...\n",
       "            </td>\n",
       "            \n",
       "            <td>\n",
       "              -38.000000\n",
       "            </td>\n",
       "            \n",
       "            <td>\n",
       "              \n",
       "            </td>\n",
       "            \n",
       "            <td>\n",
       "                   nan\n",
       "            </td>\n",
       "            \n",
       "            <td>\n",
       "                   nan\n",
       "            </td>\n",
       "            \n",
       "            <td>\n",
       "              70.000000\n",
       "            </td>\n",
       "            \n",
       "          </tr>\n",
       "          \n",
       "          <tr>\n",
       "            \n",
       "            <td>\n",
       "              25.000000\n",
       "            </td>\n",
       "            \n",
       "            <td>\n",
       "              'qui...\n",
       "            </td>\n",
       "            \n",
       "            <td>\n",
       "              -38.000000\n",
       "            </td>\n",
       "            \n",
       "            <td>\n",
       "              \n",
       "            </td>\n",
       "            \n",
       "            <td>\n",
       "              77.000000\n",
       "            </td>\n",
       "            \n",
       "            <td>\n",
       "                   nan\n",
       "            </td>\n",
       "            \n",
       "            <td>\n",
       "                   nan\n",
       "            </td>\n",
       "            \n",
       "          </tr>\n",
       "          \n",
       "          <tr>\n",
       "            \n",
       "            <td>\n",
       "              25.000000\n",
       "            </td>\n",
       "            \n",
       "            <td>\n",
       "              'rei...\n",
       "            </td>\n",
       "            \n",
       "            <td>\n",
       "              -38.000000\n",
       "            </td>\n",
       "            \n",
       "            <td>\n",
       "              \n",
       "            </td>\n",
       "            \n",
       "            <td>\n",
       "                   nan\n",
       "            </td>\n",
       "            \n",
       "            <td>\n",
       "                   nan\n",
       "            </td>\n",
       "            \n",
       "            <td>\n",
       "                   nan\n",
       "            </td>\n",
       "            \n",
       "          </tr>\n",
       "          \n",
       "          <tr>\n",
       "            \n",
       "            <td>\n",
       "              85.000000\n",
       "            </td>\n",
       "            \n",
       "            <td>\n",
       "              'gen...\n",
       "            </td>\n",
       "            \n",
       "            <td>\n",
       "              -38.000000\n",
       "            </td>\n",
       "            \n",
       "            <td>\n",
       "              \n",
       "            </td>\n",
       "            \n",
       "            <td>\n",
       "                   nan\n",
       "            </td>\n",
       "            \n",
       "            <td>\n",
       "                   nan\n",
       "            </td>\n",
       "            \n",
       "            <td>\n",
       "                   nan\n",
       "            </td>\n",
       "            \n",
       "          </tr>\n",
       "          \n",
       "          <tr>\n",
       "            \n",
       "            <td>\n",
       "              85.000000\n",
       "            </td>\n",
       "            \n",
       "            <td>\n",
       "              'gen...\n",
       "            </td>\n",
       "            \n",
       "            <td>\n",
       "              98.000000\n",
       "            </td>\n",
       "            \n",
       "            <td>\n",
       "              \n",
       "            </td>\n",
       "            \n",
       "            <td>\n",
       "                   nan\n",
       "            </td>\n",
       "            \n",
       "            <td>\n",
       "              96.000000\n",
       "            </td>\n",
       "            \n",
       "            <td>\n",
       "                   nan\n",
       "            </td>\n",
       "            \n",
       "          </tr>\n",
       "          \n",
       "          <tr>\n",
       "            \n",
       "            <td>\n",
       "              85.000000\n",
       "            </td>\n",
       "            \n",
       "            <td>\n",
       "              'rei...\n",
       "            </td>\n",
       "            \n",
       "            <td>\n",
       "              98.000000\n",
       "            </td>\n",
       "            \n",
       "            <td>\n",
       "              \n",
       "            </td>\n",
       "            \n",
       "            <td>\n",
       "                   nan\n",
       "            </td>\n",
       "            \n",
       "            <td>\n",
       "                   nan\n",
       "            </td>\n",
       "            \n",
       "            <td>\n",
       "                   nan\n",
       "            </td>\n",
       "            \n",
       "          </tr>\n",
       "          \n",
       "          </tbody>\n",
       "        </table>\n",
       "    "
      ],
      "text/plain": [
       "R object with classes: ('data.frame',) mapped to:\n",
       "[FloatSexp..., StrSexpVe..., FloatSexp..., FloatSexp..., ..., FloatSexp..., FloatSexp..., FloatSexp..., FloatSexp...]\n",
       "  OCOL1: <class 'rpy2.robjects.vectors.FloatVector'>\n",
       "  R object with classes: ('numeric',) mapped to:\n",
       "[-91.000000, -3.000000, 25.000000, 25.000000, 85.000000, 85.000000, 85.000000]\n",
       "  OCOL4: <class 'rpy2.robjects.vectors.StrVector'>\n",
       "  R object with classes: ('character',) mapped to:\n",
       "['qui..., 'rei..., 'qui..., 'rei..., 'gen..., 'gen..., 'rei...]\n",
       "  OCOL5: <class 'rpy2.robjects.vectors.FloatVector'>\n",
       "  R object with classes: ('numeric',) mapped to:\n",
       "[79.000000, -38.000000, -38.000000, -38.000000, -38.000000, 98.000000, 98.000000]\n",
       "  bephrase: <class 'rpy2.robjects.vectors.FloatVector'>\n",
       "  R object with classes: ('numeric',) mapped to:\n",
       "[     nan,      nan,      nan,      nan,      nan,      nan, 6.000000]\n",
       "...\n",
       "  chirotype: <class 'rpy2.robjects.vectors.FloatVector'>\n",
       "  R object with classes: ('numeric',) mapped to:\n",
       "[89.000000,      nan,      nan,      nan,      nan,      nan,      nan]\n",
       "  jiminy: <class 'rpy2.robjects.vectors.FloatVector'>\n",
       "  R object with classes: ('numeric',) mapped to:\n",
       "[     nan,      nan, 77.000000,      nan,      nan,      nan,      nan]\n",
       "  noncommemoratively: <class 'rpy2.robjects.vectors.FloatVector'>\n",
       "  R object with classes: ('numeric',) mapped to:\n",
       "[     nan,      nan,      nan,      nan,      nan, 96.000000,      nan]\n",
       "  spirital: <class 'rpy2.robjects.vectors.FloatVector'>\n",
       "  R object with classes: ('numeric',) mapped to:\n",
       "[     nan, 70.000000,      nan,      nan,      nan,      nan,      nan]"
      ]
     },
     "execution_count": 6,
     "metadata": {},
     "output_type": "execute_result"
    }
   ],
   "source": [
    "robjects.r(\"KKK <- spread({},c(2),c(3))\".format(b))"
   ]
  },
  {
   "cell_type": "code",
   "execution_count": 8,
   "metadata": {},
   "outputs": [
    {
     "name": "stderr",
     "output_type": "stream",
     "text": [
      "/Users/joseph/Desktop/UCSB/19spring/Research_Feng/Trinity/utils_morpheus.py:1008: RuntimeWarning: invalid value encountered in equal\n",
      "  if np0_obj[j,i] in np1_obj[:,k]:\n"
     ]
    },
    {
     "data": {
      "text/plain": [
       "80"
      ]
     },
     "execution_count": 8,
     "metadata": {},
     "output_type": "execute_result"
    }
   ],
   "source": [
    "len(morpheus_set1(b, \"KKK\", verbose=True))"
   ]
  },
  {
   "cell_type": "code",
   "execution_count": 34,
   "metadata": {},
   "outputs": [
    {
     "name": "stderr",
     "output_type": "stream",
     "text": [
      "/Users/joseph/Desktop/UCSB/19spring/Research_Feng/Trinity/utils_morpheus.py:1008: RuntimeWarning: invalid value encountered in equal\n",
      "  if np0_obj[j,i] in np1_obj[:,k]:\n"
     ]
    },
    {
     "data": {
      "text/plain": [
       "[0,\n",
       " 1.0000000000000002,\n",
       " 0.1111111111111111,\n",
       " 0.5555555555555556,\n",
       " 0,\n",
       " 0,\n",
       " 0,\n",
       " 0,\n",
       " 0,\n",
       " 0,\n",
       " 0,\n",
       " 0,\n",
       " 0,\n",
       " 0,\n",
       " 0,\n",
       " 0,\n",
       " 0,\n",
       " 0,\n",
       " 0,\n",
       " 0,\n",
       " 0,\n",
       " 0.1111111111111111,\n",
       " 1.0000000000000002,\n",
       " 0,\n",
       " 0,\n",
       " 0,\n",
       " 0,\n",
       " 0,\n",
       " 0,\n",
       " 0,\n",
       " 0,\n",
       " 0,\n",
       " 0,\n",
       " 0,\n",
       " 0,\n",
       " 0,\n",
       " 0,\n",
       " 0,\n",
       " 0,\n",
       " 0]"
      ]
     },
     "execution_count": 34,
     "metadata": {},
     "output_type": "execute_result"
    }
   ],
   "source": [
    "morpheus_spread(b, \"KKK\", verbose=True)"
   ]
  },
  {
   "cell_type": "code",
   "execution_count": 12,
   "metadata": {},
   "outputs": [
    {
     "name": "stdout",
     "output_type": "stream",
     "text": [
      "      OCOL1 -86  -81  -59  -39  -32  -16   20    25    99  \n",
      " [1,] \"-69\" NA   NA   NA   NA   NA   \"-88\" NA    NA    NA  \n",
      " [2,] \"-35\" NA   \"20\" NA   NA   NA   NA    NA    NA    NA  \n",
      " [3,] \"-21\" NA   NA   NA   NA   NA   NA    NA    NA    \"52\"\n",
      " [4,] \"0\"   NA   NA   \"22\" NA   NA   NA    NA    NA    NA  \n",
      " [5,] \"27\"  \"80\" NA   NA   NA   NA   NA    NA    NA    NA  \n",
      " [6,] \"28\"  NA   NA   NA   NA   NA   NA    NA    \"100\" NA  \n",
      " [7,] \"36\"  NA   NA   NA   NA   NA   NA    \"-84\" NA    NA  \n",
      " [8,] \"81\"  NA   NA   NA   \"51\" NA   NA    NA    NA    NA  \n",
      " [9,] \"82\"  NA   NA   NA   NA   \"12\" NA    NA    NA    NA  \n",
      "\n"
     ]
    }
   ],
   "source": [
    "a.print_cmp(\"KKK\")"
   ]
  },
  {
   "cell_type": "code",
   "execution_count": 9,
   "metadata": {},
   "outputs": [
    {
     "data": {
      "text/plain": [
       "[1, 1, 0, 0, 1, 0, 0, 0, 0, 0]"
      ]
     },
     "execution_count": 9,
     "metadata": {},
     "output_type": "execute_result"
    }
   ],
   "source": [
    "morpheus_cheating(\"RET_DF2\",\"KKK\")"
   ]
  },
  {
   "cell_type": "code",
   "execution_count": 9,
   "metadata": {},
   "outputs": [
    {
     "name": "stdout",
     "output_type": "stream",
     "text": [
      "existence_row: [1, 1, 1, 1, 1, 0, 0, 0, 0, 0, 0, 0, 0, 0, 0]\n",
      "existence_col: [1, 1, 1, 1, 1, 0, 0, 0, 0, 0, 0, 0, 0, 0, 0]\n",
      "type_string_col: [1, 1, 1, 0, 1, 0, 0, 0, 0, 0, 0, 0, 0, 0, 0]\n",
      "type_float_col: [0, 0, 0, 0, 0, 0, 0, 0, 0, 0, 0, 0, 0, 0, 0]\n",
      "type_int_col: [0, 0, 0, 1, 0, 0, 0, 0, 0, 0, 0, 0, 0, 0, 0]\n",
      "categorical_col: [0, 1, 1, 0, 1, 0, 0, 0, 0, 0, 0, 0, 0, 0, 0]\n",
      "separator_col: [1, 0, 0, 0, 0, 0, 0, 0, 0, 0, 0, 0, 0, 0, 0]\n",
      "string_hashing_cell: [[0.0204 0.6735 0.2245 0.     0.6531]\n",
      " [0.0204 0.6735 0.6531 0.     0.6531]\n",
      " [0.0204 0.6735 0.6531 0.     0.2245]\n",
      " [0.0204 0.6735 0.3673 0.     0.6531]\n",
      " [0.0204 0.5306 0.6531 0.     0.2245]]\n",
      "float_hashing_cell: [[0.   0.   0.   0.61 0.  ]\n",
      " [0.   0.   0.   0.11 0.  ]\n",
      " [0.   0.   0.   0.81 0.  ]\n",
      " [0.   0.   0.   0.81 0.  ]\n",
      " [0.   0.   0.   0.71 0.  ]]\n"
     ]
    },
    {
     "data": {
      "text/plain": [
       "155"
      ]
     },
     "execution_count": 9,
     "metadata": {},
     "output_type": "execute_result"
    }
   ],
   "source": [
    "len(morpheus_abstraction(\"KKK\",verbose=True))"
   ]
  },
  {
   "cell_type": "code",
   "execution_count": 5,
   "metadata": {},
   "outputs": [
    {
     "name": "stdout",
     "output_type": "stream",
     "text": [
      "existence_row: [1, 1, 1, 1, 1, 1, 1, 0, 0, 0, 0, 0, 0, 0, 0]\n",
      "existence_col: [1, 1, 1, 0, 0, 0, 0, 0, 0, 0, 0, 0, 0, 0, 0]\n",
      "type_string_col: [1, 0, 1, 0, 0, 0, 0, 0, 0, 0, 0, 0, 0, 0, 0]\n",
      "type_float_col: [0, 1, 0, 0, 0, 0, 0, 0, 0, 0, 0, 0, 0, 0, 0]\n",
      "type_int_col: [0, 0, 0, 0, 0, 0, 0, 0, 0, 0, 0, 0, 0, 0, 0]\n",
      "categorical_col: [0, 0, 0, 0, 0, 0, 0, 0, 0, 0, 0, 0, 0, 0, 0]\n",
      "separator_col: [0, 0, 0, 0, 0, 0, 0, 0, 0, 0, 0, 0, 0, 0, 0]\n",
      "string_hashing_cell: [[0.3061 0.     0.3061 0.     0.     0.     0.     0.     0.     0.\n",
      "  0.     0.     0.     0.     0.    ]\n",
      " [0.2245 0.     0.2245 0.     0.     0.     0.     0.     0.     0.\n",
      "  0.     0.     0.     0.     0.    ]\n",
      " [0.6122 0.     0.2449 0.     0.     0.     0.     0.     0.     0.\n",
      "  0.     0.     0.     0.     0.    ]\n",
      " [0.2449 0.     0.2041 0.     0.     0.     0.     0.     0.     0.\n",
      "  0.     0.     0.     0.     0.    ]\n",
      " [0.6531 0.     0.5918 0.     0.     0.     0.     0.     0.     0.\n",
      "  0.     0.     0.     0.     0.    ]\n",
      " [0.1633 0.     0.5918 0.     0.     0.     0.     0.     0.     0.\n",
      "  0.     0.     0.     0.     0.    ]\n",
      " [0.2449 0.     0.3878 0.     0.     0.     0.     0.     0.     0.\n",
      "  0.     0.     0.     0.     0.    ]\n",
      " [0.     0.     0.     0.     0.     0.     0.     0.     0.     0.\n",
      "  0.     0.     0.     0.     0.    ]\n",
      " [0.     0.     0.     0.     0.     0.     0.     0.     0.     0.\n",
      "  0.     0.     0.     0.     0.    ]\n",
      " [0.     0.     0.     0.     0.     0.     0.     0.     0.     0.\n",
      "  0.     0.     0.     0.     0.    ]\n",
      " [0.     0.     0.     0.     0.     0.     0.     0.     0.     0.\n",
      "  0.     0.     0.     0.     0.    ]\n",
      " [0.     0.     0.     0.     0.     0.     0.     0.     0.     0.\n",
      "  0.     0.     0.     0.     0.    ]\n",
      " [0.     0.     0.     0.     0.     0.     0.     0.     0.     0.\n",
      "  0.     0.     0.     0.     0.    ]\n",
      " [0.     0.     0.     0.     0.     0.     0.     0.     0.     0.\n",
      "  0.     0.     0.     0.     0.    ]\n",
      " [0.     0.     0.     0.     0.     0.     0.     0.     0.     0.\n",
      "  0.     0.     0.     0.     0.    ]]\n",
      "float_hashing_cell: [[0.   0.7  0.   0.   0.   0.   0.   0.   0.   0.   0.   0.   0.   0.\n",
      "  0.  ]\n",
      " [0.   0.02 0.   0.   0.   0.   0.   0.   0.   0.   0.   0.   0.   0.\n",
      "  0.  ]\n",
      " [0.   0.97 0.   0.   0.   0.   0.   0.   0.   0.   0.   0.   0.   0.\n",
      "  0.  ]\n",
      " [0.   0.49 0.   0.   0.   0.   0.   0.   0.   0.   0.   0.   0.   0.\n",
      "  0.  ]\n",
      " [0.   0.71 0.   0.   0.   0.   0.   0.   0.   0.   0.   0.   0.   0.\n",
      "  0.  ]\n",
      " [0.   0.44 0.   0.   0.   0.   0.   0.   0.   0.   0.   0.   0.   0.\n",
      "  0.  ]\n",
      " [0.   0.81 0.   0.   0.   0.   0.   0.   0.   0.   0.   0.   0.   0.\n",
      "  0.  ]\n",
      " [0.   0.   0.   0.   0.   0.   0.   0.   0.   0.   0.   0.   0.   0.\n",
      "  0.  ]\n",
      " [0.   0.   0.   0.   0.   0.   0.   0.   0.   0.   0.   0.   0.   0.\n",
      "  0.  ]\n",
      " [0.   0.   0.   0.   0.   0.   0.   0.   0.   0.   0.   0.   0.   0.\n",
      "  0.  ]\n",
      " [0.   0.   0.   0.   0.   0.   0.   0.   0.   0.   0.   0.   0.   0.\n",
      "  0.  ]\n",
      " [0.   0.   0.   0.   0.   0.   0.   0.   0.   0.   0.   0.   0.   0.\n",
      "  0.  ]\n",
      " [0.   0.   0.   0.   0.   0.   0.   0.   0.   0.   0.   0.   0.   0.\n",
      "  0.  ]\n",
      " [0.   0.   0.   0.   0.   0.   0.   0.   0.   0.   0.   0.   0.   0.\n",
      "  0.  ]\n",
      " [0.   0.   0.   0.   0.   0.   0.   0.   0.   0.   0.   0.   0.   0.\n",
      "  0.  ]]\n"
     ]
    },
    {
     "data": {
      "text/plain": [
       "555"
      ]
     },
     "execution_count": 5,
     "metadata": {},
     "output_type": "execute_result"
    }
   ],
   "source": [
    "len(morpheus_abstraction(b,verbose=True))"
   ]
  },
  {
   "cell_type": "code",
   "execution_count": 11,
   "metadata": {},
   "outputs": [],
   "source": [
    "nb = numpy.asarray(robjects.r(b),dtype=numpy.object).T"
   ]
  },
  {
   "cell_type": "code",
   "execution_count": 33,
   "metadata": {},
   "outputs": [
    {
     "data": {
      "text/plain": [
       "[-18.0, -88.0, 1.0, 1.0, -88.0, -88.0, 1.0, -18.0]"
      ]
     },
     "execution_count": 33,
     "metadata": {},
     "output_type": "execute_result"
    }
   ],
   "source": [
    "nb[:,1].tolist()"
   ]
  },
  {
   "cell_type": "code",
   "execution_count": 18,
   "metadata": {},
   "outputs": [
    {
     "data": {
      "text/plain": [
       "float"
      ]
     },
     "execution_count": 18,
     "metadata": {},
     "output_type": "execute_result"
    }
   ],
   "source": [
    "type(nb[0,0])"
   ]
  },
  {
   "cell_type": "code",
   "execution_count": 31,
   "metadata": {},
   "outputs": [
    {
     "data": {
      "text/plain": [
       "False"
      ]
     },
     "execution_count": 31,
     "metadata": {},
     "output_type": "execute_result"
    }
   ],
   "source": [
    "int(nb[0,2])==nb[0,0]"
   ]
  },
  {
   "cell_type": "code",
   "execution_count": 28,
   "metadata": {},
   "outputs": [
    {
     "data": {
      "text/plain": [
       "False"
      ]
     },
     "execution_count": 28,
     "metadata": {},
     "output_type": "execute_result"
    }
   ],
   "source": [
    "isinstance(nb[0,0],numpy.int)"
   ]
  },
  {
   "cell_type": "code",
   "execution_count": 26,
   "metadata": {},
   "outputs": [
    {
     "data": {
      "text/plain": [
       "True"
      ]
     },
     "execution_count": 26,
     "metadata": {},
     "output_type": "execute_result"
    }
   ],
   "source": [
    "isinstance(nb[0,3],numpy.str)"
   ]
  },
  {
   "cell_type": "code",
   "execution_count": 23,
   "metadata": {},
   "outputs": [
    {
     "data": {
      "text/html": [
       "\n",
       "        <span>StrVector with 4 elements.</span>\n",
       "        <table>\n",
       "        <tbody>\n",
       "          <tr>\n",
       "          \n",
       "            <td>\n",
       "            'numeric'\n",
       "            </td>\n",
       "          \n",
       "            <td>\n",
       "            'numeric'\n",
       "            </td>\n",
       "          \n",
       "            <td>\n",
       "            'numeric'\n",
       "            </td>\n",
       "          \n",
       "            <td>\n",
       "            'character'\n",
       "            </td>\n",
       "          \n",
       "          </tr>\n",
       "        </tbody>\n",
       "        </table>\n",
       "        "
      ],
      "text/plain": [
       "R object with classes: ('character',) mapped to:\n",
       "['numeric', 'numeric', 'numeric', 'character']"
      ]
     },
     "execution_count": 23,
     "metadata": {},
     "output_type": "execute_result"
    }
   ],
   "source": [
    "robjects.r(\"sapply({},class)\".format(b))"
   ]
  },
  {
   "cell_type": "code",
   "execution_count": 34,
   "metadata": {},
   "outputs": [
    {
     "data": {
      "text/plain": [
       "'fsdflkjefwelfkjwe'"
      ]
     },
     "execution_count": 34,
     "metadata": {},
     "output_type": "execute_result"
    }
   ],
   "source": [
    "\"fsdfLKJEFWElfkjwe\".lower()"
   ]
  },
  {
   "cell_type": "code",
   "execution_count": 35,
   "metadata": {},
   "outputs": [
    {
     "data": {
      "text/plain": [
       "numpy.ndarray"
      ]
     },
     "execution_count": 35,
     "metadata": {},
     "output_type": "execute_result"
    }
   ],
   "source": [
    "type(nb)"
   ]
  }
 ],
 "metadata": {
  "kernelspec": {
   "display_name": "Python 3",
   "language": "python",
   "name": "python3"
  },
  "language_info": {
   "codemirror_mode": {
    "name": "ipython",
    "version": 3
   },
   "file_extension": ".py",
   "mimetype": "text/x-python",
   "name": "python",
   "nbconvert_exporter": "python",
   "pygments_lexer": "ipython3",
   "version": "3.6.8"
  }
 },
 "nbformat": 4,
 "nbformat_minor": 2
}
